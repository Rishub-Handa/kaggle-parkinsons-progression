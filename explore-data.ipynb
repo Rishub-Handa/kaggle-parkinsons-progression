{
 "cells": [
  {
   "cell_type": "code",
   "execution_count": 1,
   "metadata": {},
   "outputs": [],
   "source": [
    "import pandas as pd\n",
    "import plotly.express as px"
   ]
  },
  {
   "attachments": {},
   "cell_type": "markdown",
   "metadata": {},
   "source": [
    "# Load Data"
   ]
  },
  {
   "cell_type": "code",
   "execution_count": 2,
   "metadata": {},
   "outputs": [
    {
     "name": "stdout",
     "output_type": "stream",
     "text": [
      "(981834, 6)\n",
      "patient_id  visit_id\n",
      "55          55_0        931\n",
      "            55_12       943\n",
      "            55_36       936\n",
      "            55_6        936\n",
      "942         942_12      889\n",
      "                       ... \n",
      "64674       64674_84    893\n",
      "65043       65043_0     912\n",
      "            65043_12    938\n",
      "            65043_24    944\n",
      "            65043_48    937\n",
      "Length: 1113, dtype: int64\n",
      "num patients 248\n",
      "num visits total 1113\n",
      "count    981834.000000\n",
      "mean         26.105061\n",
      "std          22.913897\n",
      "min           0.000000\n",
      "25%           6.000000\n",
      "50%          24.000000\n",
      "75%          48.000000\n",
      "max         108.000000\n",
      "Name: visit_month, dtype: float64\n"
     ]
    },
    {
     "data": {
      "text/html": [
       "<div>\n",
       "<style scoped>\n",
       "    .dataframe tbody tr th:only-of-type {\n",
       "        vertical-align: middle;\n",
       "    }\n",
       "\n",
       "    .dataframe tbody tr th {\n",
       "        vertical-align: top;\n",
       "    }\n",
       "\n",
       "    .dataframe thead th {\n",
       "        text-align: right;\n",
       "    }\n",
       "</style>\n",
       "<table border=\"1\" class=\"dataframe\">\n",
       "  <thead>\n",
       "    <tr style=\"text-align: right;\">\n",
       "      <th></th>\n",
       "      <th>visit_id</th>\n",
       "      <th>visit_month</th>\n",
       "      <th>patient_id</th>\n",
       "      <th>UniProt</th>\n",
       "      <th>Peptide</th>\n",
       "      <th>PeptideAbundance</th>\n",
       "    </tr>\n",
       "  </thead>\n",
       "  <tbody>\n",
       "    <tr>\n",
       "      <th>0</th>\n",
       "      <td>55_0</td>\n",
       "      <td>0</td>\n",
       "      <td>55</td>\n",
       "      <td>O00391</td>\n",
       "      <td>NEQEQPLGQWHLS</td>\n",
       "      <td>11254.3</td>\n",
       "    </tr>\n",
       "    <tr>\n",
       "      <th>1</th>\n",
       "      <td>55_0</td>\n",
       "      <td>0</td>\n",
       "      <td>55</td>\n",
       "      <td>O00533</td>\n",
       "      <td>GNPEPTFSWTK</td>\n",
       "      <td>102060.0</td>\n",
       "    </tr>\n",
       "    <tr>\n",
       "      <th>2</th>\n",
       "      <td>55_0</td>\n",
       "      <td>0</td>\n",
       "      <td>55</td>\n",
       "      <td>O00533</td>\n",
       "      <td>IEIPSSVQQVPTIIK</td>\n",
       "      <td>174185.0</td>\n",
       "    </tr>\n",
       "    <tr>\n",
       "      <th>3</th>\n",
       "      <td>55_0</td>\n",
       "      <td>0</td>\n",
       "      <td>55</td>\n",
       "      <td>O00533</td>\n",
       "      <td>KPQSAVYSTGSNGILLC(UniMod_4)EAEGEPQPTIK</td>\n",
       "      <td>27278.9</td>\n",
       "    </tr>\n",
       "    <tr>\n",
       "      <th>4</th>\n",
       "      <td>55_0</td>\n",
       "      <td>0</td>\n",
       "      <td>55</td>\n",
       "      <td>O00533</td>\n",
       "      <td>SMEQNGPGLEYR</td>\n",
       "      <td>30838.7</td>\n",
       "    </tr>\n",
       "    <tr>\n",
       "      <th>5</th>\n",
       "      <td>55_0</td>\n",
       "      <td>0</td>\n",
       "      <td>55</td>\n",
       "      <td>O00533</td>\n",
       "      <td>TLKIENVSYQDKGNYR</td>\n",
       "      <td>23216.5</td>\n",
       "    </tr>\n",
       "    <tr>\n",
       "      <th>6</th>\n",
       "      <td>55_0</td>\n",
       "      <td>0</td>\n",
       "      <td>55</td>\n",
       "      <td>O00533</td>\n",
       "      <td>VIAVNEVGR</td>\n",
       "      <td>170878.0</td>\n",
       "    </tr>\n",
       "    <tr>\n",
       "      <th>7</th>\n",
       "      <td>55_0</td>\n",
       "      <td>0</td>\n",
       "      <td>55</td>\n",
       "      <td>O00533</td>\n",
       "      <td>VMTPAVYAPYDVK</td>\n",
       "      <td>148771.0</td>\n",
       "    </tr>\n",
       "    <tr>\n",
       "      <th>8</th>\n",
       "      <td>55_0</td>\n",
       "      <td>0</td>\n",
       "      <td>55</td>\n",
       "      <td>O00533</td>\n",
       "      <td>VNGSPVDNHPFAGDVVFPR</td>\n",
       "      <td>55202.1</td>\n",
       "    </tr>\n",
       "    <tr>\n",
       "      <th>9</th>\n",
       "      <td>55_0</td>\n",
       "      <td>0</td>\n",
       "      <td>55</td>\n",
       "      <td>O00584</td>\n",
       "      <td>ELDLNSVLLK</td>\n",
       "      <td>27229.3</td>\n",
       "    </tr>\n",
       "  </tbody>\n",
       "</table>\n",
       "</div>"
      ],
      "text/plain": [
       "  visit_id  visit_month  patient_id UniProt   \n",
       "0     55_0            0          55  O00391  \\\n",
       "1     55_0            0          55  O00533   \n",
       "2     55_0            0          55  O00533   \n",
       "3     55_0            0          55  O00533   \n",
       "4     55_0            0          55  O00533   \n",
       "5     55_0            0          55  O00533   \n",
       "6     55_0            0          55  O00533   \n",
       "7     55_0            0          55  O00533   \n",
       "8     55_0            0          55  O00533   \n",
       "9     55_0            0          55  O00584   \n",
       "\n",
       "                                  Peptide  PeptideAbundance  \n",
       "0                           NEQEQPLGQWHLS           11254.3  \n",
       "1                             GNPEPTFSWTK          102060.0  \n",
       "2                         IEIPSSVQQVPTIIK          174185.0  \n",
       "3  KPQSAVYSTGSNGILLC(UniMod_4)EAEGEPQPTIK           27278.9  \n",
       "4                            SMEQNGPGLEYR           30838.7  \n",
       "5                        TLKIENVSYQDKGNYR           23216.5  \n",
       "6                               VIAVNEVGR          170878.0  \n",
       "7                           VMTPAVYAPYDVK          148771.0  \n",
       "8                     VNGSPVDNHPFAGDVVFPR           55202.1  \n",
       "9                              ELDLNSVLLK           27229.3  "
      ]
     },
     "execution_count": 2,
     "metadata": {},
     "output_type": "execute_result"
    }
   ],
   "source": [
    "train_peptides_df = pd.read_csv('./data/train_peptides.csv')\n",
    "print(train_peptides_df.shape)\n",
    "print(train_peptides_df.groupby(['patient_id', 'visit_id']).size())\n",
    "print(\"num patients\", train_peptides_df.patient_id.nunique())\n",
    "print(\"num visits total\", train_peptides_df.visit_id.nunique())\n",
    "\n",
    "print(train_peptides_df.visit_month.describe())\n",
    "train_peptides_df.head(10)"
   ]
  },
  {
   "cell_type": "code",
   "execution_count": 3,
   "metadata": {},
   "outputs": [
    {
     "name": "stdout",
     "output_type": "stream",
     "text": [
      "(232741, 5)\n"
     ]
    },
    {
     "data": {
      "text/html": [
       "<div>\n",
       "<style scoped>\n",
       "    .dataframe tbody tr th:only-of-type {\n",
       "        vertical-align: middle;\n",
       "    }\n",
       "\n",
       "    .dataframe tbody tr th {\n",
       "        vertical-align: top;\n",
       "    }\n",
       "\n",
       "    .dataframe thead th {\n",
       "        text-align: right;\n",
       "    }\n",
       "</style>\n",
       "<table border=\"1\" class=\"dataframe\">\n",
       "  <thead>\n",
       "    <tr style=\"text-align: right;\">\n",
       "      <th></th>\n",
       "      <th>visit_id</th>\n",
       "      <th>visit_month</th>\n",
       "      <th>patient_id</th>\n",
       "      <th>UniProt</th>\n",
       "      <th>NPX</th>\n",
       "      <th>npx_frequency</th>\n",
       "    </tr>\n",
       "  </thead>\n",
       "  <tbody>\n",
       "    <tr>\n",
       "      <th>0</th>\n",
       "      <td>55_0</td>\n",
       "      <td>0</td>\n",
       "      <td>55</td>\n",
       "      <td>O00391</td>\n",
       "      <td>11254.30</td>\n",
       "      <td>0.000016</td>\n",
       "    </tr>\n",
       "    <tr>\n",
       "      <th>1</th>\n",
       "      <td>55_0</td>\n",
       "      <td>0</td>\n",
       "      <td>55</td>\n",
       "      <td>O00533</td>\n",
       "      <td>732430.00</td>\n",
       "      <td>0.001052</td>\n",
       "    </tr>\n",
       "    <tr>\n",
       "      <th>2</th>\n",
       "      <td>55_0</td>\n",
       "      <td>0</td>\n",
       "      <td>55</td>\n",
       "      <td>O00584</td>\n",
       "      <td>39585.80</td>\n",
       "      <td>0.000057</td>\n",
       "    </tr>\n",
       "    <tr>\n",
       "      <th>3</th>\n",
       "      <td>55_0</td>\n",
       "      <td>0</td>\n",
       "      <td>55</td>\n",
       "      <td>O14498</td>\n",
       "      <td>41526.90</td>\n",
       "      <td>0.000060</td>\n",
       "    </tr>\n",
       "    <tr>\n",
       "      <th>4</th>\n",
       "      <td>55_0</td>\n",
       "      <td>0</td>\n",
       "      <td>55</td>\n",
       "      <td>O14773</td>\n",
       "      <td>31238.00</td>\n",
       "      <td>0.000045</td>\n",
       "    </tr>\n",
       "    <tr>\n",
       "      <th>5</th>\n",
       "      <td>55_0</td>\n",
       "      <td>0</td>\n",
       "      <td>55</td>\n",
       "      <td>O14791</td>\n",
       "      <td>4202.71</td>\n",
       "      <td>0.000006</td>\n",
       "    </tr>\n",
       "    <tr>\n",
       "      <th>6</th>\n",
       "      <td>55_0</td>\n",
       "      <td>0</td>\n",
       "      <td>55</td>\n",
       "      <td>O15240</td>\n",
       "      <td>177775.00</td>\n",
       "      <td>0.000255</td>\n",
       "    </tr>\n",
       "    <tr>\n",
       "      <th>7</th>\n",
       "      <td>55_0</td>\n",
       "      <td>0</td>\n",
       "      <td>55</td>\n",
       "      <td>O15394</td>\n",
       "      <td>62898.20</td>\n",
       "      <td>0.000090</td>\n",
       "    </tr>\n",
       "    <tr>\n",
       "      <th>8</th>\n",
       "      <td>55_0</td>\n",
       "      <td>0</td>\n",
       "      <td>55</td>\n",
       "      <td>O43505</td>\n",
       "      <td>333376.00</td>\n",
       "      <td>0.000479</td>\n",
       "    </tr>\n",
       "    <tr>\n",
       "      <th>9</th>\n",
       "      <td>55_0</td>\n",
       "      <td>0</td>\n",
       "      <td>55</td>\n",
       "      <td>O60888</td>\n",
       "      <td>166850.00</td>\n",
       "      <td>0.000240</td>\n",
       "    </tr>\n",
       "  </tbody>\n",
       "</table>\n",
       "</div>"
      ],
      "text/plain": [
       "  visit_id  visit_month  patient_id UniProt        NPX  npx_frequency\n",
       "0     55_0            0          55  O00391   11254.30       0.000016\n",
       "1     55_0            0          55  O00533  732430.00       0.001052\n",
       "2     55_0            0          55  O00584   39585.80       0.000057\n",
       "3     55_0            0          55  O14498   41526.90       0.000060\n",
       "4     55_0            0          55  O14773   31238.00       0.000045\n",
       "5     55_0            0          55  O14791    4202.71       0.000006\n",
       "6     55_0            0          55  O15240  177775.00       0.000255\n",
       "7     55_0            0          55  O15394   62898.20       0.000090\n",
       "8     55_0            0          55  O43505  333376.00       0.000479\n",
       "9     55_0            0          55  O60888  166850.00       0.000240"
      ]
     },
     "execution_count": 3,
     "metadata": {},
     "output_type": "execute_result"
    }
   ],
   "source": [
    "train_proteins_df = pd.read_csv('./data/train_proteins.csv')\n",
    "print(train_proteins_df.shape)\n",
    "\n",
    "# Calculate NPX frequency per visit_id\n",
    "train_proteins_df['npx_frequency'] = train_proteins_df.groupby('visit_id')['NPX'].transform(lambda x: x / x.sum())\n",
    "\n",
    "train_proteins_df.head(10)"
   ]
  },
  {
   "cell_type": "code",
   "execution_count": 4,
   "metadata": {},
   "outputs": [
    {
     "name": "stdout",
     "output_type": "stream",
     "text": [
      "(2615, 8)\n"
     ]
    },
    {
     "data": {
      "text/html": [
       "<div>\n",
       "<style scoped>\n",
       "    .dataframe tbody tr th:only-of-type {\n",
       "        vertical-align: middle;\n",
       "    }\n",
       "\n",
       "    .dataframe tbody tr th {\n",
       "        vertical-align: top;\n",
       "    }\n",
       "\n",
       "    .dataframe thead th {\n",
       "        text-align: right;\n",
       "    }\n",
       "</style>\n",
       "<table border=\"1\" class=\"dataframe\">\n",
       "  <thead>\n",
       "    <tr style=\"text-align: right;\">\n",
       "      <th></th>\n",
       "      <th>visit_id</th>\n",
       "      <th>patient_id</th>\n",
       "      <th>visit_month</th>\n",
       "      <th>updrs_1</th>\n",
       "      <th>updrs_2</th>\n",
       "      <th>updrs_3</th>\n",
       "      <th>updrs_4</th>\n",
       "      <th>upd23b_clinical_state_on_medication</th>\n",
       "    </tr>\n",
       "  </thead>\n",
       "  <tbody>\n",
       "    <tr>\n",
       "      <th>0</th>\n",
       "      <td>55_0</td>\n",
       "      <td>55</td>\n",
       "      <td>0</td>\n",
       "      <td>10.0</td>\n",
       "      <td>6.0</td>\n",
       "      <td>15.0</td>\n",
       "      <td>NaN</td>\n",
       "      <td>NaN</td>\n",
       "    </tr>\n",
       "    <tr>\n",
       "      <th>1</th>\n",
       "      <td>55_3</td>\n",
       "      <td>55</td>\n",
       "      <td>3</td>\n",
       "      <td>10.0</td>\n",
       "      <td>7.0</td>\n",
       "      <td>25.0</td>\n",
       "      <td>NaN</td>\n",
       "      <td>NaN</td>\n",
       "    </tr>\n",
       "    <tr>\n",
       "      <th>2</th>\n",
       "      <td>55_6</td>\n",
       "      <td>55</td>\n",
       "      <td>6</td>\n",
       "      <td>8.0</td>\n",
       "      <td>10.0</td>\n",
       "      <td>34.0</td>\n",
       "      <td>NaN</td>\n",
       "      <td>NaN</td>\n",
       "    </tr>\n",
       "    <tr>\n",
       "      <th>3</th>\n",
       "      <td>55_9</td>\n",
       "      <td>55</td>\n",
       "      <td>9</td>\n",
       "      <td>8.0</td>\n",
       "      <td>9.0</td>\n",
       "      <td>30.0</td>\n",
       "      <td>0.0</td>\n",
       "      <td>On</td>\n",
       "    </tr>\n",
       "    <tr>\n",
       "      <th>4</th>\n",
       "      <td>55_12</td>\n",
       "      <td>55</td>\n",
       "      <td>12</td>\n",
       "      <td>10.0</td>\n",
       "      <td>10.0</td>\n",
       "      <td>41.0</td>\n",
       "      <td>0.0</td>\n",
       "      <td>On</td>\n",
       "    </tr>\n",
       "    <tr>\n",
       "      <th>5</th>\n",
       "      <td>55_18</td>\n",
       "      <td>55</td>\n",
       "      <td>18</td>\n",
       "      <td>7.0</td>\n",
       "      <td>13.0</td>\n",
       "      <td>38.0</td>\n",
       "      <td>0.0</td>\n",
       "      <td>On</td>\n",
       "    </tr>\n",
       "    <tr>\n",
       "      <th>6</th>\n",
       "      <td>55_24</td>\n",
       "      <td>55</td>\n",
       "      <td>24</td>\n",
       "      <td>16.0</td>\n",
       "      <td>9.0</td>\n",
       "      <td>49.0</td>\n",
       "      <td>0.0</td>\n",
       "      <td>On</td>\n",
       "    </tr>\n",
       "    <tr>\n",
       "      <th>7</th>\n",
       "      <td>55_30</td>\n",
       "      <td>55</td>\n",
       "      <td>30</td>\n",
       "      <td>14.0</td>\n",
       "      <td>13.0</td>\n",
       "      <td>49.0</td>\n",
       "      <td>0.0</td>\n",
       "      <td>On</td>\n",
       "    </tr>\n",
       "    <tr>\n",
       "      <th>8</th>\n",
       "      <td>55_36</td>\n",
       "      <td>55</td>\n",
       "      <td>36</td>\n",
       "      <td>17.0</td>\n",
       "      <td>18.0</td>\n",
       "      <td>51.0</td>\n",
       "      <td>0.0</td>\n",
       "      <td>On</td>\n",
       "    </tr>\n",
       "    <tr>\n",
       "      <th>9</th>\n",
       "      <td>55_42</td>\n",
       "      <td>55</td>\n",
       "      <td>42</td>\n",
       "      <td>12.0</td>\n",
       "      <td>20.0</td>\n",
       "      <td>41.0</td>\n",
       "      <td>0.0</td>\n",
       "      <td>On</td>\n",
       "    </tr>\n",
       "  </tbody>\n",
       "</table>\n",
       "</div>"
      ],
      "text/plain": [
       "  visit_id  patient_id  visit_month  updrs_1  updrs_2  updrs_3  updrs_4   \n",
       "0     55_0          55            0     10.0      6.0     15.0      NaN  \\\n",
       "1     55_3          55            3     10.0      7.0     25.0      NaN   \n",
       "2     55_6          55            6      8.0     10.0     34.0      NaN   \n",
       "3     55_9          55            9      8.0      9.0     30.0      0.0   \n",
       "4    55_12          55           12     10.0     10.0     41.0      0.0   \n",
       "5    55_18          55           18      7.0     13.0     38.0      0.0   \n",
       "6    55_24          55           24     16.0      9.0     49.0      0.0   \n",
       "7    55_30          55           30     14.0     13.0     49.0      0.0   \n",
       "8    55_36          55           36     17.0     18.0     51.0      0.0   \n",
       "9    55_42          55           42     12.0     20.0     41.0      0.0   \n",
       "\n",
       "  upd23b_clinical_state_on_medication  \n",
       "0                                 NaN  \n",
       "1                                 NaN  \n",
       "2                                 NaN  \n",
       "3                                  On  \n",
       "4                                  On  \n",
       "5                                  On  \n",
       "6                                  On  \n",
       "7                                  On  \n",
       "8                                  On  \n",
       "9                                  On  "
      ]
     },
     "execution_count": 4,
     "metadata": {},
     "output_type": "execute_result"
    }
   ],
   "source": [
    "train_clinical_data_df = pd.read_csv('./data/train_clinical_data.csv')\n",
    "print(train_clinical_data_df.shape)\n",
    "\n",
    "\n",
    "train_clinical_data_df.head(10)"
   ]
  },
  {
   "cell_type": "code",
   "execution_count": 5,
   "metadata": {},
   "outputs": [
    {
     "data": {
      "text/plain": [
       "upd23b_clinical_state_on_medication\n",
       "On     775\n",
       "Off    513\n",
       "Name: count, dtype: int64"
      ]
     },
     "execution_count": 5,
     "metadata": {},
     "output_type": "execute_result"
    }
   ],
   "source": [
    "train_clinical_data_df.upd23b_clinical_state_on_medication.value_counts()"
   ]
  },
  {
   "cell_type": "code",
   "execution_count": 6,
   "metadata": {},
   "outputs": [
    {
     "name": "stdout",
     "output_type": "stream",
     "text": [
      "(16, 6)\n"
     ]
    },
    {
     "data": {
      "text/html": [
       "<div>\n",
       "<style scoped>\n",
       "    .dataframe tbody tr th:only-of-type {\n",
       "        vertical-align: middle;\n",
       "    }\n",
       "\n",
       "    .dataframe tbody tr th {\n",
       "        vertical-align: top;\n",
       "    }\n",
       "\n",
       "    .dataframe thead th {\n",
       "        text-align: right;\n",
       "    }\n",
       "</style>\n",
       "<table border=\"1\" class=\"dataframe\">\n",
       "  <thead>\n",
       "    <tr style=\"text-align: right;\">\n",
       "      <th></th>\n",
       "      <th>visit_id</th>\n",
       "      <th>visit_month</th>\n",
       "      <th>patient_id</th>\n",
       "      <th>updrs_test</th>\n",
       "      <th>row_id</th>\n",
       "      <th>group_key</th>\n",
       "    </tr>\n",
       "  </thead>\n",
       "  <tbody>\n",
       "    <tr>\n",
       "      <th>0</th>\n",
       "      <td>3342_0</td>\n",
       "      <td>0</td>\n",
       "      <td>3342</td>\n",
       "      <td>updrs_1</td>\n",
       "      <td>3342_0_updrs_1</td>\n",
       "      <td>0</td>\n",
       "    </tr>\n",
       "    <tr>\n",
       "      <th>1</th>\n",
       "      <td>3342_0</td>\n",
       "      <td>0</td>\n",
       "      <td>3342</td>\n",
       "      <td>updrs_2</td>\n",
       "      <td>3342_0_updrs_2</td>\n",
       "      <td>0</td>\n",
       "    </tr>\n",
       "    <tr>\n",
       "      <th>2</th>\n",
       "      <td>3342_0</td>\n",
       "      <td>0</td>\n",
       "      <td>3342</td>\n",
       "      <td>updrs_3</td>\n",
       "      <td>3342_0_updrs_3</td>\n",
       "      <td>0</td>\n",
       "    </tr>\n",
       "    <tr>\n",
       "      <th>3</th>\n",
       "      <td>3342_0</td>\n",
       "      <td>0</td>\n",
       "      <td>3342</td>\n",
       "      <td>updrs_4</td>\n",
       "      <td>3342_0_updrs_4</td>\n",
       "      <td>0</td>\n",
       "    </tr>\n",
       "    <tr>\n",
       "      <th>4</th>\n",
       "      <td>50423_0</td>\n",
       "      <td>0</td>\n",
       "      <td>50423</td>\n",
       "      <td>updrs_1</td>\n",
       "      <td>50423_0_updrs_1</td>\n",
       "      <td>0</td>\n",
       "    </tr>\n",
       "    <tr>\n",
       "      <th>5</th>\n",
       "      <td>50423_0</td>\n",
       "      <td>0</td>\n",
       "      <td>50423</td>\n",
       "      <td>updrs_2</td>\n",
       "      <td>50423_0_updrs_2</td>\n",
       "      <td>0</td>\n",
       "    </tr>\n",
       "    <tr>\n",
       "      <th>6</th>\n",
       "      <td>50423_0</td>\n",
       "      <td>0</td>\n",
       "      <td>50423</td>\n",
       "      <td>updrs_3</td>\n",
       "      <td>50423_0_updrs_3</td>\n",
       "      <td>0</td>\n",
       "    </tr>\n",
       "    <tr>\n",
       "      <th>7</th>\n",
       "      <td>50423_0</td>\n",
       "      <td>0</td>\n",
       "      <td>50423</td>\n",
       "      <td>updrs_4</td>\n",
       "      <td>50423_0_updrs_4</td>\n",
       "      <td>0</td>\n",
       "    </tr>\n",
       "    <tr>\n",
       "      <th>8</th>\n",
       "      <td>3342_6</td>\n",
       "      <td>6</td>\n",
       "      <td>3342</td>\n",
       "      <td>updrs_1</td>\n",
       "      <td>3342_6_updrs_1</td>\n",
       "      <td>6</td>\n",
       "    </tr>\n",
       "    <tr>\n",
       "      <th>9</th>\n",
       "      <td>3342_6</td>\n",
       "      <td>6</td>\n",
       "      <td>3342</td>\n",
       "      <td>updrs_2</td>\n",
       "      <td>3342_6_updrs_2</td>\n",
       "      <td>6</td>\n",
       "    </tr>\n",
       "  </tbody>\n",
       "</table>\n",
       "</div>"
      ],
      "text/plain": [
       "  visit_id  visit_month  patient_id updrs_test           row_id  group_key\n",
       "0   3342_0            0        3342    updrs_1   3342_0_updrs_1          0\n",
       "1   3342_0            0        3342    updrs_2   3342_0_updrs_2          0\n",
       "2   3342_0            0        3342    updrs_3   3342_0_updrs_3          0\n",
       "3   3342_0            0        3342    updrs_4   3342_0_updrs_4          0\n",
       "4  50423_0            0       50423    updrs_1  50423_0_updrs_1          0\n",
       "5  50423_0            0       50423    updrs_2  50423_0_updrs_2          0\n",
       "6  50423_0            0       50423    updrs_3  50423_0_updrs_3          0\n",
       "7  50423_0            0       50423    updrs_4  50423_0_updrs_4          0\n",
       "8   3342_6            6        3342    updrs_1   3342_6_updrs_1          6\n",
       "9   3342_6            6        3342    updrs_2   3342_6_updrs_2          6"
      ]
     },
     "execution_count": 6,
     "metadata": {},
     "output_type": "execute_result"
    }
   ],
   "source": [
    "test_df = pd.read_csv('example_test_files/test.csv')\n",
    "print(test_df.shape)\n",
    "test_df.head(10)"
   ]
  },
  {
   "cell_type": "code",
   "execution_count": 7,
   "metadata": {},
   "outputs": [
    {
     "name": "stdout",
     "output_type": "stream",
     "text": [
      "(2057, 7)\n",
      "['50423_0' '3342_6']\n"
     ]
    },
    {
     "data": {
      "text/html": [
       "<div>\n",
       "<style scoped>\n",
       "    .dataframe tbody tr th:only-of-type {\n",
       "        vertical-align: middle;\n",
       "    }\n",
       "\n",
       "    .dataframe tbody tr th {\n",
       "        vertical-align: top;\n",
       "    }\n",
       "\n",
       "    .dataframe thead th {\n",
       "        text-align: right;\n",
       "    }\n",
       "</style>\n",
       "<table border=\"1\" class=\"dataframe\">\n",
       "  <thead>\n",
       "    <tr style=\"text-align: right;\">\n",
       "      <th></th>\n",
       "      <th>visit_id</th>\n",
       "      <th>visit_month</th>\n",
       "      <th>patient_id</th>\n",
       "      <th>UniProt</th>\n",
       "      <th>Peptide</th>\n",
       "      <th>PeptideAbundance</th>\n",
       "      <th>group_key</th>\n",
       "    </tr>\n",
       "  </thead>\n",
       "  <tbody>\n",
       "    <tr>\n",
       "      <th>0</th>\n",
       "      <td>50423_0</td>\n",
       "      <td>0</td>\n",
       "      <td>50423</td>\n",
       "      <td>O00391</td>\n",
       "      <td>AHFSPSNIILDFPAAGSAAR</td>\n",
       "      <td>22226.3</td>\n",
       "      <td>0</td>\n",
       "    </tr>\n",
       "    <tr>\n",
       "      <th>1</th>\n",
       "      <td>50423_0</td>\n",
       "      <td>0</td>\n",
       "      <td>50423</td>\n",
       "      <td>O00391</td>\n",
       "      <td>NEQEQPLGQWHLS</td>\n",
       "      <td>10901.6</td>\n",
       "      <td>0</td>\n",
       "    </tr>\n",
       "    <tr>\n",
       "      <th>2</th>\n",
       "      <td>50423_0</td>\n",
       "      <td>0</td>\n",
       "      <td>50423</td>\n",
       "      <td>O00533</td>\n",
       "      <td>GNPEPTFSWTK</td>\n",
       "      <td>51499.4</td>\n",
       "      <td>0</td>\n",
       "    </tr>\n",
       "    <tr>\n",
       "      <th>3</th>\n",
       "      <td>50423_0</td>\n",
       "      <td>0</td>\n",
       "      <td>50423</td>\n",
       "      <td>O00533</td>\n",
       "      <td>IEIPSSVQQVPTIIK</td>\n",
       "      <td>125492.0</td>\n",
       "      <td>0</td>\n",
       "    </tr>\n",
       "    <tr>\n",
       "      <th>4</th>\n",
       "      <td>50423_0</td>\n",
       "      <td>0</td>\n",
       "      <td>50423</td>\n",
       "      <td>O00533</td>\n",
       "      <td>KPQSAVYSTGSNGILLC(UniMod_4)EAEGEPQPTIK</td>\n",
       "      <td>23174.2</td>\n",
       "      <td>0</td>\n",
       "    </tr>\n",
       "  </tbody>\n",
       "</table>\n",
       "</div>"
      ],
      "text/plain": [
       "  visit_id  visit_month  patient_id UniProt   \n",
       "0  50423_0            0       50423  O00391  \\\n",
       "1  50423_0            0       50423  O00391   \n",
       "2  50423_0            0       50423  O00533   \n",
       "3  50423_0            0       50423  O00533   \n",
       "4  50423_0            0       50423  O00533   \n",
       "\n",
       "                                  Peptide  PeptideAbundance  group_key  \n",
       "0                    AHFSPSNIILDFPAAGSAAR           22226.3          0  \n",
       "1                           NEQEQPLGQWHLS           10901.6          0  \n",
       "2                             GNPEPTFSWTK           51499.4          0  \n",
       "3                         IEIPSSVQQVPTIIK          125492.0          0  \n",
       "4  KPQSAVYSTGSNGILLC(UniMod_4)EAEGEPQPTIK           23174.2          0  "
      ]
     },
     "execution_count": 7,
     "metadata": {},
     "output_type": "execute_result"
    }
   ],
   "source": [
    "test_peptides_df = pd.read_csv('example_test_files/test_peptides.csv')\n",
    "print(test_peptides_df.shape)\n",
    "print(test_peptides_df.visit_id.unique())\n",
    "test_peptides_df.head()"
   ]
  },
  {
   "cell_type": "code",
   "execution_count": 8,
   "metadata": {},
   "outputs": [
    {
     "name": "stdout",
     "output_type": "stream",
     "text": [
      "(453, 6)\n",
      "['50423_0' '3342_6']\n"
     ]
    },
    {
     "data": {
      "text/html": [
       "<div>\n",
       "<style scoped>\n",
       "    .dataframe tbody tr th:only-of-type {\n",
       "        vertical-align: middle;\n",
       "    }\n",
       "\n",
       "    .dataframe tbody tr th {\n",
       "        vertical-align: top;\n",
       "    }\n",
       "\n",
       "    .dataframe thead th {\n",
       "        text-align: right;\n",
       "    }\n",
       "</style>\n",
       "<table border=\"1\" class=\"dataframe\">\n",
       "  <thead>\n",
       "    <tr style=\"text-align: right;\">\n",
       "      <th></th>\n",
       "      <th>visit_id</th>\n",
       "      <th>visit_month</th>\n",
       "      <th>patient_id</th>\n",
       "      <th>UniProt</th>\n",
       "      <th>NPX</th>\n",
       "      <th>group_key</th>\n",
       "    </tr>\n",
       "  </thead>\n",
       "  <tbody>\n",
       "    <tr>\n",
       "      <th>0</th>\n",
       "      <td>50423_0</td>\n",
       "      <td>0</td>\n",
       "      <td>50423</td>\n",
       "      <td>O00391</td>\n",
       "      <td>33127.90</td>\n",
       "      <td>0</td>\n",
       "    </tr>\n",
       "    <tr>\n",
       "      <th>1</th>\n",
       "      <td>50423_0</td>\n",
       "      <td>0</td>\n",
       "      <td>50423</td>\n",
       "      <td>O00533</td>\n",
       "      <td>490742.00</td>\n",
       "      <td>0</td>\n",
       "    </tr>\n",
       "    <tr>\n",
       "      <th>2</th>\n",
       "      <td>50423_0</td>\n",
       "      <td>0</td>\n",
       "      <td>50423</td>\n",
       "      <td>O00584</td>\n",
       "      <td>43615.30</td>\n",
       "      <td>0</td>\n",
       "    </tr>\n",
       "    <tr>\n",
       "      <th>3</th>\n",
       "      <td>50423_0</td>\n",
       "      <td>0</td>\n",
       "      <td>50423</td>\n",
       "      <td>O14773</td>\n",
       "      <td>16486.60</td>\n",
       "      <td>0</td>\n",
       "    </tr>\n",
       "    <tr>\n",
       "      <th>4</th>\n",
       "      <td>50423_0</td>\n",
       "      <td>0</td>\n",
       "      <td>50423</td>\n",
       "      <td>O14791</td>\n",
       "      <td>2882.42</td>\n",
       "      <td>0</td>\n",
       "    </tr>\n",
       "  </tbody>\n",
       "</table>\n",
       "</div>"
      ],
      "text/plain": [
       "  visit_id  visit_month  patient_id UniProt        NPX  group_key\n",
       "0  50423_0            0       50423  O00391   33127.90          0\n",
       "1  50423_0            0       50423  O00533  490742.00          0\n",
       "2  50423_0            0       50423  O00584   43615.30          0\n",
       "3  50423_0            0       50423  O14773   16486.60          0\n",
       "4  50423_0            0       50423  O14791    2882.42          0"
      ]
     },
     "execution_count": 8,
     "metadata": {},
     "output_type": "execute_result"
    }
   ],
   "source": [
    "test_proteins_df = pd.read_csv('example_test_files/test_proteins.csv')\n",
    "print(test_proteins_df.shape)\n",
    "print(test_peptides_df.visit_id.unique())\n",
    "test_proteins_df.head()"
   ]
  },
  {
   "cell_type": "code",
   "execution_count": 9,
   "metadata": {},
   "outputs": [
    {
     "name": "stdout",
     "output_type": "stream",
     "text": [
      "(64, 3)\n"
     ]
    },
    {
     "data": {
      "text/html": [
       "<div>\n",
       "<style scoped>\n",
       "    .dataframe tbody tr th:only-of-type {\n",
       "        vertical-align: middle;\n",
       "    }\n",
       "\n",
       "    .dataframe tbody tr th {\n",
       "        vertical-align: top;\n",
       "    }\n",
       "\n",
       "    .dataframe thead th {\n",
       "        text-align: right;\n",
       "    }\n",
       "</style>\n",
       "<table border=\"1\" class=\"dataframe\">\n",
       "  <thead>\n",
       "    <tr style=\"text-align: right;\">\n",
       "      <th></th>\n",
       "      <th>prediction_id</th>\n",
       "      <th>rating</th>\n",
       "      <th>group_key</th>\n",
       "    </tr>\n",
       "  </thead>\n",
       "  <tbody>\n",
       "    <tr>\n",
       "      <th>0</th>\n",
       "      <td>3342_0_updrs_1_plus_0_months</td>\n",
       "      <td>0</td>\n",
       "      <td>0</td>\n",
       "    </tr>\n",
       "    <tr>\n",
       "      <th>1</th>\n",
       "      <td>3342_0_updrs_1_plus_6_months</td>\n",
       "      <td>0</td>\n",
       "      <td>0</td>\n",
       "    </tr>\n",
       "    <tr>\n",
       "      <th>2</th>\n",
       "      <td>3342_0_updrs_1_plus_12_months</td>\n",
       "      <td>0</td>\n",
       "      <td>0</td>\n",
       "    </tr>\n",
       "    <tr>\n",
       "      <th>3</th>\n",
       "      <td>3342_0_updrs_1_plus_24_months</td>\n",
       "      <td>0</td>\n",
       "      <td>0</td>\n",
       "    </tr>\n",
       "    <tr>\n",
       "      <th>4</th>\n",
       "      <td>3342_0_updrs_2_plus_0_months</td>\n",
       "      <td>0</td>\n",
       "      <td>0</td>\n",
       "    </tr>\n",
       "    <tr>\n",
       "      <th>5</th>\n",
       "      <td>3342_0_updrs_2_plus_6_months</td>\n",
       "      <td>0</td>\n",
       "      <td>0</td>\n",
       "    </tr>\n",
       "    <tr>\n",
       "      <th>6</th>\n",
       "      <td>3342_0_updrs_2_plus_12_months</td>\n",
       "      <td>0</td>\n",
       "      <td>0</td>\n",
       "    </tr>\n",
       "    <tr>\n",
       "      <th>7</th>\n",
       "      <td>3342_0_updrs_2_plus_24_months</td>\n",
       "      <td>0</td>\n",
       "      <td>0</td>\n",
       "    </tr>\n",
       "    <tr>\n",
       "      <th>8</th>\n",
       "      <td>3342_0_updrs_3_plus_0_months</td>\n",
       "      <td>0</td>\n",
       "      <td>0</td>\n",
       "    </tr>\n",
       "    <tr>\n",
       "      <th>9</th>\n",
       "      <td>3342_0_updrs_3_plus_6_months</td>\n",
       "      <td>0</td>\n",
       "      <td>0</td>\n",
       "    </tr>\n",
       "  </tbody>\n",
       "</table>\n",
       "</div>"
      ],
      "text/plain": [
       "                   prediction_id  rating  group_key\n",
       "0   3342_0_updrs_1_plus_0_months       0          0\n",
       "1   3342_0_updrs_1_plus_6_months       0          0\n",
       "2  3342_0_updrs_1_plus_12_months       0          0\n",
       "3  3342_0_updrs_1_plus_24_months       0          0\n",
       "4   3342_0_updrs_2_plus_0_months       0          0\n",
       "5   3342_0_updrs_2_plus_6_months       0          0\n",
       "6  3342_0_updrs_2_plus_12_months       0          0\n",
       "7  3342_0_updrs_2_plus_24_months       0          0\n",
       "8   3342_0_updrs_3_plus_0_months       0          0\n",
       "9   3342_0_updrs_3_plus_6_months       0          0"
      ]
     },
     "execution_count": 9,
     "metadata": {},
     "output_type": "execute_result"
    }
   ],
   "source": [
    "sample_submission_df = pd.read_csv('example_test_files/sample_submission.csv')\n",
    "print(sample_submission_df.shape)\n",
    "sample_submission_df.head(10)\n"
   ]
  },
  {
   "attachments": {},
   "cell_type": "markdown",
   "metadata": {},
   "source": [
    "# Explore Labels"
   ]
  },
  {
   "cell_type": "code",
   "execution_count": 10,
   "metadata": {},
   "outputs": [
    {
     "data": {
      "text/html": [
       "<div>\n",
       "<style scoped>\n",
       "    .dataframe tbody tr th:only-of-type {\n",
       "        vertical-align: middle;\n",
       "    }\n",
       "\n",
       "    .dataframe tbody tr th {\n",
       "        vertical-align: top;\n",
       "    }\n",
       "\n",
       "    .dataframe thead th {\n",
       "        text-align: right;\n",
       "    }\n",
       "</style>\n",
       "<table border=\"1\" class=\"dataframe\">\n",
       "  <thead>\n",
       "    <tr style=\"text-align: right;\">\n",
       "      <th></th>\n",
       "      <th>visit_id</th>\n",
       "      <th>patient_id</th>\n",
       "      <th>visit_month</th>\n",
       "      <th>updrs_1</th>\n",
       "      <th>updrs_2</th>\n",
       "      <th>updrs_3</th>\n",
       "      <th>updrs_4</th>\n",
       "      <th>upd23b_clinical_state_on_medication</th>\n",
       "    </tr>\n",
       "  </thead>\n",
       "  <tbody>\n",
       "    <tr>\n",
       "      <th>0</th>\n",
       "      <td>55_0</td>\n",
       "      <td>55</td>\n",
       "      <td>0</td>\n",
       "      <td>10.0</td>\n",
       "      <td>6.0</td>\n",
       "      <td>15.0</td>\n",
       "      <td>NaN</td>\n",
       "      <td>NaN</td>\n",
       "    </tr>\n",
       "    <tr>\n",
       "      <th>1</th>\n",
       "      <td>55_3</td>\n",
       "      <td>55</td>\n",
       "      <td>3</td>\n",
       "      <td>10.0</td>\n",
       "      <td>7.0</td>\n",
       "      <td>25.0</td>\n",
       "      <td>NaN</td>\n",
       "      <td>NaN</td>\n",
       "    </tr>\n",
       "    <tr>\n",
       "      <th>2</th>\n",
       "      <td>55_6</td>\n",
       "      <td>55</td>\n",
       "      <td>6</td>\n",
       "      <td>8.0</td>\n",
       "      <td>10.0</td>\n",
       "      <td>34.0</td>\n",
       "      <td>NaN</td>\n",
       "      <td>NaN</td>\n",
       "    </tr>\n",
       "    <tr>\n",
       "      <th>3</th>\n",
       "      <td>55_9</td>\n",
       "      <td>55</td>\n",
       "      <td>9</td>\n",
       "      <td>8.0</td>\n",
       "      <td>9.0</td>\n",
       "      <td>30.0</td>\n",
       "      <td>0.0</td>\n",
       "      <td>On</td>\n",
       "    </tr>\n",
       "    <tr>\n",
       "      <th>4</th>\n",
       "      <td>55_12</td>\n",
       "      <td>55</td>\n",
       "      <td>12</td>\n",
       "      <td>10.0</td>\n",
       "      <td>10.0</td>\n",
       "      <td>41.0</td>\n",
       "      <td>0.0</td>\n",
       "      <td>On</td>\n",
       "    </tr>\n",
       "  </tbody>\n",
       "</table>\n",
       "</div>"
      ],
      "text/plain": [
       "  visit_id  patient_id  visit_month  updrs_1  updrs_2  updrs_3  updrs_4   \n",
       "0     55_0          55            0     10.0      6.0     15.0      NaN  \\\n",
       "1     55_3          55            3     10.0      7.0     25.0      NaN   \n",
       "2     55_6          55            6      8.0     10.0     34.0      NaN   \n",
       "3     55_9          55            9      8.0      9.0     30.0      0.0   \n",
       "4    55_12          55           12     10.0     10.0     41.0      0.0   \n",
       "\n",
       "  upd23b_clinical_state_on_medication  \n",
       "0                                 NaN  \n",
       "1                                 NaN  \n",
       "2                                 NaN  \n",
       "3                                  On  \n",
       "4                                  On  "
      ]
     },
     "execution_count": 10,
     "metadata": {},
     "output_type": "execute_result"
    }
   ],
   "source": [
    "clinical_df = pd.read_csv('./data/train_clinical_data.csv')\n",
    "clinical_df.head()"
   ]
  },
  {
   "cell_type": "code",
   "execution_count": 11,
   "metadata": {},
   "outputs": [
    {
     "data": {
      "application/vnd.plotly.v1+json": {
       "config": {
        "plotlyServerURL": "https://plot.ly"
       },
       "data": [
        {
         "alignmentgroup": "True",
         "bingroup": "x",
         "hovertemplate": "variable=visit_month<br>value=%{x}<br>count=%{y}<extra></extra>",
         "legendgroup": "visit_month",
         "marker": {
          "color": "#636efa",
          "pattern": {
           "shape": ""
          }
         },
         "name": "visit_month",
         "offsetgroup": "visit_month",
         "orientation": "v",
         "showlegend": true,
         "type": "histogram",
         "x": [
          0,
          3,
          6,
          9,
          12,
          18,
          24,
          30,
          36,
          42,
          48,
          54,
          60,
          0,
          3,
          6,
          12,
          18,
          24,
          30,
          36,
          42,
          48,
          54,
          60,
          72,
          84,
          96,
          0,
          6,
          12,
          18,
          24,
          30,
          36,
          42,
          48,
          60,
          0,
          6,
          12,
          18,
          24,
          30,
          36,
          0,
          12,
          24,
          36,
          48,
          60,
          0,
          3,
          6,
          9,
          12,
          18,
          24,
          30,
          36,
          42,
          48,
          54,
          60,
          72,
          0,
          6,
          12,
          18,
          24,
          30,
          36,
          42,
          48,
          0,
          3,
          6,
          9,
          12,
          18,
          24,
          30,
          36,
          42,
          48,
          54,
          0,
          12,
          24,
          36,
          48,
          60,
          84,
          96,
          0,
          6,
          12,
          18,
          24,
          30,
          36,
          42,
          48,
          54,
          60,
          0,
          12,
          24,
          48,
          60,
          84,
          108,
          0,
          12,
          24,
          36,
          48,
          60,
          72,
          84,
          96,
          0,
          12,
          24,
          36,
          48,
          60,
          84,
          96,
          0,
          3,
          6,
          12,
          18,
          24,
          30,
          36,
          42,
          48,
          54,
          60,
          72,
          84,
          96,
          108,
          0,
          3,
          6,
          12,
          18,
          24,
          30,
          36,
          42,
          0,
          3,
          6,
          9,
          12,
          18,
          24,
          30,
          36,
          42,
          48,
          54,
          60,
          72,
          84,
          0,
          3,
          6,
          12,
          18,
          24,
          30,
          36,
          42,
          48,
          54,
          60,
          72,
          0,
          12,
          24,
          36,
          48,
          60,
          96,
          0,
          3,
          6,
          9,
          12,
          18,
          24,
          30,
          36,
          42,
          48,
          54,
          60,
          72,
          84,
          0,
          12,
          24,
          36,
          48,
          60,
          84,
          96,
          108,
          0,
          12,
          24,
          36,
          60,
          84,
          96,
          0,
          6,
          12,
          18,
          24,
          30,
          36,
          42,
          48,
          0,
          6,
          12,
          18,
          24,
          30,
          36,
          42,
          48,
          54,
          60,
          0,
          12,
          24,
          36,
          48,
          60,
          0,
          3,
          6,
          9,
          12,
          18,
          24,
          30,
          36,
          42,
          48,
          54,
          60,
          84,
          0,
          3,
          6,
          9,
          12,
          18,
          24,
          30,
          36,
          42,
          54,
          60,
          72,
          84,
          0,
          3,
          6,
          9,
          12,
          18,
          24,
          30,
          36,
          42,
          48,
          54,
          60,
          72,
          84,
          96,
          0,
          6,
          12,
          18,
          24,
          36,
          42,
          0,
          6,
          12,
          18,
          24,
          0,
          6,
          12,
          18,
          24,
          30,
          36,
          0,
          12,
          24,
          36,
          48,
          60,
          84,
          96,
          0,
          3,
          6,
          9,
          12,
          18,
          24,
          30,
          36,
          42,
          48,
          54,
          60,
          72,
          84,
          0,
          3,
          6,
          9,
          12,
          18,
          24,
          30,
          36,
          42,
          48,
          54,
          60,
          72,
          0,
          6,
          12,
          18,
          24,
          30,
          36,
          42,
          48,
          54,
          60,
          0,
          6,
          12,
          18,
          24,
          30,
          36,
          48,
          60,
          0,
          12,
          24,
          36,
          48,
          60,
          84,
          96,
          0,
          3,
          6,
          9,
          12,
          18,
          24,
          30,
          36,
          42,
          48,
          54,
          60,
          72,
          84,
          96,
          0,
          6,
          12,
          18,
          24,
          30,
          36,
          42,
          48,
          60,
          0,
          12,
          24,
          36,
          48,
          60,
          0,
          12,
          24,
          36,
          48,
          60,
          84,
          96,
          0,
          3,
          6,
          9,
          12,
          18,
          24,
          30,
          36,
          42,
          48,
          54,
          60,
          72,
          84,
          96,
          0,
          3,
          6,
          9,
          12,
          18,
          24,
          30,
          36,
          42,
          48,
          54,
          60,
          72,
          84,
          0,
          3,
          6,
          9,
          12,
          18,
          24,
          30,
          36,
          42,
          48,
          54,
          60,
          0,
          3,
          6,
          9,
          12,
          18,
          24,
          30,
          36,
          42,
          48,
          54,
          60,
          72,
          84,
          0,
          3,
          6,
          9,
          12,
          18,
          24,
          30,
          36,
          42,
          48,
          54,
          60,
          72,
          84,
          96,
          0,
          3,
          6,
          12,
          18,
          24,
          36,
          42,
          48,
          60,
          84,
          0,
          3,
          6,
          12,
          18,
          24,
          30,
          36,
          42,
          48,
          54,
          60,
          0,
          12,
          24,
          36,
          48,
          0,
          12,
          24,
          36,
          48,
          60,
          72,
          0,
          3,
          6,
          9,
          12,
          18,
          24,
          30,
          36,
          42,
          48,
          54,
          60,
          72,
          84,
          96,
          0,
          6,
          12,
          18,
          24,
          30,
          36,
          42,
          0,
          3,
          6,
          9,
          12,
          18,
          24,
          30,
          36,
          42,
          48,
          54,
          60,
          72,
          0,
          6,
          12,
          24,
          30,
          36,
          0,
          12,
          24,
          0,
          6,
          12,
          18,
          24,
          30,
          36,
          48,
          0,
          3,
          6,
          9,
          12,
          18,
          24,
          30,
          36,
          42,
          48,
          54,
          60,
          72,
          84,
          96,
          108,
          0,
          3,
          6,
          9,
          12,
          18,
          24,
          30,
          36,
          42,
          48,
          54,
          60,
          72,
          84,
          96,
          0,
          6,
          12,
          18,
          30,
          0,
          3,
          6,
          9,
          12,
          18,
          24,
          36,
          42,
          48,
          0,
          6,
          12,
          18,
          24,
          30,
          36,
          42,
          48,
          0,
          12,
          24,
          36,
          48,
          60,
          84,
          96,
          0,
          6,
          12,
          18,
          24,
          30,
          36,
          48,
          0,
          6,
          12,
          18,
          24,
          30,
          0,
          3,
          6,
          9,
          12,
          18,
          24,
          30,
          36,
          42,
          48,
          54,
          60,
          72,
          84,
          96,
          0,
          3,
          6,
          12,
          18,
          24,
          30,
          36,
          42,
          48,
          54,
          72,
          84,
          96,
          0,
          6,
          12,
          18,
          24,
          30,
          36,
          42,
          48,
          60,
          0,
          6,
          12,
          18,
          24,
          30,
          36,
          42,
          48,
          54,
          60,
          0,
          12,
          24,
          30,
          36,
          42,
          48,
          54,
          60,
          0,
          6,
          12,
          18,
          24,
          30,
          36,
          42,
          48,
          0,
          3,
          6,
          9,
          12,
          18,
          24,
          30,
          36,
          42,
          48,
          54,
          60,
          72,
          84,
          96,
          0,
          3,
          6,
          9,
          12,
          18,
          24,
          30,
          36,
          42,
          48,
          54,
          60,
          72,
          84,
          96,
          0,
          3,
          6,
          9,
          12,
          18,
          24,
          30,
          36,
          42,
          48,
          54,
          60,
          72,
          84,
          96,
          0,
          3,
          6,
          9,
          12,
          18,
          24,
          30,
          36,
          42,
          48,
          54,
          60,
          72,
          84,
          0,
          3,
          6,
          9,
          12,
          24,
          36,
          42,
          48,
          54,
          60,
          0,
          12,
          24,
          36,
          48,
          60,
          84,
          0,
          12,
          24,
          36,
          48,
          60,
          84,
          96,
          108,
          0,
          3,
          6,
          9,
          12,
          18,
          24,
          30,
          36,
          42,
          48,
          54,
          60,
          72,
          84,
          0,
          3,
          6,
          9,
          12,
          18,
          24,
          30,
          36,
          42,
          48,
          54,
          60,
          72,
          84,
          0,
          3,
          6,
          12,
          18,
          24,
          30,
          36,
          42,
          48,
          54,
          60,
          0,
          12,
          24,
          36,
          48,
          60,
          84,
          96,
          0,
          3,
          6,
          9,
          12,
          18,
          24,
          30,
          36,
          42,
          0,
          3,
          6,
          9,
          12,
          18,
          24,
          30,
          36,
          42,
          48,
          54,
          60,
          0,
          12,
          24,
          36,
          48,
          60,
          84,
          96,
          108,
          0,
          12,
          18,
          24,
          36,
          0,
          3,
          6,
          9,
          12,
          18,
          24,
          30,
          36,
          42,
          48,
          54,
          60,
          72,
          84,
          96,
          0,
          3,
          6,
          9,
          12,
          18,
          24,
          30,
          36,
          42,
          48,
          54,
          60,
          72,
          0,
          6,
          18,
          24,
          30,
          36,
          42,
          0,
          3,
          6,
          9,
          12,
          18,
          24,
          36,
          42,
          48,
          54,
          60,
          0,
          6,
          12,
          18,
          24,
          30,
          36,
          0,
          12,
          24,
          36,
          48,
          60,
          96,
          0,
          12,
          24,
          36,
          48,
          60,
          72,
          84,
          0,
          24,
          36,
          48,
          60,
          72,
          0,
          3,
          6,
          9,
          12,
          18,
          24,
          30,
          36,
          42,
          48,
          54,
          60,
          72,
          84,
          0,
          6,
          12,
          18,
          24,
          30,
          36,
          42,
          60,
          0,
          12,
          24,
          36,
          48,
          60,
          72,
          84,
          0,
          3,
          6,
          12,
          24,
          48,
          72,
          0,
          12,
          24,
          36,
          48,
          60,
          84,
          96,
          0,
          3,
          6,
          9,
          12,
          18,
          24,
          30,
          36,
          42,
          48,
          0,
          3,
          6,
          9,
          12,
          18,
          24,
          30,
          36,
          42,
          48,
          54,
          60,
          0,
          12,
          18,
          24,
          30,
          36,
          42,
          48,
          54,
          60,
          0,
          6,
          12,
          18,
          24,
          30,
          36,
          0,
          6,
          12,
          18,
          24,
          30,
          36,
          42,
          48,
          0,
          12,
          24,
          36,
          48,
          60,
          0,
          6,
          12,
          18,
          24,
          30,
          36,
          0,
          6,
          12,
          18,
          24,
          30,
          36,
          42,
          0,
          3,
          6,
          9,
          12,
          18,
          24,
          30,
          36,
          42,
          48,
          54,
          60,
          72,
          84,
          96,
          0,
          3,
          6,
          9,
          12,
          18,
          24,
          30,
          36,
          42,
          48,
          54,
          60,
          72,
          84,
          0,
          3,
          6,
          9,
          12,
          18,
          24,
          30,
          36,
          42,
          48,
          54,
          60,
          0,
          3,
          6,
          9,
          12,
          18,
          24,
          30,
          36,
          42,
          48,
          54,
          60,
          72,
          84,
          0,
          12,
          24,
          36,
          48,
          60,
          0,
          6,
          12,
          18,
          24,
          30,
          36,
          42,
          48,
          0,
          3,
          6,
          9,
          12,
          18,
          24,
          30,
          36,
          42,
          48,
          54,
          60,
          72,
          84,
          0,
          6,
          9,
          12,
          18,
          24,
          30,
          36,
          42,
          48,
          54,
          60,
          72,
          0,
          6,
          12,
          18,
          24,
          30,
          48,
          0,
          3,
          6,
          9,
          12,
          24,
          30,
          36,
          48,
          60,
          72,
          0,
          6,
          12,
          18,
          24,
          30,
          36,
          42,
          0,
          3,
          6,
          9,
          12,
          18,
          24,
          30,
          36,
          42,
          48,
          54,
          60,
          72,
          84,
          96,
          0,
          3,
          6,
          9,
          12,
          18,
          24,
          30,
          36,
          42,
          48,
          54,
          60,
          0,
          3,
          6,
          9,
          12,
          18,
          24,
          30,
          36,
          42,
          48,
          54,
          60,
          72,
          84,
          0,
          3,
          6,
          9,
          12,
          18,
          24,
          30,
          36,
          42,
          48,
          54,
          0,
          3,
          6,
          9,
          12,
          18,
          24,
          30,
          36,
          42,
          72,
          84,
          0,
          3,
          6,
          9,
          12,
          18,
          36,
          42,
          48,
          54,
          60,
          72,
          0,
          6,
          12,
          18,
          24,
          30,
          36,
          42,
          48,
          0,
          6,
          12,
          18,
          24,
          0,
          12,
          18,
          24,
          36,
          42,
          48,
          54,
          60,
          0,
          6,
          12,
          18,
          24,
          30,
          36,
          0,
          12,
          24,
          36,
          48,
          60,
          84,
          96,
          0,
          6,
          12,
          18,
          24,
          30,
          36,
          42,
          48,
          54,
          0,
          6,
          12,
          18,
          24,
          30,
          0,
          3,
          6,
          9,
          12,
          18,
          24,
          30,
          36,
          42,
          48,
          72,
          84,
          0,
          3,
          6,
          9,
          12,
          18,
          24,
          30,
          36,
          42,
          48,
          54,
          60,
          72,
          84,
          0,
          6,
          12,
          18,
          24,
          30,
          36,
          42,
          48,
          0,
          12,
          24,
          36,
          48,
          60,
          84,
          96,
          0,
          3,
          6,
          9,
          12,
          18,
          24,
          30,
          36,
          42,
          48,
          54,
          60,
          0,
          12,
          24,
          60,
          72,
          0,
          3,
          6,
          12,
          18,
          24,
          30,
          36,
          42,
          48,
          54,
          60,
          72,
          0,
          6,
          12,
          18,
          24,
          30,
          36,
          48,
          0,
          3,
          6,
          9,
          12,
          18,
          24,
          30,
          36,
          42,
          48,
          54,
          60,
          72,
          84,
          96,
          0,
          12,
          24,
          36,
          48,
          60,
          84,
          0,
          6,
          12,
          18,
          24,
          0,
          3,
          6,
          9,
          12,
          18,
          24,
          30,
          36,
          42,
          48,
          54,
          60,
          72,
          84,
          0,
          3,
          6,
          9,
          12,
          18,
          24,
          30,
          36,
          42,
          48,
          54,
          60,
          0,
          3,
          6,
          9,
          12,
          18,
          24,
          30,
          36,
          42,
          48,
          54,
          60,
          0,
          6,
          12,
          18,
          24,
          30,
          36,
          0,
          6,
          12,
          18,
          24,
          36,
          0,
          12,
          24,
          36,
          48,
          60,
          72,
          0,
          12,
          36,
          60,
          72,
          84,
          0,
          6,
          12,
          18,
          24,
          30,
          36,
          0,
          3,
          6,
          9,
          12,
          18,
          24,
          30,
          36,
          42,
          48,
          54,
          60,
          72,
          84,
          0,
          3,
          6,
          9,
          12,
          18,
          24,
          30,
          36,
          42,
          48,
          54,
          60,
          72,
          84,
          96,
          0,
          3,
          6,
          9,
          12,
          18,
          24,
          30,
          36,
          42,
          48,
          54,
          60,
          72,
          84,
          0,
          6,
          12,
          18,
          24,
          30,
          36,
          42,
          48,
          0,
          6,
          9,
          12,
          18,
          24,
          30,
          0,
          3,
          6,
          9,
          12,
          18,
          24,
          30,
          42,
          0,
          3,
          6,
          9,
          12,
          18,
          24,
          30,
          36,
          42,
          48,
          54,
          60,
          72,
          84,
          0,
          6,
          12,
          18,
          24,
          30,
          36,
          42,
          54,
          60,
          0,
          3,
          6,
          9,
          12,
          0,
          6,
          12,
          18,
          24,
          30,
          36,
          42,
          48,
          0,
          3,
          6,
          9,
          12,
          18,
          24,
          30,
          36,
          42,
          48,
          54,
          60,
          72,
          84,
          0,
          12,
          24,
          36,
          48,
          60,
          84,
          96,
          0,
          12,
          24,
          36,
          48,
          60,
          0,
          3,
          6,
          9,
          12,
          18,
          24,
          30,
          36,
          42,
          48,
          54,
          60,
          72,
          84,
          96,
          0,
          3,
          6,
          9,
          12,
          18,
          24,
          30,
          36,
          42,
          48,
          54,
          60,
          72,
          84,
          0,
          6,
          18,
          24,
          30,
          36,
          42,
          48,
          54,
          0,
          3,
          6,
          12,
          18,
          24,
          30,
          36,
          42,
          48,
          54,
          60,
          72,
          84,
          96,
          108,
          0,
          6,
          12,
          18,
          24,
          30,
          36,
          42,
          48,
          0,
          6,
          12,
          18,
          24,
          30,
          36,
          42,
          48,
          0,
          12,
          24,
          48,
          60,
          84,
          96,
          0,
          6,
          12,
          18,
          24,
          30,
          36,
          42,
          48,
          60,
          0,
          3,
          6,
          9,
          12,
          18,
          24,
          30,
          36,
          42,
          48,
          60,
          0,
          6,
          12,
          18,
          24,
          30,
          36,
          42,
          0,
          3,
          6,
          9,
          12,
          18,
          24,
          30,
          36,
          42,
          48,
          54,
          60,
          72,
          84,
          96,
          0,
          6,
          12,
          18,
          24,
          30,
          36,
          42,
          48,
          60,
          0,
          6,
          12,
          24,
          42,
          48,
          0,
          3,
          6,
          9,
          12,
          18,
          24,
          30,
          36,
          42,
          48,
          54,
          60,
          72,
          84,
          0,
          3,
          6,
          12,
          18,
          24,
          30,
          36,
          48,
          0,
          3,
          6,
          9,
          12,
          18,
          24,
          30,
          36,
          42,
          48,
          54,
          60,
          72,
          0,
          12,
          24,
          36,
          48,
          60,
          84,
          0,
          6,
          12,
          18,
          24,
          30,
          36,
          42,
          48,
          0,
          3,
          6,
          9,
          12,
          18,
          24,
          30,
          36,
          48,
          54,
          60,
          0,
          12,
          24,
          36,
          48,
          60,
          72,
          0,
          6,
          12,
          18,
          24,
          36,
          0,
          3,
          6,
          9,
          12,
          18,
          24,
          30,
          36,
          42,
          48,
          54,
          60,
          72,
          84,
          96,
          0,
          3,
          6,
          12,
          18,
          24,
          30,
          36,
          42,
          48,
          54,
          60,
          72,
          84,
          0,
          24,
          36,
          48,
          60,
          72,
          84,
          0,
          3,
          6,
          9,
          12,
          18,
          24,
          30,
          36,
          42,
          48,
          54,
          60,
          72,
          84,
          0,
          3,
          6,
          9,
          12,
          18,
          24,
          30,
          36,
          42,
          48,
          54,
          60,
          0,
          3,
          6,
          9,
          12,
          18,
          24,
          30,
          36,
          42,
          48,
          54,
          60,
          72,
          0,
          3,
          6,
          9,
          12,
          18,
          24,
          30,
          36,
          42,
          48,
          54,
          60,
          72,
          0,
          3,
          6,
          12,
          18,
          24,
          30,
          36,
          42,
          48,
          54,
          60,
          72,
          84,
          96,
          108,
          0,
          6,
          12,
          18,
          24,
          30,
          36,
          42,
          48,
          0,
          6,
          12,
          18,
          24,
          30,
          36,
          42,
          48,
          0,
          3,
          6,
          9,
          12,
          24,
          36,
          0,
          6,
          12,
          18,
          24,
          30,
          36,
          42,
          48,
          60,
          0,
          3,
          6,
          9,
          12,
          18,
          0,
          3,
          6,
          12,
          18,
          24,
          30,
          36,
          42,
          48,
          54,
          60,
          72,
          84,
          96,
          108,
          0,
          6,
          12,
          18,
          24,
          30,
          36,
          0,
          3,
          6,
          9,
          12,
          18,
          24,
          30,
          36,
          42,
          0,
          12,
          24,
          36,
          48,
          60,
          84,
          96,
          0,
          12,
          24,
          36,
          48,
          60,
          84,
          96,
          0,
          6,
          12,
          18,
          24,
          30,
          36,
          42,
          48,
          54,
          60,
          0,
          3,
          6,
          9,
          12,
          18,
          24,
          30,
          36,
          42,
          48,
          54,
          60,
          72,
          84,
          96,
          108,
          0,
          6,
          12,
          18,
          24,
          60,
          72,
          0,
          3,
          6,
          9,
          12,
          18,
          24,
          30,
          36,
          42,
          0,
          12,
          24,
          36,
          48,
          60,
          84,
          96,
          0,
          3,
          6,
          9,
          12,
          18,
          24,
          30,
          36,
          42,
          48,
          54,
          60,
          72,
          84,
          0,
          3,
          6,
          9,
          12,
          18,
          24,
          30,
          36,
          42,
          48,
          54,
          0,
          3,
          6,
          12,
          18,
          24,
          30,
          36,
          48,
          54,
          60,
          72,
          0,
          3,
          6,
          12,
          18,
          24,
          30,
          36,
          42,
          48,
          54,
          60,
          72,
          0,
          3,
          6,
          9,
          12,
          18,
          24,
          30,
          36,
          42,
          48,
          54,
          60,
          84,
          0,
          3,
          6,
          9,
          12,
          18,
          24,
          30,
          36,
          42,
          48,
          54,
          60,
          72,
          96,
          0,
          3,
          6,
          9,
          12,
          18,
          24,
          30,
          36,
          42,
          48,
          54,
          60,
          0,
          6,
          12,
          18,
          24,
          36,
          0,
          3,
          6,
          9,
          12,
          18,
          24,
          42,
          48,
          54,
          60,
          72,
          84,
          96,
          0,
          12,
          24,
          36,
          48,
          60,
          84,
          0,
          3,
          6,
          9,
          12,
          18,
          24,
          30,
          36,
          42,
          48,
          54,
          60,
          72,
          84,
          96,
          108,
          0,
          6,
          12,
          18,
          24,
          30,
          36,
          42,
          48,
          0,
          6,
          12,
          18,
          24,
          30,
          36,
          48,
          0,
          12,
          24,
          36,
          48,
          60,
          96,
          0,
          6,
          12,
          18,
          24,
          36,
          0,
          6,
          12,
          18,
          24,
          30,
          36,
          42,
          48,
          54,
          0,
          6,
          12,
          18,
          24,
          30,
          36,
          0,
          6,
          9,
          12,
          18,
          24,
          30,
          36,
          42,
          48,
          60,
          72,
          84,
          96,
          0,
          12,
          24,
          36,
          48,
          60,
          84,
          0,
          6,
          12,
          18,
          24,
          30,
          36,
          42,
          48,
          60,
          0,
          12,
          24,
          36,
          48,
          60,
          84,
          96,
          108,
          0,
          3,
          6,
          9,
          12,
          18,
          24,
          30,
          36,
          42,
          48,
          54,
          60,
          72,
          84,
          0,
          12,
          24,
          36,
          48,
          60,
          84,
          96,
          0,
          3,
          6,
          12,
          18,
          24,
          30,
          36,
          42,
          54,
          72,
          84,
          0,
          3,
          6,
          12,
          18,
          24,
          30,
          36,
          42,
          48,
          54,
          60,
          72,
          84,
          0,
          3,
          6,
          9,
          24,
          30,
          36,
          42,
          48,
          54,
          60,
          72,
          0,
          6,
          12,
          18,
          24,
          30,
          0,
          6,
          12,
          18,
          24,
          30,
          36,
          0,
          12,
          24,
          0,
          12,
          24,
          36,
          48,
          60,
          96,
          0,
          3,
          6,
          9,
          12,
          18,
          24,
          30,
          36,
          42,
          48,
          54,
          60,
          72,
          84,
          96,
          0,
          3,
          6,
          9,
          12,
          18,
          24,
          30,
          36,
          42,
          48,
          54,
          60,
          0,
          6,
          12,
          18,
          24,
          30,
          36,
          0,
          12,
          24,
          36,
          48,
          60,
          0,
          6,
          12,
          18,
          24,
          30,
          36,
          42,
          48,
          0,
          3,
          6,
          9,
          12,
          18,
          24,
          30,
          36,
          42,
          48,
          60,
          72,
          84,
          0,
          6,
          12,
          24,
          0,
          3,
          6,
          9,
          12,
          18,
          24,
          36,
          48,
          60,
          72,
          84,
          0,
          6,
          12,
          18,
          24,
          30,
          36,
          42,
          48,
          0,
          12,
          18,
          24,
          30,
          36,
          42,
          48,
          54,
          60,
          0,
          3,
          6,
          9,
          12,
          18,
          24,
          30,
          36,
          42,
          48,
          54,
          60,
          72,
          84,
          0,
          3,
          6,
          9,
          12,
          18,
          24,
          30,
          36,
          42,
          48,
          54,
          60,
          72,
          84,
          96,
          0,
          3,
          6,
          9,
          12,
          18,
          24,
          30,
          36,
          42,
          48,
          54,
          60,
          72,
          84
         ],
         "xaxis": "x",
         "yaxis": "y"
        }
       ],
       "layout": {
        "barmode": "relative",
        "legend": {
         "title": {
          "text": "variable"
         },
         "tracegroupgap": 0
        },
        "margin": {
         "t": 60
        },
        "template": {
         "data": {
          "bar": [
           {
            "error_x": {
             "color": "#2a3f5f"
            },
            "error_y": {
             "color": "#2a3f5f"
            },
            "marker": {
             "line": {
              "color": "#E5ECF6",
              "width": 0.5
             },
             "pattern": {
              "fillmode": "overlay",
              "size": 10,
              "solidity": 0.2
             }
            },
            "type": "bar"
           }
          ],
          "barpolar": [
           {
            "marker": {
             "line": {
              "color": "#E5ECF6",
              "width": 0.5
             },
             "pattern": {
              "fillmode": "overlay",
              "size": 10,
              "solidity": 0.2
             }
            },
            "type": "barpolar"
           }
          ],
          "carpet": [
           {
            "aaxis": {
             "endlinecolor": "#2a3f5f",
             "gridcolor": "white",
             "linecolor": "white",
             "minorgridcolor": "white",
             "startlinecolor": "#2a3f5f"
            },
            "baxis": {
             "endlinecolor": "#2a3f5f",
             "gridcolor": "white",
             "linecolor": "white",
             "minorgridcolor": "white",
             "startlinecolor": "#2a3f5f"
            },
            "type": "carpet"
           }
          ],
          "choropleth": [
           {
            "colorbar": {
             "outlinewidth": 0,
             "ticks": ""
            },
            "type": "choropleth"
           }
          ],
          "contour": [
           {
            "colorbar": {
             "outlinewidth": 0,
             "ticks": ""
            },
            "colorscale": [
             [
              0,
              "#0d0887"
             ],
             [
              0.1111111111111111,
              "#46039f"
             ],
             [
              0.2222222222222222,
              "#7201a8"
             ],
             [
              0.3333333333333333,
              "#9c179e"
             ],
             [
              0.4444444444444444,
              "#bd3786"
             ],
             [
              0.5555555555555556,
              "#d8576b"
             ],
             [
              0.6666666666666666,
              "#ed7953"
             ],
             [
              0.7777777777777778,
              "#fb9f3a"
             ],
             [
              0.8888888888888888,
              "#fdca26"
             ],
             [
              1,
              "#f0f921"
             ]
            ],
            "type": "contour"
           }
          ],
          "contourcarpet": [
           {
            "colorbar": {
             "outlinewidth": 0,
             "ticks": ""
            },
            "type": "contourcarpet"
           }
          ],
          "heatmap": [
           {
            "colorbar": {
             "outlinewidth": 0,
             "ticks": ""
            },
            "colorscale": [
             [
              0,
              "#0d0887"
             ],
             [
              0.1111111111111111,
              "#46039f"
             ],
             [
              0.2222222222222222,
              "#7201a8"
             ],
             [
              0.3333333333333333,
              "#9c179e"
             ],
             [
              0.4444444444444444,
              "#bd3786"
             ],
             [
              0.5555555555555556,
              "#d8576b"
             ],
             [
              0.6666666666666666,
              "#ed7953"
             ],
             [
              0.7777777777777778,
              "#fb9f3a"
             ],
             [
              0.8888888888888888,
              "#fdca26"
             ],
             [
              1,
              "#f0f921"
             ]
            ],
            "type": "heatmap"
           }
          ],
          "heatmapgl": [
           {
            "colorbar": {
             "outlinewidth": 0,
             "ticks": ""
            },
            "colorscale": [
             [
              0,
              "#0d0887"
             ],
             [
              0.1111111111111111,
              "#46039f"
             ],
             [
              0.2222222222222222,
              "#7201a8"
             ],
             [
              0.3333333333333333,
              "#9c179e"
             ],
             [
              0.4444444444444444,
              "#bd3786"
             ],
             [
              0.5555555555555556,
              "#d8576b"
             ],
             [
              0.6666666666666666,
              "#ed7953"
             ],
             [
              0.7777777777777778,
              "#fb9f3a"
             ],
             [
              0.8888888888888888,
              "#fdca26"
             ],
             [
              1,
              "#f0f921"
             ]
            ],
            "type": "heatmapgl"
           }
          ],
          "histogram": [
           {
            "marker": {
             "pattern": {
              "fillmode": "overlay",
              "size": 10,
              "solidity": 0.2
             }
            },
            "type": "histogram"
           }
          ],
          "histogram2d": [
           {
            "colorbar": {
             "outlinewidth": 0,
             "ticks": ""
            },
            "colorscale": [
             [
              0,
              "#0d0887"
             ],
             [
              0.1111111111111111,
              "#46039f"
             ],
             [
              0.2222222222222222,
              "#7201a8"
             ],
             [
              0.3333333333333333,
              "#9c179e"
             ],
             [
              0.4444444444444444,
              "#bd3786"
             ],
             [
              0.5555555555555556,
              "#d8576b"
             ],
             [
              0.6666666666666666,
              "#ed7953"
             ],
             [
              0.7777777777777778,
              "#fb9f3a"
             ],
             [
              0.8888888888888888,
              "#fdca26"
             ],
             [
              1,
              "#f0f921"
             ]
            ],
            "type": "histogram2d"
           }
          ],
          "histogram2dcontour": [
           {
            "colorbar": {
             "outlinewidth": 0,
             "ticks": ""
            },
            "colorscale": [
             [
              0,
              "#0d0887"
             ],
             [
              0.1111111111111111,
              "#46039f"
             ],
             [
              0.2222222222222222,
              "#7201a8"
             ],
             [
              0.3333333333333333,
              "#9c179e"
             ],
             [
              0.4444444444444444,
              "#bd3786"
             ],
             [
              0.5555555555555556,
              "#d8576b"
             ],
             [
              0.6666666666666666,
              "#ed7953"
             ],
             [
              0.7777777777777778,
              "#fb9f3a"
             ],
             [
              0.8888888888888888,
              "#fdca26"
             ],
             [
              1,
              "#f0f921"
             ]
            ],
            "type": "histogram2dcontour"
           }
          ],
          "mesh3d": [
           {
            "colorbar": {
             "outlinewidth": 0,
             "ticks": ""
            },
            "type": "mesh3d"
           }
          ],
          "parcoords": [
           {
            "line": {
             "colorbar": {
              "outlinewidth": 0,
              "ticks": ""
             }
            },
            "type": "parcoords"
           }
          ],
          "pie": [
           {
            "automargin": true,
            "type": "pie"
           }
          ],
          "scatter": [
           {
            "fillpattern": {
             "fillmode": "overlay",
             "size": 10,
             "solidity": 0.2
            },
            "type": "scatter"
           }
          ],
          "scatter3d": [
           {
            "line": {
             "colorbar": {
              "outlinewidth": 0,
              "ticks": ""
             }
            },
            "marker": {
             "colorbar": {
              "outlinewidth": 0,
              "ticks": ""
             }
            },
            "type": "scatter3d"
           }
          ],
          "scattercarpet": [
           {
            "marker": {
             "colorbar": {
              "outlinewidth": 0,
              "ticks": ""
             }
            },
            "type": "scattercarpet"
           }
          ],
          "scattergeo": [
           {
            "marker": {
             "colorbar": {
              "outlinewidth": 0,
              "ticks": ""
             }
            },
            "type": "scattergeo"
           }
          ],
          "scattergl": [
           {
            "marker": {
             "colorbar": {
              "outlinewidth": 0,
              "ticks": ""
             }
            },
            "type": "scattergl"
           }
          ],
          "scattermapbox": [
           {
            "marker": {
             "colorbar": {
              "outlinewidth": 0,
              "ticks": ""
             }
            },
            "type": "scattermapbox"
           }
          ],
          "scatterpolar": [
           {
            "marker": {
             "colorbar": {
              "outlinewidth": 0,
              "ticks": ""
             }
            },
            "type": "scatterpolar"
           }
          ],
          "scatterpolargl": [
           {
            "marker": {
             "colorbar": {
              "outlinewidth": 0,
              "ticks": ""
             }
            },
            "type": "scatterpolargl"
           }
          ],
          "scatterternary": [
           {
            "marker": {
             "colorbar": {
              "outlinewidth": 0,
              "ticks": ""
             }
            },
            "type": "scatterternary"
           }
          ],
          "surface": [
           {
            "colorbar": {
             "outlinewidth": 0,
             "ticks": ""
            },
            "colorscale": [
             [
              0,
              "#0d0887"
             ],
             [
              0.1111111111111111,
              "#46039f"
             ],
             [
              0.2222222222222222,
              "#7201a8"
             ],
             [
              0.3333333333333333,
              "#9c179e"
             ],
             [
              0.4444444444444444,
              "#bd3786"
             ],
             [
              0.5555555555555556,
              "#d8576b"
             ],
             [
              0.6666666666666666,
              "#ed7953"
             ],
             [
              0.7777777777777778,
              "#fb9f3a"
             ],
             [
              0.8888888888888888,
              "#fdca26"
             ],
             [
              1,
              "#f0f921"
             ]
            ],
            "type": "surface"
           }
          ],
          "table": [
           {
            "cells": {
             "fill": {
              "color": "#EBF0F8"
             },
             "line": {
              "color": "white"
             }
            },
            "header": {
             "fill": {
              "color": "#C8D4E3"
             },
             "line": {
              "color": "white"
             }
            },
            "type": "table"
           }
          ]
         },
         "layout": {
          "annotationdefaults": {
           "arrowcolor": "#2a3f5f",
           "arrowhead": 0,
           "arrowwidth": 1
          },
          "autotypenumbers": "strict",
          "coloraxis": {
           "colorbar": {
            "outlinewidth": 0,
            "ticks": ""
           }
          },
          "colorscale": {
           "diverging": [
            [
             0,
             "#8e0152"
            ],
            [
             0.1,
             "#c51b7d"
            ],
            [
             0.2,
             "#de77ae"
            ],
            [
             0.3,
             "#f1b6da"
            ],
            [
             0.4,
             "#fde0ef"
            ],
            [
             0.5,
             "#f7f7f7"
            ],
            [
             0.6,
             "#e6f5d0"
            ],
            [
             0.7,
             "#b8e186"
            ],
            [
             0.8,
             "#7fbc41"
            ],
            [
             0.9,
             "#4d9221"
            ],
            [
             1,
             "#276419"
            ]
           ],
           "sequential": [
            [
             0,
             "#0d0887"
            ],
            [
             0.1111111111111111,
             "#46039f"
            ],
            [
             0.2222222222222222,
             "#7201a8"
            ],
            [
             0.3333333333333333,
             "#9c179e"
            ],
            [
             0.4444444444444444,
             "#bd3786"
            ],
            [
             0.5555555555555556,
             "#d8576b"
            ],
            [
             0.6666666666666666,
             "#ed7953"
            ],
            [
             0.7777777777777778,
             "#fb9f3a"
            ],
            [
             0.8888888888888888,
             "#fdca26"
            ],
            [
             1,
             "#f0f921"
            ]
           ],
           "sequentialminus": [
            [
             0,
             "#0d0887"
            ],
            [
             0.1111111111111111,
             "#46039f"
            ],
            [
             0.2222222222222222,
             "#7201a8"
            ],
            [
             0.3333333333333333,
             "#9c179e"
            ],
            [
             0.4444444444444444,
             "#bd3786"
            ],
            [
             0.5555555555555556,
             "#d8576b"
            ],
            [
             0.6666666666666666,
             "#ed7953"
            ],
            [
             0.7777777777777778,
             "#fb9f3a"
            ],
            [
             0.8888888888888888,
             "#fdca26"
            ],
            [
             1,
             "#f0f921"
            ]
           ]
          },
          "colorway": [
           "#636efa",
           "#EF553B",
           "#00cc96",
           "#ab63fa",
           "#FFA15A",
           "#19d3f3",
           "#FF6692",
           "#B6E880",
           "#FF97FF",
           "#FECB52"
          ],
          "font": {
           "color": "#2a3f5f"
          },
          "geo": {
           "bgcolor": "white",
           "lakecolor": "white",
           "landcolor": "#E5ECF6",
           "showlakes": true,
           "showland": true,
           "subunitcolor": "white"
          },
          "hoverlabel": {
           "align": "left"
          },
          "hovermode": "closest",
          "mapbox": {
           "style": "light"
          },
          "paper_bgcolor": "white",
          "plot_bgcolor": "#E5ECF6",
          "polar": {
           "angularaxis": {
            "gridcolor": "white",
            "linecolor": "white",
            "ticks": ""
           },
           "bgcolor": "#E5ECF6",
           "radialaxis": {
            "gridcolor": "white",
            "linecolor": "white",
            "ticks": ""
           }
          },
          "scene": {
           "xaxis": {
            "backgroundcolor": "#E5ECF6",
            "gridcolor": "white",
            "gridwidth": 2,
            "linecolor": "white",
            "showbackground": true,
            "ticks": "",
            "zerolinecolor": "white"
           },
           "yaxis": {
            "backgroundcolor": "#E5ECF6",
            "gridcolor": "white",
            "gridwidth": 2,
            "linecolor": "white",
            "showbackground": true,
            "ticks": "",
            "zerolinecolor": "white"
           },
           "zaxis": {
            "backgroundcolor": "#E5ECF6",
            "gridcolor": "white",
            "gridwidth": 2,
            "linecolor": "white",
            "showbackground": true,
            "ticks": "",
            "zerolinecolor": "white"
           }
          },
          "shapedefaults": {
           "line": {
            "color": "#2a3f5f"
           }
          },
          "ternary": {
           "aaxis": {
            "gridcolor": "white",
            "linecolor": "white",
            "ticks": ""
           },
           "baxis": {
            "gridcolor": "white",
            "linecolor": "white",
            "ticks": ""
           },
           "bgcolor": "#E5ECF6",
           "caxis": {
            "gridcolor": "white",
            "linecolor": "white",
            "ticks": ""
           }
          },
          "title": {
           "x": 0.05
          },
          "xaxis": {
           "automargin": true,
           "gridcolor": "white",
           "linecolor": "white",
           "ticks": "",
           "title": {
            "standoff": 15
           },
           "zerolinecolor": "white",
           "zerolinewidth": 2
          },
          "yaxis": {
           "automargin": true,
           "gridcolor": "white",
           "linecolor": "white",
           "ticks": "",
           "title": {
            "standoff": 15
           },
           "zerolinecolor": "white",
           "zerolinewidth": 2
          }
         }
        },
        "xaxis": {
         "anchor": "y",
         "domain": [
          0,
          1
         ],
         "title": {
          "text": "value"
         }
        },
        "yaxis": {
         "anchor": "x",
         "domain": [
          0,
          1
         ],
         "title": {
          "text": "count"
         }
        }
       }
      }
     },
     "metadata": {},
     "output_type": "display_data"
    }
   ],
   "source": [
    "px.histogram(clinical_df.visit_month)"
   ]
  },
  {
   "cell_type": "code",
   "execution_count": 55,
   "metadata": {},
   "outputs": [
    {
     "data": {
      "application/vnd.plotly.v1+json": {
       "config": {
        "plotlyServerURL": "https://plot.ly"
       },
       "data": [
        {
         "alignmentgroup": "True",
         "bingroup": "x",
         "hovertemplate": "variable=upd23b_clinical_state_on_medication<br>value=%{x}<br>count=%{y}<extra></extra>",
         "legendgroup": "upd23b_clinical_state_on_medication",
         "marker": {
          "color": "#636efa",
          "pattern": {
           "shape": ""
          }
         },
         "name": "upd23b_clinical_state_on_medication",
         "offsetgroup": "upd23b_clinical_state_on_medication",
         "orientation": "v",
         "showlegend": true,
         "type": "histogram",
         "x": [
          "Unknown",
          "Unknown",
          "Unknown",
          "On",
          "On",
          "On",
          "On",
          "On",
          "On",
          "On",
          "On",
          "On",
          "On",
          "Unknown",
          "Unknown",
          "Unknown",
          "Unknown",
          "Unknown",
          "Unknown",
          "Unknown",
          "Unknown",
          "Unknown",
          "Unknown",
          "Unknown",
          "Unknown",
          "Off",
          "Off",
          "Off",
          "On",
          "On",
          "On",
          "On",
          "On",
          "Off",
          "On",
          "On",
          "Off",
          "Off",
          "Unknown",
          "Unknown",
          "Unknown",
          "Unknown",
          "Unknown",
          "Unknown",
          "Unknown",
          "Unknown",
          "Unknown",
          "Unknown",
          "Unknown",
          "Unknown",
          "Unknown",
          "Unknown",
          "Unknown",
          "Unknown",
          "On",
          "On",
          "On",
          "Off",
          "On",
          "Off",
          "On",
          "Off",
          "Off",
          "Off",
          "Off",
          "On",
          "On",
          "On",
          "On",
          "On",
          "On",
          "On",
          "On",
          "Unknown",
          "Unknown",
          "Unknown",
          "Unknown",
          "Unknown",
          "Unknown",
          "Unknown",
          "Unknown",
          "Unknown",
          "Unknown",
          "Unknown",
          "Unknown",
          "Unknown",
          "Unknown",
          "Unknown",
          "Unknown",
          "Unknown",
          "Unknown",
          "Unknown",
          "Unknown",
          "Unknown",
          "On",
          "On",
          "On",
          "On",
          "On",
          "Off",
          "On",
          "On",
          "On",
          "On",
          "On",
          "Unknown",
          "Unknown",
          "Unknown",
          "Unknown",
          "Unknown",
          "Unknown",
          "Unknown",
          "Unknown",
          "Unknown",
          "Unknown",
          "Unknown",
          "Unknown",
          "Unknown",
          "Unknown",
          "Unknown",
          "Unknown",
          "Unknown",
          "Unknown",
          "Unknown",
          "Unknown",
          "Unknown",
          "Unknown",
          "Unknown",
          "Unknown",
          "Unknown",
          "Unknown",
          "Unknown",
          "Unknown",
          "Unknown",
          "Unknown",
          "Off",
          "Off",
          "Off",
          "Off",
          "Off",
          "Off",
          "Off",
          "Off",
          "Unknown",
          "Unknown",
          "Unknown",
          "Unknown",
          "Unknown",
          "Off",
          "On",
          "Off",
          "Off",
          "On",
          "On",
          "Unknown",
          "Unknown",
          "Unknown",
          "Unknown",
          "Unknown",
          "Unknown",
          "Unknown",
          "Unknown",
          "Unknown",
          "Unknown",
          "Unknown",
          "Unknown",
          "Unknown",
          "Off",
          "Off",
          "Unknown",
          "Unknown",
          "Unknown",
          "Off",
          "Off",
          "Off",
          "On",
          "Off",
          "On",
          "Off",
          "On",
          "On",
          "On",
          "Unknown",
          "Unknown",
          "Unknown",
          "Unknown",
          "Unknown",
          "Unknown",
          "Unknown",
          "Unknown",
          "Unknown",
          "Unknown",
          "Unknown",
          "Unknown",
          "Off",
          "Off",
          "On",
          "Off",
          "On",
          "Off",
          "On",
          "Off",
          "Off",
          "On",
          "Unknown",
          "Unknown",
          "Unknown",
          "Unknown",
          "Unknown",
          "Unknown",
          "Unknown",
          "Unknown",
          "Unknown",
          "Unknown",
          "Unknown",
          "Unknown",
          "Unknown",
          "Unknown",
          "Unknown",
          "Unknown",
          "On",
          "On",
          "On",
          "On",
          "On",
          "On",
          "On",
          "Off",
          "On",
          "Unknown",
          "Unknown",
          "Unknown",
          "On",
          "Off",
          "On",
          "Off",
          "On",
          "Off",
          "On",
          "Off",
          "Unknown",
          "Unknown",
          "Unknown",
          "Unknown",
          "Unknown",
          "Unknown",
          "Unknown",
          "Unknown",
          "Unknown",
          "Unknown",
          "Unknown",
          "Unknown",
          "Off",
          "On",
          "Off",
          "On",
          "Off",
          "On",
          "Off",
          "On",
          "Unknown",
          "Unknown",
          "Unknown",
          "Unknown",
          "Off",
          "Off",
          "On",
          "On",
          "On",
          "On",
          "On",
          "On",
          "Off",
          "Off",
          "Unknown",
          "Unknown",
          "Unknown",
          "Unknown",
          "Unknown",
          "On",
          "Off",
          "On",
          "Off",
          "On",
          "Off",
          "On",
          "Off",
          "On",
          "Off",
          "On",
          "On",
          "On",
          "On",
          "On",
          "On",
          "On",
          "On",
          "Unknown",
          "Unknown",
          "Unknown",
          "Unknown",
          "Unknown",
          "On",
          "On",
          "On",
          "On",
          "On",
          "On",
          "On",
          "Unknown",
          "Unknown",
          "Unknown",
          "Unknown",
          "Unknown",
          "Unknown",
          "Unknown",
          "Unknown",
          "Unknown",
          "Unknown",
          "Unknown",
          "Unknown",
          "Unknown",
          "Unknown",
          "Unknown",
          "Off",
          "Off",
          "Off",
          "Off",
          "On",
          "Off",
          "Off",
          "Off",
          "Unknown",
          "Unknown",
          "Unknown",
          "Unknown",
          "Unknown",
          "Unknown",
          "Unknown",
          "Unknown",
          "Unknown",
          "On",
          "Off",
          "On",
          "Off",
          "On",
          "Unknown",
          "Unknown",
          "Unknown",
          "Unknown",
          "Unknown",
          "Unknown",
          "Unknown",
          "Unknown",
          "Unknown",
          "Unknown",
          "Unknown",
          "On",
          "On",
          "On",
          "On",
          "On",
          "On",
          "On",
          "On",
          "On",
          "Unknown",
          "Unknown",
          "Unknown",
          "Unknown",
          "Unknown",
          "Unknown",
          "Unknown",
          "Unknown",
          "Unknown",
          "Unknown",
          "Unknown",
          "Unknown",
          "Unknown",
          "Unknown",
          "Unknown",
          "On",
          "On",
          "On",
          "Off",
          "On",
          "Off",
          "Off",
          "On",
          "On",
          "Unknown",
          "Unknown",
          "Unknown",
          "Unknown",
          "Unknown",
          "Unknown",
          "Unknown",
          "Unknown",
          "Unknown",
          "Unknown",
          "Unknown",
          "Unknown",
          "Unknown",
          "Unknown",
          "Unknown",
          "Unknown",
          "Unknown",
          "Unknown",
          "Unknown",
          "Unknown",
          "Unknown",
          "Unknown",
          "Unknown",
          "Unknown",
          "Unknown",
          "Unknown",
          "Unknown",
          "Unknown",
          "Unknown",
          "Unknown",
          "Unknown",
          "Unknown",
          "On",
          "Off",
          "Off",
          "On",
          "Off",
          "Off",
          "Off",
          "On",
          "Unknown",
          "Unknown",
          "Unknown",
          "Unknown",
          "Unknown",
          "Unknown",
          "Unknown",
          "Unknown",
          "Off",
          "Off",
          "Off",
          "On",
          "On",
          "On",
          "Off",
          "Unknown",
          "Unknown",
          "Unknown",
          "Unknown",
          "Unknown",
          "Unknown",
          "Unknown",
          "Unknown",
          "Unknown",
          "Unknown",
          "Unknown",
          "Unknown",
          "Unknown",
          "Unknown",
          "Unknown",
          "Unknown",
          "Unknown",
          "On",
          "On",
          "On",
          "On",
          "On",
          "On",
          "On",
          "On",
          "On",
          "On",
          "On",
          "Unknown",
          "Unknown",
          "Unknown",
          "On",
          "Off",
          "On",
          "Off",
          "On",
          "Off",
          "On",
          "Off",
          "Off",
          "Off",
          "Off",
          "Off",
          "Off",
          "Unknown",
          "Unknown",
          "On",
          "On",
          "On",
          "On",
          "On",
          "On",
          "On",
          "On",
          "On",
          "Unknown",
          "Unknown",
          "Unknown",
          "Off",
          "Unknown",
          "Unknown",
          "On",
          "Off",
          "Unknown",
          "Off",
          "On",
          "Off",
          "Unknown",
          "Unknown",
          "Unknown",
          "Unknown",
          "Unknown",
          "Unknown",
          "Unknown",
          "Unknown",
          "Unknown",
          "Unknown",
          "Unknown",
          "Unknown",
          "Unknown",
          "Unknown",
          "Unknown",
          "On",
          "On",
          "Unknown",
          "On",
          "On",
          "On",
          "On",
          "On",
          "On",
          "On",
          "On",
          "On",
          "Off",
          "On",
          "On",
          "On",
          "On",
          "Unknown",
          "On",
          "On",
          "On",
          "Unknown",
          "Unknown",
          "Unknown",
          "Unknown",
          "Unknown",
          "On",
          "Off",
          "On",
          "On",
          "Unknown",
          "Off",
          "On",
          "Off",
          "Off",
          "On",
          "On",
          "Unknown",
          "Off",
          "On",
          "On",
          "Unknown",
          "Unknown",
          "Unknown",
          "On",
          "On",
          "On",
          "On",
          "On",
          "On",
          "On",
          "On",
          "Unknown",
          "Unknown",
          "Unknown",
          "On",
          "Off",
          "Off",
          "Off",
          "On",
          "Off",
          "Off",
          "Off",
          "On",
          "Off",
          "Off",
          "Off",
          "Off",
          "On",
          "Unknown",
          "Unknown",
          "Unknown",
          "Unknown",
          "Unknown",
          "Unknown",
          "Off",
          "On",
          "Off",
          "Off",
          "Off",
          "On",
          "Off",
          "Off",
          "Off",
          "On",
          "Unknown",
          "Unknown",
          "Unknown",
          "Unknown",
          "Unknown",
          "Unknown",
          "Unknown",
          "Unknown",
          "Unknown",
          "Unknown",
          "Unknown",
          "Unknown",
          "Unknown",
          "Unknown",
          "Unknown",
          "Unknown",
          "Unknown",
          "Unknown",
          "Unknown",
          "Unknown",
          "Unknown",
          "Unknown",
          "Unknown",
          "Unknown",
          "Unknown",
          "Unknown",
          "Unknown",
          "Unknown",
          "Unknown",
          "Unknown",
          "Unknown",
          "Unknown",
          "On",
          "On",
          "On",
          "On",
          "On",
          "On",
          "On",
          "On",
          "Unknown",
          "Unknown",
          "Unknown",
          "Unknown",
          "Unknown",
          "Unknown",
          "Unknown",
          "Unknown",
          "Unknown",
          "Unknown",
          "Unknown",
          "Unknown",
          "Unknown",
          "Off",
          "Off",
          "Off",
          "Off",
          "On",
          "Off",
          "Off",
          "Off",
          "Off",
          "Unknown",
          "Unknown",
          "Unknown",
          "Unknown",
          "Unknown",
          "Unknown",
          "Off",
          "On",
          "Off",
          "On",
          "On",
          "On",
          "On",
          "On",
          "On",
          "On",
          "On",
          "On",
          "On",
          "Off",
          "On",
          "On",
          "On",
          "On",
          "Unknown",
          "Unknown",
          "Unknown",
          "Unknown",
          "Unknown",
          "Unknown",
          "Unknown",
          "Unknown",
          "Unknown",
          "Unknown",
          "Unknown",
          "Unknown",
          "Unknown",
          "Unknown",
          "Unknown",
          "Unknown",
          "Unknown",
          "Unknown",
          "Unknown",
          "Unknown",
          "Unknown",
          "Unknown",
          "Unknown",
          "Unknown",
          "Unknown",
          "Unknown",
          "Unknown",
          "Unknown",
          "Unknown",
          "Unknown",
          "Unknown",
          "Unknown",
          "Unknown",
          "Unknown",
          "Unknown",
          "Unknown",
          "On",
          "Off",
          "On",
          "Off",
          "Off",
          "Off",
          "Off",
          "Off",
          "Off",
          "Unknown",
          "Unknown",
          "Unknown",
          "Unknown",
          "Unknown",
          "Unknown",
          "Off",
          "Off",
          "Off",
          "Off",
          "Off",
          "Off",
          "Off",
          "Off",
          "Off",
          "Off",
          "Unknown",
          "Unknown",
          "Unknown",
          "Unknown",
          "Unknown",
          "Unknown",
          "Unknown",
          "Unknown",
          "On",
          "On",
          "Off",
          "On",
          "Off",
          "Off",
          "Off",
          "On",
          "Unknown",
          "Unknown",
          "Unknown",
          "On",
          "On",
          "On",
          "On",
          "On",
          "On",
          "On",
          "Off",
          "Off",
          "On",
          "On",
          "On",
          "Unknown",
          "Unknown",
          "Unknown",
          "Unknown",
          "Unknown",
          "On",
          "On",
          "On",
          "Off",
          "On",
          "On",
          "Unknown",
          "Unknown",
          "Unknown",
          "Unknown",
          "Unknown",
          "Unknown",
          "Unknown",
          "Unknown",
          "Unknown",
          "Unknown",
          "Unknown",
          "Unknown",
          "Unknown",
          "Unknown",
          "Unknown",
          "Unknown",
          "Unknown",
          "Unknown",
          "Unknown",
          "Unknown",
          "Unknown",
          "Unknown",
          "Unknown",
          "Unknown",
          "Off",
          "On",
          "On",
          "On",
          "On",
          "Off",
          "On",
          "Unknown",
          "Unknown",
          "Unknown",
          "On",
          "Off",
          "On",
          "Off",
          "On",
          "Off",
          "On",
          "Off",
          "On",
          "Off",
          "Off",
          "On",
          "Unknown",
          "Unknown",
          "Unknown",
          "Off",
          "Unknown",
          "Off",
          "On",
          "On",
          "Unknown",
          "On",
          "On",
          "Off",
          "Unknown",
          "Unknown",
          "Unknown",
          "Unknown",
          "Unknown",
          "Unknown",
          "Unknown",
          "Unknown",
          "Unknown",
          "Unknown",
          "Unknown",
          "Unknown",
          "Unknown",
          "On",
          "Off",
          "On",
          "Off",
          "On",
          "Unknown",
          "Unknown",
          "Unknown",
          "Unknown",
          "Unknown",
          "Unknown",
          "Unknown",
          "Unknown",
          "Unknown",
          "Unknown",
          "Unknown",
          "Unknown",
          "Unknown",
          "Unknown",
          "Unknown",
          "Unknown",
          "Unknown",
          "Unknown",
          "Unknown",
          "Unknown",
          "Unknown",
          "Unknown",
          "Unknown",
          "Unknown",
          "Unknown",
          "Unknown",
          "Unknown",
          "Unknown",
          "Unknown",
          "Unknown",
          "Unknown",
          "Unknown",
          "Unknown",
          "On",
          "On",
          "Unknown",
          "On",
          "Off",
          "On",
          "On",
          "Off",
          "Unknown",
          "Unknown",
          "Unknown",
          "Unknown",
          "Unknown",
          "On",
          "On",
          "On",
          "On",
          "On",
          "Off",
          "On",
          "Off",
          "On",
          "Off",
          "Off",
          "On",
          "On",
          "On",
          "On",
          "On",
          "On",
          "On",
          "Unknown",
          "Unknown",
          "Unknown",
          "On",
          "On",
          "On",
          "On",
          "On",
          "On",
          "On",
          "On",
          "On",
          "On",
          "On",
          "On",
          "On",
          "On",
          "On",
          "On",
          "Unknown",
          "Unknown",
          "Unknown",
          "Unknown",
          "Unknown",
          "Unknown",
          "Unknown",
          "Unknown",
          "Unknown",
          "Unknown",
          "Unknown",
          "Unknown",
          "Unknown",
          "Unknown",
          "Unknown",
          "Unknown",
          "Unknown",
          "Unknown",
          "Unknown",
          "Unknown",
          "Unknown",
          "Unknown",
          "Unknown",
          "Unknown",
          "Unknown",
          "Unknown",
          "Unknown",
          "Unknown",
          "On",
          "Off",
          "On",
          "Off",
          "On",
          "Off",
          "Off",
          "On",
          "Unknown",
          "Unknown",
          "Unknown",
          "Unknown",
          "Unknown",
          "Unknown",
          "Unknown",
          "Unknown",
          "Unknown",
          "Unknown",
          "Unknown",
          "Unknown",
          "Unknown",
          "Unknown",
          "Unknown",
          "Unknown",
          "Unknown",
          "Unknown",
          "Unknown",
          "Unknown",
          "Unknown",
          "Off",
          "Off",
          "Off",
          "Unknown",
          "Unknown",
          "Unknown",
          "Unknown",
          "Unknown",
          "Unknown",
          "Unknown",
          "Unknown",
          "Unknown",
          "Unknown",
          "Unknown",
          "Unknown",
          "Off",
          "On",
          "Off",
          "On",
          "Off",
          "On",
          "Off",
          "Unknown",
          "Unknown",
          "Unknown",
          "Unknown",
          "Unknown",
          "Unknown",
          "Unknown",
          "Unknown",
          "Unknown",
          "Unknown",
          "Unknown",
          "Unknown",
          "Unknown",
          "On",
          "Off",
          "Unknown",
          "On",
          "Off",
          "On",
          "Off",
          "Off",
          "Off",
          "Off",
          "Unknown",
          "Unknown",
          "Unknown",
          "Unknown",
          "Unknown",
          "Unknown",
          "Unknown",
          "Unknown",
          "Unknown",
          "Unknown",
          "Unknown",
          "Unknown",
          "Unknown",
          "Unknown",
          "Unknown",
          "Unknown",
          "Unknown",
          "Unknown",
          "Unknown",
          "Unknown",
          "Unknown",
          "Unknown",
          "Unknown",
          "Unknown",
          "Off",
          "Unknown",
          "Off",
          "On",
          "Off",
          "Unknown",
          "Unknown",
          "Unknown",
          "Unknown",
          "Unknown",
          "Unknown",
          "Unknown",
          "Unknown",
          "Unknown",
          "Unknown",
          "Unknown",
          "Off",
          "Off",
          "Off",
          "On",
          "On",
          "On",
          "On",
          "On",
          "Off",
          "On",
          "On",
          "On",
          "On",
          "Unknown",
          "Unknown",
          "Unknown",
          "On",
          "On",
          "On",
          "On",
          "On",
          "Off",
          "On",
          "On",
          "On",
          "Off",
          "Off",
          "On",
          "Unknown",
          "Unknown",
          "Unknown",
          "Off",
          "Off",
          "On",
          "Off",
          "On",
          "Off",
          "On",
          "Off",
          "On",
          "On",
          "Unknown",
          "Unknown",
          "Unknown",
          "Unknown",
          "Unknown",
          "Unknown",
          "On",
          "On",
          "On",
          "On",
          "Off",
          "On",
          "Off",
          "Off",
          "Off",
          "Unknown",
          "Unknown",
          "Unknown",
          "Unknown",
          "Unknown",
          "Unknown",
          "On",
          "On",
          "On",
          "On",
          "On",
          "On",
          "On",
          "On",
          "On",
          "Unknown",
          "Unknown",
          "Unknown",
          "Unknown",
          "Unknown",
          "Unknown",
          "Off",
          "Off",
          "Off",
          "On",
          "Off",
          "On",
          "Off",
          "Off",
          "Unknown",
          "Unknown",
          "Unknown",
          "Off",
          "Off",
          "On",
          "On",
          "On",
          "Off",
          "On",
          "Off",
          "On",
          "Off",
          "Off",
          "Unknown",
          "Unknown",
          "Unknown",
          "Unknown",
          "Unknown",
          "Unknown",
          "Unknown",
          "Unknown",
          "Unknown",
          "Unknown",
          "Unknown",
          "Unknown",
          "Unknown",
          "Unknown",
          "Off",
          "On",
          "On",
          "On",
          "On",
          "On",
          "On",
          "On",
          "On",
          "On",
          "On",
          "On",
          "Unknown",
          "Unknown",
          "Unknown",
          "On",
          "On",
          "On",
          "On",
          "Unknown",
          "On",
          "On",
          "On",
          "On",
          "On",
          "On",
          "On",
          "Off",
          "Unknown",
          "Unknown",
          "Unknown",
          "Unknown",
          "Unknown",
          "Unknown",
          "Unknown",
          "Unknown",
          "Unknown",
          "Unknown",
          "Unknown",
          "Unknown",
          "Unknown",
          "Unknown",
          "Unknown",
          "Unknown",
          "Unknown",
          "Unknown",
          "Unknown",
          "Off",
          "On",
          "Off",
          "Off",
          "Off",
          "On",
          "Off",
          "Off",
          "Off",
          "Unknown",
          "Unknown",
          "Unknown",
          "Unknown",
          "Unknown",
          "Unknown",
          "Unknown",
          "On",
          "Off",
          "On",
          "Off",
          "On",
          "Unknown",
          "Unknown",
          "Unknown",
          "Unknown",
          "Unknown",
          "Unknown",
          "On",
          "Off",
          "Off",
          "On",
          "Off",
          "Unknown",
          "Unknown",
          "Unknown",
          "Unknown",
          "Unknown",
          "Unknown",
          "Unknown",
          "On",
          "Off",
          "Off",
          "Off",
          "Off",
          "Off",
          "On",
          "Off",
          "On",
          "On",
          "Off",
          "On",
          "Unknown",
          "Off",
          "On",
          "On",
          "On",
          "On",
          "On",
          "On",
          "Unknown",
          "Unknown",
          "Unknown",
          "Unknown",
          "Unknown",
          "Unknown",
          "Unknown",
          "Unknown",
          "Unknown",
          "On",
          "On",
          "On",
          "On",
          "On",
          "On",
          "On",
          "Unknown",
          "Unknown",
          "Unknown",
          "Unknown",
          "Unknown",
          "Unknown",
          "Unknown",
          "Unknown",
          "Off",
          "On",
          "On",
          "On",
          "Off",
          "On",
          "Off",
          "On",
          "Off",
          "On",
          "Unknown",
          "Unknown",
          "Unknown",
          "Unknown",
          "Unknown",
          "Unknown",
          "Unknown",
          "Unknown",
          "Unknown",
          "Unknown",
          "Unknown",
          "Unknown",
          "Off",
          "Off",
          "Off",
          "Off",
          "Off",
          "On",
          "On",
          "Unknown",
          "Unknown",
          "Unknown",
          "Unknown",
          "Unknown",
          "Unknown",
          "Unknown",
          "Unknown",
          "Unknown",
          "Unknown",
          "Unknown",
          "On",
          "Off",
          "Off",
          "Off",
          "Unknown",
          "Unknown",
          "Unknown",
          "Unknown",
          "Unknown",
          "Unknown",
          "Unknown",
          "Unknown",
          "Unknown",
          "Unknown",
          "Unknown",
          "Unknown",
          "Unknown",
          "Unknown",
          "Unknown",
          "Unknown",
          "Unknown",
          "Unknown",
          "Unknown",
          "Unknown",
          "Unknown",
          "Unknown",
          "Unknown",
          "Unknown",
          "Unknown",
          "Unknown",
          "Unknown",
          "Unknown",
          "Unknown",
          "Unknown",
          "Unknown",
          "Unknown",
          "Unknown",
          "Unknown",
          "Unknown",
          "Unknown",
          "Unknown",
          "Unknown",
          "Off",
          "On",
          "Off",
          "Off",
          "On",
          "On",
          "On",
          "On",
          "Off",
          "Off",
          "On",
          "On",
          "On",
          "On",
          "On",
          "On",
          "On",
          "On",
          "Unknown",
          "Unknown",
          "Unknown",
          "Unknown",
          "Unknown",
          "On",
          "Off",
          "On",
          "Off",
          "On",
          "Off",
          "On",
          "Off",
          "On",
          "Off",
          "On",
          "Unknown",
          "Unknown",
          "Unknown",
          "Unknown",
          "Unknown",
          "Unknown",
          "Unknown",
          "Unknown",
          "Unknown",
          "Unknown",
          "Unknown",
          "Unknown",
          "Unknown",
          "Unknown",
          "Unknown",
          "Off",
          "Off",
          "On",
          "Off",
          "Off",
          "Off",
          "On",
          "Off",
          "On",
          "Off",
          "Off",
          "Off",
          "Unknown",
          "Unknown",
          "Unknown",
          "On",
          "Off",
          "On",
          "Off",
          "On",
          "Off",
          "On",
          "On",
          "On",
          "On",
          "Unknown",
          "Unknown",
          "Unknown",
          "Unknown",
          "Unknown",
          "Unknown",
          "Off",
          "On",
          "On",
          "On",
          "On",
          "On",
          "On",
          "On",
          "On",
          "On",
          "On",
          "Off",
          "On",
          "Off",
          "On",
          "On",
          "On",
          "On",
          "On",
          "On",
          "Unknown",
          "Unknown",
          "Unknown",
          "Unknown",
          "Unknown",
          "Unknown",
          "Unknown",
          "Unknown",
          "Unknown",
          "Unknown",
          "Unknown",
          "Unknown",
          "Unknown",
          "On",
          "On",
          "On",
          "On",
          "On",
          "On",
          "On",
          "Unknown",
          "Unknown",
          "Unknown",
          "On",
          "On",
          "On",
          "On",
          "On",
          "On",
          "On",
          "Off",
          "On",
          "Off",
          "Off",
          "On",
          "Unknown",
          "Unknown",
          "Unknown",
          "On",
          "On",
          "On",
          "On",
          "On",
          "On",
          "On",
          "On",
          "On",
          "On",
          "On",
          "On",
          "On",
          "Unknown",
          "Unknown",
          "Unknown",
          "Unknown",
          "Unknown",
          "Unknown",
          "Off",
          "On",
          "Off",
          "On",
          "Off",
          "On",
          "Off",
          "Off",
          "Off",
          "On",
          "On",
          "On",
          "On",
          "On",
          "On",
          "On",
          "On",
          "Off",
          "Unknown",
          "Unknown",
          "On",
          "Off",
          "On",
          "Off",
          "On",
          "Unknown",
          "Unknown",
          "Unknown",
          "On",
          "Off",
          "On",
          "Off",
          "On",
          "Unknown",
          "Unknown",
          "Unknown",
          "Unknown",
          "Unknown",
          "Unknown",
          "Unknown",
          "Unknown",
          "On",
          "Off",
          "Off",
          "Off",
          "Off",
          "Off",
          "Off",
          "Off",
          "Off",
          "On",
          "On",
          "On",
          "On",
          "On",
          "On",
          "Off",
          "Off",
          "Off",
          "Unknown",
          "Unknown",
          "Off",
          "On",
          "Off",
          "On",
          "On",
          "On",
          "On",
          "On",
          "On",
          "On",
          "On",
          "On",
          "Unknown",
          "Unknown",
          "Unknown",
          "On",
          "Off",
          "On",
          "Off",
          "On",
          "Off",
          "On",
          "Off",
          "On",
          "Off",
          "Off",
          "On",
          "Unknown",
          "Unknown",
          "Unknown",
          "Unknown",
          "Unknown",
          "Unknown",
          "Unknown",
          "Unknown",
          "Unknown",
          "Unknown",
          "Unknown",
          "Unknown",
          "Unknown",
          "Unknown",
          "Unknown",
          "Unknown",
          "Unknown",
          "Unknown",
          "Unknown",
          "Unknown",
          "Unknown",
          "Unknown",
          "Unknown",
          "Unknown",
          "Unknown",
          "On",
          "Off",
          "Off",
          "On",
          "Off",
          "Unknown",
          "Unknown",
          "Unknown",
          "On",
          "On",
          "On",
          "On",
          "On",
          "On",
          "Unknown",
          "Unknown",
          "On",
          "Off",
          "On",
          "On",
          "Off",
          "On",
          "Off",
          "Off",
          "On",
          "Off",
          "On",
          "On",
          "Off",
          "Unknown",
          "Unknown",
          "Unknown",
          "Off",
          "On",
          "Off",
          "On",
          "Off",
          "Off",
          "Off",
          "On",
          "Off",
          "Off",
          "Off",
          "Off",
          "Off",
          "On",
          "On",
          "On",
          "On",
          "On",
          "Off",
          "On",
          "On",
          "On",
          "Unknown",
          "Unknown",
          "Unknown",
          "Unknown",
          "Unknown",
          "Unknown",
          "Unknown",
          "Unknown",
          "Unknown",
          "Unknown",
          "Unknown",
          "Unknown",
          "Unknown",
          "Unknown",
          "Unknown",
          "Unknown",
          "Unknown",
          "Unknown",
          "Unknown",
          "Unknown",
          "Unknown",
          "Unknown",
          "Unknown",
          "Unknown",
          "Unknown",
          "Unknown",
          "Unknown",
          "Unknown",
          "Unknown",
          "Unknown",
          "Unknown",
          "Unknown",
          "Unknown",
          "Unknown",
          "Unknown",
          "Unknown",
          "Unknown",
          "Unknown",
          "Unknown",
          "Unknown",
          "Unknown",
          "Unknown",
          "Unknown",
          "Unknown",
          "Unknown",
          "Unknown",
          "Unknown",
          "Unknown",
          "Unknown",
          "Unknown",
          "Unknown",
          "Unknown",
          "Unknown",
          "On",
          "Off",
          "On",
          "Off",
          "On",
          "Off",
          "Off",
          "Off",
          "Off",
          "On",
          "On",
          "On",
          "On",
          "Off",
          "On",
          "On",
          "On",
          "On",
          "On",
          "Unknown",
          "Unknown",
          "Unknown",
          "Unknown",
          "Unknown",
          "Unknown",
          "Unknown",
          "Unknown",
          "On",
          "On",
          "Off",
          "On",
          "Off",
          "On",
          "Off",
          "Unknown",
          "Off",
          "On",
          "Off",
          "Off",
          "Off",
          "Unknown",
          "Unknown",
          "Unknown",
          "On",
          "On",
          "On",
          "On",
          "On",
          "On",
          "Unknown",
          "Unknown",
          "Unknown",
          "Unknown",
          "On",
          "Unknown",
          "Unknown",
          "Off",
          "On",
          "On",
          "Off",
          "On",
          "Off",
          "Off",
          "Unknown",
          "Unknown",
          "Unknown",
          "Unknown",
          "Unknown",
          "Unknown",
          "Unknown",
          "Unknown",
          "Unknown",
          "Unknown",
          "Unknown",
          "Unknown",
          "Unknown",
          "Unknown",
          "Unknown",
          "Unknown",
          "Unknown",
          "Unknown",
          "Unknown",
          "Unknown",
          "Unknown",
          "Unknown",
          "Unknown",
          "Unknown",
          "On",
          "Off",
          "Off",
          "On",
          "Unknown",
          "Unknown",
          "Unknown",
          "Unknown",
          "Unknown",
          "Unknown",
          "Unknown",
          "Unknown",
          "Unknown",
          "Unknown",
          "Unknown",
          "Unknown",
          "Unknown",
          "Unknown",
          "Unknown",
          "Unknown",
          "Unknown",
          "Unknown",
          "Unknown",
          "Off",
          "On",
          "Off",
          "On",
          "Off",
          "On",
          "Off",
          "Off",
          "Off",
          "On",
          "Unknown",
          "Unknown",
          "Unknown",
          "Unknown",
          "On",
          "Off",
          "Off",
          "Off",
          "On",
          "Off",
          "On",
          "Off",
          "Off",
          "Unknown",
          "Unknown",
          "Unknown",
          "Unknown",
          "Unknown",
          "Unknown",
          "Unknown",
          "Unknown",
          "Unknown",
          "Unknown",
          "Unknown",
          "On",
          "On",
          "On",
          "On",
          "On",
          "On",
          "On",
          "On",
          "On",
          "On",
          "On",
          "On",
          "Unknown",
          "Unknown",
          "Unknown",
          "Off",
          "Off",
          "On",
          "Off",
          "On",
          "Off",
          "On",
          "On",
          "On",
          "On",
          "Unknown",
          "Unknown",
          "Unknown",
          "Unknown",
          "Unknown",
          "Unknown",
          "Unknown",
          "Unknown",
          "Unknown",
          "Unknown",
          "Unknown",
          "Unknown",
          "Unknown",
          "Unknown",
          "Unknown",
          "Unknown",
          "Unknown",
          "Unknown",
          "Unknown",
          "Unknown",
          "Unknown",
          "Unknown",
          "Unknown",
          "On",
          "Off",
          "On",
          "Off",
          "Off",
          "Unknown",
          "Unknown",
          "Unknown",
          "Unknown",
          "Unknown",
          "Unknown",
          "Unknown",
          "Unknown",
          "Unknown",
          "Unknown",
          "Unknown",
          "Unknown",
          "Unknown",
          "Off",
          "Off",
          "Off",
          "On",
          "On",
          "Off",
          "On",
          "Off",
          "On",
          "Off",
          "Off",
          "Off",
          "Off",
          "On",
          "Off",
          "On",
          "Off",
          "On",
          "Off",
          "On",
          "On",
          "Unknown",
          "Unknown",
          "Unknown",
          "On",
          "Off",
          "Off",
          "Off",
          "Unknown",
          "Unknown",
          "Unknown",
          "Unknown",
          "Unknown",
          "Unknown",
          "Unknown",
          "Unknown",
          "Unknown",
          "Unknown",
          "Unknown",
          "Unknown",
          "Unknown",
          "On",
          "Unknown",
          "On",
          "Unknown",
          "Unknown",
          "Unknown",
          "Off",
          "Off",
          "Off",
          "Off",
          "Off",
          "Off",
          "Off",
          "On",
          "Off",
          "Off",
          "Off",
          "Off",
          "Off",
          "Unknown",
          "On",
          "On",
          "On",
          "On",
          "On",
          "On",
          "Unknown",
          "Unknown",
          "Unknown",
          "On",
          "Off",
          "On",
          "Off",
          "On",
          "Off",
          "On",
          "Unknown",
          "Unknown",
          "Unknown",
          "Unknown",
          "Unknown",
          "Unknown",
          "Unknown",
          "Unknown",
          "Unknown",
          "Unknown",
          "Unknown",
          "Unknown",
          "Unknown",
          "Unknown",
          "Unknown",
          "Unknown",
          "On",
          "On",
          "On",
          "On",
          "On",
          "On",
          "On",
          "Off",
          "Unknown",
          "On",
          "Off",
          "Unknown",
          "Unknown",
          "Unknown",
          "Unknown",
          "Unknown",
          "On",
          "Unknown",
          "Off",
          "On",
          "Unknown",
          "Unknown",
          "Unknown",
          "Unknown",
          "Unknown",
          "Unknown",
          "Off",
          "Off",
          "Unknown",
          "Unknown",
          "Unknown",
          "Unknown",
          "Unknown",
          "Unknown",
          "Unknown",
          "Unknown",
          "Unknown",
          "Unknown",
          "Unknown",
          "Unknown",
          "On",
          "On",
          "Off",
          "On",
          "On",
          "Unknown",
          "Unknown",
          "Unknown",
          "Unknown",
          "Unknown",
          "Unknown",
          "Unknown",
          "Unknown",
          "Unknown",
          "Unknown",
          "Unknown",
          "On",
          "Off",
          "Off",
          "On",
          "Off",
          "Off",
          "On",
          "Off",
          "On",
          "Off",
          "Off",
          "Off",
          "Unknown",
          "Unknown",
          "Unknown",
          "On",
          "Off",
          "On",
          "Off",
          "On",
          "On",
          "On",
          "On",
          "On",
          "Unknown",
          "Unknown",
          "Unknown",
          "Unknown",
          "Off",
          "Off",
          "Off",
          "Off",
          "Off",
          "On",
          "Off",
          "Off",
          "Unknown",
          "Unknown",
          "Unknown",
          "On",
          "Off",
          "On",
          "On",
          "On",
          "On",
          "On",
          "On",
          "On",
          "On",
          "Unknown",
          "Unknown",
          "Unknown",
          "Unknown",
          "Unknown",
          "On",
          "Off",
          "Off",
          "Off",
          "Off",
          "Off",
          "Off",
          "Off",
          "Off",
          "Unknown",
          "Unknown",
          "Unknown",
          "Unknown",
          "Off",
          "Off",
          "Off",
          "On",
          "Off",
          "On",
          "Off",
          "On",
          "Off",
          "Off",
          "On",
          "Unknown",
          "Unknown",
          "Unknown",
          "Unknown",
          "Unknown",
          "Unknown",
          "Unknown",
          "Unknown",
          "Off",
          "On",
          "Off",
          "On",
          "Off",
          "Unknown",
          "Unknown",
          "Unknown",
          "Unknown",
          "Unknown",
          "Unknown",
          "Unknown",
          "Unknown",
          "Unknown",
          "Unknown",
          "Unknown",
          "Unknown",
          "Off",
          "On",
          "Off",
          "On",
          "On",
          "Off",
          "Off",
          "Off",
          "Unknown",
          "Unknown",
          "Unknown",
          "Unknown",
          "Unknown",
          "Unknown",
          "Unknown",
          "Unknown",
          "Unknown",
          "Unknown",
          "Unknown",
          "Off",
          "Off",
          "Off",
          "On",
          "Off",
          "On",
          "Off",
          "On",
          "Off",
          "Off",
          "Off",
          "Off",
          "On",
          "On",
          "On",
          "On",
          "On",
          "On",
          "On",
          "On",
          "On",
          "On",
          "Off",
          "On",
          "On",
          "On",
          "On",
          "On",
          "On",
          "On",
          "Unknown",
          "Unknown",
          "Unknown",
          "Unknown",
          "Unknown",
          "Unknown",
          "Unknown",
          "On",
          "On",
          "On",
          "Unknown",
          "On",
          "On",
          "Off",
          "Unknown",
          "Off",
          "Off",
          "Off",
          "On",
          "Off",
          "On",
          "Off",
          "On",
          "On",
          "On",
          "Unknown",
          "On",
          "On",
          "On",
          "On",
          "Unknown",
          "Unknown",
          "On",
          "On",
          "On",
          "On",
          "On",
          "On",
          "On",
          "On",
          "On",
          "On",
          "On",
          "On",
          "Unknown",
          "Unknown",
          "Unknown",
          "Unknown",
          "Unknown",
          "Unknown",
          "Unknown",
          "On",
          "On",
          "On",
          "On",
          "On",
          "On",
          "On",
          "On",
          "On",
          "On",
          "Unknown",
          "Unknown",
          "Unknown",
          "Unknown",
          "Unknown",
          "Unknown",
          "Unknown",
          "Unknown",
          "Unknown",
          "Unknown",
          "Unknown",
          "Unknown",
          "On",
          "Off",
          "On",
          "On",
          "On",
          "Off",
          "On",
          "Off",
          "On",
          "On",
          "On",
          "On",
          "Unknown",
          "Unknown",
          "Unknown",
          "Unknown",
          "Unknown",
          "Unknown",
          "Unknown",
          "Unknown",
          "Unknown",
          "Unknown",
          "Unknown",
          "Off",
          "On",
          "Off",
          "On",
          "Off",
          "Unknown",
          "Unknown",
          "Off",
          "Unknown",
          "Unknown",
          "Unknown",
          "Unknown",
          "Off",
          "On",
          "Off",
          "On",
          "On",
          "Off",
          "Off",
          "Off",
          "Off",
          "Off",
          "Off",
          "Unknown",
          "Unknown",
          "Unknown",
          "Unknown",
          "Unknown",
          "Unknown",
          "Unknown",
          "On",
          "Off",
          "On",
          "Off",
          "Off",
          "Unknown",
          "Unknown",
          "Unknown",
          "Unknown",
          "Unknown",
          "Unknown",
          "Unknown",
          "Unknown",
          "Unknown",
          "Unknown",
          "Unknown",
          "Unknown",
          "Unknown",
          "Unknown",
          "Unknown",
          "Unknown",
          "Unknown",
          "Unknown",
          "Unknown",
          "Unknown",
          "Unknown",
          "Unknown",
          "Unknown",
          "Unknown",
          "Unknown",
          "Unknown",
          "Unknown",
          "Unknown",
          "On",
          "Off",
          "Off",
          "Off",
          "On",
          "Off",
          "On",
          "Off",
          "Off",
          "Off",
          "Off",
          "Unknown",
          "Unknown",
          "Unknown",
          "Unknown",
          "Unknown",
          "Unknown",
          "Unknown",
          "Unknown",
          "Unknown",
          "On",
          "Unknown",
          "Unknown",
          "Unknown",
          "Unknown",
          "Unknown",
          "Unknown",
          "Unknown",
          "Unknown",
          "Unknown",
          "Unknown",
          "Unknown",
          "Unknown",
          "Unknown",
          "Unknown",
          "Unknown",
          "Unknown",
          "Off",
          "On",
          "Off",
          "Off",
          "Off",
          "On",
          "Off",
          "On",
          "Off",
          "Unknown",
          "Unknown",
          "Unknown",
          "Unknown",
          "Unknown",
          "Unknown",
          "On",
          "On",
          "On",
          "On",
          "On",
          "On",
          "On",
          "On",
          "On",
          "On",
          "On",
          "On",
          "Unknown",
          "Unknown",
          "Unknown",
          "On",
          "On",
          "On",
          "On",
          "On",
          "On",
          "On",
          "On",
          "On",
          "Unknown",
          "Unknown",
          "Unknown",
          "Unknown",
          "Unknown",
          "Unknown",
          "Unknown",
          "Unknown",
          "Unknown",
          "Off",
          "Off",
          "Unknown",
          "On",
          "Off",
          "Off",
          "Off",
          "On",
          "On",
          "Off",
          "Unknown",
          "Unknown",
          "Unknown",
          "On",
          "On",
          "On",
          "On",
          "On",
          "Off",
          "On",
          "Off",
          "On",
          "Off",
          "On",
          "On",
          "Unknown",
          "Unknown",
          "Unknown",
          "Unknown",
          "Unknown",
          "Unknown",
          "Unknown",
          "Unknown",
          "Unknown",
          "Unknown",
          "On",
          "On",
          "Off",
          "Off",
          "Off",
          "Off",
          "Unknown",
          "Unknown",
          "Unknown",
          "On",
          "Off",
          "Off",
          "Unknown",
          "Off",
          "Off",
          "Off",
          "Off",
          "Off",
          "Off",
          "Off",
          "Off"
         ],
         "xaxis": "x",
         "yaxis": "y"
        }
       ],
       "layout": {
        "barmode": "relative",
        "legend": {
         "title": {
          "text": "variable"
         },
         "tracegroupgap": 0
        },
        "margin": {
         "t": 60
        },
        "template": {
         "data": {
          "bar": [
           {
            "error_x": {
             "color": "#2a3f5f"
            },
            "error_y": {
             "color": "#2a3f5f"
            },
            "marker": {
             "line": {
              "color": "#E5ECF6",
              "width": 0.5
             },
             "pattern": {
              "fillmode": "overlay",
              "size": 10,
              "solidity": 0.2
             }
            },
            "type": "bar"
           }
          ],
          "barpolar": [
           {
            "marker": {
             "line": {
              "color": "#E5ECF6",
              "width": 0.5
             },
             "pattern": {
              "fillmode": "overlay",
              "size": 10,
              "solidity": 0.2
             }
            },
            "type": "barpolar"
           }
          ],
          "carpet": [
           {
            "aaxis": {
             "endlinecolor": "#2a3f5f",
             "gridcolor": "white",
             "linecolor": "white",
             "minorgridcolor": "white",
             "startlinecolor": "#2a3f5f"
            },
            "baxis": {
             "endlinecolor": "#2a3f5f",
             "gridcolor": "white",
             "linecolor": "white",
             "minorgridcolor": "white",
             "startlinecolor": "#2a3f5f"
            },
            "type": "carpet"
           }
          ],
          "choropleth": [
           {
            "colorbar": {
             "outlinewidth": 0,
             "ticks": ""
            },
            "type": "choropleth"
           }
          ],
          "contour": [
           {
            "colorbar": {
             "outlinewidth": 0,
             "ticks": ""
            },
            "colorscale": [
             [
              0,
              "#0d0887"
             ],
             [
              0.1111111111111111,
              "#46039f"
             ],
             [
              0.2222222222222222,
              "#7201a8"
             ],
             [
              0.3333333333333333,
              "#9c179e"
             ],
             [
              0.4444444444444444,
              "#bd3786"
             ],
             [
              0.5555555555555556,
              "#d8576b"
             ],
             [
              0.6666666666666666,
              "#ed7953"
             ],
             [
              0.7777777777777778,
              "#fb9f3a"
             ],
             [
              0.8888888888888888,
              "#fdca26"
             ],
             [
              1,
              "#f0f921"
             ]
            ],
            "type": "contour"
           }
          ],
          "contourcarpet": [
           {
            "colorbar": {
             "outlinewidth": 0,
             "ticks": ""
            },
            "type": "contourcarpet"
           }
          ],
          "heatmap": [
           {
            "colorbar": {
             "outlinewidth": 0,
             "ticks": ""
            },
            "colorscale": [
             [
              0,
              "#0d0887"
             ],
             [
              0.1111111111111111,
              "#46039f"
             ],
             [
              0.2222222222222222,
              "#7201a8"
             ],
             [
              0.3333333333333333,
              "#9c179e"
             ],
             [
              0.4444444444444444,
              "#bd3786"
             ],
             [
              0.5555555555555556,
              "#d8576b"
             ],
             [
              0.6666666666666666,
              "#ed7953"
             ],
             [
              0.7777777777777778,
              "#fb9f3a"
             ],
             [
              0.8888888888888888,
              "#fdca26"
             ],
             [
              1,
              "#f0f921"
             ]
            ],
            "type": "heatmap"
           }
          ],
          "heatmapgl": [
           {
            "colorbar": {
             "outlinewidth": 0,
             "ticks": ""
            },
            "colorscale": [
             [
              0,
              "#0d0887"
             ],
             [
              0.1111111111111111,
              "#46039f"
             ],
             [
              0.2222222222222222,
              "#7201a8"
             ],
             [
              0.3333333333333333,
              "#9c179e"
             ],
             [
              0.4444444444444444,
              "#bd3786"
             ],
             [
              0.5555555555555556,
              "#d8576b"
             ],
             [
              0.6666666666666666,
              "#ed7953"
             ],
             [
              0.7777777777777778,
              "#fb9f3a"
             ],
             [
              0.8888888888888888,
              "#fdca26"
             ],
             [
              1,
              "#f0f921"
             ]
            ],
            "type": "heatmapgl"
           }
          ],
          "histogram": [
           {
            "marker": {
             "pattern": {
              "fillmode": "overlay",
              "size": 10,
              "solidity": 0.2
             }
            },
            "type": "histogram"
           }
          ],
          "histogram2d": [
           {
            "colorbar": {
             "outlinewidth": 0,
             "ticks": ""
            },
            "colorscale": [
             [
              0,
              "#0d0887"
             ],
             [
              0.1111111111111111,
              "#46039f"
             ],
             [
              0.2222222222222222,
              "#7201a8"
             ],
             [
              0.3333333333333333,
              "#9c179e"
             ],
             [
              0.4444444444444444,
              "#bd3786"
             ],
             [
              0.5555555555555556,
              "#d8576b"
             ],
             [
              0.6666666666666666,
              "#ed7953"
             ],
             [
              0.7777777777777778,
              "#fb9f3a"
             ],
             [
              0.8888888888888888,
              "#fdca26"
             ],
             [
              1,
              "#f0f921"
             ]
            ],
            "type": "histogram2d"
           }
          ],
          "histogram2dcontour": [
           {
            "colorbar": {
             "outlinewidth": 0,
             "ticks": ""
            },
            "colorscale": [
             [
              0,
              "#0d0887"
             ],
             [
              0.1111111111111111,
              "#46039f"
             ],
             [
              0.2222222222222222,
              "#7201a8"
             ],
             [
              0.3333333333333333,
              "#9c179e"
             ],
             [
              0.4444444444444444,
              "#bd3786"
             ],
             [
              0.5555555555555556,
              "#d8576b"
             ],
             [
              0.6666666666666666,
              "#ed7953"
             ],
             [
              0.7777777777777778,
              "#fb9f3a"
             ],
             [
              0.8888888888888888,
              "#fdca26"
             ],
             [
              1,
              "#f0f921"
             ]
            ],
            "type": "histogram2dcontour"
           }
          ],
          "mesh3d": [
           {
            "colorbar": {
             "outlinewidth": 0,
             "ticks": ""
            },
            "type": "mesh3d"
           }
          ],
          "parcoords": [
           {
            "line": {
             "colorbar": {
              "outlinewidth": 0,
              "ticks": ""
             }
            },
            "type": "parcoords"
           }
          ],
          "pie": [
           {
            "automargin": true,
            "type": "pie"
           }
          ],
          "scatter": [
           {
            "fillpattern": {
             "fillmode": "overlay",
             "size": 10,
             "solidity": 0.2
            },
            "type": "scatter"
           }
          ],
          "scatter3d": [
           {
            "line": {
             "colorbar": {
              "outlinewidth": 0,
              "ticks": ""
             }
            },
            "marker": {
             "colorbar": {
              "outlinewidth": 0,
              "ticks": ""
             }
            },
            "type": "scatter3d"
           }
          ],
          "scattercarpet": [
           {
            "marker": {
             "colorbar": {
              "outlinewidth": 0,
              "ticks": ""
             }
            },
            "type": "scattercarpet"
           }
          ],
          "scattergeo": [
           {
            "marker": {
             "colorbar": {
              "outlinewidth": 0,
              "ticks": ""
             }
            },
            "type": "scattergeo"
           }
          ],
          "scattergl": [
           {
            "marker": {
             "colorbar": {
              "outlinewidth": 0,
              "ticks": ""
             }
            },
            "type": "scattergl"
           }
          ],
          "scattermapbox": [
           {
            "marker": {
             "colorbar": {
              "outlinewidth": 0,
              "ticks": ""
             }
            },
            "type": "scattermapbox"
           }
          ],
          "scatterpolar": [
           {
            "marker": {
             "colorbar": {
              "outlinewidth": 0,
              "ticks": ""
             }
            },
            "type": "scatterpolar"
           }
          ],
          "scatterpolargl": [
           {
            "marker": {
             "colorbar": {
              "outlinewidth": 0,
              "ticks": ""
             }
            },
            "type": "scatterpolargl"
           }
          ],
          "scatterternary": [
           {
            "marker": {
             "colorbar": {
              "outlinewidth": 0,
              "ticks": ""
             }
            },
            "type": "scatterternary"
           }
          ],
          "surface": [
           {
            "colorbar": {
             "outlinewidth": 0,
             "ticks": ""
            },
            "colorscale": [
             [
              0,
              "#0d0887"
             ],
             [
              0.1111111111111111,
              "#46039f"
             ],
             [
              0.2222222222222222,
              "#7201a8"
             ],
             [
              0.3333333333333333,
              "#9c179e"
             ],
             [
              0.4444444444444444,
              "#bd3786"
             ],
             [
              0.5555555555555556,
              "#d8576b"
             ],
             [
              0.6666666666666666,
              "#ed7953"
             ],
             [
              0.7777777777777778,
              "#fb9f3a"
             ],
             [
              0.8888888888888888,
              "#fdca26"
             ],
             [
              1,
              "#f0f921"
             ]
            ],
            "type": "surface"
           }
          ],
          "table": [
           {
            "cells": {
             "fill": {
              "color": "#EBF0F8"
             },
             "line": {
              "color": "white"
             }
            },
            "header": {
             "fill": {
              "color": "#C8D4E3"
             },
             "line": {
              "color": "white"
             }
            },
            "type": "table"
           }
          ]
         },
         "layout": {
          "annotationdefaults": {
           "arrowcolor": "#2a3f5f",
           "arrowhead": 0,
           "arrowwidth": 1
          },
          "autotypenumbers": "strict",
          "coloraxis": {
           "colorbar": {
            "outlinewidth": 0,
            "ticks": ""
           }
          },
          "colorscale": {
           "diverging": [
            [
             0,
             "#8e0152"
            ],
            [
             0.1,
             "#c51b7d"
            ],
            [
             0.2,
             "#de77ae"
            ],
            [
             0.3,
             "#f1b6da"
            ],
            [
             0.4,
             "#fde0ef"
            ],
            [
             0.5,
             "#f7f7f7"
            ],
            [
             0.6,
             "#e6f5d0"
            ],
            [
             0.7,
             "#b8e186"
            ],
            [
             0.8,
             "#7fbc41"
            ],
            [
             0.9,
             "#4d9221"
            ],
            [
             1,
             "#276419"
            ]
           ],
           "sequential": [
            [
             0,
             "#0d0887"
            ],
            [
             0.1111111111111111,
             "#46039f"
            ],
            [
             0.2222222222222222,
             "#7201a8"
            ],
            [
             0.3333333333333333,
             "#9c179e"
            ],
            [
             0.4444444444444444,
             "#bd3786"
            ],
            [
             0.5555555555555556,
             "#d8576b"
            ],
            [
             0.6666666666666666,
             "#ed7953"
            ],
            [
             0.7777777777777778,
             "#fb9f3a"
            ],
            [
             0.8888888888888888,
             "#fdca26"
            ],
            [
             1,
             "#f0f921"
            ]
           ],
           "sequentialminus": [
            [
             0,
             "#0d0887"
            ],
            [
             0.1111111111111111,
             "#46039f"
            ],
            [
             0.2222222222222222,
             "#7201a8"
            ],
            [
             0.3333333333333333,
             "#9c179e"
            ],
            [
             0.4444444444444444,
             "#bd3786"
            ],
            [
             0.5555555555555556,
             "#d8576b"
            ],
            [
             0.6666666666666666,
             "#ed7953"
            ],
            [
             0.7777777777777778,
             "#fb9f3a"
            ],
            [
             0.8888888888888888,
             "#fdca26"
            ],
            [
             1,
             "#f0f921"
            ]
           ]
          },
          "colorway": [
           "#636efa",
           "#EF553B",
           "#00cc96",
           "#ab63fa",
           "#FFA15A",
           "#19d3f3",
           "#FF6692",
           "#B6E880",
           "#FF97FF",
           "#FECB52"
          ],
          "font": {
           "color": "#2a3f5f"
          },
          "geo": {
           "bgcolor": "white",
           "lakecolor": "white",
           "landcolor": "#E5ECF6",
           "showlakes": true,
           "showland": true,
           "subunitcolor": "white"
          },
          "hoverlabel": {
           "align": "left"
          },
          "hovermode": "closest",
          "mapbox": {
           "style": "light"
          },
          "paper_bgcolor": "white",
          "plot_bgcolor": "#E5ECF6",
          "polar": {
           "angularaxis": {
            "gridcolor": "white",
            "linecolor": "white",
            "ticks": ""
           },
           "bgcolor": "#E5ECF6",
           "radialaxis": {
            "gridcolor": "white",
            "linecolor": "white",
            "ticks": ""
           }
          },
          "scene": {
           "xaxis": {
            "backgroundcolor": "#E5ECF6",
            "gridcolor": "white",
            "gridwidth": 2,
            "linecolor": "white",
            "showbackground": true,
            "ticks": "",
            "zerolinecolor": "white"
           },
           "yaxis": {
            "backgroundcolor": "#E5ECF6",
            "gridcolor": "white",
            "gridwidth": 2,
            "linecolor": "white",
            "showbackground": true,
            "ticks": "",
            "zerolinecolor": "white"
           },
           "zaxis": {
            "backgroundcolor": "#E5ECF6",
            "gridcolor": "white",
            "gridwidth": 2,
            "linecolor": "white",
            "showbackground": true,
            "ticks": "",
            "zerolinecolor": "white"
           }
          },
          "shapedefaults": {
           "line": {
            "color": "#2a3f5f"
           }
          },
          "ternary": {
           "aaxis": {
            "gridcolor": "white",
            "linecolor": "white",
            "ticks": ""
           },
           "baxis": {
            "gridcolor": "white",
            "linecolor": "white",
            "ticks": ""
           },
           "bgcolor": "#E5ECF6",
           "caxis": {
            "gridcolor": "white",
            "linecolor": "white",
            "ticks": ""
           }
          },
          "title": {
           "x": 0.05
          },
          "xaxis": {
           "automargin": true,
           "gridcolor": "white",
           "linecolor": "white",
           "ticks": "",
           "title": {
            "standoff": 15
           },
           "zerolinecolor": "white",
           "zerolinewidth": 2
          },
          "yaxis": {
           "automargin": true,
           "gridcolor": "white",
           "linecolor": "white",
           "ticks": "",
           "title": {
            "standoff": 15
           },
           "zerolinecolor": "white",
           "zerolinewidth": 2
          }
         }
        },
        "xaxis": {
         "anchor": "y",
         "domain": [
          0,
          1
         ],
         "title": {
          "text": "value"
         }
        },
        "yaxis": {
         "anchor": "x",
         "domain": [
          0,
          1
         ],
         "title": {
          "text": "count"
         }
        }
       }
      }
     },
     "metadata": {},
     "output_type": "display_data"
    }
   ],
   "source": [
    "clinical_df.upd23b_clinical_state_on_medication.fillna('Unknown', inplace=True)\n",
    "px.histogram(clinical_df.upd23b_clinical_state_on_medication)"
   ]
  },
  {
   "cell_type": "code",
   "execution_count": 59,
   "metadata": {},
   "outputs": [
    {
     "data": {
      "application/vnd.plotly.v1+json": {
       "config": {
        "plotlyServerURL": "https://plot.ly"
       },
       "data": [
        {
         "error_y": {
          "array": [
           4.274091382136927,
           2.8284271247461903,
           4.219004621945797,
           4.646476470374469,
           2.947153590452029,
           5.150487909977926,
           5.339206168254089,
           5.000256403682126,
           5.032560647092757,
           5.955757593564569,
           5.597246346791131,
           6.069700968027159,
           5.301676095685108,
           6.266058734443211,
           4.777397765705165,
           11.615363389350618
          ]
         },
         "hovertemplate": "updrs=updrs_1<br>upd23b_clinical_state_on_medication=Off<br>visit_month=%{x}<br>mean=%{y}<extra></extra>",
         "legendgroup": "updrs_1",
         "line": {
          "color": "#636efa",
          "dash": "solid"
         },
         "marker": {
          "symbol": "circle"
         },
         "mode": "lines",
         "name": "updrs_1",
         "orientation": "v",
         "showlegend": true,
         "type": "scatter",
         "x": [
          0,
          6,
          9,
          12,
          18,
          24,
          30,
          36,
          42,
          48,
          54,
          60,
          72,
          84,
          96,
          108
         ],
         "xaxis": "x",
         "y": [
          7.625,
          2,
          6.6,
          8,
          7.6,
          8.586206896551724,
          6.7407407407407405,
          8.833333333333334,
          7.92,
          8.722222222222221,
          8.5625,
          9.125,
          9.228070175438596,
          10.222222222222221,
          11,
          14.75
         ],
         "yaxis": "y"
        },
        {
         "error_y": {
          "array": [
           4.954922855524764,
           6.062824401321083,
           5.758584055354289,
           5.512104715327201,
           5.625160162187221,
           5.538003886229417,
           5.391565724633793,
           6.349980365275644,
           5.8702333427584135,
           6.9242060205049105,
           6.874099704924765,
           7.679789493642822,
           5.631543812693436,
           5.344155686354955,
           4.575130400526108,
           4.949747468305833
          ]
         },
         "hovertemplate": "updrs=updrs_1<br>upd23b_clinical_state_on_medication=On<br>visit_month=%{x}<br>mean=%{y}<extra></extra>",
         "legendgroup": "updrs_1",
         "line": {
          "color": "#636efa",
          "dash": "solid"
         },
         "marker": {
          "symbol": "circle"
         },
         "mode": "lines",
         "name": "updrs_1",
         "orientation": "v",
         "showlegend": false,
         "type": "scatter",
         "x": [
          0,
          6,
          9,
          12,
          18,
          24,
          30,
          36,
          42,
          48,
          54,
          60,
          72,
          84,
          96,
          108
         ],
         "xaxis": "x2",
         "y": [
          10.085714285714285,
          10.785714285714286,
          6.806451612903226,
          9.351851851851851,
          8.821428571428571,
          9.774193548387096,
          10.126315789473685,
          9.826086956521738,
          9.761363636363637,
          12.232558139534884,
          9.493506493506494,
          10.333333333333334,
          9,
          9,
          10.75,
          8.5
         ],
         "yaxis": "y2"
        },
        {
         "error_y": {
          "array": [
           4.09037081802877,
           4.6365542585879345,
           5.234174266655927,
           4.350844919150379,
           4.114429797603191,
           4.65884177533057,
           3.6663273927341846,
           3.4604771290653424,
           3.9479210460798964,
           4.562879769933874,
           3.4734886579331343,
           3.571743683577598,
           3.186916454449117,
           2.8784916685156974,
           3.302333327422507,
           4.336384762014645,
           7.082843120291926
          ]
         },
         "hovertemplate": "updrs=updrs_1<br>upd23b_clinical_state_on_medication=Unknown<br>visit_month=%{x}<br>mean=%{y}<extra></extra>",
         "legendgroup": "updrs_1",
         "line": {
          "color": "#636efa",
          "dash": "solid"
         },
         "marker": {
          "symbol": "circle"
         },
         "mode": "lines",
         "name": "updrs_1",
         "orientation": "v",
         "showlegend": false,
         "type": "scatter",
         "x": [
          0,
          3,
          6,
          9,
          12,
          18,
          24,
          30,
          36,
          42,
          48,
          54,
          60,
          72,
          84,
          96,
          108
         ],
         "xaxis": "x3",
         "y": [
          4.721951219512195,
          5.51304347826087,
          6.135135135135135,
          5.682539682539683,
          4.610738255033557,
          5.795454545454546,
          4.203252032520325,
          5.490196078431373,
          4.351648351648351,
          5.475,
          4.098765432098766,
          4.588235294117647,
          4.072463768115942,
          3.857142857142857,
          4.5,
          4.285714285714286,
          6.166666666666667
         ],
         "yaxis": "y3"
        },
        {
         "error_y": {
          "array": [
           2.390457218668787,
           4.242640687119285,
           7.569676347110224,
           5.644091532812808,
           3.7922226175361042,
           5.369020048904774,
           4.719783181074452,
           5.890789302071379,
           5.7815799455396855,
           6.135914949636328,
           7.116881339463234,
           5.488782753134898,
           5.473792653639485,
           6.161065667458038,
           6.304112155201514,
           10.279429296739517
          ]
         },
         "hovertemplate": "updrs=updrs_2<br>upd23b_clinical_state_on_medication=Off<br>visit_month=%{x}<br>mean=%{y}<extra></extra>",
         "legendgroup": "updrs_2",
         "line": {
          "color": "#EF553B",
          "dash": "solid"
         },
         "marker": {
          "symbol": "circle"
         },
         "mode": "lines",
         "name": "updrs_2",
         "orientation": "v",
         "showlegend": true,
         "type": "scatter",
         "x": [
          0,
          6,
          9,
          12,
          18,
          24,
          30,
          36,
          42,
          48,
          54,
          60,
          72,
          84,
          96,
          108
         ],
         "xaxis": "x",
         "y": [
          6.5,
          7,
          12.6,
          10.125,
          6.666666666666667,
          9.655172413793103,
          7.2592592592592595,
          9.772727272727273,
          9.48,
          9.61111111111111,
          11.625,
          9.515625,
          10.578947368421053,
          12.61111111111111,
          15.277777777777779,
          14.5
         ],
         "yaxis": "y"
        },
        {
         "error_y": {
          "array": [
           6.212619307141086,
           5.301863455197707,
           5.345081147477396,
           5.266649417480974,
           5.769663178699403,
           5.275789068078006,
           5.877281787476801,
           5.9394142043823726,
           6.469928832789306,
           7.252219273117855,
           7.11486655126986,
           8.681659525759583,
           6.081872860326619,
           8.073127313215407,
           6.077155435054972,
           4.242640687119285
          ]
         },
         "hovertemplate": "updrs=updrs_2<br>upd23b_clinical_state_on_medication=On<br>visit_month=%{x}<br>mean=%{y}<extra></extra>",
         "legendgroup": "updrs_2",
         "line": {
          "color": "#EF553B",
          "dash": "solid"
         },
         "marker": {
          "symbol": "circle"
         },
         "mode": "lines",
         "name": "updrs_2",
         "orientation": "v",
         "showlegend": false,
         "type": "scatter",
         "x": [
          0,
          6,
          9,
          12,
          18,
          24,
          30,
          36,
          42,
          48,
          54,
          60,
          72,
          84,
          96,
          108
         ],
         "xaxis": "x2",
         "y": [
          9.142857142857142,
          8.5,
          7.645161290322581,
          8.12962962962963,
          9.011904761904763,
          8.258064516129032,
          10.010526315789473,
          8.753623188405797,
          10.045454545454545,
          12.023255813953488,
          10.519480519480519,
          11.393939393939394,
          8.681818181818182,
          11.153846153846153,
          11.75,
          13
         ],
         "yaxis": "y2"
        },
        {
         "error_y": {
          "array": [
           4.304924720965548,
           5.2471051915244615,
           6.123942025463447,
           5.21874747662203,
           4.006728424114982,
           5.41292572369898,
           3.9073127802538288,
           4.575210270534879,
           3.52638753335606,
           5.7333929633154295,
           4.6158275745017665,
           5.825905635228589,
           2.7276957227061134,
           3.084879822048748,
           4.339520330619243,
           3.2159901418680676,
           5.715476066494083
          ]
         },
         "hovertemplate": "updrs=updrs_2<br>upd23b_clinical_state_on_medication=Unknown<br>visit_month=%{x}<br>mean=%{y}<extra></extra>",
         "legendgroup": "updrs_2",
         "line": {
          "color": "#EF553B",
          "dash": "solid"
         },
         "marker": {
          "symbol": "circle"
         },
         "mode": "lines",
         "name": "updrs_2",
         "orientation": "v",
         "showlegend": false,
         "type": "scatter",
         "x": [
          0,
          3,
          6,
          9,
          12,
          18,
          24,
          30,
          36,
          42,
          48,
          54,
          60,
          72,
          84,
          96,
          108
         ],
         "xaxis": "x3",
         "y": [
          3.55609756097561,
          6.6347826086956525,
          6.527027027027027,
          6.548387096774194,
          3.0134228187919465,
          4.8522727272727275,
          2.4634146341463414,
          3.450980392156863,
          1.7472527472527473,
          4,
          2.2839506172839505,
          5.235294117647059,
          1.3623188405797102,
          1.8571428571428572,
          2.0789473684210527,
          1.25,
          2.3333333333333335
         ],
         "yaxis": "y3"
        },
        {
         "error_y": {
          "array": [
           10.960155108391486,
           1.4142135623730951,
           17.326280616450838,
           13.216903512606063,
           9.259743902660437,
           11.829257667457302,
           10.694408369347522,
           12.6083185623499,
           11.41957383910042,
           11.457207584477242,
           14.956464600076227,
           10.324677153951756,
           11.482906550919191,
           12.418879636608585,
           10.971889214769554,
           1.2909944487358056
          ]
         },
         "hovertemplate": "updrs=updrs_3<br>upd23b_clinical_state_on_medication=Off<br>visit_month=%{x}<br>mean=%{y}<extra></extra>",
         "legendgroup": "updrs_3",
         "line": {
          "color": "#00cc96",
          "dash": "solid"
         },
         "marker": {
          "symbol": "circle"
         },
         "mode": "lines",
         "name": "updrs_3",
         "orientation": "v",
         "showlegend": true,
         "type": "scatter",
         "x": [
          0,
          6,
          9,
          12,
          18,
          24,
          30,
          36,
          42,
          48,
          54,
          60,
          72,
          84,
          96,
          108
         ],
         "xaxis": "x",
         "y": [
          29.125,
          30,
          29.8,
          28.325,
          22.2,
          29.224137931034484,
          24.703703703703702,
          29.87878787878788,
          26.64,
          31.333333333333332,
          28.3125,
          32.140625,
          34,
          35.666666666666664,
          42.166666666666664,
          45.5
         ],
         "yaxis": "y"
        },
        {
         "error_y": {
          "array": [
           11.069831817628858,
           11.901648838034133,
           9.303716450158303,
           11.353822652498282,
           12.147042071871317,
           12.551364588789511,
           12.453380028415532,
           12.703236979616237,
           12.365594015675168,
           14.958821291824869,
           13.35912292830386,
           19.721642472628435,
           11.591285292703398,
           15.375905770421124,
           14.601992392073825,
           7.7781745930520225
          ]
         },
         "hovertemplate": "updrs=updrs_3<br>upd23b_clinical_state_on_medication=On<br>visit_month=%{x}<br>mean=%{y}<extra></extra>",
         "legendgroup": "updrs_3",
         "line": {
          "color": "#00cc96",
          "dash": "solid"
         },
         "marker": {
          "symbol": "circle"
         },
         "mode": "lines",
         "name": "updrs_3",
         "orientation": "v",
         "showlegend": false,
         "type": "scatter",
         "x": [
          0,
          6,
          9,
          12,
          18,
          24,
          30,
          36,
          42,
          48,
          54,
          60,
          72,
          84,
          96,
          108
         ],
         "xaxis": "x2",
         "y": [
          23.6,
          23.761904761904763,
          19.322580645161292,
          21.22641509433962,
          22.44047619047619,
          20.93548387096774,
          25.905263157894737,
          23.55223880597015,
          25.988636363636363,
          24.25581395348837,
          27.857142857142858,
          27.545454545454547,
          19.6,
          28.625,
          34.27272727272727,
          40.5
         ],
         "yaxis": "y2"
        },
        {
         "error_y": {
          "array": [
           10.856258346655869,
           9.78732470532371,
           13.411812417744562,
           11.267473771070943,
           12.980708953188055,
           13.512885880348486,
           12.483842284661092,
           13.571278784371694,
           11.600029472405826,
           15.131819164248304,
           10.06063038364315,
           11.999305535460513,
           8.3148815326474,
           7.552381183339566,
           9.53013795344877,
           4.256049825126594,
           13.441230102437302
          ]
         },
         "hovertemplate": "updrs=updrs_3<br>upd23b_clinical_state_on_medication=Unknown<br>visit_month=%{x}<br>mean=%{y}<extra></extra>",
         "legendgroup": "updrs_3",
         "line": {
          "color": "#00cc96",
          "dash": "solid"
         },
         "marker": {
          "symbol": "circle"
         },
         "mode": "lines",
         "name": "updrs_3",
         "orientation": "v",
         "showlegend": false,
         "type": "scatter",
         "x": [
          0,
          3,
          6,
          9,
          12,
          18,
          24,
          30,
          36,
          42,
          48,
          54,
          60,
          72,
          84,
          96,
          108
         ],
         "xaxis": "x3",
         "y": [
          11.473170731707317,
          20.482456140350877,
          19.142857142857142,
          20.3015873015873,
          11.067567567567568,
          15.116279069767442,
          7.966386554621849,
          12.313725490196079,
          6.076923076923077,
          13.317073170731707,
          5.653846153846154,
          16.875,
          4.666666666666667,
          5.5,
          5,
          2.037037037037037,
          6.666666666666667
         ],
         "yaxis": "y3"
        },
        {
         "error_y": {
          "array": [
           3.399054490379851,
           null,
           1.788854381999832,
           1.7611663663970027,
           1.6761634196950517,
           2.425713341067444,
           3.4534263921725397,
           2.210222066915808,
           2.541653005427767,
           2.690583765944659,
           3.7749172176353745,
           2.59750954022732,
           2.3183370584951577,
           2.8644444516880974,
           2.681941546252703,
           3.2015621187164243
          ]
         },
         "hovertemplate": "updrs=updrs_4<br>upd23b_clinical_state_on_medication=Off<br>visit_month=%{x}<br>mean=%{y}<extra></extra>",
         "legendgroup": "updrs_4",
         "line": {
          "color": "#ab63fa",
          "dash": "solid"
         },
         "marker": {
          "symbol": "circle"
         },
         "mode": "lines",
         "name": "updrs_4",
         "orientation": "v",
         "showlegend": true,
         "type": "scatter",
         "x": [
          0,
          6,
          9,
          12,
          18,
          24,
          30,
          36,
          42,
          48,
          54,
          60,
          72,
          84,
          96,
          108
         ],
         "xaxis": "x",
         "y": [
          2.875,
          6,
          0.8,
          0.9210526315789473,
          0.6666666666666666,
          1.3859649122807018,
          1.6153846153846154,
          1.2878787878787878,
          1.72,
          1.7361111111111112,
          2.625,
          2.3492063492063493,
          2.3508771929824563,
          3.9714285714285715,
          4.388888888888889,
          2.75
         ],
         "yaxis": "y"
        },
        {
         "error_y": {
          "array": [
           3.617650474822463,
           4.533883276064307,
           1.5752718754175363,
           3.5115401704451874,
           3.016557306621515,
           3.8773207011039257,
           3.370254232185995,
           4.2146652611332325,
           3.3189081811872283,
           3.7299210803943033,
           2.9039064362625955,
           4.236162857773029,
           3.514964915184553,
           2.1354156504062622,
           3.687817782917155,
           2.1213203435596424
          ]
         },
         "hovertemplate": "updrs=updrs_4<br>upd23b_clinical_state_on_medication=On<br>visit_month=%{x}<br>mean=%{y}<extra></extra>",
         "legendgroup": "updrs_4",
         "line": {
          "color": "#ab63fa",
          "dash": "solid"
         },
         "marker": {
          "symbol": "circle"
         },
         "mode": "lines",
         "name": "updrs_4",
         "orientation": "v",
         "showlegend": false,
         "type": "scatter",
         "x": [
          0,
          6,
          9,
          12,
          18,
          24,
          30,
          36,
          42,
          48,
          54,
          60,
          72,
          84,
          96,
          108
         ],
         "xaxis": "x2",
         "y": [
          3.0285714285714285,
          3.5121951219512195,
          0.5925925925925926,
          2.5283018867924527,
          1.7349397590361446,
          2.816666666666667,
          2.265957446808511,
          2.9242424242424243,
          2.2954545454545454,
          3.119047619047619,
          2.038961038961039,
          2.8484848484848486,
          2.5454545454545454,
          2,
          4,
          3.5
         ],
         "yaxis": "y2"
        },
        {
         "error_y": {
          "array": [
           0,
           0.37796447300922725,
           0,
           0.30151134457776363,
           0.7715167498104596,
           1.2211584951084107,
           0.9133901959574142,
           0.19611613513818402,
           0.907187139319736,
           1.1025333147551266,
           1.7922391615298479,
           0.8944271909999159,
           0.5345224838248488,
           0,
           0,
           null,
           null
          ]
         },
         "hovertemplate": "updrs=updrs_4<br>upd23b_clinical_state_on_medication=Unknown<br>visit_month=%{x}<br>mean=%{y}<extra></extra>",
         "legendgroup": "updrs_4",
         "line": {
          "color": "#ab63fa",
          "dash": "solid"
         },
         "marker": {
          "symbol": "circle"
         },
         "mode": "lines",
         "name": "updrs_4",
         "orientation": "v",
         "showlegend": false,
         "type": "scatter",
         "x": [
          0,
          3,
          6,
          9,
          12,
          18,
          24,
          30,
          36,
          42,
          48,
          54,
          60,
          72,
          84,
          96,
          108
         ],
         "xaxis": "x3",
         "y": [
          0,
          0.14285714285714285,
          0,
          0.09090909090909091,
          0.11904761904761904,
          0.3333333333333333,
          0.23684210526315788,
          0.038461538461538464,
          0.26666666666666666,
          0.4583333333333333,
          0.5454545454545454,
          0.4,
          0.14285714285714285,
          0,
          0,
          4,
          0
         ],
         "yaxis": "y3"
        }
       ],
       "layout": {
        "annotations": [
         {
          "font": {},
          "showarrow": false,
          "text": "upd23b_clinical_state_on_medication=Off",
          "x": 0.15999999999999998,
          "xanchor": "center",
          "xref": "paper",
          "y": 1,
          "yanchor": "bottom",
          "yref": "paper"
         },
         {
          "font": {},
          "showarrow": false,
          "text": "upd23b_clinical_state_on_medication=On",
          "x": 0.49999999999999994,
          "xanchor": "center",
          "xref": "paper",
          "y": 1,
          "yanchor": "bottom",
          "yref": "paper"
         },
         {
          "font": {},
          "showarrow": false,
          "text": "upd23b_clinical_state_on_medication=Unknown",
          "x": 0.8399999999999999,
          "xanchor": "center",
          "xref": "paper",
          "y": 1,
          "yanchor": "bottom",
          "yref": "paper"
         }
        ],
        "legend": {
         "title": {
          "text": "updrs"
         },
         "tracegroupgap": 0
        },
        "margin": {
         "t": 60
        },
        "template": {
         "data": {
          "bar": [
           {
            "error_x": {
             "color": "#2a3f5f"
            },
            "error_y": {
             "color": "#2a3f5f"
            },
            "marker": {
             "line": {
              "color": "#E5ECF6",
              "width": 0.5
             },
             "pattern": {
              "fillmode": "overlay",
              "size": 10,
              "solidity": 0.2
             }
            },
            "type": "bar"
           }
          ],
          "barpolar": [
           {
            "marker": {
             "line": {
              "color": "#E5ECF6",
              "width": 0.5
             },
             "pattern": {
              "fillmode": "overlay",
              "size": 10,
              "solidity": 0.2
             }
            },
            "type": "barpolar"
           }
          ],
          "carpet": [
           {
            "aaxis": {
             "endlinecolor": "#2a3f5f",
             "gridcolor": "white",
             "linecolor": "white",
             "minorgridcolor": "white",
             "startlinecolor": "#2a3f5f"
            },
            "baxis": {
             "endlinecolor": "#2a3f5f",
             "gridcolor": "white",
             "linecolor": "white",
             "minorgridcolor": "white",
             "startlinecolor": "#2a3f5f"
            },
            "type": "carpet"
           }
          ],
          "choropleth": [
           {
            "colorbar": {
             "outlinewidth": 0,
             "ticks": ""
            },
            "type": "choropleth"
           }
          ],
          "contour": [
           {
            "colorbar": {
             "outlinewidth": 0,
             "ticks": ""
            },
            "colorscale": [
             [
              0,
              "#0d0887"
             ],
             [
              0.1111111111111111,
              "#46039f"
             ],
             [
              0.2222222222222222,
              "#7201a8"
             ],
             [
              0.3333333333333333,
              "#9c179e"
             ],
             [
              0.4444444444444444,
              "#bd3786"
             ],
             [
              0.5555555555555556,
              "#d8576b"
             ],
             [
              0.6666666666666666,
              "#ed7953"
             ],
             [
              0.7777777777777778,
              "#fb9f3a"
             ],
             [
              0.8888888888888888,
              "#fdca26"
             ],
             [
              1,
              "#f0f921"
             ]
            ],
            "type": "contour"
           }
          ],
          "contourcarpet": [
           {
            "colorbar": {
             "outlinewidth": 0,
             "ticks": ""
            },
            "type": "contourcarpet"
           }
          ],
          "heatmap": [
           {
            "colorbar": {
             "outlinewidth": 0,
             "ticks": ""
            },
            "colorscale": [
             [
              0,
              "#0d0887"
             ],
             [
              0.1111111111111111,
              "#46039f"
             ],
             [
              0.2222222222222222,
              "#7201a8"
             ],
             [
              0.3333333333333333,
              "#9c179e"
             ],
             [
              0.4444444444444444,
              "#bd3786"
             ],
             [
              0.5555555555555556,
              "#d8576b"
             ],
             [
              0.6666666666666666,
              "#ed7953"
             ],
             [
              0.7777777777777778,
              "#fb9f3a"
             ],
             [
              0.8888888888888888,
              "#fdca26"
             ],
             [
              1,
              "#f0f921"
             ]
            ],
            "type": "heatmap"
           }
          ],
          "heatmapgl": [
           {
            "colorbar": {
             "outlinewidth": 0,
             "ticks": ""
            },
            "colorscale": [
             [
              0,
              "#0d0887"
             ],
             [
              0.1111111111111111,
              "#46039f"
             ],
             [
              0.2222222222222222,
              "#7201a8"
             ],
             [
              0.3333333333333333,
              "#9c179e"
             ],
             [
              0.4444444444444444,
              "#bd3786"
             ],
             [
              0.5555555555555556,
              "#d8576b"
             ],
             [
              0.6666666666666666,
              "#ed7953"
             ],
             [
              0.7777777777777778,
              "#fb9f3a"
             ],
             [
              0.8888888888888888,
              "#fdca26"
             ],
             [
              1,
              "#f0f921"
             ]
            ],
            "type": "heatmapgl"
           }
          ],
          "histogram": [
           {
            "marker": {
             "pattern": {
              "fillmode": "overlay",
              "size": 10,
              "solidity": 0.2
             }
            },
            "type": "histogram"
           }
          ],
          "histogram2d": [
           {
            "colorbar": {
             "outlinewidth": 0,
             "ticks": ""
            },
            "colorscale": [
             [
              0,
              "#0d0887"
             ],
             [
              0.1111111111111111,
              "#46039f"
             ],
             [
              0.2222222222222222,
              "#7201a8"
             ],
             [
              0.3333333333333333,
              "#9c179e"
             ],
             [
              0.4444444444444444,
              "#bd3786"
             ],
             [
              0.5555555555555556,
              "#d8576b"
             ],
             [
              0.6666666666666666,
              "#ed7953"
             ],
             [
              0.7777777777777778,
              "#fb9f3a"
             ],
             [
              0.8888888888888888,
              "#fdca26"
             ],
             [
              1,
              "#f0f921"
             ]
            ],
            "type": "histogram2d"
           }
          ],
          "histogram2dcontour": [
           {
            "colorbar": {
             "outlinewidth": 0,
             "ticks": ""
            },
            "colorscale": [
             [
              0,
              "#0d0887"
             ],
             [
              0.1111111111111111,
              "#46039f"
             ],
             [
              0.2222222222222222,
              "#7201a8"
             ],
             [
              0.3333333333333333,
              "#9c179e"
             ],
             [
              0.4444444444444444,
              "#bd3786"
             ],
             [
              0.5555555555555556,
              "#d8576b"
             ],
             [
              0.6666666666666666,
              "#ed7953"
             ],
             [
              0.7777777777777778,
              "#fb9f3a"
             ],
             [
              0.8888888888888888,
              "#fdca26"
             ],
             [
              1,
              "#f0f921"
             ]
            ],
            "type": "histogram2dcontour"
           }
          ],
          "mesh3d": [
           {
            "colorbar": {
             "outlinewidth": 0,
             "ticks": ""
            },
            "type": "mesh3d"
           }
          ],
          "parcoords": [
           {
            "line": {
             "colorbar": {
              "outlinewidth": 0,
              "ticks": ""
             }
            },
            "type": "parcoords"
           }
          ],
          "pie": [
           {
            "automargin": true,
            "type": "pie"
           }
          ],
          "scatter": [
           {
            "fillpattern": {
             "fillmode": "overlay",
             "size": 10,
             "solidity": 0.2
            },
            "type": "scatter"
           }
          ],
          "scatter3d": [
           {
            "line": {
             "colorbar": {
              "outlinewidth": 0,
              "ticks": ""
             }
            },
            "marker": {
             "colorbar": {
              "outlinewidth": 0,
              "ticks": ""
             }
            },
            "type": "scatter3d"
           }
          ],
          "scattercarpet": [
           {
            "marker": {
             "colorbar": {
              "outlinewidth": 0,
              "ticks": ""
             }
            },
            "type": "scattercarpet"
           }
          ],
          "scattergeo": [
           {
            "marker": {
             "colorbar": {
              "outlinewidth": 0,
              "ticks": ""
             }
            },
            "type": "scattergeo"
           }
          ],
          "scattergl": [
           {
            "marker": {
             "colorbar": {
              "outlinewidth": 0,
              "ticks": ""
             }
            },
            "type": "scattergl"
           }
          ],
          "scattermapbox": [
           {
            "marker": {
             "colorbar": {
              "outlinewidth": 0,
              "ticks": ""
             }
            },
            "type": "scattermapbox"
           }
          ],
          "scatterpolar": [
           {
            "marker": {
             "colorbar": {
              "outlinewidth": 0,
              "ticks": ""
             }
            },
            "type": "scatterpolar"
           }
          ],
          "scatterpolargl": [
           {
            "marker": {
             "colorbar": {
              "outlinewidth": 0,
              "ticks": ""
             }
            },
            "type": "scatterpolargl"
           }
          ],
          "scatterternary": [
           {
            "marker": {
             "colorbar": {
              "outlinewidth": 0,
              "ticks": ""
             }
            },
            "type": "scatterternary"
           }
          ],
          "surface": [
           {
            "colorbar": {
             "outlinewidth": 0,
             "ticks": ""
            },
            "colorscale": [
             [
              0,
              "#0d0887"
             ],
             [
              0.1111111111111111,
              "#46039f"
             ],
             [
              0.2222222222222222,
              "#7201a8"
             ],
             [
              0.3333333333333333,
              "#9c179e"
             ],
             [
              0.4444444444444444,
              "#bd3786"
             ],
             [
              0.5555555555555556,
              "#d8576b"
             ],
             [
              0.6666666666666666,
              "#ed7953"
             ],
             [
              0.7777777777777778,
              "#fb9f3a"
             ],
             [
              0.8888888888888888,
              "#fdca26"
             ],
             [
              1,
              "#f0f921"
             ]
            ],
            "type": "surface"
           }
          ],
          "table": [
           {
            "cells": {
             "fill": {
              "color": "#EBF0F8"
             },
             "line": {
              "color": "white"
             }
            },
            "header": {
             "fill": {
              "color": "#C8D4E3"
             },
             "line": {
              "color": "white"
             }
            },
            "type": "table"
           }
          ]
         },
         "layout": {
          "annotationdefaults": {
           "arrowcolor": "#2a3f5f",
           "arrowhead": 0,
           "arrowwidth": 1
          },
          "autotypenumbers": "strict",
          "coloraxis": {
           "colorbar": {
            "outlinewidth": 0,
            "ticks": ""
           }
          },
          "colorscale": {
           "diverging": [
            [
             0,
             "#8e0152"
            ],
            [
             0.1,
             "#c51b7d"
            ],
            [
             0.2,
             "#de77ae"
            ],
            [
             0.3,
             "#f1b6da"
            ],
            [
             0.4,
             "#fde0ef"
            ],
            [
             0.5,
             "#f7f7f7"
            ],
            [
             0.6,
             "#e6f5d0"
            ],
            [
             0.7,
             "#b8e186"
            ],
            [
             0.8,
             "#7fbc41"
            ],
            [
             0.9,
             "#4d9221"
            ],
            [
             1,
             "#276419"
            ]
           ],
           "sequential": [
            [
             0,
             "#0d0887"
            ],
            [
             0.1111111111111111,
             "#46039f"
            ],
            [
             0.2222222222222222,
             "#7201a8"
            ],
            [
             0.3333333333333333,
             "#9c179e"
            ],
            [
             0.4444444444444444,
             "#bd3786"
            ],
            [
             0.5555555555555556,
             "#d8576b"
            ],
            [
             0.6666666666666666,
             "#ed7953"
            ],
            [
             0.7777777777777778,
             "#fb9f3a"
            ],
            [
             0.8888888888888888,
             "#fdca26"
            ],
            [
             1,
             "#f0f921"
            ]
           ],
           "sequentialminus": [
            [
             0,
             "#0d0887"
            ],
            [
             0.1111111111111111,
             "#46039f"
            ],
            [
             0.2222222222222222,
             "#7201a8"
            ],
            [
             0.3333333333333333,
             "#9c179e"
            ],
            [
             0.4444444444444444,
             "#bd3786"
            ],
            [
             0.5555555555555556,
             "#d8576b"
            ],
            [
             0.6666666666666666,
             "#ed7953"
            ],
            [
             0.7777777777777778,
             "#fb9f3a"
            ],
            [
             0.8888888888888888,
             "#fdca26"
            ],
            [
             1,
             "#f0f921"
            ]
           ]
          },
          "colorway": [
           "#636efa",
           "#EF553B",
           "#00cc96",
           "#ab63fa",
           "#FFA15A",
           "#19d3f3",
           "#FF6692",
           "#B6E880",
           "#FF97FF",
           "#FECB52"
          ],
          "font": {
           "color": "#2a3f5f"
          },
          "geo": {
           "bgcolor": "white",
           "lakecolor": "white",
           "landcolor": "#E5ECF6",
           "showlakes": true,
           "showland": true,
           "subunitcolor": "white"
          },
          "hoverlabel": {
           "align": "left"
          },
          "hovermode": "closest",
          "mapbox": {
           "style": "light"
          },
          "paper_bgcolor": "white",
          "plot_bgcolor": "#E5ECF6",
          "polar": {
           "angularaxis": {
            "gridcolor": "white",
            "linecolor": "white",
            "ticks": ""
           },
           "bgcolor": "#E5ECF6",
           "radialaxis": {
            "gridcolor": "white",
            "linecolor": "white",
            "ticks": ""
           }
          },
          "scene": {
           "xaxis": {
            "backgroundcolor": "#E5ECF6",
            "gridcolor": "white",
            "gridwidth": 2,
            "linecolor": "white",
            "showbackground": true,
            "ticks": "",
            "zerolinecolor": "white"
           },
           "yaxis": {
            "backgroundcolor": "#E5ECF6",
            "gridcolor": "white",
            "gridwidth": 2,
            "linecolor": "white",
            "showbackground": true,
            "ticks": "",
            "zerolinecolor": "white"
           },
           "zaxis": {
            "backgroundcolor": "#E5ECF6",
            "gridcolor": "white",
            "gridwidth": 2,
            "linecolor": "white",
            "showbackground": true,
            "ticks": "",
            "zerolinecolor": "white"
           }
          },
          "shapedefaults": {
           "line": {
            "color": "#2a3f5f"
           }
          },
          "ternary": {
           "aaxis": {
            "gridcolor": "white",
            "linecolor": "white",
            "ticks": ""
           },
           "baxis": {
            "gridcolor": "white",
            "linecolor": "white",
            "ticks": ""
           },
           "bgcolor": "#E5ECF6",
           "caxis": {
            "gridcolor": "white",
            "linecolor": "white",
            "ticks": ""
           }
          },
          "title": {
           "x": 0.05
          },
          "xaxis": {
           "automargin": true,
           "gridcolor": "white",
           "linecolor": "white",
           "ticks": "",
           "title": {
            "standoff": 15
           },
           "zerolinecolor": "white",
           "zerolinewidth": 2
          },
          "yaxis": {
           "automargin": true,
           "gridcolor": "white",
           "linecolor": "white",
           "ticks": "",
           "title": {
            "standoff": 15
           },
           "zerolinecolor": "white",
           "zerolinewidth": 2
          }
         }
        },
        "width": 1500,
        "xaxis": {
         "anchor": "y",
         "domain": [
          0,
          0.31999999999999995
         ],
         "title": {
          "text": "visit_month"
         }
        },
        "xaxis2": {
         "anchor": "y2",
         "domain": [
          0.33999999999999997,
          0.6599999999999999
         ],
         "matches": "x",
         "title": {
          "text": "visit_month"
         }
        },
        "xaxis3": {
         "anchor": "y3",
         "domain": [
          0.6799999999999999,
          0.9999999999999999
         ],
         "matches": "x",
         "title": {
          "text": "visit_month"
         }
        },
        "yaxis": {
         "anchor": "x",
         "domain": [
          0,
          1
         ],
         "title": {
          "text": "mean"
         }
        },
        "yaxis2": {
         "anchor": "x2",
         "domain": [
          0,
          1
         ],
         "matches": "y",
         "showticklabels": false
        },
        "yaxis3": {
         "anchor": "x3",
         "domain": [
          0,
          1
         ],
         "matches": "y",
         "showticklabels": false
        }
       }
      }
     },
     "metadata": {},
     "output_type": "display_data"
    }
   ],
   "source": [
    "# px.scatter(clinical_df.query('patient_id == 1517'), x='visit_month', y='updrs_1')\n",
    "clincal_df_grouped = clinical_df.groupby(['visit_month', 'upd23b_clinical_state_on_medication']).agg({\n",
    "    'updrs_1': ['mean', 'std'], \n",
    "    'updrs_2': ['mean', 'std'],\n",
    "    'updrs_3': ['mean', 'std'],\n",
    "    'updrs_4': ['mean', 'std'],\n",
    "}).reset_index()\n",
    "\n",
    "clincal_df_grouped.columns = ['visit_month', 'upd23b_clinical_state_on_medication', 'updrs_1_mean', 'updrs_1_std', 'updrs_2_mean', 'updrs_2_std', 'updrs_3_mean', 'updrs_3_std', 'updrs_4_mean', 'updrs_4_std']\n",
    "\n",
    "# Reformat df for plotting\n",
    "clincal_df_grouped_mean = clincal_df_grouped.melt(id_vars=['visit_month', 'upd23b_clinical_state_on_medication'], value_vars=['updrs_1_mean', 'updrs_2_mean', 'updrs_3_mean', 'updrs_4_mean'], var_name='updrs', value_name='mean')\n",
    "clincal_df_grouped_mean['updrs'] = clincal_df_grouped_mean['updrs'].str.replace('_mean', '')\n",
    "clincal_df_grouped_std = clincal_df_grouped.melt(id_vars=['visit_month', 'upd23b_clinical_state_on_medication'], value_vars=['updrs_1_std', 'updrs_2_std', 'updrs_3_std', 'updrs_4_std'], var_name='updrs', value_name='std')\n",
    "clincal_df_grouped_std['updrs'] = clincal_df_grouped_std['updrs'].str.replace('_std', '')\n",
    "\n",
    "clinical_df_grouped_final = pd.merge(clincal_df_grouped_mean, clincal_df_grouped_std, on=['visit_month', 'updrs', 'upd23b_clinical_state_on_medication'])\n",
    "\n",
    "# Plot\n",
    "fig = px.line(clinical_df_grouped, x='visit_month', y='mean', color='updrs', error_y='std', facet_col='upd23b_clinical_state_on_medication')\n",
    "fig.update_layout(width=1500)\n",
    "fig.show()"
   ]
  },
  {
   "attachments": {},
   "cell_type": "markdown",
   "metadata": {},
   "source": [
    "# Protein Distribution"
   ]
  },
  {
   "cell_type": "code",
   "execution_count": 62,
   "metadata": {},
   "outputs": [
    {
     "name": "stdout",
     "output_type": "stream",
     "text": [
      "(232741, 5) 227\n"
     ]
    },
    {
     "data": {
      "text/html": [
       "<div>\n",
       "<style scoped>\n",
       "    .dataframe tbody tr th:only-of-type {\n",
       "        vertical-align: middle;\n",
       "    }\n",
       "\n",
       "    .dataframe tbody tr th {\n",
       "        vertical-align: top;\n",
       "    }\n",
       "\n",
       "    .dataframe thead th {\n",
       "        text-align: right;\n",
       "    }\n",
       "</style>\n",
       "<table border=\"1\" class=\"dataframe\">\n",
       "  <thead>\n",
       "    <tr style=\"text-align: right;\">\n",
       "      <th></th>\n",
       "      <th>visit_id</th>\n",
       "      <th>visit_month</th>\n",
       "      <th>patient_id</th>\n",
       "      <th>UniProt</th>\n",
       "      <th>NPX</th>\n",
       "    </tr>\n",
       "  </thead>\n",
       "  <tbody>\n",
       "    <tr>\n",
       "      <th>0</th>\n",
       "      <td>55_0</td>\n",
       "      <td>0</td>\n",
       "      <td>55</td>\n",
       "      <td>O00391</td>\n",
       "      <td>11254.3</td>\n",
       "    </tr>\n",
       "    <tr>\n",
       "      <th>1</th>\n",
       "      <td>55_0</td>\n",
       "      <td>0</td>\n",
       "      <td>55</td>\n",
       "      <td>O00533</td>\n",
       "      <td>732430.0</td>\n",
       "    </tr>\n",
       "    <tr>\n",
       "      <th>2</th>\n",
       "      <td>55_0</td>\n",
       "      <td>0</td>\n",
       "      <td>55</td>\n",
       "      <td>O00584</td>\n",
       "      <td>39585.8</td>\n",
       "    </tr>\n",
       "    <tr>\n",
       "      <th>3</th>\n",
       "      <td>55_0</td>\n",
       "      <td>0</td>\n",
       "      <td>55</td>\n",
       "      <td>O14498</td>\n",
       "      <td>41526.9</td>\n",
       "    </tr>\n",
       "    <tr>\n",
       "      <th>4</th>\n",
       "      <td>55_0</td>\n",
       "      <td>0</td>\n",
       "      <td>55</td>\n",
       "      <td>O14773</td>\n",
       "      <td>31238.0</td>\n",
       "    </tr>\n",
       "  </tbody>\n",
       "</table>\n",
       "</div>"
      ],
      "text/plain": [
       "  visit_id  visit_month  patient_id UniProt       NPX\n",
       "0     55_0            0          55  O00391   11254.3\n",
       "1     55_0            0          55  O00533  732430.0\n",
       "2     55_0            0          55  O00584   39585.8\n",
       "3     55_0            0          55  O14498   41526.9\n",
       "4     55_0            0          55  O14773   31238.0"
      ]
     },
     "execution_count": 62,
     "metadata": {},
     "output_type": "execute_result"
    }
   ],
   "source": [
    "proteins_df = pd.read_csv('./data/train_proteins.csv')\n",
    "print(proteins_df.shape, proteins_df['UniProt'].nunique())\n",
    "proteins_df.head()"
   ]
  },
  {
   "cell_type": "code",
   "execution_count": 73,
   "metadata": {},
   "outputs": [
    {
     "data": {
      "application/vnd.plotly.v1+json": {
       "config": {
        "plotlyServerURL": "https://plot.ly"
       },
       "data": [
        {
         "alignmentgroup": "True",
         "error_y": {
          "array": [
           2935.1379738322053,
           1116.0266327467275,
           2956.7519109605314,
           2567.316808756461,
           1331.361988765104,
           2783.5075700920406,
           null,
           2653.858755108327,
           3032.4138148320462,
           2104.0669380986906,
           2877.017360033923,
           2660.1418917422084,
           3724.661613053135,
           null,
           1256.6115562628463
          ]
         },
         "hovertemplate": "UniProt=O00391<br>visit_month=%{x}<br>NPX_mean=%{y}<extra></extra>",
         "legendgroup": "O00391",
         "marker": {
          "color": "#636efa",
          "pattern": {
           "shape": ""
          }
         },
         "name": "O00391",
         "offsetgroup": "O00391",
         "orientation": "v",
         "showlegend": true,
         "textposition": "auto",
         "type": "bar",
         "x": [
          0,
          3,
          6,
          12,
          18,
          24,
          30,
          36,
          48,
          54,
          60,
          72,
          84,
          96,
          108
         ],
         "xaxis": "x",
         "y": [
          11829.386449275364,
          12481.25,
          11809.4404,
          11200.48464,
          11544.004285714285,
          11936.832521008404,
          13202.8,
          11670.368165137614,
          11385.755083333332,
          12283.599999999999,
          11520.004909090909,
          12267.492727272725,
          11550.134,
          10280.3,
          12250.066666666666
         ],
         "yaxis": "y"
        },
        {
         "alignmentgroup": "True",
         "error_y": {
          "array": [
           226794.09827054926,
           210173.04610487045,
           250996.6432571124,
           216284.19965696218,
           96536.22240890795,
           257451.7086625444,
           null,
           227946.04818541426,
           231196.52713260794,
           1161895.235428737,
           239188.0749273123,
           161058.3393044272,
           234714.82689950694,
           78696.03499859443,
           255539.3506623132
          ]
         },
         "hovertemplate": "UniProt=O00533<br>visit_month=%{x}<br>NPX_mean=%{y}<extra></extra>",
         "legendgroup": "O00533",
         "marker": {
          "color": "#EF553B",
          "pattern": {
           "shape": ""
          }
         },
         "name": "O00533",
         "offsetgroup": "O00533",
         "orientation": "v",
         "showlegend": true,
         "textposition": "auto",
         "type": "bar",
         "x": [
          0,
          3,
          6,
          12,
          18,
          24,
          30,
          36,
          48,
          54,
          60,
          72,
          84,
          96,
          108
         ],
         "xaxis": "x",
         "y": [
          526944.2587628866,
          437353,
          514652.82177419355,
          487672.3027777778,
          528950.125,
          523534.8739884393,
          410685,
          519145.6972972973,
          502416.23840579716,
          985396,
          506962.34523809527,
          477382,
          480821.5,
          389226.5,
          528392.25
         ],
         "yaxis": "y"
        },
        {
         "alignmentgroup": "True",
         "error_y": {
          "array": [
           10409.489484475738,
           9049.182303943267,
           10965.930368071067,
           10982.881531477198,
           9855.272950640525,
           11144.353685791015,
           null,
           11680.466749069306,
           10092.938018207265,
           12326.63896303449,
           10286.17704590427,
           7384.06242106991,
           8083.861202503005,
           7286.452537414894,
           5102.609909317647
          ]
         },
         "hovertemplate": "UniProt=O00584<br>visit_month=%{x}<br>NPX_mean=%{y}<extra></extra>",
         "legendgroup": "O00584",
         "marker": {
          "color": "#00cc96",
          "pattern": {
           "shape": ""
          }
         },
         "name": "O00584",
         "offsetgroup": "O00584",
         "orientation": "v",
         "showlegend": true,
         "textposition": "auto",
         "type": "bar",
         "x": [
          0,
          3,
          6,
          12,
          18,
          24,
          30,
          36,
          48,
          54,
          60,
          72,
          84,
          96,
          108
         ],
         "xaxis": "x",
         "y": [
          26037.536614583336,
          27450.399999999998,
          27204.591879032258,
          25039.530395480226,
          21963.55375,
          26923.492823529414,
          18847,
          26181.42301369863,
          27562.914671532846,
          37066.85,
          28168.370357142856,
          24571.124,
          25565.806666666664,
          35582.7,
          32290.6
         ],
         "yaxis": "y"
        },
        {
         "alignmentgroup": "True",
         "error_y": {
          "array": [
           9458.654050255598,
           3431.6721089482508,
           7984.684145503269,
           8235.569880418914,
           8623.724101155902,
           9092.823079629614,
           null,
           8049.532332393979,
           7499.886612367328,
           25540.767647136217,
           8094.364563981394,
           8263.910500181704,
           7735.6564006563,
           9798.23724554575,
           5587.369094961719
          ]
         },
         "hovertemplate": "UniProt=O14498<br>visit_month=%{x}<br>NPX_mean=%{y}<extra></extra>",
         "legendgroup": "O14498",
         "marker": {
          "color": "#ab63fa",
          "pattern": {
           "shape": ""
          }
         },
         "name": "O14498",
         "offsetgroup": "O14498",
         "orientation": "v",
         "showlegend": true,
         "textposition": "auto",
         "type": "bar",
         "x": [
          0,
          3,
          6,
          12,
          18,
          24,
          30,
          36,
          48,
          54,
          60,
          72,
          84,
          96,
          108
         ],
         "xaxis": "x",
         "y": [
          27840.791731843576,
          24938.833333333332,
          27007.994827586204,
          27118.848447204968,
          28018.957142857143,
          27490.34375,
          25230,
          27216.831985815603,
          27869.61769230769,
          37525.05,
          26318.550649350647,
          24005.4535,
          27063.14827586207,
          32779.1,
          27456.550000000003
         ],
         "yaxis": "y"
        },
        {
         "alignmentgroup": "True",
         "error_y": {
          "array": [
           7532.442597632404,
           5597.7089870172185,
           6755.624679760265,
           7103.889094316746,
           6331.545119742362,
           7094.568151112838,
           null,
           7256.0857806010845,
           7060.393553250368,
           4247.342947214174,
           6892.558338369142,
           6645.782560692869,
           5838.781941018482,
           24245.20660264622,
           12785.905279642891
          ]
         },
         "hovertemplate": "UniProt=O14773<br>visit_month=%{x}<br>NPX_mean=%{y}<extra></extra>",
         "legendgroup": "O14773",
         "marker": {
          "color": "#FFA15A",
          "pattern": {
           "shape": ""
          }
         },
         "name": "O14773",
         "offsetgroup": "O14773",
         "orientation": "v",
         "showlegend": true,
         "textposition": "auto",
         "type": "bar",
         "x": [
          0,
          3,
          6,
          12,
          18,
          24,
          30,
          36,
          48,
          54,
          60,
          72,
          84,
          96,
          108
         ],
         "xaxis": "x",
         "y": [
          18148.297595628414,
          18369.166666666668,
          17195.943362068963,
          18002.58587878788,
          18467.3,
          17901.70115151515,
          19581.8,
          17865.93978417266,
          16932.80649253731,
          12164.175,
          17438.041298701297,
          16129.649,
          16228.68724137931,
          29619.75,
          25931.5
         ],
         "yaxis": "y"
        },
        {
         "alignmentgroup": "True",
         "error_y": {
          "array": [
           1380.7121855983144,
           942.9945829289443,
           1194.1449155652908,
           1127.6447432788957,
           887.9208677729489,
           1036.3180405437358,
           null,
           1068.9773939398647,
           1094.8405183880777,
           14.078496013424058,
           1069.598530893945,
           1084.4409408652746,
           924.5476196797131,
           125.87914918682901,
           1142.3588480128883
          ]
         },
         "hovertemplate": "UniProt=O14791<br>visit_month=%{x}<br>NPX_mean=%{y}<extra></extra>",
         "legendgroup": "O14791",
         "marker": {
          "color": "#19d3f3",
          "pattern": {
           "shape": ""
          }
         },
         "name": "O14791",
         "offsetgroup": "O14791",
         "orientation": "v",
         "showlegend": true,
         "textposition": "auto",
         "type": "bar",
         "x": [
          0,
          3,
          6,
          12,
          18,
          24,
          30,
          36,
          48,
          54,
          60,
          72,
          84,
          96,
          108
         ],
         "xaxis": "x",
         "y": [
          3041.8288545454548,
          3174.1866666666665,
          2894.2273214285715,
          3045.152294520548,
          3076.5766666666664,
          2984.783729166667,
          2712.69,
          3043.292606837607,
          2971.4886694915253,
          3531.475,
          3095.9116216216216,
          2785.90619047619,
          3098.735357142857,
          2290.5699999999997,
          2279.713333333333
         ],
         "yaxis": "y"
        },
        {
         "alignmentgroup": "True",
         "error_y": {
          "array": [
           73506.05575158952,
           59943.5065401861,
           73835.77750492176,
           66683.25012451729,
           57753.51227632332,
           77406.64234292699,
           null,
           72186.99851672736,
           71356.9002395665,
           154784.6137415635,
           79822.45081763988,
           50120.5298384167,
           77845.99785486107,
           29594.540113000574,
           78410.16267610554
          ]
         },
         "hovertemplate": "UniProt=O15240<br>visit_month=%{x}<br>NPX_mean=%{y}<extra></extra>",
         "legendgroup": "O15240",
         "marker": {
          "color": "#FF6692",
          "pattern": {
           "shape": ""
          }
         },
         "name": "O15240",
         "offsetgroup": "O15240",
         "orientation": "v",
         "showlegend": true,
         "textposition": "auto",
         "type": "bar",
         "x": [
          0,
          3,
          6,
          12,
          18,
          24,
          30,
          36,
          48,
          54,
          60,
          72,
          84,
          96,
          108
         ],
         "xaxis": "x",
         "y": [
          135391.4298969072,
          95809.33333333333,
          126724.3056451613,
          122566.82111111112,
          128778.35,
          129157.5583815029,
          82990.3,
          120059.65234899329,
          120187.30652173914,
          137546.75,
          126555.03333333334,
          117616.24761904763,
          126803.64,
          129124.5,
          176874.3
         ],
         "yaxis": "y"
        },
        {
         "alignmentgroup": "True",
         "error_y": {
          "array": [
           21723.93138870275,
           9170.045554412474,
           19740.453530922056,
           22548.65766970073,
           19856.515909159752,
           22860.27031217314,
           null,
           21599.043734413557,
           21107.730565929345,
           32250.008919068536,
           19887.271371635805,
           18914.604675155246,
           15369.691077149984,
           null,
           22506.093085206943
          ]
         },
         "hovertemplate": "UniProt=O15394<br>visit_month=%{x}<br>NPX_mean=%{y}<extra></extra>",
         "legendgroup": "O15394",
         "marker": {
          "color": "#B6E880",
          "pattern": {
           "shape": ""
          }
         },
         "name": "O15394",
         "offsetgroup": "O15394",
         "orientation": "v",
         "showlegend": true,
         "textposition": "auto",
         "type": "bar",
         "x": [
          0,
          3,
          6,
          12,
          18,
          24,
          30,
          36,
          48,
          54,
          60,
          72,
          84,
          96,
          108
         ],
         "xaxis": "x",
         "y": [
          52143.97054644809,
          48478.799999999996,
          52609.75095652174,
          48204.94670520231,
          38579.275,
          52359.18109756097,
          49432.7,
          48448.48856115108,
          50861.445190839695,
          49879.9,
          52425.35487179487,
          46959.03380952381,
          52486.95357142857,
          66466.1,
          60482.799999999996
         ],
         "yaxis": "y"
        },
        {
         "alignmentgroup": "True",
         "error_y": {
          "array": [
           76519.66610209898,
           62837.65421305923,
           83480.86594303473,
           72518.76009103068,
           67498.64406982955,
           86897.81747745092,
           null,
           87926.6674375655,
           77019.24435297534,
           152201.19911649844,
           77149.24280473974,
           68230.2387887818,
           78155.26419095187,
           99280.62050571601,
           35493.974130594805
          ]
         },
         "hovertemplate": "UniProt=O43505<br>visit_month=%{x}<br>NPX_mean=%{y}<extra></extra>",
         "legendgroup": "O43505",
         "marker": {
          "color": "#FF97FF",
          "pattern": {
           "shape": ""
          }
         },
         "name": "O43505",
         "offsetgroup": "O43505",
         "orientation": "v",
         "showlegend": true,
         "textposition": "auto",
         "type": "bar",
         "x": [
          0,
          3,
          6,
          12,
          18,
          24,
          30,
          36,
          48,
          54,
          60,
          72,
          84,
          96,
          108
         ],
         "xaxis": "x",
         "y": [
          199322.97680412373,
          176285,
          192208.07154471547,
          187949.61444444445,
          177684.1375,
          200246.4514450867,
          95687.9,
          202077.5810810811,
          197446.40579710144,
          212993.5,
          191048.70357142857,
          182683.345,
          195162.69,
          210947,
          181463.75
         ],
         "yaxis": "y"
        },
        {
         "alignmentgroup": "True",
         "error_y": {
          "array": [
           64724.76596120747,
           27206.163351956355,
           60039.992333820104,
           53866.85975418791,
           29921.359131659017,
           59606.216933480355,
           null,
           59188.92510632183,
           52914.347028362,
           185204.8424429556,
           52933.86115640451,
           54786.300616373235,
           52992.41403049575,
           47667.48233334754,
           63268.4454704713
          ]
         },
         "hovertemplate": "UniProt=O60888<br>visit_month=%{x}<br>NPX_mean=%{y}<extra></extra>",
         "legendgroup": "O60888",
         "marker": {
          "color": "#FECB52",
          "pattern": {
           "shape": ""
          }
         },
         "name": "O60888",
         "offsetgroup": "O60888",
         "orientation": "v",
         "showlegend": true,
         "textposition": "auto",
         "type": "bar",
         "x": [
          0,
          3,
          6,
          12,
          18,
          24,
          30,
          36,
          48,
          54,
          60,
          72,
          84,
          96,
          108
         ],
         "xaxis": "x",
         "y": [
          150930.52936842103,
          156397.66666666666,
          143808.78108333334,
          141223.36023391812,
          140217,
          148508.51796407186,
          126291,
          144548.49448275863,
          145281.85714285713,
          206317.4,
          142780.12409638555,
          127494.45238095238,
          142975.6344827586,
          136357,
          156060.75
         ],
         "yaxis": "y"
        },
        {
         "alignmentgroup": "True",
         "error_y": {
          "array": [
           34009.10493510366,
           16408.732032163036,
           31963.409308724727,
           33166.71324340461,
           6890.438287946565,
           32452.845316598465,
           null,
           31515.588229419645,
           32174.87101613643,
           56793.96813676608,
           33680.880211929,
           26651.657331142076,
           31804.749831292367,
           10697.111385790091,
           40318.194139908264
          ]
         },
         "hovertemplate": "UniProt=O75144<br>visit_month=%{x}<br>NPX_mean=%{y}<extra></extra>",
         "legendgroup": "O75144",
         "marker": {
          "color": "#636efa",
          "pattern": {
           "shape": ""
          }
         },
         "name": "O75144",
         "offsetgroup": "O75144",
         "orientation": "v",
         "showlegend": true,
         "textposition": "auto",
         "type": "bar",
         "x": [
          0,
          3,
          6,
          12,
          18,
          24,
          30,
          36,
          48,
          54,
          60,
          72,
          84,
          96,
          108
         ],
         "xaxis": "x",
         "y": [
          79647.68762886598,
          84887.03333333334,
          78493.79838709677,
          75390.76927374302,
          78243.55,
          80973.14523255815,
          22648,
          80869.16621621621,
          78101.76715328467,
          122564.6,
          78743.20714285715,
          79031.34761904762,
          77476.91666666667,
          73225.1,
          86405.15
         ],
         "yaxis": "y"
        },
        {
         "alignmentgroup": "True",
         "error_y": {
          "array": [
           2752.50613256209,
           1017.3074550252743,
           2465.4531538321107,
           2251.9817017376536,
           1728.7774369574972,
           2618.0087910047073,
           2162.7326858815186,
           2185.522884053377,
           210.68246545453204,
           1936.8085150684228,
           2166.401644208841,
           1889.1634766269544,
           1883.5344751822304,
           1275.2438453488019
          ]
         },
         "hovertemplate": "UniProt=O75326<br>visit_month=%{x}<br>NPX_mean=%{y}<extra></extra>",
         "legendgroup": "O75326",
         "marker": {
          "color": "#EF553B",
          "pattern": {
           "shape": ""
          }
         },
         "name": "O75326",
         "offsetgroup": "O75326",
         "orientation": "v",
         "showlegend": true,
         "textposition": "auto",
         "type": "bar",
         "x": [
          0,
          3,
          6,
          12,
          18,
          24,
          36,
          48,
          54,
          60,
          72,
          84,
          96,
          108
         ],
         "xaxis": "x",
         "y": [
          6997.8549495798325,
          4545.065,
          7157.0750632911395,
          6517.450619469027,
          6813.646666666667,
          6809.380952380952,
          6936.655222222222,
          6389.128314606742,
          5235.965,
          6539.193454545455,
          5390.951538461538,
          6525.157222222222,
          4659.15,
          6158.185
         ],
         "yaxis": "y"
        },
        {
         "alignmentgroup": "True",
         "error_y": {
          "array": [
           19084.156828887073,
           14918.006789224,
           19844.489281999504,
           18524.86465953862,
           16764.024236137975,
           19721.6601346204,
           null,
           19460.020503865893,
           19361.350766336287,
           null,
           17518.197126776788,
           19550.609900226158,
           19748.75568240664,
           null,
           26680.51195328093
          ]
         },
         "hovertemplate": "UniProt=O94919<br>visit_month=%{x}<br>NPX_mean=%{y}<extra></extra>",
         "legendgroup": "O94919",
         "marker": {
          "color": "#00cc96",
          "pattern": {
           "shape": ""
          }
         },
         "name": "O94919",
         "offsetgroup": "O94919",
         "orientation": "v",
         "showlegend": true,
         "textposition": "auto",
         "type": "bar",
         "x": [
          0,
          3,
          6,
          12,
          18,
          24,
          30,
          36,
          48,
          54,
          60,
          72,
          84,
          96,
          108
         ],
         "xaxis": "x",
         "y": [
          36711.355322580646,
          41267.23333333333,
          35795.19535087719,
          35562.685,
          43077.7875,
          36307.370493827155,
          46210.6,
          37873.726397058825,
          35355.873821138215,
          80046.7,
          35561.53151898734,
          30918.261052631577,
          31578.31620689655,
          42464.1,
          35079.375
         ],
         "yaxis": "y"
        },
        {
         "alignmentgroup": "True",
         "error_y": {
          "array": [
           24769.286978981116,
           8269.088352009148,
           23244.640237546137,
           22089.05381819126,
           8354.668289858755,
           24058.55235290254,
           null,
           21497.749649776477,
           22327.515637642737,
           97492.63029880772,
           21502.44658076529,
           21999.86847952473,
           18725.430951830545,
           11282.100825865724,
           20458.016290034902
          ]
         },
         "hovertemplate": "UniProt=P00441<br>visit_month=%{x}<br>NPX_mean=%{y}<extra></extra>",
         "legendgroup": "P00441",
         "marker": {
          "color": "#ab63fa",
          "pattern": {
           "shape": ""
          }
         },
         "name": "P00441",
         "offsetgroup": "P00441",
         "orientation": "v",
         "showlegend": true,
         "textposition": "auto",
         "type": "bar",
         "x": [
          0,
          3,
          6,
          12,
          18,
          24,
          30,
          36,
          48,
          54,
          60,
          72,
          84,
          96,
          108
         ],
         "xaxis": "x",
         "y": [
          47135.13167539267,
          48020.03333333333,
          46978.86796747967,
          42258.92491525424,
          48732.725,
          47230.924556213016,
          28410.7,
          45913.59081081081,
          45095.1,
          93311.3,
          43807.032222222224,
          44581.75571428571,
          43816.59655172414,
          55570.75,
          57884.15
         ],
         "yaxis": "y"
        },
        {
         "alignmentgroup": "True",
         "error_y": {
          "array": [
           211004.92809955397,
           305841.2176413332,
           224330.3982860418,
           210974.73782785895,
           195717.62293015048,
           207796.4885994013,
           null,
           225118.38585086775,
           220817.66941192836,
           135449.83947018912,
           236583.769654462,
           213712.84678596628,
           160393.25331570697,
           178959.53393015976,
           133533.7863997348
          ]
         },
         "hovertemplate": "UniProt=P00450<br>visit_month=%{x}<br>NPX_mean=%{y}<extra></extra>",
         "legendgroup": "P00450",
         "marker": {
          "color": "#FFA15A",
          "pattern": {
           "shape": ""
          }
         },
         "name": "P00450",
         "offsetgroup": "P00450",
         "orientation": "v",
         "showlegend": true,
         "textposition": "auto",
         "type": "bar",
         "x": [
          0,
          3,
          6,
          12,
          18,
          24,
          30,
          36,
          48,
          54,
          60,
          72,
          84,
          96,
          108
         ],
         "xaxis": "x",
         "y": [
          1008153.1134020619,
          908128.3333333334,
          994781.8870967742,
          994153.1166666667,
          1011423,
          1009272.161849711,
          1461230,
          1005475.7635135135,
          1019023.9492753623,
          872108.5,
          1032971.3452380953,
          960304.5238095238,
          975965.9,
          965616.5,
          1031584.75
         ],
         "yaxis": "y"
        },
        {
         "alignmentgroup": "True",
         "error_y": {
          "array": [
           159228.3188922018,
           153948.14212043397,
           140937.9312450685,
           162107.02634827388,
           147658.6475760297,
           150653.96588531346,
           null,
           151483.22084529742,
           161420.78286987942,
           82918.87669584049,
           129855.41073959626,
           147439.78437703854,
           152479.0820761417,
           58213.9799747449,
           182427.6409255644
          ]
         },
         "hovertemplate": "UniProt=P00734<br>visit_month=%{x}<br>NPX_mean=%{y}<extra></extra>",
         "legendgroup": "P00734",
         "marker": {
          "color": "#19d3f3",
          "pattern": {
           "shape": ""
          }
         },
         "name": "P00734",
         "offsetgroup": "P00734",
         "orientation": "v",
         "showlegend": true,
         "textposition": "auto",
         "type": "bar",
         "x": [
          0,
          3,
          6,
          12,
          18,
          24,
          30,
          36,
          48,
          54,
          60,
          72,
          84,
          96,
          108
         ],
         "xaxis": "x",
         "y": [
          691654.5520618557,
          640578.6666666666,
          678048.7741935484,
          681984.0777777778,
          603790.625,
          673212.1445086705,
          906736,
          688756.6689189189,
          676263.1594202898,
          818397.5,
          680450.0119047619,
          673062.619047619,
          671186.9,
          647638.5,
          710842.5
         ],
         "yaxis": "y"
        },
        {
         "alignmentgroup": "True",
         "error_y": {
          "array": [
           30114.571047120742,
           20964.365355606,
           27715.604762553307,
           24850.473750548055,
           29353.448615522284,
           29335.676455414385,
           null,
           28158.501818447818,
           30615.09343646585,
           24375.172829028303,
           22753.312540315892,
           23971.156610739894,
           23756.310065500533,
           15372.14786960495,
           36240.6930381098
          ]
         },
         "hovertemplate": "UniProt=P00736<br>visit_month=%{x}<br>NPX_mean=%{y}<extra></extra>",
         "legendgroup": "P00736",
         "marker": {
          "color": "#FF6692",
          "pattern": {
           "shape": ""
          }
         },
         "name": "P00736",
         "offsetgroup": "P00736",
         "orientation": "v",
         "showlegend": true,
         "textposition": "auto",
         "type": "bar",
         "x": [
          0,
          3,
          6,
          12,
          18,
          24,
          30,
          36,
          48,
          54,
          60,
          72,
          84,
          96,
          108
         ],
         "xaxis": "x",
         "y": [
          71595.88973544973,
          83572.26666666666,
          72406.47723577236,
          72508.25294797687,
          74314.0875,
          72963.04319526628,
          94371.7,
          75393.54595890411,
          73362.61867647059,
          112863.15,
          76649.47023809524,
          78567.78095238094,
          80368.79655172414,
          82252.45,
          86434.975
         ],
         "yaxis": "y"
        },
        {
         "alignmentgroup": "True",
         "error_y": {
          "array": [
           2960932.258294144,
           1511909.7724401413,
           3084146.8453815714,
           2737045.0519803716,
           1604529.2900759256,
           2757941.59478154,
           null,
           3075079.4716648734,
           2967673.879682638,
           1447263.7333257543,
           2759702.068048053,
           1327185.944701077,
           1776064.8494661658,
           898916.5666512104,
           1202604.6820408886
          ]
         },
         "hovertemplate": "UniProt=P00738<br>visit_month=%{x}<br>NPX_mean=%{y}<extra></extra>",
         "legendgroup": "P00738",
         "marker": {
          "color": "#B6E880",
          "pattern": {
           "shape": ""
          }
         },
         "name": "P00738",
         "offsetgroup": "P00738",
         "orientation": "v",
         "showlegend": true,
         "textposition": "auto",
         "type": "bar",
         "x": [
          0,
          3,
          6,
          12,
          18,
          24,
          30,
          36,
          48,
          54,
          60,
          72,
          84,
          96,
          108
         ],
         "xaxis": "x",
         "y": [
          3715288.6340206186,
          3242100,
          3573467.762903226,
          3495045.8324022344,
          2938216.125,
          3750282.156069364,
          15353500,
          3680286.7270270274,
          3770180.5217391304,
          2502630,
          3574606.785714286,
          2315824.095238095,
          2955530.6333333333,
          2579010,
          3467080
         ],
         "yaxis": "y"
        },
        {
         "alignmentgroup": "True",
         "error_y": {
          "array": [
           36367.80281497112,
           10486.572856753535,
           32444.225249090778,
           33007.72058769055,
           48205.69399674788,
           35988.55920747375,
           null,
           39240.31641503021,
           36879.73845819617,
           11387.318314906284,
           32076.107561146742,
           31740.37107556588,
           39168.72749306723,
           20284.277257151665,
           33536.65701719785
          ]
         },
         "hovertemplate": "UniProt=P00746<br>visit_month=%{x}<br>NPX_mean=%{y}<extra></extra>",
         "legendgroup": "P00746",
         "marker": {
          "color": "#FF97FF",
          "pattern": {
           "shape": ""
          }
         },
         "name": "P00746",
         "offsetgroup": "P00746",
         "orientation": "v",
         "showlegend": true,
         "textposition": "auto",
         "type": "bar",
         "x": [
          0,
          3,
          6,
          12,
          18,
          24,
          30,
          36,
          48,
          54,
          60,
          72,
          84,
          96,
          108
         ],
         "xaxis": "x",
         "y": [
          100886.30785340315,
          103305.59999999999,
          104235.79919354839,
          101081.60790960453,
          114069.58571428571,
          105851.01461988305,
          140795,
          105807.27346938774,
          106491.18148148149,
          92469.95,
          105707.56785714284,
          100241.54761904762,
          99945.52666666666,
          110970.85,
          131566.925
         ],
         "yaxis": "y"
        },
        {
         "alignmentgroup": "True",
         "error_y": {
          "array": [
           90584.94831651615,
           38454.398812099505,
           77552.5140454225,
           94801.05908999023,
           103038.84657878171,
           89800.39450684465,
           null,
           86522.1185520548,
           89558.04690117163,
           100873.73208372931,
           81422.75435658991,
           82932.64141495737,
           85285.98234770262,
           125153.65762933179,
           98202.4466820116
          ]
         },
         "hovertemplate": "UniProt=P00747<br>visit_month=%{x}<br>NPX_mean=%{y}<extra></extra>",
         "legendgroup": "P00747",
         "marker": {
          "color": "#FECB52",
          "pattern": {
           "shape": ""
          }
         },
         "name": "P00747",
         "offsetgroup": "P00747",
         "orientation": "v",
         "showlegend": true,
         "textposition": "auto",
         "type": "bar",
         "x": [
          0,
          3,
          6,
          12,
          18,
          24,
          30,
          36,
          48,
          54,
          60,
          72,
          84,
          96,
          108
         ],
         "xaxis": "x",
         "y": [
          346922.59793814435,
          336836,
          336427.0282258064,
          343275.2838888889,
          344757.5,
          345418.6028901734,
          510768,
          345258.3452702703,
          340672.5666666667,
          339061.5,
          333759.04404761904,
          331346.4761904762,
          333071.43333333335,
          295797,
          328302.5
         ],
         "yaxis": "y"
        },
        {
         "alignmentgroup": "True",
         "error_y": {
          "array": [
           30158.57895959485,
           17598.65016878662,
           28562.945024370372,
           30557.200432363516,
           40705.20742769195,
           29451.699466083646,
           null,
           27373.434136706295,
           27063.56269722996,
           22414.648567510492,
           27359.631959535043,
           21897.421408023627,
           24747.761053239272,
           35945.066114836955,
           35936.1552976363
          ]
         },
         "hovertemplate": "UniProt=P00748<br>visit_month=%{x}<br>NPX_mean=%{y}<extra></extra>",
         "legendgroup": "P00748",
         "marker": {
          "color": "#636efa",
          "pattern": {
           "shape": ""
          }
         },
         "name": "P00748",
         "offsetgroup": "P00748",
         "orientation": "v",
         "showlegend": true,
         "textposition": "auto",
         "type": "bar",
         "x": [
          0,
          3,
          6,
          12,
          18,
          24,
          30,
          36,
          48,
          54,
          60,
          72,
          84,
          96,
          108
         ],
         "xaxis": "x",
         "y": [
          77201.44242268041,
          64836.53333333333,
          73718.86879032258,
          76625.0884269663,
          76785.25,
          77764.77695906433,
          88567.6,
          75167.85328767123,
          78685.3169117647,
          92611.45,
          71163.9163095238,
          63369.75714285714,
          65994.95862068966,
          93403,
          75649.375
         ],
         "yaxis": "y"
        },
        {
         "alignmentgroup": "True",
         "error_y": {
          "array": [
           118240.88342069928,
           98710.65298301564,
           119244.17516736244,
           118249.45772748943,
           107117.78009942404,
           109282.2293990363,
           null,
           121878.75703577319,
           127989.82965394939,
           64655.01564457316,
           122657.6064760648,
           91914.82415307379,
           96732.83189995556,
           46690.26076174773,
           56000.67018274573
          ]
         },
         "hovertemplate": "UniProt=P00751<br>visit_month=%{x}<br>NPX_mean=%{y}<extra></extra>",
         "legendgroup": "P00751",
         "marker": {
          "color": "#EF553B",
          "pattern": {
           "shape": ""
          }
         },
         "name": "P00751",
         "offsetgroup": "P00751",
         "orientation": "v",
         "showlegend": true,
         "textposition": "auto",
         "type": "bar",
         "x": [
          0,
          3,
          6,
          12,
          18,
          24,
          30,
          36,
          48,
          54,
          60,
          72,
          84,
          96,
          108
         ],
         "xaxis": "x",
         "y": [
          509363.8917525773,
          471199.3333333333,
          502767.8548387097,
          498250.6777777778,
          530203,
          506635.0289017341,
          678610,
          514864,
          511563.44202898553,
          430994,
          514929.14285714284,
          460620.2380952381,
          484953.8333333333,
          428547,
          476333.25
         ],
         "yaxis": "y"
        },
        {
         "alignmentgroup": "True",
         "error_y": {
          "array": [
           442347.2566408807,
           404990.8089080541,
           449613.790566593,
           517054.6579165701,
           348490.927449031,
           493123.0619349342,
           null,
           490052.89407842903,
           502801.66357331374,
           315016.07101860695,
           521918.68316627975,
           468695.2206090456,
           471106.63227739336,
           215759.49214345124,
           711089.5796534123
          ]
         },
         "hovertemplate": "UniProt=P01008<br>visit_month=%{x}<br>NPX_mean=%{y}<extra></extra>",
         "legendgroup": "P01008",
         "marker": {
          "color": "#00cc96",
          "pattern": {
           "shape": ""
          }
         },
         "name": "P01008",
         "offsetgroup": "P01008",
         "orientation": "v",
         "showlegend": true,
         "textposition": "auto",
         "type": "bar",
         "x": [
          0,
          3,
          6,
          12,
          18,
          24,
          30,
          36,
          48,
          54,
          60,
          72,
          84,
          96,
          108
         ],
         "xaxis": "x",
         "y": [
          2494741.7010309277,
          2175290,
          2473324.419354839,
          2483649.0888888887,
          2592190,
          2519921.5606936417,
          2745260,
          2522351.4527027025,
          2486720.231884058,
          2877430,
          2504157.976190476,
          2321870.8095238097,
          2331539.6666666665,
          2525945,
          2505032.5
         ],
         "yaxis": "y"
        },
        {
         "alignmentgroup": "True",
         "error_y": {
          "array": [
           3102026.535718663,
           1768958.5928826411,
           3189458.0043969825,
           2693585.1798457145,
           2463815.74143173,
           2972307.447660971,
           null,
           3330454.0951544303,
           3138256.457044236,
           10342497.335025037,
           2969097.8207433675,
           3224542.5153374933,
           1755594.5042346667,
           2168696.497899141,
           1555272.534263154
          ]
         },
         "hovertemplate": "UniProt=P01009<br>visit_month=%{x}<br>NPX_mean=%{y}<extra></extra>",
         "legendgroup": "P01009",
         "marker": {
          "color": "#ab63fa",
          "pattern": {
           "shape": ""
          }
         },
         "name": "P01009",
         "offsetgroup": "P01009",
         "orientation": "v",
         "showlegend": true,
         "textposition": "auto",
         "type": "bar",
         "x": [
          0,
          3,
          6,
          12,
          18,
          24,
          30,
          36,
          48,
          54,
          60,
          72,
          84,
          96,
          108
         ],
         "xaxis": "x",
         "y": [
          12261808.81443299,
          10788366.666666666,
          11912637.58064516,
          12216002.666666666,
          12825001.25,
          12379469.768786127,
          12828400,
          12467344.744966444,
          12651345.289855072,
          20812050,
          12604520.595238095,
          11288689.047619049,
          12084859,
          12499700,
          13470625
         ],
         "yaxis": "y"
        },
        {
         "alignmentgroup": "True",
         "error_y": {
          "array": [
           332814.7351506724,
           487121.09488435555,
           335694.4218747551,
           299965.7697294596,
           373535.87954457983,
           312124.07983109675,
           null,
           367765.243818009,
           375722.9299808039,
           183840.69204069048,
           394728.4853847458,
           418731.74015284365,
           252445.0558361006,
           162500.2093844805,
           124029.06551154316
          ]
         },
         "hovertemplate": "UniProt=P01011<br>visit_month=%{x}<br>NPX_mean=%{y}<extra></extra>",
         "legendgroup": "P01011",
         "marker": {
          "color": "#FFA15A",
          "pattern": {
           "shape": ""
          }
         },
         "name": "P01011",
         "offsetgroup": "P01011",
         "orientation": "v",
         "showlegend": true,
         "textposition": "auto",
         "type": "bar",
         "x": [
          0,
          3,
          6,
          12,
          18,
          24,
          30,
          36,
          48,
          54,
          60,
          72,
          84,
          96,
          108
         ],
         "xaxis": "x",
         "y": [
          1405576.231958763,
          1196950.6666666667,
          1461807.0564516129,
          1411224.177777778,
          1494262.5,
          1445564.6300578034,
          1430670,
          1492237.111409396,
          1480809.3260869565,
          1343625,
          1494635.0952380951,
          1419832.142857143,
          1447603.3333333333,
          1333815,
          1486377.5
         ],
         "yaxis": "y"
        },
        {
         "alignmentgroup": "True",
         "error_y": {
          "array": [
           528252.2233711837,
           546311.635571066,
           545814.054384984,
           463294.03706336836,
           438186.2686689304,
           510498.0858750269,
           null,
           536306.0554965363,
           462027.31084846443,
           4263.853890554881,
           433576.8061001079,
           496057.41355632467,
           449553.52468388784,
           713400.0315391078,
           401947.3022258847
          ]
         },
         "hovertemplate": "UniProt=P01019<br>visit_month=%{x}<br>NPX_mean=%{y}<extra></extra>",
         "legendgroup": "P01019",
         "marker": {
          "color": "#19d3f3",
          "pattern": {
           "shape": ""
          }
         },
         "name": "P01019",
         "offsetgroup": "P01019",
         "orientation": "v",
         "showlegend": true,
         "textposition": "auto",
         "type": "bar",
         "x": [
          0,
          3,
          6,
          12,
          18,
          24,
          30,
          36,
          48,
          54,
          60,
          72,
          84,
          96,
          108
         ],
         "xaxis": "x",
         "y": [
          1564968.737113402,
          1456613.6666666667,
          1589692.6693548388,
          1531797.8,
          1629867.5,
          1569655.0578034683,
          1067240,
          1610259.304054054,
          1611754.347826087,
          1295025,
          1559060.7023809524,
          1387911.9047619049,
          1484928.5,
          1712380,
          1587715
         ],
         "yaxis": "y"
        },
        {
         "alignmentgroup": "True",
         "error_y": {
          "array": [
           377020.5297642164,
           210094.10058352424,
           419641.76487108076,
           361575.9283049398,
           308185.72387152247,
           378382.8510705297,
           null,
           367774.4690728158,
           370787.9734897712,
           51413.73406007387,
           360843.27985398675,
           399722.05667444423,
           354523.98263078823,
           173531.07517099063,
           161215.60242937613
          ]
         },
         "hovertemplate": "UniProt=P01023<br>visit_month=%{x}<br>NPX_mean=%{y}<extra></extra>",
         "legendgroup": "P01023",
         "marker": {
          "color": "#FF6692",
          "pattern": {
           "shape": ""
          }
         },
         "name": "P01023",
         "offsetgroup": "P01023",
         "orientation": "v",
         "showlegend": true,
         "textposition": "auto",
         "type": "bar",
         "x": [
          0,
          3,
          6,
          12,
          18,
          24,
          30,
          36,
          48,
          54,
          60,
          72,
          84,
          96,
          108
         ],
         "xaxis": "x",
         "y": [
          1403600.5360824743,
          1461920,
          1442732.4193548388,
          1365419.5444444444,
          1527966.25,
          1416507.520231214,
          1620320,
          1408177.0040268456,
          1431903.3043478262,
          1040095,
          1400413.3095238095,
          1336648.619047619,
          1387695.1333333333,
          1362355,
          1405130
         ],
         "yaxis": "y"
        },
        {
         "alignmentgroup": "True",
         "error_y": {
          "array": [
           769248.5676169714,
           109770.12769115898,
           825213.9023936974,
           796613.1401998673,
           909356.3400942686,
           821516.2328684725,
           null,
           810101.1272396073,
           836035.37661615,
           904057.2329504366,
           730015.8688525836,
           1019785.1668088397,
           772675.3353308365,
           12494.576823566294,
           127322.0795201419
          ]
         },
         "hovertemplate": "UniProt=P01024<br>visit_month=%{x}<br>NPX_mean=%{y}<extra></extra>",
         "legendgroup": "P01024",
         "marker": {
          "color": "#B6E880",
          "pattern": {
           "shape": ""
          }
         },
         "name": "P01024",
         "offsetgroup": "P01024",
         "orientation": "v",
         "showlegend": true,
         "textposition": "auto",
         "type": "bar",
         "x": [
          0,
          3,
          6,
          12,
          18,
          24,
          30,
          36,
          48,
          54,
          60,
          72,
          84,
          96,
          108
         ],
         "xaxis": "x",
         "y": [
          3566839.7422680412,
          3099306.6666666665,
          3532659.0483870967,
          3486194.888888889,
          3579588.75,
          3592166.705202312,
          4059900,
          3561123.4268456376,
          3573508.9855072466,
          2904535,
          3703095.714285714,
          3516666.6666666665,
          3555237,
          3592915,
          3417680
         ],
         "yaxis": "y"
        },
        {
         "alignmentgroup": "True",
         "error_y": {
          "array": [
           2890.5915274312365,
           839.1448304375132,
           2730.8735972161426,
           2998.988803293695,
           4340.671508191638,
           2857.8652218822726,
           null,
           2757.8146061172233,
           3042.1481741324683,
           null,
           2930.848335212917,
           2378.7451254461703,
           2662.410402185227,
           1577.6966501834247,
           206.60196030047675
          ]
         },
         "hovertemplate": "UniProt=P01031<br>visit_month=%{x}<br>NPX_mean=%{y}<extra></extra>",
         "legendgroup": "P01031",
         "marker": {
          "color": "#FF97FF",
          "pattern": {
           "shape": ""
          }
         },
         "name": "P01031",
         "offsetgroup": "P01031",
         "orientation": "v",
         "showlegend": true,
         "textposition": "auto",
         "type": "bar",
         "x": [
          0,
          3,
          6,
          12,
          18,
          24,
          30,
          36,
          48,
          54,
          60,
          72,
          84,
          96,
          108
         ],
         "xaxis": "x",
         "y": [
          10918.820780141843,
          9942.835,
          10816.27311111111,
          10913.436666666666,
          12785.386666666667,
          11049.547438016529,
          16505.9,
          11108.231203703703,
          11068.909797979799,
          9318.82,
          10877.729206349206,
          9354.273157894737,
          10708.288888888888,
          10810.2,
          12657.4
         ],
         "yaxis": "y"
        },
        {
         "alignmentgroup": "True",
         "error_y": {
          "array": [
           21541.462297480797,
           18420.873129776806,
           24726.190400072734,
           21620.723898532066,
           16012.789729769804,
           21984.903308753313,
           null,
           24330.412566934254,
           22255.130968102054,
           25294.83590863954,
           23160.54868275907,
           15491.668160025032,
           17407.871601439165,
           20756.76600834051,
           18309.506931737218
          ]
         },
         "hovertemplate": "UniProt=P01033<br>visit_month=%{x}<br>NPX_mean=%{y}<extra></extra>",
         "legendgroup": "P01033",
         "marker": {
          "color": "#FECB52",
          "pattern": {
           "shape": ""
          }
         },
         "name": "P01033",
         "offsetgroup": "P01033",
         "orientation": "v",
         "showlegend": true,
         "textposition": "auto",
         "type": "bar",
         "x": [
          0,
          3,
          6,
          12,
          18,
          24,
          30,
          36,
          48,
          54,
          60,
          72,
          84,
          96,
          108
         ],
         "xaxis": "x",
         "y": [
          81060.71718749999,
          64689.76666666666,
          80680.58699186992,
          80153.05397727272,
          81675.1875,
          81740.20175438597,
          111448,
          85010.96780821918,
          83754.71194029851,
          84309.85,
          79811.73690476191,
          78676.16666666667,
          80569.2172413793,
          88691.75,
          77382.85
         ],
         "yaxis": "y"
        },
        {
         "alignmentgroup": "True",
         "error_y": {
          "array": [
           8846279.992038054,
           10275678.81164062,
           8450248.319479333,
           8383582.737546436,
           8352305.32269727,
           9115116.936313415,
           null,
           8831916.686238302,
           8171130.760275768,
           19796232.156776704,
           8000401.281400447,
           8547513.941879185,
           9570616.154036568,
           10905495.754205767,
           7718272.7016261015
          ]
         },
         "hovertemplate": "UniProt=P01034<br>visit_month=%{x}<br>NPX_mean=%{y}<extra></extra>",
         "legendgroup": "P01034",
         "marker": {
          "color": "#636efa",
          "pattern": {
           "shape": ""
          }
         },
         "name": "P01034",
         "offsetgroup": "P01034",
         "orientation": "v",
         "showlegend": true,
         "textposition": "auto",
         "type": "bar",
         "x": [
          0,
          3,
          6,
          12,
          18,
          24,
          30,
          36,
          48,
          54,
          60,
          72,
          84,
          96,
          108
         ],
         "xaxis": "x",
         "y": [
          22166031.243523315,
          23046200,
          21562820.322580647,
          21005702.888888888,
          22946367.14285714,
          22527693.699421965,
          21559800,
          21941988.832214765,
          21742752.68115942,
          25119150,
          20979779.51807229,
          20598302.38095238,
          20590233.333333332,
          25019750,
          25828550
         ],
         "yaxis": "y"
        },
        {
         "alignmentgroup": "True",
         "error_y": {
          "array": [
           248038.50223130223,
           57878.885902661685,
           228559.40841859937,
           254945.93668648505,
           210973.61849749973,
           259061.9582312467,
           null,
           261698.06089644128,
           255977.37115560516,
           378512.8457555965,
           263374.75229704875,
           220373.92178990212,
           211667.25045552856,
           101962.6765267566,
           210297.2230550529
          ]
         },
         "hovertemplate": "UniProt=P01042<br>visit_month=%{x}<br>NPX_mean=%{y}<extra></extra>",
         "legendgroup": "P01042",
         "marker": {
          "color": "#EF553B",
          "pattern": {
           "shape": ""
          }
         },
         "name": "P01042",
         "offsetgroup": "P01042",
         "orientation": "v",
         "showlegend": true,
         "textposition": "auto",
         "type": "bar",
         "x": [
          0,
          3,
          6,
          12,
          18,
          24,
          30,
          36,
          48,
          54,
          60,
          72,
          84,
          96,
          108
         ],
         "xaxis": "x",
         "y": [
          1018009.087628866,
          1179136.6666666667,
          993269.9193548387,
          1004826.5777777778,
          980783.25,
          995665.5606936417,
          1252830,
          989396.1138926174,
          1005457.4202898551,
          1218521,
          1057404.7142857143,
          958657.4761904762,
          1008027.9,
          940301.5,
          1082426
         ],
         "yaxis": "y"
        },
        {
         "alignmentgroup": "True",
         "error_y": {
          "array": [
           29026.26348212569,
           9832.093696834529,
           28452.61267771293,
           27809.44818194431,
           28262.07173358151,
           28314.84249359405,
           null,
           27897.8297951854,
           28895.692451550272,
           109247.14916518418,
           29032.091759747247,
           31224.732526961474,
           21348.91153163923,
           54592.815437610465,
           19342.53813255041
          ]
         },
         "hovertemplate": "UniProt=P01344<br>visit_month=%{x}<br>NPX_mean=%{y}<extra></extra>",
         "legendgroup": "P01344",
         "marker": {
          "color": "#00cc96",
          "pattern": {
           "shape": ""
          }
         },
         "name": "P01344",
         "offsetgroup": "P01344",
         "orientation": "v",
         "showlegend": true,
         "textposition": "auto",
         "type": "bar",
         "x": [
          0,
          3,
          6,
          12,
          18,
          24,
          30,
          36,
          48,
          54,
          60,
          72,
          84,
          96,
          108
         ],
         "xaxis": "x",
         "y": [
          101532.31502590673,
          89540.56666666667,
          98130.8325203252,
          99143.86666666667,
          99383.0375,
          101773.57861271677,
          89021.3,
          101831.70472972974,
          101669.99565217392,
          145269.6,
          96539.8011904762,
          93642.4857142857,
          95051.79000000001,
          104518.05,
          104769.325
         ],
         "yaxis": "y"
        },
        {
         "alignmentgroup": "True",
         "error_y": {
          "array": [
           5202.140595110141,
           25565.97557972966,
           5484.837676843731,
           6943.427123307498,
           3072.872630654224,
           5850.805233912403,
           null,
           8487.15606119019,
           5786.955880907322,
           1539.1593306087566,
           5183.589735801227,
           4921.933268724898,
           3323.8963978013585,
           5192.723500457155,
           5050.55936759484
          ]
         },
         "hovertemplate": "UniProt=P01591<br>visit_month=%{x}<br>NPX_mean=%{y}<extra></extra>",
         "legendgroup": "P01591",
         "marker": {
          "color": "#ab63fa",
          "pattern": {
           "shape": ""
          }
         },
         "name": "P01591",
         "offsetgroup": "P01591",
         "orientation": "v",
         "showlegend": true,
         "textposition": "auto",
         "type": "bar",
         "x": [
          0,
          3,
          6,
          12,
          18,
          24,
          30,
          36,
          48,
          54,
          60,
          72,
          84,
          96,
          108
         ],
         "xaxis": "x",
         "y": [
          11676.177985074628,
          28146.933333333334,
          11999.538048780487,
          11189.261652892561,
          11040.782857142856,
          11494.6538,
          15260.8,
          12440.172,
          13026.2428,
          15511.25,
          11392.405925925927,
          10333.613333333335,
          11908.843,
          8053.39,
          8845
         ],
         "yaxis": "y"
        },
        {
         "alignmentgroup": "True",
         "error_y": {
          "array": [
           6451.662725926307,
           null,
           4153.5408817436855,
           5094.382236980878,
           2748.556043452635,
           4312.171378249888,
           null,
           7482.633507088327,
           6335.63854096973,
           null,
           4735.059779107651,
           3705.900897995716,
           2918.672964317318,
           4353.345324781852
          ]
         },
         "hovertemplate": "UniProt=P01594<br>visit_month=%{x}<br>NPX_mean=%{y}<extra></extra>",
         "legendgroup": "P01594",
         "marker": {
          "color": "#FFA15A",
          "pattern": {
           "shape": ""
          }
         },
         "name": "P01594",
         "offsetgroup": "P01594",
         "orientation": "v",
         "showlegend": true,
         "textposition": "auto",
         "type": "bar",
         "x": [
          0,
          3,
          6,
          12,
          18,
          24,
          30,
          36,
          48,
          54,
          60,
          72,
          84,
          108
         ],
         "xaxis": "x",
         "y": [
          13579.338623188405,
          19374.9,
          12285.973703703703,
          13166.908515625,
          13868.4,
          12903.457966101696,
          15120.7,
          13799.7053,
          13680.315104166666,
          9124.3,
          12915.871929824561,
          12738.146363636362,
          12471.905789473683,
          9235.32
         ],
         "yaxis": "y"
        },
        {
         "alignmentgroup": "True",
         "error_y": {
          "array": [
           5734.048485078175,
           6642.848950061513,
           6294.538557766987,
           5602.691097667879,
           3729.334273449963,
           5992.12651282106,
           6095.2008574510255,
           6848.11799472084,
           15937.713086401387,
           5232.748374484943,
           4039.2489639391883,
           11186.305649112066,
           4897.775119888622,
           7785.97167015995
          ]
         },
         "hovertemplate": "UniProt=P01608<br>visit_month=%{x}<br>NPX_mean=%{y}<extra></extra>",
         "legendgroup": "P01608",
         "marker": {
          "color": "#19d3f3",
          "pattern": {
           "shape": ""
          }
         },
         "name": "P01608",
         "offsetgroup": "P01608",
         "orientation": "v",
         "showlegend": true,
         "textposition": "auto",
         "type": "bar",
         "x": [
          0,
          3,
          6,
          12,
          18,
          24,
          36,
          48,
          54,
          60,
          72,
          84,
          96,
          108
         ],
         "xaxis": "x",
         "y": [
          14257.009942196533,
          13700.066666666666,
          13783.191592920353,
          13714.058039215686,
          12025.084285714285,
          13934.001721854303,
          13845.013769230769,
          13813.397398373985,
          17943.535,
          12568.48842105263,
          12184.645333333332,
          16810.085,
          16121.55,
          12826.813333333334
         ],
         "yaxis": "y"
        },
        {
         "alignmentgroup": "True",
         "error_y": {
          "array": [
           58863.24384961745,
           100324.61759772623,
           60085.19500116526,
           53315.434809604674,
           36548.70513238856,
           52860.15967266989,
           null,
           54923.47606334532,
           68259.65872236298,
           129391.34856898276,
           50208.49700599336,
           47941.92372199384,
           53518.457132920325,
           529.622979108724,
           70191.19218135564
          ]
         },
         "hovertemplate": "UniProt=P01621<br>visit_month=%{x}<br>NPX_mean=%{y}<extra></extra>",
         "legendgroup": "P01621",
         "marker": {
          "color": "#FF6692",
          "pattern": {
           "shape": ""
          }
         },
         "name": "P01621",
         "offsetgroup": "P01621",
         "orientation": "v",
         "showlegend": true,
         "textposition": "auto",
         "type": "bar",
         "x": [
          0,
          3,
          6,
          12,
          18,
          24,
          30,
          36,
          48,
          54,
          60,
          72,
          84,
          96,
          108
         ],
         "xaxis": "x",
         "y": [
          174294.89742268043,
          158531.9,
          165576.66422764226,
          163787.63333333333,
          148043.25,
          165500.12774566474,
          222128,
          159604.91486486484,
          167583.65217391305,
          198300.5,
          156544.4511904762,
          149537.29523809525,
          174388.72666666665,
          187279.5,
          162978.6
         ],
         "yaxis": "y"
        },
        {
         "alignmentgroup": "True",
         "error_y": {
          "array": [
           56690.42057432264,
           56635.82137101924,
           49053.037568510576,
           46128.764731186035,
           48817.86542181926,
           48851.16998701291,
           null,
           50865.13094304431,
           48318.39994868607,
           31934.35645194686,
           44937.166616703296,
           41419.5750526355,
           44160.6491603726,
           39151.79536751795,
           52956.61385433048
          ]
         },
         "hovertemplate": "UniProt=P01717<br>visit_month=%{x}<br>NPX_mean=%{y}<extra></extra>",
         "legendgroup": "P01717",
         "marker": {
          "color": "#B6E880",
          "pattern": {
           "shape": ""
          }
         },
         "name": "P01717",
         "offsetgroup": "P01717",
         "orientation": "v",
         "showlegend": true,
         "textposition": "auto",
         "type": "bar",
         "x": [
          0,
          3,
          6,
          12,
          18,
          24,
          30,
          36,
          48,
          54,
          60,
          72,
          84,
          96,
          108
         ],
         "xaxis": "x",
         "y": [
          126973.7350515464,
          101995.09999999999,
          120942.98211382114,
          118622.11388888888,
          104995.3,
          118610.80520231214,
          159728,
          119547.525,
          117627.61891304348,
          171172,
          110839.5607142857,
          111932.99047619046,
          120627.8,
          160817.5,
          153288.25
         ],
         "yaxis": "y"
        },
        {
         "alignmentgroup": "True",
         "error_y": {
          "array": [
           6106.564831456778,
           null,
           5132.842377122715,
           5676.949616551217,
           5042.719959141098,
           4897.918719518432,
           null,
           5488.748532519404,
           5458.2456994550985,
           null,
           4820.2523441456015,
           5723.373970654397,
           4662.525142287579,
           1666.5799725785741
          ]
         },
         "hovertemplate": "UniProt=P01780<br>visit_month=%{x}<br>NPX_mean=%{y}<extra></extra>",
         "legendgroup": "P01780",
         "marker": {
          "color": "#FF97FF",
          "pattern": {
           "shape": ""
          }
         },
         "name": "P01780",
         "offsetgroup": "P01780",
         "orientation": "v",
         "showlegend": true,
         "textposition": "auto",
         "type": "bar",
         "x": [
          0,
          3,
          6,
          12,
          18,
          24,
          30,
          36,
          48,
          54,
          60,
          72,
          84,
          108
         ],
         "xaxis": "x",
         "y": [
          12946.330769230768,
          13165.1,
          12525.590945945945,
          12625.362173913043,
          10673.138,
          12142.08294117647,
          14399.8,
          12973.62424390244,
          11842.026666666667,
          4650.41,
          11731.527446808512,
          13441.7975,
          10840.089333333333,
          12018.95
         ],
         "yaxis": "y"
        },
        {
         "alignmentgroup": "True",
         "error_y": {
          "array": [
           1172384.7927755464,
           1736891.3780755932,
           1524207.0384809086,
           1468614.0287799416,
           1414337.962535829,
           1546642.7900581558,
           null,
           1285342.4036965363,
           1167621.748731122,
           null,
           1562925.6010927707,
           873931.8906094698,
           1502063.3601736615,
           1390518.4141355339,
           1238315.3306105032
          ]
         },
         "hovertemplate": "UniProt=P01833<br>visit_month=%{x}<br>NPX_mean=%{y}<extra></extra>",
         "legendgroup": "P01833",
         "marker": {
          "color": "#FECB52",
          "pattern": {
           "shape": ""
          }
         },
         "name": "P01833",
         "offsetgroup": "P01833",
         "orientation": "v",
         "showlegend": true,
         "textposition": "auto",
         "type": "bar",
         "x": [
          0,
          3,
          6,
          12,
          18,
          24,
          30,
          36,
          48,
          54,
          60,
          72,
          84,
          96,
          108
         ],
         "xaxis": "x",
         "y": [
          3854305.1369863013,
          3883223.3333333335,
          3945343.75,
          3934842.32,
          4333305,
          4006048.5669491524,
          3584930,
          3875807.7592592593,
          3898505.8653846155,
          4025420,
          3886018.656716418,
          2903833.3333333335,
          3610805.238095238,
          3604815,
          3834777.5
         ],
         "yaxis": "y"
        },
        {
         "alignmentgroup": "True",
         "error_y": {
          "array": [
           905246.2980434753,
           1492013.0049031074,
           878894.9371626377,
           992415.7261759823,
           582563.9142184774,
           907189.3800648446,
           null,
           1085627.1074957543,
           840350.0944566845,
           2578726.5071057845,
           956168.0016521037,
           752366.3669547981,
           777092.0161979665,
           1087042.3257858914,
           863661.7407488498
          ]
         },
         "hovertemplate": "UniProt=P01834<br>visit_month=%{x}<br>NPX_mean=%{y}<extra></extra>",
         "legendgroup": "P01834",
         "marker": {
          "color": "#636efa",
          "pattern": {
           "shape": ""
          }
         },
         "name": "P01834",
         "offsetgroup": "P01834",
         "orientation": "v",
         "showlegend": true,
         "textposition": "auto",
         "type": "bar",
         "x": [
          0,
          3,
          6,
          12,
          18,
          24,
          30,
          36,
          48,
          54,
          60,
          72,
          84,
          96,
          108
         ],
         "xaxis": "x",
         "y": [
          2687553.5721649486,
          3560380,
          2752097.35483871,
          2681858.85,
          2000963.125,
          2663735.3121387283,
          3315850,
          2701566.677852349,
          2671591.4492753623,
          3612715,
          2713617.1785714286,
          2327676.1904761903,
          2931564,
          2917045,
          2656625
         ],
         "yaxis": "y"
        },
        {
         "alignmentgroup": "True",
         "error_y": {
          "array": [
           2358183.6158957523,
           3628671.2596532265,
           2245256.922105729,
           2491647.344180524,
           1247711.3415217097,
           2175731.397246925,
           null,
           2357795.864270589,
           1908270.6395413985,
           5401185.65061876,
           2040726.0958994082,
           1770031.3596710782,
           1742238.7296407544,
           1186518.107763215,
           1477443.2713390386
          ]
         },
         "hovertemplate": "UniProt=P01857<br>visit_month=%{x}<br>NPX_mean=%{y}<extra></extra>",
         "legendgroup": "P01857",
         "marker": {
          "color": "#EF553B",
          "pattern": {
           "shape": ""
          }
         },
         "name": "P01857",
         "offsetgroup": "P01857",
         "orientation": "v",
         "showlegend": true,
         "textposition": "auto",
         "type": "bar",
         "x": [
          0,
          3,
          6,
          12,
          18,
          24,
          30,
          36,
          48,
          54,
          60,
          72,
          84,
          96,
          108
         ],
         "xaxis": "x",
         "y": [
          5355157.216494845,
          5535673.333333333,
          5389775.129032258,
          5432089.122905028,
          4726094.285714285,
          5357598.313953488,
          5794420,
          5202940.288590604,
          5151079.449275362,
          6121025,
          5162145.833333333,
          4703187.619047619,
          5528905.333333333,
          6218085,
          5139197.5
         ],
         "yaxis": "y"
        },
        {
         "alignmentgroup": "True",
         "error_y": {
          "array": [
           1090424.3658435731,
           1345407.4774580377,
           937410.8609128025,
           981674.3822528305,
           778301.9832497537,
           935944.5347261998,
           null,
           1064313.6043116678,
           937253.7636421875,
           744314.7400125837,
           958106.0129765471,
           654863.2440837153,
           952197.7827178094,
           1236418.6333115494,
           1090437.5878364919
          ]
         },
         "hovertemplate": "UniProt=P01859<br>visit_month=%{x}<br>NPX_mean=%{y}<extra></extra>",
         "legendgroup": "P01859",
         "marker": {
          "color": "#00cc96",
          "pattern": {
           "shape": ""
          }
         },
         "name": "P01859",
         "offsetgroup": "P01859",
         "orientation": "v",
         "showlegend": true,
         "textposition": "auto",
         "type": "bar",
         "x": [
          0,
          3,
          6,
          12,
          18,
          24,
          30,
          36,
          48,
          54,
          60,
          72,
          84,
          96,
          108
         ],
         "xaxis": "x",
         "y": [
          2186905.6321243523,
          2743120,
          2185283.1903225807,
          2181220.1944444445,
          1579760.25,
          2055399.9302325582,
          4608880,
          2151767.7181208055,
          2078782.9855072463,
          2750490,
          2145517.773809524,
          1953006.0476190476,
          2297772.3333333335,
          3326540,
          2713455
         ],
         "yaxis": "y"
        },
        {
         "alignmentgroup": "True",
         "error_y": {
          "array": [
           371667.17312288523,
           92951.43069366926,
           309310.4965343176,
           324546.35597235226,
           335572.10244582494,
           354455.4688629322,
           null,
           347556.2041844581,
           285242.1520013809,
           781432.1891706279,
           284636.63642899145,
           229214.7753090039,
           259154.94402801208,
           378055.34766816883,
           456159.8977927038
          ]
         },
         "hovertemplate": "UniProt=P01860<br>visit_month=%{x}<br>NPX_mean=%{y}<extra></extra>",
         "legendgroup": "P01860",
         "marker": {
          "color": "#ab63fa",
          "pattern": {
           "shape": ""
          }
         },
         "name": "P01860",
         "offsetgroup": "P01860",
         "orientation": "v",
         "showlegend": true,
         "textposition": "auto",
         "type": "bar",
         "x": [
          0,
          3,
          6,
          12,
          18,
          24,
          30,
          36,
          48,
          54,
          60,
          72,
          84,
          96,
          108
         ],
         "xaxis": "x",
         "y": [
          567336.1760416667,
          306560,
          553898.2290322582,
          516117.85642458097,
          556688.4625,
          540790.9630057804,
          973218,
          540210.0506711409,
          524898.9727941176,
          684014,
          513368.2060240964,
          453761.4285714286,
          523467.9,
          1102114.5,
          555213.25
         ],
         "yaxis": "y"
        },
        {
         "alignmentgroup": "True",
         "error_y": {
          "array": [
           48269.2162937435,
           41406.75889272185,
           58269.63512488784,
           70431.39755159675,
           43848.79044514987,
           55650.03384988119,
           null,
           54033.74375105688,
           56185.36003878889,
           null,
           62798.45824002054,
           56148.26577440382,
           64389.46451796248,
           37207.03958722059,
           10436.393825614923
          ]
         },
         "hovertemplate": "UniProt=P01861<br>visit_month=%{x}<br>NPX_mean=%{y}<extra></extra>",
         "legendgroup": "P01861",
         "marker": {
          "color": "#FFA15A",
          "pattern": {
           "shape": ""
          }
         },
         "name": "P01861",
         "offsetgroup": "P01861",
         "orientation": "v",
         "showlegend": true,
         "textposition": "auto",
         "type": "bar",
         "x": [
          0,
          3,
          6,
          12,
          18,
          24,
          30,
          36,
          48,
          54,
          60,
          72,
          84,
          96,
          108
         ],
         "xaxis": "x",
         "y": [
          72732.79746376812,
          130523,
          78743.98423913043,
          85149.8819858156,
          93172.93333333333,
          76954.85488636364,
          29328.7,
          70736.37785714286,
          72336.37693877552,
          187628,
          82526.78612903226,
          95523.70588235294,
          87164.42,
          119599.65,
          96329.16666666667
         ],
         "yaxis": "y"
        },
        {
         "alignmentgroup": "True",
         "error_y": {
          "array": [
           1468366.3162846034,
           2144861.4502651063,
           1104438.7661506825,
           1109173.3290522425,
           975235.0886095912,
           1281931.5129598367,
           null,
           2911052.879351614,
           1271779.4395622278,
           1111182.9512956,
           1236282.7700656122,
           717315.147453468,
           880280.5571468051,
           87094.34223874706,
           233942.73962873907
          ]
         },
         "hovertemplate": "UniProt=P01876<br>visit_month=%{x}<br>NPX_mean=%{y}<extra></extra>",
         "legendgroup": "P01876",
         "marker": {
          "color": "#19d3f3",
          "pattern": {
           "shape": ""
          }
         },
         "name": "P01876",
         "offsetgroup": "P01876",
         "orientation": "v",
         "showlegend": true,
         "textposition": "auto",
         "type": "bar",
         "x": [
          0,
          3,
          6,
          12,
          18,
          24,
          30,
          36,
          48,
          54,
          60,
          72,
          84,
          96,
          108
         ],
         "xaxis": "x",
         "y": [
          2764150.2525773197,
          3850243.3333333335,
          2500176.306451613,
          2493132.7055555554,
          2060776.25,
          2641740.1791907516,
          3545890,
          2787149.4852348994,
          2557854.492753623,
          2814765,
          2426797.869047619,
          2369790.238095238,
          2556703,
          2065705,
          1888487.5
         ],
         "yaxis": "y"
        },
        {
         "alignmentgroup": "True",
         "error_y": {
          "array": [
           70529.34657410065,
           63725.455045871066,
           73913.82726499211,
           68526.84296606478,
           42846.12327717254,
           60354.16035338358,
           null,
           60763.96421881676,
           64841.2037671972,
           67499.21125053981,
           58376.798968687515,
           36319.221906193605,
           55951.46048947469,
           12911.628403110128,
           28711.69354082932
          ]
         },
         "hovertemplate": "UniProt=P01877<br>visit_month=%{x}<br>NPX_mean=%{y}<extra></extra>",
         "legendgroup": "P01877",
         "marker": {
          "color": "#FF6692",
          "pattern": {
           "shape": ""
          }
         },
         "name": "P01877",
         "offsetgroup": "P01877",
         "orientation": "v",
         "showlegend": true,
         "textposition": "auto",
         "type": "bar",
         "x": [
          0,
          3,
          6,
          12,
          18,
          24,
          30,
          36,
          48,
          54,
          60,
          72,
          84,
          96,
          108
         ],
         "xaxis": "x",
         "y": [
          93489.82494505495,
          98954.03333333333,
          93321.68858333334,
          85564.51094117647,
          88463.26666666666,
          86550.45830188679,
          33915.8,
          84484.67575539568,
          83816.68960317461,
          104805.85,
          76850.55875,
          71179.43333333333,
          81150.28965517241,
          81444.79999999999,
          71760.025
         ],
         "yaxis": "y"
        },
        {
         "alignmentgroup": "True",
         "error_y": {
          "array": [
           20952.820227528777,
           11255.148339463742,
           18469.249293808272,
           19406.312112344367,
           18077.1768121139,
           19643.728182612365,
           null,
           19658.786982158537,
           18832.06479663987,
           62606.66872083196,
           16362.14851370717,
           21038.84481409974,
           16039.21298306845,
           25005.77065649048,
           10169.227986225571
          ]
         },
         "hovertemplate": "UniProt=P02452<br>visit_month=%{x}<br>NPX_mean=%{y}<extra></extra>",
         "legendgroup": "P02452",
         "marker": {
          "color": "#B6E880",
          "pattern": {
           "shape": ""
          }
         },
         "name": "P02452",
         "offsetgroup": "P02452",
         "orientation": "v",
         "showlegend": true,
         "textposition": "auto",
         "type": "bar",
         "x": [
          0,
          3,
          6,
          12,
          18,
          24,
          30,
          36,
          48,
          54,
          60,
          72,
          84,
          96,
          108
         ],
         "xaxis": "x",
         "y": [
          43287.36747311828,
          45994.666666666664,
          42437.59603305785,
          40625.715988372096,
          45926.625,
          42087.454545454544,
          46223.1,
          43261.955586206896,
          42872.900984848486,
          77130.4,
          40250.604146341466,
          39183.94714285714,
          45231.01379310345,
          48344.850000000006,
          49345.775
         ],
         "yaxis": "y"
        },
        {
         "alignmentgroup": "True",
         "error_y": {
          "array": [
           4243288.30847006,
           1518086.756809373,
           3910566.4755939394,
           4246354.9450505525,
           4625101.202176168,
           4324936.278646046,
           null,
           4266461.13035483,
           4217317.074661238,
           1860256.5199455693,
           4091508.5258114757,
           4314790.53767979,
           3630972.43101955,
           1006707.9243752877,
           5714534.757087987
          ]
         },
         "hovertemplate": "UniProt=P02647<br>visit_month=%{x}<br>NPX_mean=%{y}<extra></extra>",
         "legendgroup": "P02647",
         "marker": {
          "color": "#FF97FF",
          "pattern": {
           "shape": ""
          }
         },
         "name": "P02647",
         "offsetgroup": "P02647",
         "orientation": "v",
         "showlegend": true,
         "textposition": "auto",
         "type": "bar",
         "x": [
          0,
          3,
          6,
          12,
          18,
          24,
          30,
          36,
          48,
          54,
          60,
          72,
          84,
          96,
          108
         ],
         "xaxis": "x",
         "y": [
          11045923.654639175,
          10675920,
          11405522.338709677,
          11540389.888888888,
          13979535,
          11149243.583815029,
          19302700,
          10928510.595704697,
          11390832.246376812,
          15000700,
          10851898.92857143,
          10148204.952380951,
          11161030.333333334,
          12977150,
          12410455
         ],
         "yaxis": "y"
        },
        {
         "alignmentgroup": "True",
         "error_y": {
          "array": [
           5358100.832040027,
           3265577.215317378,
           5026855.9927537935,
           4735783.502357218,
           4011555.3198067257,
           5531117.809676065,
           null,
           4764311.427965968,
           4971144.918560826,
           6937247.853525921,
           4734178.78845068,
           5007658.771725983,
           4413481.035740851,
           1319949.1573731164,
           1819652.8833360865
          ]
         },
         "hovertemplate": "UniProt=P02649<br>visit_month=%{x}<br>NPX_mean=%{y}<extra></extra>",
         "legendgroup": "P02649",
         "marker": {
          "color": "#FECB52",
          "pattern": {
           "shape": ""
          }
         },
         "name": "P02649",
         "offsetgroup": "P02649",
         "orientation": "v",
         "showlegend": true,
         "textposition": "auto",
         "type": "bar",
         "x": [
          0,
          3,
          6,
          12,
          18,
          24,
          30,
          36,
          48,
          54,
          60,
          72,
          84,
          96,
          108
         ],
         "xaxis": "x",
         "y": [
          10810967.216494845,
          13370520,
          11055637.661290323,
          10167575.172222223,
          14001211.25,
          11151929.98265896,
          8797390,
          10193016.449664429,
          11072685.289855072,
          10978225,
          11017249.285714285,
          9843997.238095239,
          10060332,
          8269705,
          10492425
         ],
         "yaxis": "y"
        },
        {
         "alignmentgroup": "True",
         "error_y": {
          "array": [
           216324.304605213,
           110135.75174453268,
           199264.19597030367,
           212136.51795972022,
           327213.60400323477,
           203220.59343218352,
           null,
           203090.33892897278,
           198226.2501127749,
           248692.99047721468,
           203491.00476725667,
           172467.00071895053,
           192419.06448295809,
           95619.22159273208,
           164852.37057516037
          ]
         },
         "hovertemplate": "UniProt=P02652<br>visit_month=%{x}<br>NPX_mean=%{y}<extra></extra>",
         "legendgroup": "P02652",
         "marker": {
          "color": "#636efa",
          "pattern": {
           "shape": ""
          }
         },
         "name": "P02652",
         "offsetgroup": "P02652",
         "orientation": "v",
         "showlegend": true,
         "textposition": "auto",
         "type": "bar",
         "x": [
          0,
          3,
          6,
          12,
          18,
          24,
          30,
          36,
          48,
          54,
          60,
          72,
          84,
          96,
          108
         ],
         "xaxis": "x",
         "y": [
          596419.6025773196,
          693606.3333333334,
          574043.6556451613,
          598876.3,
          592410.75,
          566768.2699421966,
          517816,
          566521.5858108108,
          557952.3579710146,
          846077.5,
          556547.475,
          497521.90476190473,
          567644.81,
          692566,
          515963.25
         ],
         "yaxis": "y"
        },
        {
         "alignmentgroup": "True",
         "error_y": {
          "array": [
           10987.16773148295,
           null,
           10248.89273083415,
           10864.97459675059,
           11955.66538838586,
           8846.110049820218,
           9860.92757431609,
           11462.755990299032,
           9764.254074654298,
           13820.896650248591,
           10171.185772747574,
           null
          ]
         },
         "hovertemplate": "UniProt=P02655<br>visit_month=%{x}<br>NPX_mean=%{y}<extra></extra>",
         "legendgroup": "P02655",
         "marker": {
          "color": "#EF553B",
          "pattern": {
           "shape": ""
          }
         },
         "name": "P02655",
         "offsetgroup": "P02655",
         "orientation": "v",
         "showlegend": true,
         "textposition": "auto",
         "type": "bar",
         "x": [
          0,
          3,
          6,
          12,
          18,
          24,
          36,
          48,
          60,
          72,
          84,
          108
         ],
         "xaxis": "x",
         "y": [
          27578.834104477613,
          17884.4,
          27885.50763888889,
          27235.4,
          26522.071428571428,
          26015.212149532712,
          26345.654563106797,
          25119.794945054942,
          26191.997234042556,
          24148.377142857145,
          29791.15263157895,
          42682.9
         ],
         "yaxis": "y"
        },
        {
         "alignmentgroup": "True",
         "error_y": {
          "array": [
           37609.818549387375,
           27165.534972338264,
           32964.830572541025,
           34537.71700615251,
           47951.8564590048,
           36753.023200265925,
           null,
           35391.99407139855,
           37356.80969364065,
           14241.130573097067,
           41462.344624296034,
           33854.157403220066,
           35548.2334219685,
           29487.201303616457,
           45387.67570585654
          ]
         },
         "hovertemplate": "UniProt=P02656<br>visit_month=%{x}<br>NPX_mean=%{y}<extra></extra>",
         "legendgroup": "P02656",
         "marker": {
          "color": "#00cc96",
          "pattern": {
           "shape": ""
          }
         },
         "name": "P02656",
         "offsetgroup": "P02656",
         "orientation": "v",
         "showlegend": true,
         "textposition": "auto",
         "type": "bar",
         "x": [
          0,
          3,
          6,
          12,
          18,
          24,
          30,
          36,
          48,
          54,
          60,
          72,
          84,
          96,
          108
         ],
         "xaxis": "x",
         "y": [
          101362.9943298969,
          103932.33333333333,
          98528.1629032258,
          96832.72277777779,
          93171.675,
          96865.10867052023,
          134086,
          94235.84054054055,
          96968.23260869565,
          118639,
          101337.48571428572,
          100004.1,
          98995.9,
          84975.4,
          118464.2
         ],
         "yaxis": "y"
        },
        {
         "alignmentgroup": "True",
         "error_y": {
          "array": [
           223953.39848882784,
           71166.84672186432,
           191669.57460281072,
           238536.9944389809,
           306490.6233145058,
           223464.20293606806,
           null,
           244707.36753201822,
           267067.4378903099,
           118687.873222162,
           286442.6246904201,
           290217.4708462637,
           273405.72398791777,
           20194.9696706878,
           205441.84987870252
          ]
         },
         "hovertemplate": "UniProt=P02671<br>visit_month=%{x}<br>NPX_mean=%{y}<extra></extra>",
         "legendgroup": "P02671",
         "marker": {
          "color": "#ab63fa",
          "pattern": {
           "shape": ""
          }
         },
         "name": "P02671",
         "offsetgroup": "P02671",
         "orientation": "v",
         "showlegend": true,
         "textposition": "auto",
         "type": "bar",
         "x": [
          0,
          3,
          6,
          12,
          18,
          24,
          30,
          36,
          48,
          54,
          60,
          72,
          84,
          96,
          108
         ],
         "xaxis": "x",
         "y": [
          584815.881443299,
          579841.3333333334,
          580079.2983870967,
          594535.3522222223,
          635785,
          599068.3757225433,
          1057290,
          604793.0743243244,
          633092.1739130435,
          882522,
          631444.130952381,
          600623.7761904763,
          716025.7666666667,
          618171,
          607339.75
         ],
         "yaxis": "y"
        },
        {
         "alignmentgroup": "True",
         "error_y": {
          "array": [
           188057.43233100438,
           82039.09653939394,
           174529.97320961778,
           212535.5664784916,
           240711.67022572283,
           200654.7306604123,
           null,
           217839.84845623214,
           218916.5769235102,
           412239.71789785125,
           227277.04812313692,
           208971.81160568504,
           200878.45313512007,
           63265.5508195416,
           149810.859840834
          ]
         },
         "hovertemplate": "UniProt=P02675<br>visit_month=%{x}<br>NPX_mean=%{y}<extra></extra>",
         "legendgroup": "P02675",
         "marker": {
          "color": "#FFA15A",
          "pattern": {
           "shape": ""
          }
         },
         "name": "P02675",
         "offsetgroup": "P02675",
         "orientation": "v",
         "showlegend": true,
         "textposition": "auto",
         "type": "bar",
         "x": [
          0,
          3,
          6,
          12,
          18,
          24,
          30,
          36,
          48,
          54,
          60,
          72,
          84,
          96,
          108
         ],
         "xaxis": "x",
         "y": [
          550730.3402061856,
          552646,
          552254.3951612903,
          548389.0283333333,
          569189,
          558072.6138728324,
          1067480,
          561572.0337837838,
          589154.3434782609,
          771652.5,
          586946.9833333334,
          612734.1904761905,
          683179.2,
          535444.5,
          659665.75
         ],
         "yaxis": "y"
        },
        {
         "alignmentgroup": "True",
         "error_y": {
          "array": [
           65205.011007178626,
           27792.416813464304,
           59410.04115540372,
           67120.96272701838,
           65860.78085218715,
           64016.58942390227,
           null,
           67828.89325861326,
           72266.06680327299,
           110250.67510904411,
           71734.35335798946,
           77950.05057546544,
           73443.08068436016,
           34510.34645580945,
           57980.77314938117
          ]
         },
         "hovertemplate": "UniProt=P02679<br>visit_month=%{x}<br>NPX_mean=%{y}<extra></extra>",
         "legendgroup": "P02679",
         "marker": {
          "color": "#19d3f3",
          "pattern": {
           "shape": ""
          }
         },
         "name": "P02679",
         "offsetgroup": "P02679",
         "orientation": "v",
         "showlegend": true,
         "textposition": "auto",
         "type": "bar",
         "x": [
          0,
          3,
          6,
          12,
          18,
          24,
          30,
          36,
          48,
          54,
          60,
          72,
          84,
          96,
          108
         ],
         "xaxis": "x",
         "y": [
          176597.99381443296,
          178977.66666666666,
          176461.90806451614,
          180417.1,
          175403.0625,
          183580.3358381503,
          321442,
          182199.51486486485,
          189518.17318840578,
          215257,
          196159.6380952381,
          181226.8523809524,
          213845.14333333334,
          188111.5,
          203298.5
         ],
         "yaxis": "y"
        },
        {
         "alignmentgroup": "True",
         "error_y": {
          "array": [
           44139.60039929201,
           30236.994317116463,
           41888.98487466158,
           36288.346507934075,
           50418.789783513326,
           45757.083263246495,
           null,
           46258.60197544743,
           36969.68339625313,
           46085.68446383323,
           40171.98567816929,
           31915.552509785957,
           37705.05413830997,
           7558.264384103007,
           22591.987103985935
          ]
         },
         "hovertemplate": "UniProt=P02747<br>visit_month=%{x}<br>NPX_mean=%{y}<extra></extra>",
         "legendgroup": "P02747",
         "marker": {
          "color": "#FF6692",
          "pattern": {
           "shape": ""
          }
         },
         "name": "P02747",
         "offsetgroup": "P02747",
         "orientation": "v",
         "showlegend": true,
         "textposition": "auto",
         "type": "bar",
         "x": [
          0,
          3,
          6,
          12,
          18,
          24,
          30,
          36,
          48,
          54,
          60,
          72,
          84,
          96,
          108
         ],
         "xaxis": "x",
         "y": [
          135103.95824742268,
          130035.66666666667,
          134976.31129032257,
          129630.81277777778,
          145145.5625,
          131024.8405780347,
          142014,
          132440.49256756756,
          138051.22408759122,
          141283.5,
          130916.09166666666,
          127205.77619047619,
          135079.47666666665,
          127475.5,
          129817.6
         ],
         "yaxis": "y"
        },
        {
         "alignmentgroup": "True",
         "error_y": {
          "array": [
           38455.160856175484,
           45961.61996126043,
           38027.94353273877,
           37655.87746502065,
           46041.156950988276,
           37912.39159632021,
           null,
           41618.7339958763,
           42289.9146443775,
           46500.756144389736,
           46491.74791914874,
           34709.67595529962,
           36812.184025053946,
           26152.34430218446,
           38460.36629687762
          ]
         },
         "hovertemplate": "UniProt=P02748<br>visit_month=%{x}<br>NPX_mean=%{y}<extra></extra>",
         "legendgroup": "P02748",
         "marker": {
          "color": "#B6E880",
          "pattern": {
           "shape": ""
          }
         },
         "name": "P02748",
         "offsetgroup": "P02748",
         "orientation": "v",
         "showlegend": true,
         "textposition": "auto",
         "type": "bar",
         "x": [
          0,
          3,
          6,
          12,
          18,
          24,
          30,
          36,
          48,
          54,
          60,
          72,
          84,
          96,
          108
         ],
         "xaxis": "x",
         "y": [
          111151.45751295338,
          87542.23333333334,
          110418.28387096773,
          109424.44750000001,
          116765.2625,
          112218.44127906975,
          215860,
          114016.10340136054,
          113287.71304347826,
          100359,
          121138.03333333334,
          109519.90952380953,
          104405.59333333332,
          123052.5,
          113869.65
         ],
         "yaxis": "y"
        },
        {
         "alignmentgroup": "True",
         "error_y": {
          "array": [
           303323.31500301254,
           385182.0443958934,
           263567.1604401721,
           296287.40255155426,
           380055.3789736955,
           279972.11950558156,
           null,
           313587.4641538459,
           288630.700048704,
           110315.72893291328,
           301445.46989259234,
           283794.8768451139,
           220916.85918830996,
           102841.61025577148,
           274045.3261019668
          ]
         },
         "hovertemplate": "UniProt=P02749<br>visit_month=%{x}<br>NPX_mean=%{y}<extra></extra>",
         "legendgroup": "P02749",
         "marker": {
          "color": "#FF97FF",
          "pattern": {
           "shape": ""
          }
         },
         "name": "P02749",
         "offsetgroup": "P02749",
         "orientation": "v",
         "showlegend": true,
         "textposition": "auto",
         "type": "bar",
         "x": [
          0,
          3,
          6,
          12,
          18,
          24,
          30,
          36,
          48,
          54,
          60,
          72,
          84,
          96,
          108
         ],
         "xaxis": "x",
         "y": [
          1133375.6030927836,
          1076465,
          1103481.3709677418,
          1128962.7722222223,
          1237728.375,
          1141785.994219653,
          1305250,
          1138899.9201342282,
          1136630.608695652,
          1612015,
          1131315.2023809524,
          1036969.3333333334,
          1121967.4,
          1219180,
          1300812.5
         ],
         "yaxis": "y"
        },
        {
         "alignmentgroup": "True",
         "error_y": {
          "array": [
           83097.24231687305,
           70994.02199481305,
           70982.59686128912,
           65669.88191754755,
           50758.66540798724,
           68577.26803399938,
           null,
           89426.23136629594,
           87168.52659630693,
           91611.34035696673,
           82023.90500518611,
           64083.13389808584,
           55890.882143742805,
           36425.19161926262,
           26931.077059474123
          ]
         },
         "hovertemplate": "UniProt=P02750<br>visit_month=%{x}<br>NPX_mean=%{y}<extra></extra>",
         "legendgroup": "P02750",
         "marker": {
          "color": "#FECB52",
          "pattern": {
           "shape": ""
          }
         },
         "name": "P02750",
         "offsetgroup": "P02750",
         "orientation": "v",
         "showlegend": true,
         "textposition": "auto",
         "type": "bar",
         "x": [
          0,
          3,
          6,
          12,
          18,
          24,
          30,
          36,
          48,
          54,
          60,
          72,
          84,
          96,
          108
         ],
         "xaxis": "x",
         "y": [
          225427.9,
          177621,
          222193.1620967742,
          214066.63944444444,
          239728.5,
          219714.36300578032,
          322071,
          227835.99662162163,
          233807.31304347827,
          251784,
          234493.98571428572,
          209902,
          225192.23333333334,
          215619.5,
          263596.75
         ],
         "yaxis": "y"
        },
        {
         "alignmentgroup": "True",
         "error_y": {
          "array": [
           433804.9287644652,
           183341.5463917912,
           477791.0548777317,
           431493.50580783084,
           321368.351928793,
           449508.04461550387,
           null,
           428032.321412277,
           442445.34221162956,
           449642.1310887137,
           447324.7443405051,
           485097.78663658554,
           441105.7630286941,
           62875.93498310781,
           260010.91610097192
          ]
         },
         "hovertemplate": "UniProt=P02751<br>visit_month=%{x}<br>NPX_mean=%{y}<extra></extra>",
         "legendgroup": "P02751",
         "marker": {
          "color": "#636efa",
          "pattern": {
           "shape": ""
          }
         },
         "name": "P02751",
         "offsetgroup": "P02751",
         "orientation": "v",
         "showlegend": true,
         "textposition": "auto",
         "type": "bar",
         "x": [
          0,
          3,
          6,
          12,
          18,
          24,
          30,
          36,
          48,
          54,
          60,
          72,
          84,
          96,
          108
         ],
         "xaxis": "x",
         "y": [
          1574070.0670103093,
          1865083.3333333333,
          1566975.4435483871,
          1528519.138888889,
          1601257.5,
          1583634.3930635839,
          2348180,
          1565801.7216107384,
          1599742.0217391304,
          1439205,
          1633631.25,
          1640227.7142857143,
          1684584.3333333333,
          1623140,
          1643512.5
         ],
         "yaxis": "y"
        },
        {
         "alignmentgroup": "True",
         "error_y": {
          "array": [
           124357.30218599063,
           44686.47371781906,
           105682.8680014073,
           111851.8683209453,
           112152.05208356006,
           119722.95218284396,
           null,
           117071.97436760315,
           114493.29688220909,
           45106.34157188987,
           132771.20059985915,
           107432.39243053102,
           101041.11957973565,
           8374.265609592283,
           142781.8028951869
          ]
         },
         "hovertemplate": "UniProt=P02753<br>visit_month=%{x}<br>NPX_mean=%{y}<extra></extra>",
         "legendgroup": "P02753",
         "marker": {
          "color": "#EF553B",
          "pattern": {
           "shape": ""
          }
         },
         "name": "P02753",
         "offsetgroup": "P02753",
         "orientation": "v",
         "showlegend": true,
         "textposition": "auto",
         "type": "bar",
         "x": [
          0,
          3,
          6,
          12,
          18,
          24,
          30,
          36,
          48,
          54,
          60,
          72,
          84,
          96,
          108
         ],
         "xaxis": "x",
         "y": [
          441679.03350515466,
          491679.3333333333,
          440007.8064516129,
          446891.04888888885,
          480887.625,
          443462.85086705204,
          360257,
          441666.4324324324,
          434651.72536231886,
          380594,
          455376.8773809524,
          416484.61904761905,
          421651.73333333334,
          439343.5,
          487438
         ],
         "yaxis": "y"
        },
        {
         "alignmentgroup": "True",
         "error_y": {
          "array": [
           82086.95221243799,
           20222.94817775094,
           71039.76113030296,
           86149.53041380676,
           128315.4421883124,
           80746.0949692456,
           null,
           90337.48533546024,
           79662.4194394844,
           23137.948093986208,
           83059.00960755521,
           71679.09821509037,
           67777.2780906648,
           43032.397382669726,
           133193.57641793392
          ]
         },
         "hovertemplate": "UniProt=P02760<br>visit_month=%{x}<br>NPX_mean=%{y}<extra></extra>",
         "legendgroup": "P02760",
         "marker": {
          "color": "#00cc96",
          "pattern": {
           "shape": ""
          }
         },
         "name": "P02760",
         "offsetgroup": "P02760",
         "orientation": "v",
         "showlegend": true,
         "textposition": "auto",
         "type": "bar",
         "x": [
          0,
          3,
          6,
          12,
          18,
          24,
          30,
          36,
          48,
          54,
          60,
          72,
          84,
          96,
          108
         ],
         "xaxis": "x",
         "y": [
          354368.8917525773,
          298499,
          339119.9379032258,
          343221.7111111111,
          348495.625,
          349095.37572254334,
          470904,
          352879.48851351347,
          357326.4855072464,
          393633,
          350107,
          325465.85714285716,
          348082,
          330942.5,
          392835.5
         ],
         "yaxis": "y"
        },
        {
         "alignmentgroup": "True",
         "error_y": {
          "array": [
           2196855.9524932834,
           1036040.8507550914,
           1704056.0600840086,
           2084344.4534466271,
           2886620.597213177,
           2259576.758918154,
           null,
           2738117.7100098096,
           2439687.353054018,
           2086601.400603383,
           2373000.89820976,
           2008703.8365503738,
           1171293.6456138012,
           106256.9360089025,
           912087.8687750795
          ]
         },
         "hovertemplate": "UniProt=P02763<br>visit_month=%{x}<br>NPX_mean=%{y}<extra></extra>",
         "legendgroup": "P02763",
         "marker": {
          "color": "#ab63fa",
          "pattern": {
           "shape": ""
          }
         },
         "name": "P02763",
         "offsetgroup": "P02763",
         "orientation": "v",
         "showlegend": true,
         "textposition": "auto",
         "type": "bar",
         "x": [
          0,
          3,
          6,
          12,
          18,
          24,
          30,
          36,
          48,
          54,
          60,
          72,
          84,
          96,
          108
         ],
         "xaxis": "x",
         "y": [
          4900545.0360824745,
          5071153.333333333,
          4599126.080645162,
          4830280.772222222,
          5598053.75,
          4956949.913294798,
          5998830,
          5032882.797297297,
          5242784.173913044,
          6659590,
          4941771.238095238,
          5065113.904761905,
          4583073.8,
          5959095,
          6418735
         ],
         "yaxis": "y"
        },
        {
         "alignmentgroup": "True",
         "error_y": {
          "array": [
           663503.9984271375,
           354271.2613709068,
           644165.3592105197,
           650849.9066368841,
           300765.1350157984,
           601760.5016442302,
           null,
           730778.1752982747,
           669543.4880530912,
           294870.5988226022,
           683469.0615516332,
           514000.4219022726,
           665428.3961479252,
           152784.5622109773,
           425710.5793356953
          ]
         },
         "hovertemplate": "UniProt=P02765<br>visit_month=%{x}<br>NPX_mean=%{y}<extra></extra>",
         "legendgroup": "P02765",
         "marker": {
          "color": "#FFA15A",
          "pattern": {
           "shape": ""
          }
         },
         "name": "P02765",
         "offsetgroup": "P02765",
         "orientation": "v",
         "showlegend": true,
         "textposition": "auto",
         "type": "bar",
         "x": [
          0,
          3,
          6,
          12,
          18,
          24,
          30,
          36,
          48,
          54,
          60,
          72,
          84,
          96,
          108
         ],
         "xaxis": "x",
         "y": [
          2466163.680412371,
          2544246.6666666665,
          2372719.056451613,
          2463100.277777778,
          2811691.25,
          2410228.023121387,
          3627950,
          2411612.744295302,
          2396535.6014492754,
          2869005,
          2431329.9166666665,
          2242524.285714286,
          2395060,
          2655125,
          2725267.5
         ],
         "yaxis": "y"
        },
        {
         "alignmentgroup": "True",
         "error_y": {
          "array": [
           8622787.620272238,
           4597950.032713854,
           7724377.685844905,
           7934098.400376599,
           4057042.7253771573,
           11752679.304764166,
           null,
           8021769.782742589,
           7252283.334149863,
           40998334.0159085,
           7225102.112076048,
           21983079.971473645,
           7845710.321442802,
           6899382.2853933815,
           7967624.2612943705
          ]
         },
         "hovertemplate": "UniProt=P02766<br>visit_month=%{x}<br>NPX_mean=%{y}<extra></extra>",
         "legendgroup": "P02766",
         "marker": {
          "color": "#19d3f3",
          "pattern": {
           "shape": ""
          }
         },
         "name": "P02766",
         "offsetgroup": "P02766",
         "orientation": "v",
         "showlegend": true,
         "textposition": "auto",
         "type": "bar",
         "x": [
          0,
          3,
          6,
          12,
          18,
          24,
          30,
          36,
          48,
          54,
          60,
          72,
          84,
          96,
          108
         ],
         "xaxis": "x",
         "y": [
          19013611.907216493,
          22197533.333333332,
          18604033.387096774,
          19725590.388888888,
          18872687.5,
          20049505.49132948,
          28644700,
          19949576.825503357,
          19659366.52173913,
          42560400,
          18415039.166666668,
          23888925.714285713,
          19438107,
          25077600,
          21858125
         ],
         "yaxis": "y"
        },
        {
         "alignmentgroup": "True",
         "error_y": {
          "array": [
           58274632.004135884,
           95681297.2964588,
           67700662.9500263,
           56822194.397760436,
           61105242.50583111,
           66400795.70086104,
           null,
           67011125.93223156,
           61421069.07801372,
           26298715.405890077,
           55962458.89108137,
           87015078.91372567,
           64199937.77090837,
           79976605.37932327,
           76073217.81459403
          ]
         },
         "hovertemplate": "UniProt=P02768<br>visit_month=%{x}<br>NPX_mean=%{y}<extra></extra>",
         "legendgroup": "P02768",
         "marker": {
          "color": "#FF6692",
          "pattern": {
           "shape": ""
          }
         },
         "name": "P02768",
         "offsetgroup": "P02768",
         "orientation": "v",
         "showlegend": true,
         "textposition": "auto",
         "type": "bar",
         "x": [
          0,
          3,
          6,
          12,
          18,
          24,
          30,
          36,
          48,
          54,
          60,
          72,
          84,
          96,
          108
         ],
         "xaxis": "x",
         "y": [
          314051278.3505155,
          303214666.6666667,
          313168354.83870965,
          308480172.2222222,
          295117625,
          316081884.3930636,
          307572000,
          311698002.68456376,
          307653000,
          291326000,
          302787142.85714287,
          284993190.47619045,
          297204066.6666667,
          316966000,
          305245000
         ],
         "yaxis": "y"
        },
        {
         "alignmentgroup": "True",
         "error_y": {
          "array": [
           670671.0850040041,
           777274.8666334194,
           679770.1619660743,
           705129.176621172,
           710659.1800059897,
           684908.6080196399,
           null,
           756878.2970449614,
           708308.8911891131,
           1419608.7871135485,
           667247.4817187296,
           626942.885262552,
           587803.9466184537,
           3189.0515831513294,
           616254.0152134238
          ]
         },
         "hovertemplate": "UniProt=P02774<br>visit_month=%{x}<br>NPX_mean=%{y}<extra></extra>",
         "legendgroup": "P02774",
         "marker": {
          "color": "#B6E880",
          "pattern": {
           "shape": ""
          }
         },
         "name": "P02774",
         "offsetgroup": "P02774",
         "orientation": "v",
         "showlegend": true,
         "textposition": "auto",
         "type": "bar",
         "x": [
          0,
          3,
          6,
          12,
          18,
          24,
          30,
          36,
          48,
          54,
          60,
          72,
          84,
          96,
          108
         ],
         "xaxis": "x",
         "y": [
          3059301.494845361,
          2497170,
          3023871.3467741935,
          2977850.5166666666,
          2780851.25,
          2987422.6589595377,
          3483590,
          2985092.3375838925,
          2983902.1811594204,
          4062595,
          2941705.035714286,
          2787103.6666666665,
          2922408.6666666665,
          2896445,
          2851210
         ],
         "yaxis": "y"
        },
        {
         "alignmentgroup": "True",
         "error_y": {
          "array": [
           7811678.811595657,
           8431710.526538096,
           9703418.043045355,
           7738208.065677782,
           6872687.659964518,
           8901620.026041841,
           null,
           8272677.588440753,
           8184875.48946199,
           5835681.554454458,
           7562342.139861536,
           8836005.73861882,
           8559136.583176557,
           9332607.43013441,
           2539716.56226963
          ]
         },
         "hovertemplate": "UniProt=P02787<br>visit_month=%{x}<br>NPX_mean=%{y}<extra></extra>",
         "legendgroup": "P02787",
         "marker": {
          "color": "#FF97FF",
          "pattern": {
           "shape": ""
          }
         },
         "name": "P02787",
         "offsetgroup": "P02787",
         "orientation": "v",
         "showlegend": true,
         "textposition": "auto",
         "type": "bar",
         "x": [
          0,
          3,
          6,
          12,
          18,
          24,
          30,
          36,
          48,
          54,
          60,
          72,
          84,
          96,
          108
         ],
         "xaxis": "x",
         "y": [
          32015112.88659794,
          33407166.666666668,
          33092827.580645163,
          31581156.666666668,
          34210300,
          32664271.040462427,
          36350100,
          32181473.187919464,
          32166464.420289855,
          29791750,
          32917672.61904762,
          30365423.80952381,
          31692953.333333332,
          28201050,
          32357150
         ],
         "yaxis": "y"
        },
        {
         "alignmentgroup": "True",
         "error_y": {
          "array": [
           1080085.0931734634,
           338477.87259041524,
           1023980.2997156583,
           1093117.94939487,
           1485930.3386280788,
           1132927.4420811483,
           null,
           1222968.1611802662,
           1189594.9779956294,
           59389.898551858125,
           1145007.1783854282,
           1184142.3022788225,
           1196398.8770031373,
           611633.2235907399,
           472284.67809856654
          ]
         },
         "hovertemplate": "UniProt=P02790<br>visit_month=%{x}<br>NPX_mean=%{y}<extra></extra>",
         "legendgroup": "P02790",
         "marker": {
          "color": "#FECB52",
          "pattern": {
           "shape": ""
          }
         },
         "name": "P02790",
         "offsetgroup": "P02790",
         "orientation": "v",
         "showlegend": true,
         "textposition": "auto",
         "type": "bar",
         "x": [
          0,
          3,
          6,
          12,
          18,
          24,
          30,
          36,
          48,
          54,
          60,
          72,
          84,
          96,
          108
         ],
         "xaxis": "x",
         "y": [
          4859714.742268041,
          4106626.6666666665,
          4873913.225806451,
          4784665.833333333,
          4951173.75,
          4890051.965317919,
          6971320,
          4980599.525503355,
          4946823.043478261,
          4452135,
          4974016.904761905,
          4726308.095238095,
          4657554.333333333,
          4891320,
          4730865
         ],
         "yaxis": "y"
        },
        {
         "alignmentgroup": "True",
         "error_y": {
          "array": [
           5842.623620420596,
           3309.332724785064,
           6075.017225815114,
           5526.773398941909,
           2034.1928538530158,
           5512.005970042486,
           null,
           5147.176900401873,
           4906.173994309261,
           null,
           5249.463972725435,
           5905.940074943744,
           6516.869046807316,
           2572.1009165660666,
           3152.6802533717237
          ]
         },
         "hovertemplate": "UniProt=P02792<br>visit_month=%{x}<br>NPX_mean=%{y}<extra></extra>",
         "legendgroup": "P02792",
         "marker": {
          "color": "#636efa",
          "pattern": {
           "shape": ""
          }
         },
         "name": "P02792",
         "offsetgroup": "P02792",
         "orientation": "v",
         "showlegend": true,
         "textposition": "auto",
         "type": "bar",
         "x": [
          0,
          3,
          6,
          12,
          18,
          24,
          30,
          36,
          48,
          54,
          60,
          72,
          84,
          96,
          108
         ],
         "xaxis": "x",
         "y": [
          16622.08095238095,
          18067.86666666667,
          16939.338289473682,
          16416.53051724138,
          22312.5,
          16596.429008264462,
          17470.8,
          16648.128585858587,
          15987.951428571429,
          17138.2,
          16996.56,
          14365.739166666666,
          17894.449999999997,
          22240.15,
          18715.7
         ],
         "yaxis": "y"
        },
        {
         "alignmentgroup": "True",
         "error_y": {
          "array": [
           297707.520323699,
           389461.01097157336,
           252658.2093576951,
           281911.1383106389,
           301960.5982076611,
           250175.43643521113,
           null,
           274759.8781859633,
           286240.86421951774,
           116425.13152236505,
           277247.6475842047,
           230172.41285837803,
           319238.0120601859,
           188132.83020249283,
           146934.6627595068
          ]
         },
         "hovertemplate": "UniProt=P04004<br>visit_month=%{x}<br>NPX_mean=%{y}<extra></extra>",
         "legendgroup": "P04004",
         "marker": {
          "color": "#EF553B",
          "pattern": {
           "shape": ""
          }
         },
         "name": "P04004",
         "offsetgroup": "P04004",
         "orientation": "v",
         "showlegend": true,
         "textposition": "auto",
         "type": "bar",
         "x": [
          0,
          3,
          6,
          12,
          18,
          24,
          30,
          36,
          48,
          54,
          60,
          72,
          84,
          96,
          108
         ],
         "xaxis": "x",
         "y": [
          1133965.9329896907,
          1085423,
          1083497.8709677418,
          1110867.4933333334,
          1129429.25,
          1099914.1744186047,
          1622430,
          1108465.0722972972,
          1062690.9079710145,
          1213655,
          1073738.1904761905,
          1088422.0476190476,
          1028007.4166666666,
          1209660,
          1144952.25
         ],
         "yaxis": "y"
        },
        {
         "alignmentgroup": "True",
         "error_y": {
          "array": [
           9109.762286770734,
           3882.503266364799,
           9129.545979669312,
           8629.981154331223,
           5311.154645363313,
           9415.825905229041,
           null,
           9176.124028060052,
           8974.011070497223,
           12097.112101861338,
           9048.910802803764,
           7304.458559885676,
           9058.79255210491,
           7317.989499855817,
           4633.927175643426
          ]
         },
         "hovertemplate": "UniProt=P04075<br>visit_month=%{x}<br>NPX_mean=%{y}<extra></extra>",
         "legendgroup": "P04075",
         "marker": {
          "color": "#00cc96",
          "pattern": {
           "shape": ""
          }
         },
         "name": "P04075",
         "offsetgroup": "P04075",
         "orientation": "v",
         "showlegend": true,
         "textposition": "auto",
         "type": "bar",
         "x": [
          0,
          3,
          6,
          12,
          18,
          24,
          30,
          36,
          48,
          54,
          60,
          72,
          84,
          96,
          108
         ],
         "xaxis": "x",
         "y": [
          21162.482419354837,
          19628.566666666666,
          21620.486097560977,
          20576.850057142856,
          25082.5875,
          21941.00303030303,
          21871,
          21206.15608108108,
          21601.03419117647,
          19723.45,
          21795.20025,
          19951.3715,
          21660.781000000003,
          21963.199999999997,
          21812.025
         ],
         "yaxis": "y"
        },
        {
         "alignmentgroup": "True",
         "error_y": {
          "array": [
           182959.81996873277,
           97811.2187174866,
           182348.53928874776,
           149641.57158347688,
           150228.060707712,
           192278.79621354252,
           null,
           179499.68424686097,
           156569.38888712807,
           715893.9971563527,
           184137.9301438439,
           95995.66932270581,
           198329.16834512452,
           152183.52144696875,
           147940.3442957104
          ]
         },
         "hovertemplate": "UniProt=P04156<br>visit_month=%{x}<br>NPX_mean=%{y}<extra></extra>",
         "legendgroup": "P04156",
         "marker": {
          "color": "#ab63fa",
          "pattern": {
           "shape": ""
          }
         },
         "name": "P04156",
         "offsetgroup": "P04156",
         "orientation": "v",
         "showlegend": true,
         "textposition": "auto",
         "type": "bar",
         "x": [
          0,
          3,
          6,
          12,
          18,
          24,
          30,
          36,
          48,
          54,
          60,
          72,
          84,
          96,
          108
         ],
         "xaxis": "x",
         "y": [
          377741.08814432984,
          254359,
          348148.1701612903,
          342279.4772222222,
          373417,
          370744.512716763,
          467504,
          357421.3466216216,
          365694.73623188405,
          649536.5,
          364192.74523809523,
          276310.71428571426,
          356728.7233333333,
          312359,
          458411.5
         ],
         "yaxis": "y"
        },
        {
         "alignmentgroup": "True",
         "error_y": {
          "array": [
           22456.103312569696,
           3410.431656452498,
           21659.25715847287,
           20836.33110881346,
           20032.20015510742,
           22438.048550268704,
           null,
           21060.215543285347,
           19349.72718207445,
           10767.11495712756,
           19783.366616435884,
           24542.612847833032,
           16086.811992573723,
           7490.735686499694,
           14469.545110190349
          ]
         },
         "hovertemplate": "UniProt=P04180<br>visit_month=%{x}<br>NPX_mean=%{y}<extra></extra>",
         "legendgroup": "P04180",
         "marker": {
          "color": "#FFA15A",
          "pattern": {
           "shape": ""
          }
         },
         "name": "P04180",
         "offsetgroup": "P04180",
         "orientation": "v",
         "showlegend": true,
         "textposition": "auto",
         "type": "bar",
         "x": [
          0,
          3,
          6,
          12,
          18,
          24,
          30,
          36,
          48,
          54,
          60,
          72,
          84,
          96,
          108
         ],
         "xaxis": "x",
         "y": [
          69143.183814433,
          70250.46666666667,
          68616.01935483872,
          66139.81611111111,
          74735.75,
          66830.57919075144,
          62736.7,
          66279.25945945946,
          65914.60434782608,
          56757.8,
          67998.14285714286,
          58808.54761904762,
          63922.420000000006,
          63936.350000000006,
          64959.525
         ],
         "yaxis": "y"
        },
        {
         "alignmentgroup": "True",
         "error_y": {
          "array": [
           51528.09101626046,
           53255.85883575002,
           44673.160974812636,
           50692.694540870405,
           57261.561289901474,
           45218.49183623532,
           null,
           46296.82430202832,
           44625.05922018966,
           46775.11357549012,
           50476.82271404886,
           53446.02918265615,
           38668.82894631424,
           14317.498105465214,
           29848.430850716424
          ]
         },
         "hovertemplate": "UniProt=P04196<br>visit_month=%{x}<br>NPX_mean=%{y}<extra></extra>",
         "legendgroup": "P04196",
         "marker": {
          "color": "#19d3f3",
          "pattern": {
           "shape": ""
          }
         },
         "name": "P04196",
         "offsetgroup": "P04196",
         "orientation": "v",
         "showlegend": true,
         "textposition": "auto",
         "type": "bar",
         "x": [
          0,
          3,
          6,
          12,
          18,
          24,
          30,
          36,
          48,
          54,
          60,
          72,
          84,
          96,
          108
         ],
         "xaxis": "x",
         "y": [
          200102.13969072167,
          164216.66666666666,
          203080.2451612903,
          201035.94444444444,
          236897.25,
          204595.02369942196,
          336942,
          205239.59324324326,
          204374.44782608695,
          176179,
          204131.6380952381,
          190151.26666666666,
          208026.7,
          175148,
          196109.25
         ],
         "yaxis": "y"
        },
        {
         "alignmentgroup": "True",
         "error_y": {
          "array": [
           31043.73183304229,
           28824.909108442993,
           26850.991127954883,
           25841.777415235418,
           34280.985639272396,
           27791.781473610077,
           null,
           30883.21446209421,
           26110.402117715592,
           72448.3930334207,
           25790.443892955667,
           27296.60123385153,
           25836.773327765164,
           6548.303768534264,
           12470.533857992346
          ]
         },
         "hovertemplate": "UniProt=P04207<br>visit_month=%{x}<br>NPX_mean=%{y}<extra></extra>",
         "legendgroup": "P04207",
         "marker": {
          "color": "#FF6692",
          "pattern": {
           "shape": ""
          }
         },
         "name": "P04207",
         "offsetgroup": "P04207",
         "orientation": "v",
         "showlegend": true,
         "textposition": "auto",
         "type": "bar",
         "x": [
          0,
          3,
          6,
          12,
          18,
          24,
          30,
          36,
          48,
          54,
          60,
          72,
          84,
          96,
          108
         ],
         "xaxis": "x",
         "y": [
          82231.77967914438,
          63283.299999999996,
          79158.60416666667,
          78326.73693181817,
          74761.45,
          79015.93567251462,
          114657,
          81003.42413793104,
          77821.1552238806,
          87972.25,
          77212.3756097561,
          70205.47619047618,
          75156.40714285713,
          76420.45000000001,
          86119.95
         ],
         "yaxis": "y"
        },
        {
         "alignmentgroup": "True",
         "error_y": {
          "array": [
           12100.472522549502,
           20009.80117411215,
           11135.360085586573,
           10516.409225546942,
           9263.835171579343,
           10598.803807184175,
           null,
           11722.92983592624,
           11087.089377144044,
           2057.8928652872114,
           13351.782975654083,
           9553.78265241674,
           8796.543433084926,
           2552.3726373709624,
           15627.082690103527
          ]
         },
         "hovertemplate": "UniProt=P04211<br>visit_month=%{x}<br>NPX_mean=%{y}<extra></extra>",
         "legendgroup": "P04211",
         "marker": {
          "color": "#B6E880",
          "pattern": {
           "shape": ""
          }
         },
         "name": "P04211",
         "offsetgroup": "P04211",
         "orientation": "v",
         "showlegend": true,
         "textposition": "auto",
         "type": "bar",
         "x": [
          0,
          3,
          6,
          12,
          18,
          24,
          30,
          36,
          48,
          54,
          60,
          72,
          84,
          96,
          108
         ],
         "xaxis": "x",
         "y": [
          28540.647307692307,
          28946.45,
          28118.488620689655,
          27976.226325301206,
          28926.042857142857,
          26306.310981595096,
          28954.7,
          28480.512030075188,
          26712.382015503874,
          24458.25,
          27675.645657894736,
          26835.752380952385,
          25898.695666666667,
          28806.6,
          23815.55
         ],
         "yaxis": "y"
        },
        {
         "alignmentgroup": "True",
         "error_y": {
          "array": [
           64241.537806810375,
           42384.46206504612,
           65468.2427461203,
           56076.40034483292,
           44316.826763614175,
           67353.06003226864,
           null,
           71502.94938857364,
           59816.59864986208,
           77848.355389308,
           60087.656251508066,
           52682.69339255043,
           77635.54772922127,
           116221.4140587052,
           39804.569379940534
          ]
         },
         "hovertemplate": "UniProt=P04216<br>visit_month=%{x}<br>NPX_mean=%{y}<extra></extra>",
         "legendgroup": "P04216",
         "marker": {
          "color": "#FF97FF",
          "pattern": {
           "shape": ""
          }
         },
         "name": "P04216",
         "offsetgroup": "P04216",
         "orientation": "v",
         "showlegend": true,
         "textposition": "auto",
         "type": "bar",
         "x": [
          0,
          3,
          6,
          12,
          18,
          24,
          30,
          36,
          48,
          54,
          60,
          72,
          84,
          96,
          108
         ],
         "xaxis": "x",
         "y": [
          143256.03789473683,
          108476.76666666666,
          144611.4862903226,
          135612.15977011496,
          147068.25714285715,
          143874.9947368421,
          73110.5,
          144539.5639455782,
          140667.9814814815,
          142803.9,
          138195.98452380951,
          129470.90476190476,
          136987.00333333333,
          133120.05,
          121133.425
         ],
         "yaxis": "y"
        },
        {
         "alignmentgroup": "True",
         "error_y": {
          "array": [
           292144.65216418327,
           396581.469950795,
           281164.9699606832,
           309390.5358483645,
           347605.4152442721,
           268528.22092369304,
           null,
           288968.2354526872,
           323570.2437590776,
           211226.9376760455,
           302725.37721109344,
           313520.0356879089,
           253139.16319282638,
           74019.9378546078,
           169191.59994416588
          ]
         },
         "hovertemplate": "UniProt=P04217<br>visit_month=%{x}<br>NPX_mean=%{y}<extra></extra>",
         "legendgroup": "P04217",
         "marker": {
          "color": "#FECB52",
          "pattern": {
           "shape": ""
          }
         },
         "name": "P04217",
         "offsetgroup": "P04217",
         "orientation": "v",
         "showlegend": true,
         "textposition": "auto",
         "type": "bar",
         "x": [
          0,
          3,
          6,
          12,
          18,
          24,
          30,
          36,
          48,
          54,
          60,
          72,
          84,
          96,
          108
         ],
         "xaxis": "x",
         "y": [
          1447115.2835051545,
          1323691.6666666667,
          1408358,
          1406601.822222222,
          1489862.5,
          1412368.7514450867,
          1779220,
          1425958.5810810812,
          1443884.3260869565,
          1461250,
          1460077.5595238095,
          1310599.0476190476,
          1327428.6333333333,
          1452090,
          1472292.5
         ],
         "yaxis": "y"
        },
        {
         "alignmentgroup": "True",
         "error_y": {
          "array": [
           157829.68592798655,
           99568.09944455102,
           150583.95424701698,
           147243.00824323736,
           105316.53426649,
           142081.52087795,
           null,
           158227.42299837727,
           141865.07052124545,
           192444.7673541684,
           143786.58482154878,
           152796.80835365364,
           132692.3077224667,
           21882.1264505989,
           96212.92017317633
          ]
         },
         "hovertemplate": "UniProt=P04275<br>visit_month=%{x}<br>NPX_mean=%{y}<extra></extra>",
         "legendgroup": "P04275",
         "marker": {
          "color": "#636efa",
          "pattern": {
           "shape": ""
          }
         },
         "name": "P04275",
         "offsetgroup": "P04275",
         "orientation": "v",
         "showlegend": true,
         "textposition": "auto",
         "type": "bar",
         "x": [
          0,
          3,
          6,
          12,
          18,
          24,
          30,
          36,
          48,
          54,
          60,
          72,
          84,
          96,
          108
         ],
         "xaxis": "x",
         "y": [
          443523.5652173913,
          353662,
          442419.5431034483,
          443638.2705882353,
          433818.71428571426,
          440394.94736842107,
          360163,
          461512.4236111111,
          445938.045112782,
          544101,
          414469.5925925926,
          441806.3,
          403466.1,
          459669,
          421410.25
         ],
         "yaxis": "y"
        },
        {
         "alignmentgroup": "True",
         "error_y": {
          "array": [
           6248.38512066437,
           1332.3305971116915,
           6351.483933172864,
           6458.686412489902,
           6090.366969895986,
           6883.3558305684155,
           null,
           6931.331234855041,
           5191.333952962887,
           6057.925215781391,
           6729.769919364881,
           5872.3645940491315,
           6133.985194686026,
           null,
           3911.4787182513633
          ]
         },
         "hovertemplate": "UniProt=P04406<br>visit_month=%{x}<br>NPX_mean=%{y}<extra></extra>",
         "legendgroup": "P04406",
         "marker": {
          "color": "#EF553B",
          "pattern": {
           "shape": ""
          }
         },
         "name": "P04406",
         "offsetgroup": "P04406",
         "orientation": "v",
         "showlegend": true,
         "textposition": "auto",
         "type": "bar",
         "x": [
          0,
          3,
          6,
          12,
          18,
          24,
          30,
          36,
          48,
          54,
          60,
          72,
          84,
          96,
          108
         ],
         "xaxis": "x",
         "y": [
          14515.136532258064,
          13560.7,
          14931.748735632184,
          14735.000789473685,
          13465.12,
          15147.640000000001,
          20849.3,
          14622.85175257732,
          15452.272234042553,
          15618.300000000001,
          15504.583090909093,
          13744.602727272728,
          13940.952,
          13005.5,
          17223.066666666666
         ],
         "yaxis": "y"
        },
        {
         "alignmentgroup": "True",
         "error_y": {
          "array": [
           164346.6668269795,
           353104.77121434273,
           146070.40863780654,
           137975.9006499594,
           103085.83768879215,
           149893.76140977902,
           null,
           151395.21868086478,
           151141.09286415932,
           401916.66599930887,
           152274.06316212757,
           105784.17562673808,
           140264.15177983322,
           82153.78715859665,
           175519.1232551314
          ]
         },
         "hovertemplate": "UniProt=P04433<br>visit_month=%{x}<br>NPX_mean=%{y}<extra></extra>",
         "legendgroup": "P04433",
         "marker": {
          "color": "#00cc96",
          "pattern": {
           "shape": ""
          }
         },
         "name": "P04433",
         "offsetgroup": "P04433",
         "orientation": "v",
         "showlegend": true,
         "textposition": "auto",
         "type": "bar",
         "x": [
          0,
          3,
          6,
          12,
          18,
          24,
          30,
          36,
          48,
          54,
          60,
          72,
          84,
          96,
          108
         ],
         "xaxis": "x",
         "y": [
          583465.0412371134,
          481087.3333333333,
          572145.2419354839,
          563380.9888888889,
          506582.5,
          574444.5722543353,
          898110,
          571959.25,
          566378.5797101449,
          725652,
          551441,
          562345.1428571428,
          615960.3666666667,
          667581.5,
          565792.25
         ],
         "yaxis": "y"
        },
        {
         "alignmentgroup": "True",
         "error_y": {
          "array": [
           111410.55237914118,
           147228.76448914458,
           112201.51632224034,
           105412.9787948385,
           91562.33038523831,
           115296.27515329515,
           null,
           100852.69545994813,
           103643.23758335768,
           204107.78660305933,
           93830.01129971465,
           68896.6274372943,
           89970.9149770453,
           7037.126686368521,
           63383.7150694088
          ]
         },
         "hovertemplate": "UniProt=P05060<br>visit_month=%{x}<br>NPX_mean=%{y}<extra></extra>",
         "legendgroup": "P05060",
         "marker": {
          "color": "#ab63fa",
          "pattern": {
           "shape": ""
          }
         },
         "name": "P05060",
         "offsetgroup": "P05060",
         "orientation": "v",
         "showlegend": true,
         "textposition": "auto",
         "type": "bar",
         "x": [
          0,
          3,
          6,
          12,
          18,
          24,
          30,
          36,
          48,
          54,
          60,
          72,
          84,
          96,
          108
         ],
         "xaxis": "x",
         "y": [
          256932.44278350516,
          265083,
          254579.37903225806,
          243326.68699999998,
          237343.2875,
          252937.88092485548,
          276771,
          247154.72905405404,
          242996.76231884057,
          302228,
          239956.7,
          199368.96666666665,
          233382.5466666667,
          210480,
          207098
         ],
         "yaxis": "y"
        },
        {
         "alignmentgroup": "True",
         "error_y": {
          "array": [
           329315.84765199746,
           332856.6879038685,
           326027.1550677777,
           313026.14064638567,
           184546.71401915522,
           341314.6433690252,
           null,
           321991.4599573856,
           295899.59618419333,
           464972.20610483806,
           290894.0564133482,
           330721.914064506,
           306320.085630763,
           227452.9169839332,
           243080.8483214313
          ]
         },
         "hovertemplate": "UniProt=P05067<br>visit_month=%{x}<br>NPX_mean=%{y}<extra></extra>",
         "legendgroup": "P05067",
         "marker": {
          "color": "#FFA15A",
          "pattern": {
           "shape": ""
          }
         },
         "name": "P05067",
         "offsetgroup": "P05067",
         "orientation": "v",
         "showlegend": true,
         "textposition": "auto",
         "type": "bar",
         "x": [
          0,
          3,
          6,
          12,
          18,
          24,
          30,
          36,
          48,
          54,
          60,
          72,
          84,
          96,
          108
         ],
         "xaxis": "x",
         "y": [
          891104.7783505154,
          830193.3333333334,
          855540.3870967742,
          850423.6111111111,
          878766.125,
          879392.838150289,
          740685,
          844545.9662162162,
          869253.195652174,
          844175,
          843027.119047619,
          883337.7619047619,
          846004.7,
          869846.5,
          914464
         ],
         "yaxis": "y"
        },
        {
         "alignmentgroup": "True",
         "error_y": {
          "array": [
           1548792.1313409146,
           806269.184412584,
           1442068.9990029824,
           1433828.975902086,
           1127064.5572895168,
           1448662.9003757152,
           null,
           1530772.0144539883,
           1335139.132164432,
           3502215.0344032277,
           1422885.1809825837,
           1507549.0454216455,
           990735.1495092438,
           325226.69293894066,
           1387914.345904194
          ]
         },
         "hovertemplate": "UniProt=P05090<br>visit_month=%{x}<br>NPX_mean=%{y}<extra></extra>",
         "legendgroup": "P05090",
         "marker": {
          "color": "#19d3f3",
          "pattern": {
           "shape": ""
          }
         },
         "name": "P05090",
         "offsetgroup": "P05090",
         "orientation": "v",
         "showlegend": true,
         "textposition": "auto",
         "type": "bar",
         "x": [
          0,
          3,
          6,
          12,
          18,
          24,
          30,
          36,
          48,
          54,
          60,
          72,
          84,
          96,
          108
         ],
         "xaxis": "x",
         "y": [
          5504803.144329897,
          6011223.333333333,
          5410332.177419355,
          5497437.666666667,
          5967731.25,
          5610061.6994219655,
          4793170,
          5790590.785234899,
          5599966.231884058,
          7422040,
          5386548.333333333,
          4974156.714285715,
          5078024,
          5714650,
          6208305
         ],
         "yaxis": "y"
        },
        {
         "alignmentgroup": "True",
         "error_y": {
          "array": [
           220935.0058315395,
           159550.0516650914,
           240757.02508063303,
           219962.77394086175,
           422410.36654603254,
           231889.5638918734,
           null,
           233610.79293631145,
           238681.02087463113,
           297624.7797353238,
           197587.21948044558,
           262179.8250784192,
           169995.77935408367,
           162090.0874513923,
           72175.17070987778
          ]
         },
         "hovertemplate": "UniProt=P05155<br>visit_month=%{x}<br>NPX_mean=%{y}<extra></extra>",
         "legendgroup": "P05155",
         "marker": {
          "color": "#FF6692",
          "pattern": {
           "shape": ""
          }
         },
         "name": "P05155",
         "offsetgroup": "P05155",
         "orientation": "v",
         "showlegend": true,
         "textposition": "auto",
         "type": "bar",
         "x": [
          0,
          3,
          6,
          12,
          18,
          24,
          30,
          36,
          48,
          54,
          60,
          72,
          84,
          96,
          108
         ],
         "xaxis": "x",
         "y": [
          850339.005670103,
          831756.3333333334,
          923530.2661290322,
          859184.8666666667,
          1032276.875,
          891865.4046242775,
          561431,
          913247.4662162162,
          890130.1014492754,
          1041537.5,
          894400.2857142857,
          825173.4952380952,
          840384.0666666667,
          881389,
          854173.5
         ],
         "yaxis": "y"
        },
        {
         "alignmentgroup": "True",
         "error_y": {
          "array": [
           28522.512882328425,
           12333.534975964247,
           24684.249328132795,
           26791.224505440157,
           33881.32908659439,
           26650.387257256378,
           null,
           25953.812702480678,
           29667.378716920473,
           31224.350532957444,
           29372.342372554314,
           19498.542187676983,
           22982.19875064327,
           15440.949359414408,
           21318.92393219383
          ]
         },
         "hovertemplate": "UniProt=P05156<br>visit_month=%{x}<br>NPX_mean=%{y}<extra></extra>",
         "legendgroup": "P05156",
         "marker": {
          "color": "#B6E880",
          "pattern": {
           "shape": ""
          }
         },
         "name": "P05156",
         "offsetgroup": "P05156",
         "orientation": "v",
         "showlegend": true,
         "textposition": "auto",
         "type": "bar",
         "x": [
          0,
          3,
          6,
          12,
          18,
          24,
          30,
          36,
          48,
          54,
          60,
          72,
          84,
          96,
          108
         ],
         "xaxis": "x",
         "y": [
          83357.46134020618,
          84658.63333333335,
          83183.72177419355,
          80822.28722222222,
          74151.5375,
          82765.97572254336,
          93331.9,
          84337.07837837837,
          84684.46159420289,
          103787.05,
          81480.22023809524,
          83478.88095238095,
          82881.12000000001,
          89797.6,
          94532.8
         ],
         "yaxis": "y"
        },
        {
         "alignmentgroup": "True",
         "error_y": {
          "array": [
           2038.2116876579312,
           4151.716811296262,
           2349.136843017674,
           2092.047090283437,
           968.3887836848722,
           2306.3070618006705,
           null,
           2037.4952550477492,
           1905.6614164572795,
           null,
           2055.209822967786,
           1393.9675688043585,
           1953.9076576544196,
           null,
           320.89919943807877
          ]
         },
         "hovertemplate": "UniProt=P05408<br>visit_month=%{x}<br>NPX_mean=%{y}<extra></extra>",
         "legendgroup": "P05408",
         "marker": {
          "color": "#FF97FF",
          "pattern": {
           "shape": ""
          }
         },
         "name": "P05408",
         "offsetgroup": "P05408",
         "orientation": "v",
         "showlegend": true,
         "textposition": "auto",
         "type": "bar",
         "x": [
          0,
          3,
          6,
          12,
          18,
          24,
          30,
          36,
          48,
          54,
          60,
          72,
          84,
          96,
          108
         ],
         "xaxis": "x",
         "y": [
          5762.028217054263,
          6202.12,
          5867.580459770115,
          5731.943177570094,
          5537.905000000001,
          5877.180594059406,
          3698.7,
          5196.460869565218,
          5865.72540229885,
          6278.11,
          5693.497333333334,
          5396.13875,
          5165.931666666666,
          5317.93,
          6071.01
         ],
         "yaxis": "y"
        },
        {
         "alignmentgroup": "True",
         "error_y": {
          "array": [
           109863.85646168688,
           28580.015331229857,
           110419.50044072885,
           100413.92805321308,
           81631.26196632198,
           103329.28630246174,
           null,
           106355.1618483499,
           92309.11369493624,
           269882.85938903195,
           101213.31547552286,
           113610.3656953386,
           79670.09673359404,
           179268.53959353827,
           44043.05449122105
          ]
         },
         "hovertemplate": "UniProt=P05452<br>visit_month=%{x}<br>NPX_mean=%{y}<extra></extra>",
         "legendgroup": "P05452",
         "marker": {
          "color": "#FECB52",
          "pattern": {
           "shape": ""
          }
         },
         "name": "P05452",
         "offsetgroup": "P05452",
         "orientation": "v",
         "showlegend": true,
         "textposition": "auto",
         "type": "bar",
         "x": [
          0,
          3,
          6,
          12,
          18,
          24,
          30,
          36,
          48,
          54,
          60,
          72,
          84,
          96,
          108
         ],
         "xaxis": "x",
         "y": [
          324155.5634020618,
          271688.3333333333,
          315882.6935483871,
          309878.31111111114,
          318943.75,
          317833.64739884395,
          283218,
          320970.4797297297,
          314363.03623188403,
          394892,
          313054.4607142857,
          291844.85714285716,
          298380.3333333333,
          314776,
          368735.25
         ],
         "yaxis": "y"
        },
        {
         "alignmentgroup": "True",
         "error_y": {
          "array": [
           20703.766965441424,
           69613.17768357511,
           21051.577845474243,
           19406.541256153178,
           16223.687829726896,
           23678.89107744126,
           null,
           20453.13154031728,
           19362.62932604034,
           null,
           20285.945254404964,
           27823.26992684138,
           20455.648246415898,
           null,
           17036.57420277524
          ]
         },
         "hovertemplate": "UniProt=P05546<br>visit_month=%{x}<br>NPX_mean=%{y}<extra></extra>",
         "legendgroup": "P05546",
         "marker": {
          "color": "#636efa",
          "pattern": {
           "shape": ""
          }
         },
         "name": "P05546",
         "offsetgroup": "P05546",
         "orientation": "v",
         "showlegend": true,
         "textposition": "auto",
         "type": "bar",
         "x": [
          0,
          3,
          6,
          12,
          18,
          24,
          30,
          36,
          48,
          54,
          60,
          72,
          84,
          96,
          108
         ],
         "xaxis": "x",
         "y": [
          89089.44893617021,
          63687.05,
          87558.88151260505,
          87958.85813953489,
          88986.125,
          86822.9191017964,
          104274,
          88326.75547945205,
          85051.07518796992,
          56554.9,
          86562.44390243903,
          81098.53476190477,
          86591.69642857143,
          63567.5,
          87546.3
         ],
         "yaxis": "y"
        },
        {
         "alignmentgroup": "True",
         "error_y": {
          "array": [
           5751.513595880682,
           null,
           6030.647103467258,
           6848.183776027373,
           4183.784180834379,
           6097.990332920216,
           null,
           6364.253893316704,
           5474.341018564999,
           2334.498895951763,
           4691.108786526343,
           5734.773417573393,
           4753.551715930123,
           745.0784153362637,
           3223.899609685968
          ]
         },
         "hovertemplate": "UniProt=P06310<br>visit_month=%{x}<br>NPX_mean=%{y}<extra></extra>",
         "legendgroup": "P06310",
         "marker": {
          "color": "#EF553B",
          "pattern": {
           "shape": ""
          }
         },
         "name": "P06310",
         "offsetgroup": "P06310",
         "orientation": "v",
         "showlegend": true,
         "textposition": "auto",
         "type": "bar",
         "x": [
          0,
          3,
          6,
          12,
          18,
          24,
          30,
          36,
          48,
          54,
          60,
          72,
          84,
          96,
          108
         ],
         "xaxis": "x",
         "y": [
          13710.858,
          17295.4,
          13903.028902439026,
          13431.792824074075,
          14374.529999999999,
          13666.448672566372,
          18729.1,
          14471.55303030303,
          13315.404268292681,
          9153.460000000001,
          14098.8872,
          11973.546923076921,
          12254.691111111111,
          11535.05,
          15607.833333333334
         ],
         "yaxis": "y"
        },
        {
         "alignmentgroup": "True",
         "error_y": {
          "array": [
           559869.8434751128,
           311070.2970926882,
           571530.4683182249,
           563354.0056817138,
           338800.5341115709,
           585595.0606516711,
           null,
           565219.351673425,
           579202.0459822441,
           119663.68058019943,
           505950.3094024334,
           641826.1367747425,
           549156.6600558554,
           126034.71267869024,
           266725.23032451706
          ]
         },
         "hovertemplate": "UniProt=P06396<br>visit_month=%{x}<br>NPX_mean=%{y}<extra></extra>",
         "legendgroup": "P06396",
         "marker": {
          "color": "#00cc96",
          "pattern": {
           "shape": ""
          }
         },
         "name": "P06396",
         "offsetgroup": "P06396",
         "orientation": "v",
         "showlegend": true,
         "textposition": "auto",
         "type": "bar",
         "x": [
          0,
          3,
          6,
          12,
          18,
          24,
          30,
          36,
          48,
          54,
          60,
          72,
          84,
          96,
          108
         ],
         "xaxis": "x",
         "y": [
          2022323.087628866,
          1891546.6666666667,
          2035627.8467741935,
          2000154.1,
          2300200,
          2081535.2832369942,
          2062950,
          2068529.8832214766,
          2025479.4992753621,
          1605845,
          2020971.0595238095,
          1940301.0952380951,
          1925336.4333333333,
          2022750,
          2007292.5
         ],
         "yaxis": "y"
        },
        {
         "alignmentgroup": "True",
         "error_y": {
          "array": [
           5903.057331358284,
           9614.173618153565,
           5335.554381965091,
           6043.467505709754,
           7926.026177915387,
           5715.288109701188,
           null,
           6019.279791066255,
           5148.070172351516,
           4438.367844151722,
           5649.651285067032,
           6578.534425221827,
           5323.6663019726,
           2921.0581130816277,
           3282.2240696413974
          ]
         },
         "hovertemplate": "UniProt=P06454<br>visit_month=%{x}<br>NPX_mean=%{y}<extra></extra>",
         "legendgroup": "P06454",
         "marker": {
          "color": "#ab63fa",
          "pattern": {
           "shape": ""
          }
         },
         "name": "P06454",
         "offsetgroup": "P06454",
         "orientation": "v",
         "showlegend": true,
         "textposition": "auto",
         "type": "bar",
         "x": [
          0,
          3,
          6,
          12,
          18,
          24,
          30,
          36,
          48,
          54,
          60,
          72,
          84,
          96,
          108
         ],
         "xaxis": "x",
         "y": [
          22898.04842105263,
          19524,
          23442.73119266055,
          23508.74993589744,
          22074.86,
          23660.957516778522,
          22730,
          23171.961503759398,
          23032.319130434786,
          26255.4,
          22465.380657894737,
          20926.242105263158,
          23984.62,
          23706.4,
          22909.966666666664
         ],
         "yaxis": "y"
        },
        {
         "alignmentgroup": "True",
         "error_y": {
          "array": [
           22775.656756365257,
           7620.9851180802,
           16654.211917985038,
           20679.82339096042,
           18975.52067999622,
           22421.198979167126,
           null,
           19399.24537177942,
           20805.78345052865,
           11542.457542698608,
           20091.147160259898,
           17147.04902317847,
           14344.45663366126,
           17554.491528380993,
           10711.746447241925
          ]
         },
         "hovertemplate": "UniProt=P06681<br>visit_month=%{x}<br>NPX_mean=%{y}<extra></extra>",
         "legendgroup": "P06681",
         "marker": {
          "color": "#FFA15A",
          "pattern": {
           "shape": ""
          }
         },
         "name": "P06681",
         "offsetgroup": "P06681",
         "orientation": "v",
         "showlegend": true,
         "textposition": "auto",
         "type": "bar",
         "x": [
          0,
          3,
          6,
          12,
          18,
          24,
          30,
          36,
          48,
          54,
          60,
          72,
          84,
          96,
          108
         ],
         "xaxis": "x",
         "y": [
          72293.91894736842,
          78624.7,
          77136.1943548387,
          74444.40285714286,
          79414.9625,
          74064.32958579881,
          91033.1,
          78372.5013986014,
          75890.1588235294,
          91038.45,
          75408.71785714285,
          70745.3142857143,
          78727.58666666667,
          46552,
          89126.65
         ],
         "yaxis": "y"
        },
        {
         "alignmentgroup": "True",
         "error_y": {
          "array": [
           238423.01610030327,
           235778.6127224718,
           228030.05103497507,
           236149.6555127731,
           223910.9539928365,
           226913.69460848122,
           null,
           247356.22382679657,
           252159.43506880236,
           128136.23403237665,
           207058.1086889433,
           201369.77556318074,
           221341.8593931299,
           12319.921448613217,
           124031.71412552784
          ]
         },
         "hovertemplate": "UniProt=P06727<br>visit_month=%{x}<br>NPX_mean=%{y}<extra></extra>",
         "legendgroup": "P06727",
         "marker": {
          "color": "#19d3f3",
          "pattern": {
           "shape": ""
          }
         },
         "name": "P06727",
         "offsetgroup": "P06727",
         "orientation": "v",
         "showlegend": true,
         "textposition": "auto",
         "type": "bar",
         "x": [
          0,
          3,
          6,
          12,
          18,
          24,
          30,
          36,
          48,
          54,
          60,
          72,
          84,
          96,
          108
         ],
         "xaxis": "x",
         "y": [
          523286.3534196891,
          723067.3333333334,
          532918.1741935484,
          537220.7394444444,
          670968.375,
          542752.898255814,
          526590,
          530401.3763513514,
          553546.15,
          769247,
          562199.094047619,
          550964.95,
          525164.2533333333,
          560815.5,
          542183.25
         ],
         "yaxis": "y"
        },
        {
         "alignmentgroup": "True",
         "error_y": {
          "array": [
           2932.8407564866557,
           1871.6426038197924,
           2778.866342226109,
           2803.0087181094596,
           1590.6225522142267,
           2896.15949974094,
           null,
           2651.769030962411,
           2891.8733379473806,
           4622.42773929458,
           2648.2847176865066,
           2421.616271642329,
           2579.068661167965,
           2646.1844940309807,
           1545.0896573419295
          ]
         },
         "hovertemplate": "UniProt=P07195<br>visit_month=%{x}<br>NPX_mean=%{y}<extra></extra>",
         "legendgroup": "P07195",
         "marker": {
          "color": "#FF6692",
          "pattern": {
           "shape": ""
          }
         },
         "name": "P07195",
         "offsetgroup": "P07195",
         "orientation": "v",
         "showlegend": true,
         "textposition": "auto",
         "type": "bar",
         "x": [
          0,
          3,
          6,
          12,
          18,
          24,
          30,
          36,
          48,
          54,
          60,
          72,
          84,
          96,
          108
         ],
         "xaxis": "x",
         "y": [
          7396.057921348315,
          8290.926666666666,
          6969.745546218487,
          6974.8207647058825,
          7176.18125,
          7566.382094339623,
          5929.83,
          7248.762214285714,
          7414.905648854962,
          6826.05,
          7202.2265,
          6794.397500000001,
          7422.054827586207,
          8035.174999999999,
          6656.7275
         ],
         "yaxis": "y"
        },
        {
         "alignmentgroup": "True",
         "error_y": {
          "array": [
           31323.827195087135,
           8974.900686544299,
           27977.631082496766,
           29190.087433277073,
           25709.6762766195,
           30498.837727035505,
           null,
           29711.671466074087,
           26210.831956021757,
           56696.81166503104,
           26555.50373103712,
           27914.62359982923,
           22324.541790679188,
           66832.19742384653,
           23398.338730203333
          ]
         },
         "hovertemplate": "UniProt=P07225<br>visit_month=%{x}<br>NPX_mean=%{y}<extra></extra>",
         "legendgroup": "P07225",
         "marker": {
          "color": "#B6E880",
          "pattern": {
           "shape": ""
          }
         },
         "name": "P07225",
         "offsetgroup": "P07225",
         "orientation": "v",
         "showlegend": true,
         "textposition": "auto",
         "type": "bar",
         "x": [
          0,
          3,
          6,
          12,
          18,
          24,
          30,
          36,
          48,
          54,
          60,
          72,
          84,
          96,
          108
         ],
         "xaxis": "x",
         "y": [
          119445.16082474227,
          128145.66666666667,
          121461.17016129031,
          118768.98555555554,
          127583.55,
          119391.5825433526,
          117074,
          121283.56756756757,
          118566.8347826087,
          126435.3,
          120548.07500000001,
          113944.67142857143,
          114629.83666666667,
          115245.5,
          116523
         ],
         "yaxis": "y"
        },
        {
         "alignmentgroup": "True",
         "error_y": {
          "array": [
           16944.619756312513,
           15588.840661297854,
           15688.753823653018,
           14428.09787570275,
           24191.622592604246,
           17173.509301989812,
           null,
           17551.970332746394,
           18751.22185104823,
           31571.115698451333,
           17425.25760516967,
           14140.735810840959,
           14726.301781652726,
           5557.859300126263,
           16103.893097426264
          ]
         },
         "hovertemplate": "UniProt=P07333<br>visit_month=%{x}<br>NPX_mean=%{y}<extra></extra>",
         "legendgroup": "P07333",
         "marker": {
          "color": "#FF97FF",
          "pattern": {
           "shape": ""
          }
         },
         "name": "P07333",
         "offsetgroup": "P07333",
         "orientation": "v",
         "showlegend": true,
         "textposition": "auto",
         "type": "bar",
         "x": [
          0,
          3,
          6,
          12,
          18,
          24,
          30,
          36,
          48,
          54,
          60,
          72,
          84,
          96,
          108
         ],
         "xaxis": "x",
         "y": [
          37276.11304347826,
          43895.43333333333,
          35291.0359223301,
          34573.72376712329,
          36288.159999999996,
          36353.08234482759,
          23395.6,
          35708.02912,
          38018.89473684211,
          47892.450000000004,
          38296.35014285715,
          36153.96,
          35382.260869565216,
          29834,
          39207.36666666667
         ],
         "yaxis": "y"
        },
        {
         "alignmentgroup": "True",
         "error_y": {
          "array": [
           106731.83978526125,
           45383.024539284874,
           108350.63481702926,
           98177.16801068647,
           100204.59810940741,
           103386.08031909428,
           null,
           102741.16708161993,
           100145.54681703028,
           9222.79374701614,
           91742.66088152729,
           101491.84078325376,
           81047.72403821534,
           172549.6109587037,
           114049.03310820599
          ]
         },
         "hovertemplate": "UniProt=P07339<br>visit_month=%{x}<br>NPX_mean=%{y}<extra></extra>",
         "legendgroup": "P07339",
         "marker": {
          "color": "#FECB52",
          "pattern": {
           "shape": ""
          }
         },
         "name": "P07339",
         "offsetgroup": "P07339",
         "orientation": "v",
         "showlegend": true,
         "textposition": "auto",
         "type": "bar",
         "x": [
          0,
          3,
          6,
          12,
          18,
          24,
          30,
          36,
          48,
          54,
          60,
          72,
          84,
          96,
          108
         ],
         "xaxis": "x",
         "y": [
          290390.6278350515,
          229950.33333333334,
          298559.48145161296,
          293585.81,
          270635.375,
          300049.9456647399,
          253295,
          305567.4074324324,
          290379.9652173913,
          285368.5,
          300096.5595238095,
          286582.0333333333,
          258602.86666666667,
          348970,
          319969.75
         ],
         "yaxis": "y"
        },
        {
         "alignmentgroup": "True",
         "error_y": {
          "array": [
           417292.13108433405,
           202614.67992966354,
           445291.9081975289,
           370780.3774036982,
           396589.1641300316,
           414152.7741821285,
           null,
           468685.23255222925,
           348694.2799017133,
           1145539.148473111,
           391448.36971219076,
           374879.86270082643,
           319968.1201998998,
           642016.1877647635,
           197663.82267880987
          ]
         },
         "hovertemplate": "UniProt=P07602<br>visit_month=%{x}<br>NPX_mean=%{y}<extra></extra>",
         "legendgroup": "P07602",
         "marker": {
          "color": "#636efa",
          "pattern": {
           "shape": ""
          }
         },
         "name": "P07602",
         "offsetgroup": "P07602",
         "orientation": "v",
         "showlegend": true,
         "textposition": "auto",
         "type": "bar",
         "x": [
          0,
          3,
          6,
          12,
          18,
          24,
          30,
          36,
          48,
          54,
          60,
          72,
          84,
          96,
          108
         ],
         "xaxis": "x",
         "y": [
          1148793.8195876288,
          973331,
          1125991.4193548388,
          1071606.1888888888,
          1159652.25,
          1133370.289017341,
          1193960,
          1143890.6617449664,
          1140411.0289855073,
          1561611.5,
          1071434.869047619,
          926028.2380952381,
          1020356.1333333333,
          1164146,
          1212787
         ],
         "yaxis": "y"
        },
        {
         "alignmentgroup": "True",
         "error_y": {
          "array": [
           16459.151588083645,
           5869.711269730393,
           16872.016894702094,
           12867.059211281654,
           11340.808194808189,
           15285.663678596613,
           null,
           16009.497560684757,
           13991.293421292556,
           3569.262899395334,
           15995.392364093217,
           12231.889882712341,
           10542.066654381222,
           19648.94181425554,
           12913.593336867942
          ]
         },
         "hovertemplate": "UniProt=P07711<br>visit_month=%{x}<br>NPX_mean=%{y}<extra></extra>",
         "legendgroup": "P07711",
         "marker": {
          "color": "#EF553B",
          "pattern": {
           "shape": ""
          }
         },
         "name": "P07711",
         "offsetgroup": "P07711",
         "orientation": "v",
         "showlegend": true,
         "textposition": "auto",
         "type": "bar",
         "x": [
          0,
          3,
          6,
          12,
          18,
          24,
          30,
          36,
          48,
          54,
          60,
          72,
          84,
          96,
          108
         ],
         "xaxis": "x",
         "y": [
          36752.051092896174,
          37001.200000000004,
          34491.71163793103,
          35865.689999999995,
          31509.385714285716,
          35271.175151515155,
          42866.7,
          37026.34201438849,
          36805.58061068702,
          35857.85,
          35134.53734177216,
          35522.57315789474,
          34630.9637037037,
          47843.7,
          45170.75
         ],
         "yaxis": "y"
        },
        {
         "alignmentgroup": "True",
         "error_y": {
          "array": [
           11543.537674782765,
           6593.6926265434395,
           13237.942226859379,
           12647.109666421731,
           10438.147867241241,
           13687.334046218595,
           null,
           12399.564599313017,
           12061.061713827297,
           14058.414180838465,
           13398.780358227392,
           10716.980521752337,
           13684.756939103445,
           14477.162816657135,
           7231.291416706516
          ]
         },
         "hovertemplate": "UniProt=P07858<br>visit_month=%{x}<br>NPX_mean=%{y}<extra></extra>",
         "legendgroup": "P07858",
         "marker": {
          "color": "#00cc96",
          "pattern": {
           "shape": ""
          }
         },
         "name": "P07858",
         "offsetgroup": "P07858",
         "orientation": "v",
         "showlegend": true,
         "textposition": "auto",
         "type": "bar",
         "x": [
          0,
          3,
          6,
          12,
          18,
          24,
          30,
          36,
          48,
          54,
          60,
          72,
          84,
          96,
          108
         ],
         "xaxis": "x",
         "y": [
          35523.06589473684,
          32645.733333333334,
          33966.4,
          34379.852655367235,
          36560.7125,
          35393.41286549708,
          55433.1,
          34854.72176870748,
          34991.95259259259,
          35313.8,
          34834.10226190476,
          32227.852380952383,
          35550.53448275862,
          39595.6,
          36241.7
         ],
         "yaxis": "y"
        },
        {
         "alignmentgroup": "True",
         "error_y": {
          "array": [
           331850.58154761407,
           104873.34651537219,
           316449.6186563428,
           297106.43485520716,
           251450.7782114481,
           326598.0888157612,
           null,
           327691.07630269026,
           303932.62242419366,
           1773783.724567485,
           311474.54974349734,
           303405.2453099021,
           303839.18913415674,
           455961.5443921779,
           213731.16430226082
          ]
         },
         "hovertemplate": "UniProt=P07998<br>visit_month=%{x}<br>NPX_mean=%{y}<extra></extra>",
         "legendgroup": "P07998",
         "marker": {
          "color": "#ab63fa",
          "pattern": {
           "shape": ""
          }
         },
         "name": "P07998",
         "offsetgroup": "P07998",
         "orientation": "v",
         "showlegend": true,
         "textposition": "auto",
         "type": "bar",
         "x": [
          0,
          3,
          6,
          12,
          18,
          24,
          30,
          36,
          48,
          54,
          60,
          72,
          84,
          96,
          108
         ],
         "xaxis": "x",
         "y": [
          784057.8855670104,
          717397.3333333334,
          765414.0564516129,
          729458.6511111112,
          820963.5,
          781666.9479768786,
          654597,
          780578.6459060402,
          759889.2554744525,
          1913135.5,
          734906.9642857143,
          717259.1904761905,
          745605.9866666667,
          738486.5,
          727462
         ],
         "yaxis": "y"
        },
        {
         "alignmentgroup": "True",
         "error_y": {
          "array": [
           5816.712461386766,
           15139.79258130705,
           4778.957565094932,
           5047.806338052413,
           1385.6142127831492,
           5149.55722014058,
           5561.635602367574,
           5249.435814556864,
           null,
           6320.420244274598,
           6350.307066762843,
           6808.304504167013,
           5938.282748404627,
           6131.430614668978
          ]
         },
         "hovertemplate": "UniProt=P08123<br>visit_month=%{x}<br>NPX_mean=%{y}<extra></extra>",
         "legendgroup": "P08123",
         "marker": {
          "color": "#FFA15A",
          "pattern": {
           "shape": ""
          }
         },
         "name": "P08123",
         "offsetgroup": "P08123",
         "orientation": "v",
         "showlegend": true,
         "textposition": "auto",
         "type": "bar",
         "x": [
          0,
          3,
          6,
          12,
          18,
          24,
          36,
          48,
          54,
          60,
          72,
          84,
          96,
          108
         ],
         "xaxis": "x",
         "y": [
          18044.06356060606,
          23506.55,
          17784.671463414634,
          18096.203898305084,
          19807.1,
          17969.89373015873,
          18103.606320754716,
          17927.641799999998,
          24301.4,
          18714.3975862069,
          16888.432666666668,
          18200.416818181817,
          22548.1,
          19710.925
         ],
         "yaxis": "y"
        },
        {
         "alignmentgroup": "True",
         "error_y": {
          "array": [
           15815.919323232363,
           12012.496369614435,
           16356.403165429254,
           16096.411935680686,
           11365.115654052977,
           16341.857012832448,
           null,
           16626.062874467625,
           13782.183695894293,
           3543.4535018820197,
           16028.260035921616,
           13778.048679176294,
           14301.249867282984,
           9264.230204393667,
           14032.856197391418
          ]
         },
         "hovertemplate": "UniProt=P08133<br>visit_month=%{x}<br>NPX_mean=%{y}<extra></extra>",
         "legendgroup": "P08133",
         "marker": {
          "color": "#19d3f3",
          "pattern": {
           "shape": ""
          }
         },
         "name": "P08133",
         "offsetgroup": "P08133",
         "orientation": "v",
         "showlegend": true,
         "textposition": "auto",
         "type": "bar",
         "x": [
          0,
          3,
          6,
          12,
          18,
          24,
          30,
          36,
          48,
          54,
          60,
          72,
          84,
          96,
          108
         ],
         "xaxis": "x",
         "y": [
          54293.82026143791,
          49999.700000000004,
          53170.40588235294,
          51851.43381294964,
          51962.299999999996,
          52341.62,
          60125.9,
          52810.731451612904,
          52195.20357142857,
          71945.79999999999,
          51726.970588235294,
          52427.98888888889,
          54424.061538461545,
          50428.100000000006,
          65746.45
         ],
         "yaxis": "y"
        },
        {
         "alignmentgroup": "True",
         "error_y": {
          "array": [
           6987.525674522947,
           12059.598796947323,
           7764.104625511505,
           5806.637435363208,
           5735.187897706579,
           5912.8508460562525,
           null,
           6304.999435811042,
           7095.034833882219,
           5282.582630210341,
           6553.1439236737015,
           5263.275740157646,
           6720.7363451064775,
           null,
           2622.9356816361314
          ]
         },
         "hovertemplate": "UniProt=P08253<br>visit_month=%{x}<br>NPX_mean=%{y}<extra></extra>",
         "legendgroup": "P08253",
         "marker": {
          "color": "#FF6692",
          "pattern": {
           "shape": ""
          }
         },
         "name": "P08253",
         "offsetgroup": "P08253",
         "orientation": "v",
         "showlegend": true,
         "textposition": "auto",
         "type": "bar",
         "x": [
          0,
          3,
          6,
          12,
          18,
          24,
          30,
          36,
          48,
          54,
          60,
          72,
          84,
          96,
          108
         ],
         "xaxis": "x",
         "y": [
          19658.351986754966,
          22619.133333333335,
          19037.040654205608,
          18463.780583941607,
          18073.72,
          18862.17507352941,
          20029.3,
          18814.215892857144,
          19119.957181818183,
          13931.050000000001,
          19763.899130434784,
          19387.985555555555,
          18547.504782608696,
          22276.6,
          21172.5
         ],
         "yaxis": "y"
        },
        {
         "alignmentgroup": "True",
         "error_y": {
          "array": [
           237741.25830278057,
           48215.8266651107,
           229051.25858763035,
           249623.38463249535,
           180675.07977102947,
           231836.7231195452,
           null,
           257673.14879055266,
           243170.91877360287,
           818022.136669907,
           228935.79548030303,
           224466.14379802198,
           165343.19005680556,
           340742.7370385171,
           236108.52638070204
          ]
         },
         "hovertemplate": "UniProt=P08294<br>visit_month=%{x}<br>NPX_mean=%{y}<extra></extra>",
         "legendgroup": "P08294",
         "marker": {
          "color": "#B6E880",
          "pattern": {
           "shape": ""
          }
         },
         "name": "P08294",
         "offsetgroup": "P08294",
         "orientation": "v",
         "showlegend": true,
         "textposition": "auto",
         "type": "bar",
         "x": [
          0,
          3,
          6,
          12,
          18,
          24,
          30,
          36,
          48,
          54,
          60,
          72,
          84,
          96,
          108
         ],
         "xaxis": "x",
         "y": [
          597560.350515464,
          415047,
          598037.5475806452,
          615782.7038888889,
          455435.625,
          596378.0277456647,
          291506,
          612247.9472972973,
          587655.5876811594,
          986961,
          583433.1273809525,
          559069.9142857143,
          530314.6666666666,
          675209.5,
          585889.5
         ],
         "yaxis": "y"
        },
        {
         "alignmentgroup": "True",
         "error_y": {
          "array": [
           21930.536569694897,
           18819.186563008858,
           25064.482137450574,
           20359.406052224826,
           22952.93229931947,
           23135.909240867673,
           null,
           19585.08156599585,
           19703.730278354924,
           23323.917177438278,
           25901.49884946589,
           17966.877766848535,
           22811.685933135235,
           12128.578353624138,
           15916.72528223064
          ]
         },
         "hovertemplate": "UniProt=P08493<br>visit_month=%{x}<br>NPX_mean=%{y}<extra></extra>",
         "legendgroup": "P08493",
         "marker": {
          "color": "#FF97FF",
          "pattern": {
           "shape": ""
          }
         },
         "name": "P08493",
         "offsetgroup": "P08493",
         "orientation": "v",
         "showlegend": true,
         "textposition": "auto",
         "type": "bar",
         "x": [
          0,
          3,
          6,
          12,
          18,
          24,
          30,
          36,
          48,
          54,
          60,
          72,
          84,
          96,
          108
         ],
         "xaxis": "x",
         "y": [
          59335.685388601036,
          53917.23333333334,
          60121.256033057856,
          59476.7924858757,
          66659.65,
          63576.26608187135,
          84438.8,
          61013.70136054421,
          60998.83115942028,
          62187.100000000006,
          61391.54535714285,
          55495.125238095236,
          62200.12,
          75317.6,
          61068.55
         ],
         "yaxis": "y"
        },
        {
         "alignmentgroup": "True",
         "error_y": {
          "array": [
           106436.78367801296,
           32260.194393917303,
           112117.49965899915,
           95076.26760327976,
           86041.8076751064,
           110551.48375558102,
           null,
           105041.57587549415,
           103194.7493075152,
           230805.3102335386,
           109469.68155803734,
           91798.20262434336,
           98016.13402147674,
           52832.89736991527,
           114161.3838603784
          ]
         },
         "hovertemplate": "UniProt=P08571<br>visit_month=%{x}<br>NPX_mean=%{y}<extra></extra>",
         "legendgroup": "P08571",
         "marker": {
          "color": "#FECB52",
          "pattern": {
           "shape": ""
          }
         },
         "name": "P08571",
         "offsetgroup": "P08571",
         "orientation": "v",
         "showlegend": true,
         "textposition": "auto",
         "type": "bar",
         "x": [
          0,
          3,
          6,
          12,
          18,
          24,
          30,
          36,
          48,
          54,
          60,
          72,
          84,
          96,
          108
         ],
         "xaxis": "x",
         "y": [
          354280.44845360826,
          344725.3333333333,
          346880.6048387097,
          343412.6777777778,
          354821,
          361516.77919075143,
          356791,
          363202.0878378378,
          362189.152173913,
          479448,
          354952.2261904762,
          324616.2,
          349081.63333333336,
          347786.5,
          367963.25
         ],
         "yaxis": "y"
        },
        {
         "alignmentgroup": "True",
         "error_y": {
          "array": [
           248670.27233555372,
           206081.79827518328,
           270919.42239111825,
           284277.10083528794,
           289212.99031176214,
           287300.67346783134,
           null,
           283237.43182960124,
           272469.24397044076,
           209982.42974115716,
           224447.66332360226,
           269544.3950308513,
           261144.4017428874,
           211318.86155759974,
           85631.74275154434
          ]
         },
         "hovertemplate": "UniProt=P08603<br>visit_month=%{x}<br>NPX_mean=%{y}<extra></extra>",
         "legendgroup": "P08603",
         "marker": {
          "color": "#636efa",
          "pattern": {
           "shape": ""
          }
         },
         "name": "P08603",
         "offsetgroup": "P08603",
         "orientation": "v",
         "showlegend": true,
         "textposition": "auto",
         "type": "bar",
         "x": [
          0,
          3,
          6,
          12,
          18,
          24,
          30,
          36,
          48,
          54,
          60,
          72,
          84,
          96,
          108
         ],
         "xaxis": "x",
         "y": [
          1197823.5670103093,
          1152786.3333333333,
          1168901.6370967743,
          1175698.6722222222,
          1262261.75,
          1192703.132947977,
          1407800,
          1213046.7972972973,
          1199798.1739130435,
          1233750,
          1150758.857142857,
          1145037.9523809524,
          1188159.9333333333,
          1186195,
          1251245
         ],
         "yaxis": "y"
        },
        {
         "alignmentgroup": "True",
         "error_y": {
          "array": [
           10297.10029271586,
           10864.366182310558,
           8885.846861716182,
           10056.452335107078,
           5300.424287419515,
           11042.116547958953,
           null,
           10526.063356069453,
           11516.056524905001,
           25843.409349484053,
           9303.421760418114,
           9797.6438938473,
           10272.349675036154,
           742.603541602114,
           9230.997988841727
          ]
         },
         "hovertemplate": "UniProt=P08637<br>visit_month=%{x}<br>NPX_mean=%{y}<extra></extra>",
         "legendgroup": "P08637",
         "marker": {
          "color": "#EF553B",
          "pattern": {
           "shape": ""
          }
         },
         "name": "P08637",
         "offsetgroup": "P08637",
         "orientation": "v",
         "showlegend": true,
         "textposition": "auto",
         "type": "bar",
         "x": [
          0,
          3,
          6,
          12,
          18,
          24,
          30,
          36,
          48,
          54,
          60,
          72,
          84,
          96,
          108
         ],
         "xaxis": "x",
         "y": [
          30202.724550898205,
          38533.93333333333,
          29161.146728971966,
          28718.39258278146,
          30615.566666666666,
          29413.057500000003,
          19650.3,
          28732.673306451612,
          30236.662037037036,
          47934.85,
          29482.482352941177,
          31823.778947368424,
          31525.569230769233,
          27740.9,
          37215.25
         ],
         "yaxis": "y"
        },
        {
         "alignmentgroup": "True",
         "error_y": {
          "array": [
           59723.17927380111,
           60870.6465986138,
           55504.49895957453,
           60420.348599908386,
           55427.27644078191,
           56531.498001742184,
           null,
           57417.145577959694,
           62409.802574596855,
           73563.85398074247,
           58683.41223792635,
           67597.87814382651,
           51644.779958190215,
           18401.746873598713,
           6401.894739059675
          ]
         },
         "hovertemplate": "UniProt=P08697<br>visit_month=%{x}<br>NPX_mean=%{y}<extra></extra>",
         "legendgroup": "P08697",
         "marker": {
          "color": "#00cc96",
          "pattern": {
           "shape": ""
          }
         },
         "name": "P08697",
         "offsetgroup": "P08697",
         "orientation": "v",
         "showlegend": true,
         "textposition": "auto",
         "type": "bar",
         "x": [
          0,
          3,
          6,
          12,
          18,
          24,
          30,
          36,
          48,
          54,
          60,
          72,
          84,
          96,
          108
         ],
         "xaxis": "x",
         "y": [
          255095.7788659794,
          194604.66666666666,
          244841.13709677418,
          248030.5538888889,
          234338.25,
          249075.40289017343,
          270995,
          246915.88851351352,
          243681.7449275362,
          352410.5,
          252101.42857142858,
          242801.58095238096,
          244269.63333333333,
          241694,
          240790.25
         ],
         "yaxis": "y"
        },
        {
         "alignmentgroup": "True",
         "error_y": {
          "array": [
           2842.064730067039,
           2364.334858961395,
           2439.312037949594,
           2514.3487175835166,
           3297.1614428103694,
           2901.7434035888145,
           null,
           3013.4274060487005,
           2400.1495802101535,
           null,
           2770.5193802476815,
           2521.7480846734643,
           3325.222632294755,
           4520.49829678654,
           1697.694556116225
          ]
         },
         "hovertemplate": "UniProt=P09104<br>visit_month=%{x}<br>NPX_mean=%{y}<extra></extra>",
         "legendgroup": "P09104",
         "marker": {
          "color": "#ab63fa",
          "pattern": {
           "shape": ""
          }
         },
         "name": "P09104",
         "offsetgroup": "P09104",
         "orientation": "v",
         "showlegend": true,
         "textposition": "auto",
         "type": "bar",
         "x": [
          0,
          3,
          6,
          12,
          18,
          24,
          30,
          36,
          48,
          54,
          60,
          72,
          84,
          96,
          108
         ],
         "xaxis": "x",
         "y": [
          7292.382892857143,
          6093.18,
          6983.277752808988,
          6788.024074074074,
          7611.55125,
          7194.796176470589,
          5259.19,
          7066.149831932773,
          6977.899107142856,
          4299.99,
          6998.83593220339,
          6867.994000000001,
          7247.2789999999995,
          7377.725,
          6570.93
         ],
         "yaxis": "y"
        },
        {
         "alignmentgroup": "True",
         "error_y": {
          "array": [
           46052.18679560509,
           15350.607067257413,
           43718.986633941546,
           45698.235645441506,
           33326.41096063515,
           44349.12283887945,
           null,
           41296.85398595056,
           38860.828171024754,
           149878.21191894438,
           44421.83357643252,
           38295.89259711307,
           38845.96821795408,
           65060.682804939875,
           16993.3609854947
          ]
         },
         "hovertemplate": "UniProt=P09486<br>visit_month=%{x}<br>NPX_mean=%{y}<extra></extra>",
         "legendgroup": "P09486",
         "marker": {
          "color": "#FFA15A",
          "pattern": {
           "shape": ""
          }
         },
         "name": "P09486",
         "offsetgroup": "P09486",
         "orientation": "v",
         "showlegend": true,
         "textposition": "auto",
         "type": "bar",
         "x": [
          0,
          3,
          6,
          12,
          18,
          24,
          30,
          36,
          48,
          54,
          60,
          72,
          84,
          96,
          108
         ],
         "xaxis": "x",
         "y": [
          131275.18808290156,
          157179.33333333334,
          128733.56854838709,
          129797.4388888889,
          123179.2,
          131720.01329479768,
          139908,
          128650.31486486488,
          129118.85693430656,
          188453.1,
          127737.63809523809,
          123454.45238095238,
          126752.79333333332,
          125170.15,
          131956.25
         ],
         "yaxis": "y"
        },
        {
         "alignmentgroup": "True",
         "error_y": {
          "array": [
           80259.49897045865,
           66109.94034182756,
           81487.44580375981,
           76162.76615096128,
           60760.26608612854,
           81095.58202337443,
           null,
           77060.16140915097,
           75743.56902671345,
           16472.75957452181,
           74644.07878914812,
           91652.6511212013,
           72324.65663235815,
           28745.30486879553,
           38855.22616392806
          ]
         },
         "hovertemplate": "UniProt=P09871<br>visit_month=%{x}<br>NPX_mean=%{y}<extra></extra>",
         "legendgroup": "P09871",
         "marker": {
          "color": "#19d3f3",
          "pattern": {
           "shape": ""
          }
         },
         "name": "P09871",
         "offsetgroup": "P09871",
         "orientation": "v",
         "showlegend": true,
         "textposition": "auto",
         "type": "bar",
         "x": [
          0,
          3,
          6,
          12,
          18,
          24,
          30,
          36,
          48,
          54,
          60,
          72,
          84,
          96,
          108
         ],
         "xaxis": "x",
         "y": [
          267765.49639175256,
          225296,
          268757.54354838707,
          257810.70444444442,
          292025,
          272267.41445086704,
          332534,
          280638.0047297297,
          273403.5804347826,
          251017,
          264331.64285714284,
          267063.27857142856,
          277013.3333333333,
          243725,
          226068.75
         ],
         "yaxis": "y"
        },
        {
         "alignmentgroup": "True",
         "error_y": {
          "array": [
           152088.343225134,
           135804.7128342754,
           132749.5128066315,
           137749.1913912168,
           124460.86571632524,
           134958.56206985758,
           null,
           130416.82068873444,
           138951.98000346666,
           442171.5479454778,
           124528.63199065736,
           140947.2940605476,
           147397.68138394193,
           89389.6108504786,
           88480.20351986463
          ]
         },
         "hovertemplate": "UniProt=P10451<br>visit_month=%{x}<br>NPX_mean=%{y}<extra></extra>",
         "legendgroup": "P10451",
         "marker": {
          "color": "#FF6692",
          "pattern": {
           "shape": ""
          }
         },
         "name": "P10451",
         "offsetgroup": "P10451",
         "orientation": "v",
         "showlegend": true,
         "textposition": "auto",
         "type": "bar",
         "x": [
          0,
          3,
          6,
          12,
          18,
          24,
          30,
          36,
          48,
          54,
          60,
          72,
          84,
          96,
          108
         ],
         "xaxis": "x",
         "y": [
          349835.1463541666,
          333836,
          321522.539516129,
          325984.06666666665,
          412919,
          346854.0797687861,
          303459,
          336888.3617449664,
          344796.6014492754,
          517717.5,
          324529.79761904763,
          350459.09523809527,
          344904.5,
          330393,
          309927.25
         ],
         "yaxis": "y"
        },
        {
         "alignmentgroup": "True",
         "error_y": {
          "array": [
           38704.20625371894,
           8453.412674969406,
           35122.499766987654,
           34624.653241924534,
           26087.68486896415,
           41649.46454074578,
           null,
           37374.57655072837,
           38999.973567897505,
           4430.16540548996,
           32920.8764415362,
           34931.032164017415,
           36186.781134868324,
           227.6883835420683,
           27509.480385178125
          ]
         },
         "hovertemplate": "UniProt=P10643<br>visit_month=%{x}<br>NPX_mean=%{y}<extra></extra>",
         "legendgroup": "P10643",
         "marker": {
          "color": "#B6E880",
          "pattern": {
           "shape": ""
          }
         },
         "name": "P10643",
         "offsetgroup": "P10643",
         "orientation": "v",
         "showlegend": true,
         "textposition": "auto",
         "type": "bar",
         "x": [
          0,
          3,
          6,
          12,
          18,
          24,
          30,
          36,
          48,
          54,
          60,
          72,
          84,
          96,
          108
         ],
         "xaxis": "x",
         "y": [
          98483.70778350515,
          97463.93333333333,
          100180.06209677419,
          102136.10893854749,
          124135.52857142857,
          104806.93546511627,
          136540,
          106997.44231292517,
          104691.375,
          97629.4,
          106350.65476190476,
          101145.78095238094,
          103595.12999999999,
          103158,
          109936.875
         ],
         "yaxis": "y"
        },
        {
         "alignmentgroup": "True",
         "error_y": {
          "array": [
           234749.1138402645,
           202823.80484441007,
           241547.51375661476,
           222792.77817952386,
           115124.5308480436,
           258577.74417745462,
           null,
           222097.22019251052,
           223244.92284076478,
           490555.32944816735,
           235094.72163427516,
           167295.89125946167,
           318050.4473119601,
           123780.45626026751,
           241234.78793266253
          ]
         },
         "hovertemplate": "UniProt=P10645<br>visit_month=%{x}<br>NPX_mean=%{y}<extra></extra>",
         "legendgroup": "P10645",
         "marker": {
          "color": "#FF97FF",
          "pattern": {
           "shape": ""
          }
         },
         "name": "P10645",
         "offsetgroup": "P10645",
         "orientation": "v",
         "showlegend": true,
         "textposition": "auto",
         "type": "bar",
         "x": [
          0,
          3,
          6,
          12,
          18,
          24,
          30,
          36,
          48,
          54,
          60,
          72,
          84,
          96,
          108
         ],
         "xaxis": "x",
         "y": [
          428480.2675257732,
          322305.76666666666,
          409898.8209677419,
          391640.81444444443,
          399719.125,
          422815.8988439306,
          458699,
          406185.8385135135,
          414732.818115942,
          482869,
          415266.8976190476,
          358715.91904761904,
          441601.2,
          518304,
          515458.25
         ],
         "yaxis": "y"
        },
        {
         "alignmentgroup": "True",
         "error_y": {
          "array": [
           2258555.2630225844,
           1095270.3576895222,
           2196848.766916751,
           2136690.346831256,
           1534467.3582968689,
           2310383.9468344133,
           null,
           2148686.6285262583,
           2133023.9158822065,
           4148475.2770686727,
           1866700.1867843175,
           2474516.027696941,
           1897744.7508562102,
           1880062.5808866045,
           2481288.2763663987
          ]
         },
         "hovertemplate": "UniProt=P10909<br>visit_month=%{x}<br>NPX_mean=%{y}<extra></extra>",
         "legendgroup": "P10909",
         "marker": {
          "color": "#FECB52",
          "pattern": {
           "shape": ""
          }
         },
         "name": "P10909",
         "offsetgroup": "P10909",
         "orientation": "v",
         "showlegend": true,
         "textposition": "auto",
         "type": "bar",
         "x": [
          0,
          3,
          6,
          12,
          18,
          24,
          30,
          36,
          48,
          54,
          60,
          72,
          84,
          96,
          108
         ],
         "xaxis": "x",
         "y": [
          8011490.979381443,
          9477856.666666666,
          7710309.354838709,
          7726331.5,
          7882247.5,
          7907984.6820809245,
          6576270,
          7791670.040268457,
          7890269.710144928,
          9688785,
          7693557.738095238,
          6975547.619047619,
          7389423.333333333,
          8732995,
          8523845
         ],
         "yaxis": "y"
        },
        {
         "alignmentgroup": "True",
         "error_y": {
          "array": [
           15915.078201409595,
           null,
           13580.698906206848,
           13489.855589769064,
           10327.839304520572,
           15697.77924141947,
           null,
           14383.087827217885,
           14284.236741878196,
           null,
           13714.874270380886,
           12925.38832173428,
           12187.565511057583,
           11514.385403485505,
           2092.0136360294905
          ]
         },
         "hovertemplate": "UniProt=P11142<br>visit_month=%{x}<br>NPX_mean=%{y}<extra></extra>",
         "legendgroup": "P11142",
         "marker": {
          "color": "#636efa",
          "pattern": {
           "shape": ""
          }
         },
         "name": "P11142",
         "offsetgroup": "P11142",
         "orientation": "v",
         "showlegend": true,
         "textposition": "auto",
         "type": "bar",
         "x": [
          0,
          3,
          6,
          12,
          18,
          24,
          30,
          36,
          48,
          54,
          60,
          72,
          84,
          96,
          108
         ],
         "xaxis": "x",
         "y": [
          68236.63178807947,
          74728.8,
          68388.07872340427,
          70033.86938775511,
          70911.8,
          68317.73245033112,
          79586.7,
          70128.22377049181,
          66734.596460177,
          80090.2,
          68950.89206349207,
          65630.73125,
          66518.38181818182,
          63611.9,
          69066.76666666666
         ],
         "yaxis": "y"
        },
        {
         "alignmentgroup": "True",
         "error_y": {
          "array": [
           35288.62746520126,
           35536.67840096107,
           35333.72343313438,
           39334.231270152624,
           24946.440402383392,
           35128.493390248696,
           null,
           39726.84523482005,
           36764.66300550424,
           21761.989008475302,
           32856.94381168962,
           33727.00412655375,
           28037.68716299724,
           25711.604645470892,
           22419.718168965315
          ]
         },
         "hovertemplate": "UniProt=P11277<br>visit_month=%{x}<br>NPX_mean=%{y}<extra></extra>",
         "legendgroup": "P11277",
         "marker": {
          "color": "#EF553B",
          "pattern": {
           "shape": ""
          }
         },
         "name": "P11277",
         "offsetgroup": "P11277",
         "orientation": "v",
         "showlegend": true,
         "textposition": "auto",
         "type": "bar",
         "x": [
          0,
          3,
          6,
          12,
          18,
          24,
          30,
          36,
          48,
          54,
          60,
          72,
          84,
          96,
          108
         ],
         "xaxis": "x",
         "y": [
          79605.23076923077,
          71482.46666666666,
          80140.05555555556,
          82512.4842857143,
          60957.18333333333,
          79424.07313432837,
          59607,
          82615.74473684211,
          81694.23828571428,
          64931.649999999994,
          76787.20153846154,
          72715.75882352941,
          71996.052,
          73274.25,
          65098.075000000004
         ],
         "yaxis": "y"
        },
        {
         "alignmentgroup": "True",
         "error_y": {
          "array": [
           27303.291246285306,
           8972.397435654158,
           27639.345667601567,
           27118.292257786972,
           21570.74693056962,
           27543.602903577066,
           null,
           27647.4440059775,
           25240.34769680199,
           18651.56769939192,
           25825.47349923333,
           22952.259549126666,
           26108.482675711348,
           15020.008692574049,
           10660.442501564687
          ]
         },
         "hovertemplate": "UniProt=P12109<br>visit_month=%{x}<br>NPX_mean=%{y}<extra></extra>",
         "legendgroup": "P12109",
         "marker": {
          "color": "#00cc96",
          "pattern": {
           "shape": ""
          }
         },
         "name": "P12109",
         "offsetgroup": "P12109",
         "orientation": "v",
         "showlegend": true,
         "textposition": "auto",
         "type": "bar",
         "x": [
          0,
          3,
          6,
          12,
          18,
          24,
          30,
          36,
          48,
          54,
          60,
          72,
          84,
          96,
          108
         ],
         "xaxis": "x",
         "y": [
          72173.91761658031,
          63800.13333333333,
          75048.68709677419,
          67893.05754189944,
          73537.6625,
          72558.09826589595,
          78030.2,
          73473.51216216217,
          70701.80942028985,
          58967.25,
          72327.62261904762,
          69626.30476190476,
          66050.73666666666,
          58287.75,
          64954.675
         ],
         "yaxis": "y"
        },
        {
         "alignmentgroup": "True",
         "error_y": {
          "array": [
           48422.85561659075,
           17194.00707959995,
           49739.891724923946,
           46367.72042145848,
           39071.73909342611,
           49943.75127410234,
           null,
           50050.24798473755,
           44329.337922536324,
           167628.8548684265,
           46070.609706737654,
           41411.390845774265,
           42031.96740347209,
           70956.8219891858,
           35162.55498247864
          ]
         },
         "hovertemplate": "UniProt=P13473<br>visit_month=%{x}<br>NPX_mean=%{y}<extra></extra>",
         "legendgroup": "P13473",
         "marker": {
          "color": "#ab63fa",
          "pattern": {
           "shape": ""
          }
         },
         "name": "P13473",
         "offsetgroup": "P13473",
         "orientation": "v",
         "showlegend": true,
         "textposition": "auto",
         "type": "bar",
         "x": [
          0,
          3,
          6,
          12,
          18,
          24,
          30,
          36,
          48,
          54,
          60,
          72,
          84,
          96,
          108
         ],
         "xaxis": "x",
         "y": [
          125036.94157894736,
          99369.53333333333,
          125634.35887096774,
          121702.31828571428,
          115780.78571428571,
          126549.22781065089,
          103738,
          127142.2883561644,
          129269.42030075187,
          222029.5,
          124883.09285714287,
          117084.39523809523,
          115603.00333333334,
          147324.95,
          130581.625
         ],
         "yaxis": "y"
        },
        {
         "alignmentgroup": "True",
         "error_y": {
          "array": [
           23032.476252177064,
           22121.76957960943,
           24254.021034895508,
           23496.27226556753,
           14929.740899675004,
           26764.82333138367,
           null,
           26752.957075330407,
           22016.728143861066,
           35673.18355747073,
           27820.551273550172,
           16741.77147032944,
           21827.471322950056,
           11901.667787541375,
           20010.9874437978
          ]
         },
         "hovertemplate": "UniProt=P13521<br>visit_month=%{x}<br>NPX_mean=%{y}<extra></extra>",
         "legendgroup": "P13521",
         "marker": {
          "color": "#FFA15A",
          "pattern": {
           "shape": ""
          }
         },
         "name": "P13521",
         "offsetgroup": "P13521",
         "orientation": "v",
         "showlegend": true,
         "textposition": "auto",
         "type": "bar",
         "x": [
          0,
          3,
          6,
          12,
          18,
          24,
          30,
          36,
          48,
          54,
          60,
          72,
          84,
          96,
          108
         ],
         "xaxis": "x",
         "y": [
          54127.33177083333,
          43103.86666666666,
          51056.55806451613,
          50296.49213483146,
          54270.85,
          53543.73360465116,
          57706.5,
          53274.67635135135,
          52164.31086956522,
          48207.55,
          52458.82857142857,
          48100.35,
          48419.16,
          50866.15,
          56831.625
         ],
         "yaxis": "y"
        },
        {
         "alignmentgroup": "True",
         "error_y": {
          "array": [
           77034.9671146075,
           82523.53744437604,
           82470.74461117234,
           73375.8200766905,
           71936.28400871248,
           78933.00826308296,
           null,
           81473.34188363845,
           74426.44150164597,
           133712.83166220435,
           80388.31598604424,
           69826.14138884725,
           85220.65286628244,
           102241.13517718785,
           59374.57161319145
          ]
         },
         "hovertemplate": "UniProt=P13591<br>visit_month=%{x}<br>NPX_mean=%{y}<extra></extra>",
         "legendgroup": "P13591",
         "marker": {
          "color": "#19d3f3",
          "pattern": {
           "shape": ""
          }
         },
         "name": "P13591",
         "offsetgroup": "P13591",
         "orientation": "v",
         "showlegend": true,
         "textposition": "auto",
         "type": "bar",
         "x": [
          0,
          3,
          6,
          12,
          18,
          24,
          30,
          36,
          48,
          54,
          60,
          72,
          84,
          96,
          108
         ],
         "xaxis": "x",
         "y": [
          176348.66649214659,
          185947.33333333334,
          171591.5162601626,
          163418.64213483146,
          190798.125,
          178225.4355029586,
          103376,
          176332.5696551724,
          169078.54452554745,
          169127.75,
          173728.95833333334,
          155016.38571428572,
          173864.31,
          155228.6,
          192084.25
         ],
         "yaxis": "y"
        },
        {
         "alignmentgroup": "True",
         "error_y": {
          "array": [
           9501.144372781557,
           13086.278360685032,
           8871.546780668044,
           9006.927237422155,
           9036.2853484283,
           9639.86809701173,
           null,
           9839.386412899792,
           8890.96937146652,
           11878.616106474694,
           8938.80269455621,
           8754.676865667121,
           7549.773591997205,
           9968.847969710441,
           10257.514794976738
          ]
         },
         "hovertemplate": "UniProt=P13611<br>visit_month=%{x}<br>NPX_mean=%{y}<extra></extra>",
         "legendgroup": "P13611",
         "marker": {
          "color": "#FF6692",
          "pattern": {
           "shape": ""
          }
         },
         "name": "P13611",
         "offsetgroup": "P13611",
         "orientation": "v",
         "showlegend": true,
         "textposition": "auto",
         "type": "bar",
         "x": [
          0,
          3,
          6,
          12,
          18,
          24,
          30,
          36,
          48,
          54,
          60,
          72,
          84,
          96,
          108
         ],
         "xaxis": "x",
         "y": [
          22169.34254054054,
          31178.166666666668,
          24463.149739130437,
          22382.895576923078,
          13796.338,
          22153.369620253165,
          22862.6,
          21733.90964028777,
          23665.6248,
          31391.95,
          22961.133066666665,
          21390.270500000002,
          23835.665357142858,
          12870.96,
          23326.675
         ],
         "yaxis": "y"
        },
        {
         "alignmentgroup": "True",
         "error_y": {
          "array": [
           2001.1704574860917,
           852.9051283994012,
           1972.001439438832,
           1819.5606888858092,
           1449.5643590945322,
           1962.949799307488,
           null,
           1856.9751745746466,
           2070.8183806790794,
           3764.9829853599613,
           1750.2550072809895,
           2828.4712396160166,
           1905.2754763614455,
           null,
           3284.581709289632
          ]
         },
         "hovertemplate": "UniProt=P13671<br>visit_month=%{x}<br>NPX_mean=%{y}<extra></extra>",
         "legendgroup": "P13671",
         "marker": {
          "color": "#B6E880",
          "pattern": {
           "shape": ""
          }
         },
         "name": "P13671",
         "offsetgroup": "P13671",
         "orientation": "v",
         "showlegend": true,
         "textposition": "auto",
         "type": "bar",
         "x": [
          0,
          3,
          6,
          12,
          18,
          24,
          30,
          36,
          48,
          54,
          60,
          72,
          84,
          96,
          108
         ],
         "xaxis": "x",
         "y": [
          8584.643529411764,
          7958.965,
          8661.709222222222,
          8275.696131386861,
          9638.077142857142,
          8601.463235294117,
          10919.3,
          8708.221875,
          8830.13925925926,
          8704.955,
          8643.817166666668,
          8188.279444444444,
          7902.640799999999,
          5071.46,
          7828.75
         ],
         "yaxis": "y"
        },
        {
         "alignmentgroup": "True",
         "error_y": {
          "array": [
           143021.4727349551,
           58373.99842681101,
           132708.86740485244,
           124134.8318794143,
           106228.32763296441,
           133087.43226992566,
           null,
           125083.05204404617,
           132171.82498953416,
           607189.7645777636,
           123965.52762024473,
           132213.7116623256,
           131608.75492838176,
           149929.97213532723,
           75278.13066665953
          ]
         },
         "hovertemplate": "UniProt=P13987<br>visit_month=%{x}<br>NPX_mean=%{y}<extra></extra>",
         "legendgroup": "P13987",
         "marker": {
          "color": "#FF97FF",
          "pattern": {
           "shape": ""
          }
         },
         "name": "P13987",
         "offsetgroup": "P13987",
         "orientation": "v",
         "showlegend": true,
         "textposition": "auto",
         "type": "bar",
         "x": [
          0,
          3,
          6,
          12,
          18,
          24,
          30,
          36,
          48,
          54,
          60,
          72,
          84,
          96,
          108
         ],
         "xaxis": "x",
         "y": [
          399313.4587628866,
          413039.3333333333,
          390577.73467741936,
          373138.5833333333,
          399733.625,
          390204.76878612716,
          382712,
          389393.8175675676,
          397433.5724637681,
          626902,
          382896.75,
          363805.85714285716,
          388140.1666666667,
          408567.5,
          408914
         ],
         "yaxis": "y"
        },
        {
         "alignmentgroup": "True",
         "error_y": {
          "array": [
           9368.669952167593,
           1842.128063771176,
           9604.775467186428,
           9267.53474710283,
           4446.553342533969,
           9230.57794412559,
           null,
           10045.900556936991,
           8709.332622111087,
           25501.09895671165,
           8820.419688498927,
           7369.577861144674,
           7802.7817734490045,
           6470.168469213147,
           8626.511348695176
          ]
         },
         "hovertemplate": "UniProt=P14174<br>visit_month=%{x}<br>NPX_mean=%{y}<extra></extra>",
         "legendgroup": "P14174",
         "marker": {
          "color": "#FECB52",
          "pattern": {
           "shape": ""
          }
         },
         "name": "P14174",
         "offsetgroup": "P14174",
         "orientation": "v",
         "showlegend": true,
         "textposition": "auto",
         "type": "bar",
         "x": [
          0,
          3,
          6,
          12,
          18,
          24,
          30,
          36,
          48,
          54,
          60,
          72,
          84,
          96,
          108
         ],
         "xaxis": "x",
         "y": [
          25764.651933701658,
          23602.63333333333,
          26423.589743589742,
          25305.316341463415,
          25821.54,
          26075.303827160493,
          26807.6,
          26457.69288888889,
          26259.729770992366,
          32575.699999999997,
          26647.6775,
          23550.71,
          23961.244137931033,
          25440.6,
          29723.575
         ],
         "yaxis": "y"
        },
        {
         "alignmentgroup": "True",
         "error_y": {
          "array": [
           15212.322970006226,
           12777.052106935045,
           14939.255408580015,
           14608.939323336032,
           14371.430914584622,
           14589.419418978337,
           null,
           14863.240761976585,
           14201.937286976243,
           null,
           13582.62741647882,
           15811.57571204508,
           17261.136994686676,
           null,
           22588.172571613664
          ]
         },
         "hovertemplate": "UniProt=P14314<br>visit_month=%{x}<br>NPX_mean=%{y}<extra></extra>",
         "legendgroup": "P14314",
         "marker": {
          "color": "#636efa",
          "pattern": {
           "shape": ""
          }
         },
         "name": "P14314",
         "offsetgroup": "P14314",
         "orientation": "v",
         "showlegend": true,
         "textposition": "auto",
         "type": "bar",
         "x": [
          0,
          3,
          6,
          12,
          18,
          24,
          30,
          36,
          48,
          54,
          60,
          72,
          84,
          96,
          108
         ],
         "xaxis": "x",
         "y": [
          29424.316449704143,
          24456.13333333333,
          28726.313402061856,
          29136.75980392157,
          34680.4125,
          27846.695733333334,
          15123.4,
          28996.171461538463,
          28892.03297520661,
          16323.9,
          29438.165147058822,
          26038.513157894737,
          29289.55888888889,
          28890.6,
          27298.85
         ],
         "yaxis": "y"
        },
        {
         "alignmentgroup": "True",
         "error_y": {
          "array": [
           24562.264341397502,
           10412.632321848303,
           25462.342146002353,
           22984.964319487455,
           18081.15408474881,
           27933.978834797446,
           null,
           25237.499531484373,
           25899.803253295715,
           68903.80816068876,
           23324.53229648252,
           18648.865624539816,
           25779.27306319386,
           1532.7246588999644,
           15041.987446367142
          ]
         },
         "hovertemplate": "UniProt=P14618<br>visit_month=%{x}<br>NPX_mean=%{y}<extra></extra>",
         "legendgroup": "P14618",
         "marker": {
          "color": "#EF553B",
          "pattern": {
           "shape": ""
          }
         },
         "name": "P14618",
         "offsetgroup": "P14618",
         "orientation": "v",
         "showlegend": true,
         "textposition": "auto",
         "type": "bar",
         "x": [
          0,
          3,
          6,
          12,
          18,
          24,
          30,
          36,
          48,
          54,
          60,
          72,
          84,
          96,
          108
         ],
         "xaxis": "x",
         "y": [
          62090.530793650796,
          55216.4,
          61649.27804878049,
          57406.64829545454,
          64675.275,
          60630.71849710983,
          64713.9,
          61330.614583333336,
          61809.93407407407,
          70342.65,
          59597.57590361446,
          55697.12857142857,
          61564.78666666667,
          42644,
          66445.65
         ],
         "yaxis": "y"
        },
        {
         "alignmentgroup": "True",
         "error_y": {
          "array": [
           17281.289264923485,
           8878.866736432832,
           17165.542967118836,
           17860.126028924544,
           9829.902550272667,
           16724.521233873693,
           null,
           15945.649835654578,
           15096.723663676019,
           13284.20296611731,
           18646.499357889526,
           17055.90924769393,
           10435.833257041893,
           14579.269035860472,
           8237.688238972147
          ]
         },
         "hovertemplate": "UniProt=P16035<br>visit_month=%{x}<br>NPX_mean=%{y}<extra></extra>",
         "legendgroup": "P16035",
         "marker": {
          "color": "#00cc96",
          "pattern": {
           "shape": ""
          }
         },
         "name": "P16035",
         "offsetgroup": "P16035",
         "orientation": "v",
         "showlegend": true,
         "textposition": "auto",
         "type": "bar",
         "x": [
          0,
          3,
          6,
          12,
          18,
          24,
          30,
          36,
          48,
          54,
          60,
          72,
          84,
          96,
          108
         ],
         "xaxis": "x",
         "y": [
          59132.51766839378,
          66678.63333333333,
          58784.50967741936,
          59242.858659217876,
          64808.675,
          58832.40578034682,
          67836.4,
          62283.33918918918,
          58396.24637681159,
          49214.85,
          57607.678095238094,
          55343.55714285714,
          55898.11333333333,
          59076.299999999996,
          59086.925
         ],
         "yaxis": "y"
        },
        {
         "alignmentgroup": "True",
         "error_y": {
          "array": [
           79921.54206380426,
           57276.794640878186,
           75441.41367336377,
           77221.02192016163,
           48093.18281880351,
           75829.67517562509,
           null,
           81919.3000836931,
           78156.6724166054,
           350476.5568562968,
           63998.497007275655,
           72515.70808889813,
           73493.53660133752,
           73305.76000560938,
           49026.705858474044
          ]
         },
         "hovertemplate": "UniProt=P16070<br>visit_month=%{x}<br>NPX_mean=%{y}<extra></extra>",
         "legendgroup": "P16070",
         "marker": {
          "color": "#ab63fa",
          "pattern": {
           "shape": ""
          }
         },
         "name": "P16070",
         "offsetgroup": "P16070",
         "orientation": "v",
         "showlegend": true,
         "textposition": "auto",
         "type": "bar",
         "x": [
          0,
          3,
          6,
          12,
          18,
          24,
          30,
          36,
          48,
          54,
          60,
          72,
          84,
          96,
          108
         ],
         "xaxis": "x",
         "y": [
          225678.5670157068,
          269918.3333333333,
          221770.79677419356,
          221309.76089385478,
          225151.75,
          223016.3976744186,
          209854,
          235883.375,
          234674.9007246377,
          325155.65,
          222831.3238095238,
          226147.68571428573,
          218553.96,
          224785,
          255480
         ],
         "yaxis": "y"
        },
        {
         "alignmentgroup": "True",
         "error_y": {
          "array": [
           220728.3194142762,
           295761.5533668972,
           267678.6496248724,
           227863.407040082,
           118867.50009090954,
           298167.8138999584,
           null,
           268871.781831129,
           404085.936891598,
           124729.39356061986,
           262867.16899333714,
           250353.06385630666,
           199584.73108981273,
           null,
           73909.7555383309
          ]
         },
         "hovertemplate": "UniProt=P16152<br>visit_month=%{x}<br>NPX_mean=%{y}<extra></extra>",
         "legendgroup": "P16152",
         "marker": {
          "color": "#FFA15A",
          "pattern": {
           "shape": ""
          }
         },
         "name": "P16152",
         "offsetgroup": "P16152",
         "orientation": "v",
         "showlegend": true,
         "textposition": "auto",
         "type": "bar",
         "x": [
          0,
          3,
          6,
          12,
          18,
          24,
          30,
          36,
          48,
          54,
          60,
          72,
          84,
          96,
          108
         ],
         "xaxis": "x",
         "y": [
          205264.2386754967,
          345332,
          262369.5423529412,
          237944.91946969696,
          93905.77142857143,
          244102.56204545454,
          225090,
          230829.95519130435,
          283870.6893396226,
          232734,
          197392.3841269841,
          307826.34375,
          149259.84333333332,
          177257,
          114840.225
         ],
         "yaxis": "y"
        },
        {
         "alignmentgroup": "True",
         "error_y": {
          "array": [
           82948.09408454045,
           109246.28283929543,
           82846.31612609785,
           81637.64067792984,
           51890.53176485365,
           87401.67787456838,
           null,
           82851.08436899356,
           78972.8941252863,
           180411.9312587169,
           81110.13845959498,
           69605.89916340356,
           70786.42834012033,
           56679.55825957009,
           32204.0688565384
          ]
         },
         "hovertemplate": "UniProt=P16870<br>visit_month=%{x}<br>NPX_mean=%{y}<extra></extra>",
         "legendgroup": "P16870",
         "marker": {
          "color": "#19d3f3",
          "pattern": {
           "shape": ""
          }
         },
         "name": "P16870",
         "offsetgroup": "P16870",
         "orientation": "v",
         "showlegend": true,
         "textposition": "auto",
         "type": "bar",
         "x": [
          0,
          3,
          6,
          12,
          18,
          24,
          30,
          36,
          48,
          54,
          60,
          72,
          84,
          96,
          108
         ],
         "xaxis": "x",
         "y": [
          204662.65699481865,
          176099.96666666667,
          202765.93387096774,
          194838.7338888889,
          215177.375,
          206172.00809248554,
          176216,
          207797.3412162162,
          198650.52898550723,
          251516.5,
          193717.925,
          174992.8238095238,
          162941.20666666667,
          227511.5,
          199582.25
         ],
         "yaxis": "y"
        },
        {
         "alignmentgroup": "True",
         "error_y": {
          "array": [
           10197.002450160964,
           7453.07698157837,
           10019.042042351424,
           10146.802941978938,
           13230.891537663989,
           10785.69055860458,
           null,
           10377.314070804143,
           10462.229307970256,
           10344.144893825202,
           8746.2674361305,
           9322.653210765955,
           10736.575251735741,
           7002.8320074809735,
           7391.329457772353
          ]
         },
         "hovertemplate": "UniProt=P17174<br>visit_month=%{x}<br>NPX_mean=%{y}<extra></extra>",
         "legendgroup": "P17174",
         "marker": {
          "color": "#FF6692",
          "pattern": {
           "shape": ""
          }
         },
         "name": "P17174",
         "offsetgroup": "P17174",
         "orientation": "v",
         "showlegend": true,
         "textposition": "auto",
         "type": "bar",
         "x": [
          0,
          3,
          6,
          12,
          18,
          24,
          30,
          36,
          48,
          54,
          60,
          72,
          84,
          96,
          108
         ],
         "xaxis": "x",
         "y": [
          24061.112897727275,
          24326.066666666666,
          24891.5458974359,
          23455.82678787879,
          24253.68571428571,
          23649.212909090907,
          16723.4,
          23912.304637681158,
          24105.04142857143,
          16204.285,
          22881.872317073172,
          21981.599523809524,
          23711.908666666666,
          16015.55,
          20093.8
         ],
         "yaxis": "y"
        },
        {
         "alignmentgroup": "True",
         "error_y": {
          "array": [
           2684.966740849985,
           2431.1319235903256,
           2826.8644825395177,
           2525.7040590711426,
           2076.8102994062797,
           2369.5007946486758,
           2452.2178165289824,
           2322.163645413238,
           null,
           2354.9978370274393,
           1962.6004372446973,
           3228.1372822338,
           488.22187707025194,
           3107.110782366795
          ]
         },
         "hovertemplate": "UniProt=P17936<br>visit_month=%{x}<br>NPX_mean=%{y}<extra></extra>",
         "legendgroup": "P17936",
         "marker": {
          "color": "#B6E880",
          "pattern": {
           "shape": ""
          }
         },
         "name": "P17936",
         "offsetgroup": "P17936",
         "orientation": "v",
         "showlegend": true,
         "textposition": "auto",
         "type": "bar",
         "x": [
          0,
          3,
          6,
          12,
          18,
          24,
          36,
          48,
          54,
          60,
          72,
          84,
          96,
          108
         ],
         "xaxis": "x",
         "y": [
          7373.262507936508,
          7126.31,
          7330.39038271605,
          7285.606035714286,
          9009.367999999999,
          7183.424155172414,
          7482.838520408164,
          7114.956397530864,
          15907,
          7631.3196,
          6757.6030769230765,
          7533.205000000001,
          7315.594999999999,
          9259.47
         ],
         "yaxis": "y"
        },
        {
         "alignmentgroup": "True",
         "error_y": {
          "array": [
           97320.50271013523,
           58810.69100370556,
           93980.52391970289,
           92637.73258154915,
           111544.60624982532,
           90923.0520578666,
           null,
           98158.61961023918,
           92636.85187808672,
           390696.2955954407,
           96356.7348348984,
           87944.0149136559,
           85291.16162384952,
           302.64170234784234,
           100676.72887804477
          ]
         },
         "hovertemplate": "UniProt=P18065<br>visit_month=%{x}<br>NPX_mean=%{y}<extra></extra>",
         "legendgroup": "P18065",
         "marker": {
          "color": "#FF97FF",
          "pattern": {
           "shape": ""
          }
         },
         "name": "P18065",
         "offsetgroup": "P18065",
         "orientation": "v",
         "showlegend": true,
         "textposition": "auto",
         "type": "bar",
         "x": [
          0,
          3,
          6,
          12,
          18,
          24,
          30,
          36,
          48,
          54,
          60,
          72,
          84,
          96,
          108
         ],
         "xaxis": "x",
         "y": [
          271304.2572164948,
          233625.66666666666,
          258217.5814516129,
          256053.3788888889,
          263631.5,
          261023.40982658957,
          355001,
          271583.74256756756,
          273266.5652173913,
          510521,
          269712.62619047624,
          262709.6666666667,
          258883.73,
          233874,
          277668.75
         ],
         "yaxis": "y"
        },
        {
         "alignmentgroup": "True",
         "error_y": {
          "array": [
           4218.667158731277,
           3484.0141058554855,
           3823.2211143428685,
           4148.932890008657,
           2188.459360527401,
           4220.1212109057215,
           null,
           3688.6615528927123,
           4019.1278770802273,
           null,
           3896.1923406713645,
           3900.0014138108877,
           4882.718491251396,
           2240.0435721208632,
           3859.035258325583
          ]
         },
         "hovertemplate": "UniProt=P19021<br>visit_month=%{x}<br>NPX_mean=%{y}<extra></extra>",
         "legendgroup": "P19021",
         "marker": {
          "color": "#FECB52",
          "pattern": {
           "shape": ""
          }
         },
         "name": "P19021",
         "offsetgroup": "P19021",
         "orientation": "v",
         "showlegend": true,
         "textposition": "auto",
         "type": "bar",
         "x": [
          0,
          3,
          6,
          12,
          18,
          24,
          30,
          36,
          48,
          54,
          60,
          72,
          84,
          96,
          108
         ],
         "xaxis": "x",
         "y": [
          11833.19094488189,
          12290.93,
          11050.246794871795,
          11517.87474137931,
          10036.806,
          11395.685702479339,
          18999.9,
          11242.325979381445,
          11454.07965116279,
          16651.4,
          12431.502083333333,
          10995.955384615385,
          11319.039130434783,
          11763.650000000001,
          14943.75
         ],
         "yaxis": "y"
        },
        {
         "alignmentgroup": "True",
         "error_y": {
          "array": [
           360991.152411343,
           262403.2757627084,
           270094.3940148054,
           350874.5200831564,
           479872.80368267157,
           331889.5319880256,
           null,
           405839.3905431155,
           345484.60633254645,
           229354.32711854382,
           304237.60240270576,
           287770.6118032042,
           291366.0726811335,
           55037.65631365492,
           221671.75489523544
          ]
         },
         "hovertemplate": "UniProt=P19652<br>visit_month=%{x}<br>NPX_mean=%{y}<extra></extra>",
         "legendgroup": "P19652",
         "marker": {
          "color": "#636efa",
          "pattern": {
           "shape": ""
          }
         },
         "name": "P19652",
         "offsetgroup": "P19652",
         "orientation": "v",
         "showlegend": true,
         "textposition": "auto",
         "type": "bar",
         "x": [
          0,
          3,
          6,
          12,
          18,
          24,
          30,
          36,
          48,
          54,
          60,
          72,
          84,
          96,
          108
         ],
         "xaxis": "x",
         "y": [
          711093.497927461,
          826841,
          658413.7362903225,
          688602.3833333333,
          874226.625,
          665764.2838150288,
          950302,
          721630.972972973,
          725688.8913043478,
          736756,
          737212.8452380953,
          639035.2380952381,
          697219.6,
          959757.5,
          878425.5
         ],
         "yaxis": "y"
        },
        {
         "alignmentgroup": "True",
         "error_y": {
          "array": [
           39235.603937579624,
           29405.443737909034,
           31613.286689336845,
           34254.68489195686,
           36131.7793336692,
           33800.33474034506,
           null,
           34327.23548185342,
           36679.48302172982,
           29900.505217219998,
           33592.67550748412,
           57786.90976329452,
           35095.38109393612,
           8787.923076586412,
           38142.57399768881
          ]
         },
         "hovertemplate": "UniProt=P19823<br>visit_month=%{x}<br>NPX_mean=%{y}<extra></extra>",
         "legendgroup": "P19823",
         "marker": {
          "color": "#EF553B",
          "pattern": {
           "shape": ""
          }
         },
         "name": "P19823",
         "offsetgroup": "P19823",
         "orientation": "v",
         "showlegend": true,
         "textposition": "auto",
         "type": "bar",
         "x": [
          0,
          3,
          6,
          12,
          18,
          24,
          30,
          36,
          48,
          54,
          60,
          72,
          84,
          96,
          108
         ],
         "xaxis": "x",
         "y": [
          112374.54329896906,
          71991.83333333333,
          110507.8322580645,
          113414.89777777779,
          146445.4375,
          112939.42601156069,
          202020,
          111821.46081081081,
          113206.9727536232,
          91815.15,
          114842.08214285715,
          121315.02857142857,
          112292.16333333333,
          113725,
          122490.275
         ],
         "yaxis": "y"
        },
        {
         "alignmentgroup": "True",
         "error_y": {
          "array": [
           14080.984425573839,
           7192.269074731098,
           13563.794570939514,
           13913.394169512158,
           26472.816483983464,
           15704.623379355668,
           null,
           12516.267156409202,
           11913.582172822396,
           null,
           15887.602743823367,
           16682.50345783448,
           13150.134258068489,
           null,
           7295.049926491248
          ]
         },
         "hovertemplate": "UniProt=P19827<br>visit_month=%{x}<br>NPX_mean=%{y}<extra></extra>",
         "legendgroup": "P19827",
         "marker": {
          "color": "#00cc96",
          "pattern": {
           "shape": ""
          }
         },
         "name": "P19827",
         "offsetgroup": "P19827",
         "orientation": "v",
         "showlegend": true,
         "textposition": "auto",
         "type": "bar",
         "x": [
          0,
          3,
          6,
          12,
          18,
          24,
          30,
          36,
          48,
          54,
          60,
          72,
          84,
          96,
          108
         ],
         "xaxis": "x",
         "y": [
          29765.690229007632,
          18485.433333333334,
          29858.615571428574,
          30474.73427184466,
          46339.46666666667,
          29799.848124999997,
          37920.8,
          29247.11519230769,
          29943.92011764706,
          34928.4,
          33055.34369565218,
          35965.57142857143,
          29521.168333333335,
          20749.5,
          33343.5
         ],
         "yaxis": "y"
        },
        {
         "alignmentgroup": "True",
         "error_y": {
          "array": [
           116057.6410438247,
           46105.382896143485,
           110433.83142886873,
           107917.85096380787,
           165911.4968167732,
           119522.96251282013,
           null,
           111056.20767257058,
           108412.51177028586,
           240478.53100017057,
           108178.3332245913,
           127066.35111294077,
           84244.38874037979,
           110204.00606148581,
           85338.18302250952
          ]
         },
         "hovertemplate": "UniProt=P20774<br>visit_month=%{x}<br>NPX_mean=%{y}<extra></extra>",
         "legendgroup": "P20774",
         "marker": {
          "color": "#ab63fa",
          "pattern": {
           "shape": ""
          }
         },
         "name": "P20774",
         "offsetgroup": "P20774",
         "orientation": "v",
         "showlegend": true,
         "textposition": "auto",
         "type": "bar",
         "x": [
          0,
          3,
          6,
          12,
          18,
          24,
          30,
          36,
          48,
          54,
          60,
          72,
          84,
          96,
          108
         ],
         "xaxis": "x",
         "y": [
          369113.72577319585,
          399726,
          372978.1935483871,
          365352.5833333333,
          329255.625,
          362872.11445086705,
          282688,
          369999.40067567566,
          353501.78985507245,
          427581,
          370922.61904761905,
          342435.4285714286,
          345430.36666666664,
          379877,
          343179.75
         ],
         "yaxis": "y"
        },
        {
         "alignmentgroup": "True",
         "error_y": {
          "array": [
           12123.434241603658,
           9067.67965376663,
           10079.45417237666,
           9478.878089557871,
           9560.273649914527,
           11644.298872272868,
           null,
           10648.955548584427,
           10189.437943778747,
           null,
           10033.448580661803,
           11138.374730560154,
           7843.846060831032,
           null,
           6339.919400118581
          ]
         },
         "hovertemplate": "UniProt=P20933<br>visit_month=%{x}<br>NPX_mean=%{y}<extra></extra>",
         "legendgroup": "P20933",
         "marker": {
          "color": "#FFA15A",
          "pattern": {
           "shape": ""
          }
         },
         "name": "P20933",
         "offsetgroup": "P20933",
         "orientation": "v",
         "showlegend": true,
         "textposition": "auto",
         "type": "bar",
         "x": [
          0,
          3,
          6,
          12,
          18,
          24,
          30,
          36,
          48,
          54,
          60,
          72,
          84,
          96,
          108
         ],
         "xaxis": "x",
         "y": [
          35542.34842767296,
          27639.166666666668,
          34450.450000000004,
          33769.21666666667,
          35729.1125,
          34661.75743243243,
          44332.6,
          35180.30325203252,
          33595.7572815534,
          38595.9,
          32559.46666666667,
          33192.513333333336,
          30062.958333333332,
          39004.2,
          31985.699999999997
         ],
         "yaxis": "y"
        },
        {
         "alignmentgroup": "True",
         "error_y": {
          "array": [
           18962.0898379997,
           16541.99872625756,
           16493.275909166412,
           15505.521041282898,
           16326.853241538596,
           null,
           16835.987484606503,
           14652.633854349657,
           null,
           15006.939942559862,
           15059.076284097513,
           13189.158436522182,
           3007.8908258113365
          ]
         },
         "hovertemplate": "UniProt=P23083<br>visit_month=%{x}<br>NPX_mean=%{y}<extra></extra>",
         "legendgroup": "P23083",
         "marker": {
          "color": "#19d3f3",
          "pattern": {
           "shape": ""
          }
         },
         "name": "P23083",
         "offsetgroup": "P23083",
         "orientation": "v",
         "showlegend": true,
         "textposition": "auto",
         "type": "bar",
         "x": [
          0,
          6,
          12,
          18,
          24,
          30,
          36,
          48,
          54,
          60,
          72,
          84,
          108
         ],
         "xaxis": "x",
         "y": [
          35127.06165413534,
          35542.695,
          34506.80056910569,
          42055.78333333333,
          34359.52139344262,
          32934,
          35970.56431372549,
          35147.29977777778,
          68986.4,
          35998.34884615384,
          30516.502857142856,
          33632.742105263154,
          21319.6
         ],
         "yaxis": "y"
        },
        {
         "alignmentgroup": "True",
         "error_y": {
          "array": [
           314315.04752974876,
           18977.47875772754,
           341974.9676576429,
           318479.9641998968,
           400770.4115404301,
           318322.9455988286,
           null,
           346685.1405192673,
           293148.9137233914,
           985678.5687027997,
           327048.1717136068,
           399565.4662121805,
           249384.67940744484,
           753597.6378360006,
           269102.2827228834
          ]
         },
         "hovertemplate": "UniProt=P23142<br>visit_month=%{x}<br>NPX_mean=%{y}<extra></extra>",
         "legendgroup": "P23142",
         "marker": {
          "color": "#FF6692",
          "pattern": {
           "shape": ""
          }
         },
         "name": "P23142",
         "offsetgroup": "P23142",
         "orientation": "v",
         "showlegend": true,
         "textposition": "auto",
         "type": "bar",
         "x": [
          0,
          3,
          6,
          12,
          18,
          24,
          30,
          36,
          48,
          54,
          60,
          72,
          84,
          96,
          108
         ],
         "xaxis": "x",
         "y": [
          1144822.706185567,
          1175840,
          1145848.0967741935,
          1114638.7055555556,
          977208,
          1146238.0173410405,
          1069130,
          1122208.5046979864,
          1159109.6594202898,
          1511000,
          1172998.3333333333,
          1079971.5714285714,
          1075099.4666666666,
          1088606,
          1183575
         ],
         "yaxis": "y"
        },
        {
         "alignmentgroup": "True",
         "error_y": {
          "array": [
           243666.32698885724,
           634463.291399379,
           237142.50646116943,
           237209.35858295497,
           341093.2768253115,
           249892.0189638344,
           null,
           246061.06682201524,
           229198.14799444526,
           659778.0030013884,
           247455.6670781442,
           194672.97810600707,
           163322.16388380513,
           82129.7455280363,
           318386.12276762316
          ]
         },
         "hovertemplate": "UniProt=P24592<br>visit_month=%{x}<br>NPX_mean=%{y}<extra></extra>",
         "legendgroup": "P24592",
         "marker": {
          "color": "#B6E880",
          "pattern": {
           "shape": ""
          }
         },
         "name": "P24592",
         "offsetgroup": "P24592",
         "orientation": "v",
         "showlegend": true,
         "textposition": "auto",
         "type": "bar",
         "x": [
          0,
          3,
          6,
          12,
          18,
          24,
          30,
          36,
          48,
          54,
          60,
          72,
          84,
          96,
          108
         ],
         "xaxis": "x",
         "y": [
          749173.4845360825,
          1067526.6666666667,
          751165.3064516129,
          745328.3222222222,
          657777.5,
          770839.7630057803,
          773259,
          782791.8986486486,
          766755.5869565217,
          1211386.5,
          755817.5833333334,
          735549.1904761905,
          769579.9666666667,
          485344.5,
          890622.5
         ],
         "yaxis": "y"
        },
        {
         "alignmentgroup": "True",
         "error_y": {
          "array": [
           178825.38358534093,
           91255.44144323669,
           167584.656344669,
           176392.70295443648,
           170011.07669964162,
           176950.8774687279,
           null,
           173933.66391994935,
           182333.24955827932,
           383159.2444147733,
           181582.05307182155,
           141496.74881905204,
           152195.60493149722,
           99726.80488464473,
           259643.60411067965
          ]
         },
         "hovertemplate": "UniProt=P25311<br>visit_month=%{x}<br>NPX_mean=%{y}<extra></extra>",
         "legendgroup": "P25311",
         "marker": {
          "color": "#FF97FF",
          "pattern": {
           "shape": ""
          }
         },
         "name": "P25311",
         "offsetgroup": "P25311",
         "orientation": "v",
         "showlegend": true,
         "textposition": "auto",
         "type": "bar",
         "x": [
          0,
          3,
          6,
          12,
          18,
          24,
          30,
          36,
          48,
          54,
          60,
          72,
          84,
          96,
          108
         ],
         "xaxis": "x",
         "y": [
          835265.206185567,
          768447,
          817384.239516129,
          823604.4055555556,
          893151,
          830475.323699422,
          993641,
          838381.0337837838,
          844583,
          1084215.5,
          818684.2976190476,
          783214.1904761905,
          835621.8666666667,
          787890.5,
          869621.75
         ],
         "yaxis": "y"
        },
        {
         "alignmentgroup": "True",
         "error_y": {
          "array": [
           19763.631543238287,
           10750.497947769676,
           21410.815794622915,
           18913.041874022823,
           13536.184905493654,
           19537.381203806843,
           null,
           18715.753006548315,
           18241.36317929397,
           41229.741781119614,
           18967.18342571229,
           25452.78992763844,
           18473.318517624903,
           9255.037816238244,
           18341.573341819218
          ]
         },
         "hovertemplate": "UniProt=P27169<br>visit_month=%{x}<br>NPX_mean=%{y}<extra></extra>",
         "legendgroup": "P27169",
         "marker": {
          "color": "#FECB52",
          "pattern": {
           "shape": ""
          }
         },
         "name": "P27169",
         "offsetgroup": "P27169",
         "orientation": "v",
         "showlegend": true,
         "textposition": "auto",
         "type": "bar",
         "x": [
          0,
          3,
          6,
          12,
          18,
          24,
          30,
          36,
          48,
          54,
          60,
          72,
          84,
          96,
          108
         ],
         "xaxis": "x",
         "y": [
          30809.6734939759,
          20029.75,
          32769.06308411215,
          32974.89324503311,
          31892.17142857143,
          33733.893472222226,
          12704,
          31204.234249999998,
          29625.936218487397,
          39142.97,
          31835.85291666667,
          35912.07888888889,
          25693.451666666664,
          25727.8,
          36094.433333333334
         ],
         "yaxis": "y"
        },
        {
         "alignmentgroup": "True",
         "error_y": {
          "array": [
           23277.597594931995,
           10786.856889906961,
           23786.458951704302,
           22593.759874462703,
           12328.187485914432,
           23128.02583172503,
           null,
           24367.189436882156,
           23605.951352138643,
           28534.304205289467,
           24218.561582973598,
           22791.858858332012,
           20993.24836455898,
           5910.069187835279,
           18710.871534495658
          ]
         },
         "hovertemplate": "UniProt=P30086<br>visit_month=%{x}<br>NPX_mean=%{y}<extra></extra>",
         "legendgroup": "P30086",
         "marker": {
          "color": "#636efa",
          "pattern": {
           "shape": ""
          }
         },
         "name": "P30086",
         "offsetgroup": "P30086",
         "orientation": "v",
         "showlegend": true,
         "textposition": "auto",
         "type": "bar",
         "x": [
          0,
          3,
          6,
          12,
          18,
          24,
          30,
          36,
          48,
          54,
          60,
          72,
          84,
          96,
          108
         ],
         "xaxis": "x",
         "y": [
          42689.472095808385,
          54140.86666666667,
          41502.91933333334,
          38034.82764331211,
          50959.675,
          42297.6,
          8882.52,
          42563.40177777778,
          41212.65098360656,
          42240.3,
          41699.23527777778,
          34075.113,
          38993.287142857145,
          39966.95,
          32466.989999999998
         ],
         "yaxis": "y"
        },
        {
         "alignmentgroup": "True",
         "error_y": {
          "array": [
           230077.85365434526,
           143725.02344523493,
           221323.66932126982,
           229171.1619096335,
           116192.80512277858,
           196665.18292439333,
           null,
           217272.4946537933,
           201612.77438541214,
           54987.45173219068,
           200248.5278285437,
           187945.6731234043,
           142394.09831550118,
           113961.57149671111,
           156570.31611041946
          ]
         },
         "hovertemplate": "UniProt=P31997<br>visit_month=%{x}<br>NPX_mean=%{y}<extra></extra>",
         "legendgroup": "P31997",
         "marker": {
          "color": "#EF553B",
          "pattern": {
           "shape": ""
          }
         },
         "name": "P31997",
         "offsetgroup": "P31997",
         "orientation": "v",
         "showlegend": true,
         "textposition": "auto",
         "type": "bar",
         "x": [
          0,
          3,
          6,
          12,
          18,
          24,
          30,
          36,
          48,
          54,
          60,
          72,
          84,
          96,
          108
         ],
         "xaxis": "x",
         "y": [
          574899.3006289308,
          422027.3333333333,
          572680.9245098039,
          576943.9027777778,
          560676.4,
          564449.7809859156,
          597312,
          570671.2421875,
          578822.0789473684,
          601868,
          549640.4307692308,
          615909.3333333334,
          506177.73076923075,
          656560,
          624238.25
         ],
         "yaxis": "y"
        },
        {
         "alignmentgroup": "True",
         "error_y": {
          "array": [
           30616.216033185116,
           9750.83709962039,
           25119.086667153784,
           29760.443418646235,
           57030.906757757235,
           32202.334888133224,
           null,
           34384.29372557397,
           31539.22099765354,
           null,
           33543.868300339775,
           28540.068088765962,
           34589.41996083003,
           23070.91437112973,
           42103.74094523352
          ]
         },
         "hovertemplate": "UniProt=P32754<br>visit_month=%{x}<br>NPX_mean=%{y}<extra></extra>",
         "legendgroup": "P32754",
         "marker": {
          "color": "#00cc96",
          "pattern": {
           "shape": ""
          }
         },
         "name": "P32754",
         "offsetgroup": "P32754",
         "orientation": "v",
         "showlegend": true,
         "textposition": "auto",
         "type": "bar",
         "x": [
          0,
          3,
          6,
          12,
          18,
          24,
          30,
          36,
          48,
          54,
          60,
          72,
          84,
          96,
          108
         ],
         "xaxis": "x",
         "y": [
          72806.11259259259,
          71639.26666666666,
          70818.71538461538,
          77072.50084745762,
          95826.81999999999,
          71215.0438016529,
          64826.6,
          75288.46336633663,
          75419.52376237624,
          101742,
          73840.87833333334,
          74716.64705882352,
          73060.40000000001,
          79628.2,
          84126.83333333333
         ],
         "yaxis": "y"
        },
        {
         "alignmentgroup": "True",
         "error_y": {
          "array": [
           17698.446878752406,
           11794.327493474704,
           18096.985933673375,
           17217.333479964604,
           26035.184314180176,
           17114.37134214429,
           null,
           18449.03685686648,
           20818.420831870157,
           4108.00755598137,
           21372.63814576674,
           13999.127603517705,
           13817.233318148488,
           18457.0426238875,
           16636.4112743454
          ]
         },
         "hovertemplate": "UniProt=P35542<br>visit_month=%{x}<br>NPX_mean=%{y}<extra></extra>",
         "legendgroup": "P35542",
         "marker": {
          "color": "#ab63fa",
          "pattern": {
           "shape": ""
          }
         },
         "name": "P35542",
         "offsetgroup": "P35542",
         "orientation": "v",
         "showlegend": true,
         "textposition": "auto",
         "type": "bar",
         "x": [
          0,
          3,
          6,
          12,
          18,
          24,
          30,
          36,
          48,
          54,
          60,
          72,
          84,
          96,
          108
         ],
         "xaxis": "x",
         "y": [
          57034.72356020942,
          47758.53333333333,
          55552.56639344262,
          57171.31942857143,
          53972.4,
          57621.065088757394,
          48285.9,
          57849.81369863014,
          58266.812686567166,
          56841.5,
          58319.21071428571,
          56372.75714285714,
          55857.93793103448,
          59313,
          55320.125
         ],
         "yaxis": "y"
        },
        {
         "alignmentgroup": "True",
         "error_y": {
          "array": [
           136398.67160401217,
           67959.53084250461,
           129849.15389449541,
           132386.50918397697,
           126044.81491205533,
           139264.48766194266,
           null,
           138869.23910503104,
           148588.73039066116,
           115244.26319778351,
           118727.23495573505,
           125869.17150291595,
           108771.66186892471,
           21458.56948866816,
           123313.6356585651
          ]
         },
         "hovertemplate": "UniProt=P36222<br>visit_month=%{x}<br>NPX_mean=%{y}<extra></extra>",
         "legendgroup": "P36222",
         "marker": {
          "color": "#FFA15A",
          "pattern": {
           "shape": ""
          }
         },
         "name": "P36222",
         "offsetgroup": "P36222",
         "orientation": "v",
         "showlegend": true,
         "textposition": "auto",
         "type": "bar",
         "x": [
          0,
          3,
          6,
          12,
          18,
          24,
          30,
          36,
          48,
          54,
          60,
          72,
          84,
          96,
          108
         ],
         "xaxis": "x",
         "y": [
          316735.95492227975,
          360537.6666666667,
          323199.8919354839,
          303626.3988888889,
          296696.25,
          319002.71849710983,
          316787,
          329361.27297297295,
          332147.55797101447,
          279367,
          329274.24523809523,
          356284.99523809523,
          320167.37,
          332354.5,
          384562
         ],
         "yaxis": "y"
        },
        {
         "alignmentgroup": "True",
         "error_y": {
          "array": [
           675610.9881576922,
           393204.63455220533,
           659893.3889601608,
           606058.0638364892,
           405450.9457734331,
           620069.5335488265,
           null,
           659130.8420463055,
           613347.9044377296,
           1005647.2642035079,
           695650.407517246,
           638922.6099267422,
           541329.9303148799,
           915561.8602803417,
           589726.6585178821
          ]
         },
         "hovertemplate": "UniProt=P36955<br>visit_month=%{x}<br>NPX_mean=%{y}<extra></extra>",
         "legendgroup": "P36955",
         "marker": {
          "color": "#19d3f3",
          "pattern": {
           "shape": ""
          }
         },
         "name": "P36955",
         "offsetgroup": "P36955",
         "orientation": "v",
         "showlegend": true,
         "textposition": "auto",
         "type": "bar",
         "x": [
          0,
          3,
          6,
          12,
          18,
          24,
          30,
          36,
          48,
          54,
          60,
          72,
          84,
          96,
          108
         ],
         "xaxis": "x",
         "y": [
          2100937.036082474,
          2199566.6666666665,
          2146646.3225806453,
          2133610.5222222223,
          2156380,
          2154567.4624277456,
          1560790,
          2224665.5405405406,
          2105611.1666666665,
          2361800,
          2194636.2023809524,
          2016746,
          1937827.3333333333,
          2352540,
          2038715
         ],
         "yaxis": "y"
        },
        {
         "alignmentgroup": "True",
         "error_y": {
          "array": [
           2174.0111207004998,
           3577.364097563083,
           1905.0477405534,
           2006.7057903961966,
           1609.7155074732927,
           1866.2849247300105,
           null,
           1998.89691331738,
           1586.5423666855634,
           1585.3970430305474,
           1563.5738232681301,
           1692.124353615892,
           1983.4489089777433,
           null,
           2368.8941294339575
          ]
         },
         "hovertemplate": "UniProt=P36980<br>visit_month=%{x}<br>NPX_mean=%{y}<extra></extra>",
         "legendgroup": "P36980",
         "marker": {
          "color": "#FF6692",
          "pattern": {
           "shape": ""
          }
         },
         "name": "P36980",
         "offsetgroup": "P36980",
         "orientation": "v",
         "showlegend": true,
         "textposition": "auto",
         "type": "bar",
         "x": [
          0,
          3,
          6,
          12,
          18,
          24,
          30,
          36,
          48,
          54,
          60,
          72,
          84,
          96,
          108
         ],
         "xaxis": "x",
         "y": [
          6247.14352,
          5860.053333333333,
          5963.078539325843,
          6200.204711538462,
          5516.94,
          6067.9681132075475,
          2575.41,
          6230.564117647058,
          6183.508764044944,
          7078.325000000001,
          6112.52375,
          4963.259999999999,
          5903.1025,
          6688.32,
          6462.66
         ],
         "yaxis": "y"
        },
        {
         "alignmentgroup": "True",
         "error_y": {
          "array": [
           16231.178319123637,
           20441.33588157421,
           16799.875707098556,
           15629.117635537352,
           6616.784154816338,
           16444.621906623706,
           null,
           17301.483023512403,
           16272.622253691672,
           10864.130007506352,
           15019.668816476636,
           14670.505673128166,
           14465.853713998911,
           4551.717061175927,
           8724.906338895562
          ]
         },
         "hovertemplate": "UniProt=P39060<br>visit_month=%{x}<br>NPX_mean=%{y}<extra></extra>",
         "legendgroup": "P39060",
         "marker": {
          "color": "#B6E880",
          "pattern": {
           "shape": ""
          }
         },
         "name": "P39060",
         "offsetgroup": "P39060",
         "orientation": "v",
         "showlegend": true,
         "textposition": "auto",
         "type": "bar",
         "x": [
          0,
          3,
          6,
          12,
          18,
          24,
          30,
          36,
          48,
          54,
          60,
          72,
          84,
          96,
          108
         ],
         "xaxis": "x",
         "y": [
          43877.42345549738,
          40004.566666666666,
          45444.70483870968,
          43374.93685393258,
          56959.514285714286,
          45603.513372093024,
          32404.5,
          45964.33424657534,
          45851.9830882353,
          44691.1,
          47142.07047619048,
          40890.385714285716,
          42320.863333333335,
          45245.149999999994,
          47495.075
         ],
         "yaxis": "y"
        },
        {
         "alignmentgroup": "True",
         "error_y": {
          "array": [
           10464.866626248682,
           5362.018180685329,
           11068.257877631588,
           9803.675581021093,
           6547.4510526616405,
           10918.412389289051,
           null,
           11065.77033513909,
           9927.7057507517,
           524.6732316404183,
           9387.335894339803,
           7695.771105746766,
           7420.478995438129,
           4334.211015282943,
           15147.137710031775
          ]
         },
         "hovertemplate": "UniProt=P40925<br>visit_month=%{x}<br>NPX_mean=%{y}<extra></extra>",
         "legendgroup": "P40925",
         "marker": {
          "color": "#FF97FF",
          "pattern": {
           "shape": ""
          }
         },
         "name": "P40925",
         "offsetgroup": "P40925",
         "orientation": "v",
         "showlegend": true,
         "textposition": "auto",
         "type": "bar",
         "x": [
          0,
          3,
          6,
          12,
          18,
          24,
          30,
          36,
          48,
          54,
          60,
          72,
          84,
          96,
          108
         ],
         "xaxis": "x",
         "y": [
          28842.12965714286,
          26488.399999999998,
          29599.038596491228,
          27737.59365853659,
          28871.079999999998,
          28331.025900621116,
          33699.7,
          29605.938059701493,
          29175.274999999998,
          21656,
          30311.06913580247,
          27369.526315789473,
          27665.857692307694,
          28559.55,
          33948.4
         ],
         "yaxis": "y"
        },
        {
         "alignmentgroup": "True",
         "error_y": {
          "array": [
           16514201.3069775,
           5096606.213288734,
           14844850.990267526,
           13740129.652939562,
           10609622.827742947,
           15104717.676798472,
           null,
           16388592.160624461,
           15527364.547263255,
           46251359.58266524,
           13853410.174045801,
           11695958.88430782,
           14206177.265972504,
           7050278.8724985905,
           10963568.626554342
          ]
         },
         "hovertemplate": "UniProt=P41222<br>visit_month=%{x}<br>NPX_mean=%{y}<extra></extra>",
         "legendgroup": "P41222",
         "marker": {
          "color": "#FECB52",
          "pattern": {
           "shape": ""
          }
         },
         "name": "P41222",
         "offsetgroup": "P41222",
         "orientation": "v",
         "showlegend": true,
         "textposition": "auto",
         "type": "bar",
         "x": [
          0,
          3,
          6,
          12,
          18,
          24,
          30,
          36,
          48,
          54,
          60,
          72,
          84,
          96,
          108
         ],
         "xaxis": "x",
         "y": [
          42035695.309278354,
          39757966.666666664,
          41925312.90322581,
          40333365.55555555,
          34739087.5,
          41589289,
          29115400,
          41158793.62416107,
          42047521.231884055,
          64172050,
          41777669.047619045,
          37230572.38095238,
          39304540.666666664,
          48798800,
          54867525
         ],
         "yaxis": "y"
        },
        {
         "alignmentgroup": "True",
         "error_y": {
          "array": [
           15063.094213137965,
           13276.829388198577,
           14518.578580012116,
           13807.97227207079,
           16261.620856197404,
           15076.770926241517,
           null,
           14309.70058608769,
           14415.55668151889,
           29196.43899519254,
           12717.048133049884,
           11724.895504164588,
           12448.882656347212,
           14521.356990481296,
           7654.460220191886
          ]
         },
         "hovertemplate": "UniProt=P43121<br>visit_month=%{x}<br>NPX_mean=%{y}<extra></extra>",
         "legendgroup": "P43121",
         "marker": {
          "color": "#636efa",
          "pattern": {
           "shape": ""
          }
         },
         "name": "P43121",
         "offsetgroup": "P43121",
         "orientation": "v",
         "showlegend": true,
         "textposition": "auto",
         "type": "bar",
         "x": [
          0,
          3,
          6,
          12,
          18,
          24,
          30,
          36,
          48,
          54,
          60,
          72,
          84,
          96,
          108
         ],
         "xaxis": "x",
         "y": [
          44965.65842105263,
          49137.43333333333,
          42394.315934959355,
          42074.088370786514,
          46800.275,
          44480.91660818714,
          52870.9,
          45033.55205479452,
          43654.545255474455,
          47984.399999999994,
          42818.130952380954,
          38794.36,
          41689.93103448276,
          39974.05,
          47786.675
         ],
         "yaxis": "y"
        },
        {
         "alignmentgroup": "True",
         "error_y": {
          "array": [
           12061.457407658625,
           3324.9653291425434,
           12466.164881774775,
           10964.952647461005,
           10761.452214003728,
           12306.53179793513,
           null,
           13193.968444995728,
           11436.29107087318,
           4167.192393566675,
           11089.518164518528,
           12217.490358991357,
           8425.948829424717,
           14483.385356331582,
           13683.277684093095
          ]
         },
         "hovertemplate": "UniProt=P43251<br>visit_month=%{x}<br>NPX_mean=%{y}<extra></extra>",
         "legendgroup": "P43251",
         "marker": {
          "color": "#EF553B",
          "pattern": {
           "shape": ""
          }
         },
         "name": "P43251",
         "offsetgroup": "P43251",
         "orientation": "v",
         "showlegend": true,
         "textposition": "auto",
         "type": "bar",
         "x": [
          0,
          3,
          6,
          12,
          18,
          24,
          30,
          36,
          48,
          54,
          60,
          72,
          84,
          96,
          108
         ],
         "xaxis": "x",
         "y": [
          44197.852197802196,
          39455.9,
          43809.76837606838,
          41922.52471264368,
          43885.65,
          43767.44670658682,
          40179.5,
          43797.341056338024,
          43243.631617647065,
          36436.05,
          45269.61707317073,
          44181.67368421053,
          41135.15862068966,
          45353,
          46874.5
         ],
         "yaxis": "y"
        },
        {
         "alignmentgroup": "True",
         "error_y": {
          "array": [
           98217.71437389398,
           99560.59833253983,
           83588.23311078556,
           101495.49745289404,
           131500.0886686169,
           92966.30523275195,
           null,
           91888.47762055571,
           86483.24685606344,
           29365.437515896134,
           105616.4967919583,
           90858.46336302675,
           72805.35977367815,
           94982.82548966419,
           61887.30190367543
          ]
         },
         "hovertemplate": "UniProt=P43652<br>visit_month=%{x}<br>NPX_mean=%{y}<extra></extra>",
         "legendgroup": "P43652",
         "marker": {
          "color": "#00cc96",
          "pattern": {
           "shape": ""
          }
         },
         "name": "P43652",
         "offsetgroup": "P43652",
         "orientation": "v",
         "showlegend": true,
         "textposition": "auto",
         "type": "bar",
         "x": [
          0,
          3,
          6,
          12,
          18,
          24,
          30,
          36,
          48,
          54,
          60,
          72,
          84,
          96,
          108
         ],
         "xaxis": "x",
         "y": [
          356432.324742268,
          409626.3333333333,
          348507.4379032258,
          348938.295,
          311150.5375,
          344674.7354651163,
          383891,
          340263.73986486485,
          340700.1072463768,
          479276.5,
          359111.20714285714,
          335483.7619047619,
          357982.4666666667,
          339883,
          335052.75
         ],
         "yaxis": "y"
        },
        {
         "alignmentgroup": "True",
         "error_y": {
          "array": [
           4430.367883271044,
           4890.83133129737,
           4239.224354475104,
           3594.5796774486575,
           4898.420795352423,
           4366.284671955936,
           null,
           4636.45565114843,
           4551.530995931226,
           null,
           5133.651277153974,
           4557.656212881176,
           4424.800121640833,
           5862.106134867399,
           2442.764015219235
          ]
         },
         "hovertemplate": "UniProt=P49588<br>visit_month=%{x}<br>NPX_mean=%{y}<extra></extra>",
         "legendgroup": "P49588",
         "marker": {
          "color": "#ab63fa",
          "pattern": {
           "shape": ""
          }
         },
         "name": "P49588",
         "offsetgroup": "P49588",
         "orientation": "v",
         "showlegend": true,
         "textposition": "auto",
         "type": "bar",
         "x": [
          0,
          3,
          6,
          12,
          18,
          24,
          30,
          36,
          48,
          54,
          60,
          72,
          84,
          96,
          108
         ],
         "xaxis": "x",
         "y": [
          10042.269704142012,
          11284.96,
          9738.846126126125,
          9575.065448717949,
          11489.95625,
          9910.043472972971,
          6614.26,
          10668.359160305345,
          9684.923418803419,
          10762.7,
          10053.506984126983,
          9107.904444444444,
          8798.388181818182,
          7003.0650000000005,
          9348.105
         ],
         "yaxis": "y"
        },
        {
         "alignmentgroup": "True",
         "error_y": {
          "array": [
           5588.1680596846,
           3145.329952485111,
           5180.448345208745,
           4505.8544971249685,
           3977.2213191184132,
           5053.649603206039,
           null,
           5425.472102298986,
           5035.030506417514,
           17434.000532866805,
           5695.459659981608,
           2512.551672136892,
           5156.4138544247435,
           2261.115354200222,
           2177.397349092109
          ]
         },
         "hovertemplate": "UniProt=P49908<br>visit_month=%{x}<br>NPX_mean=%{y}<extra></extra>",
         "legendgroup": "P49908",
         "marker": {
          "color": "#FFA15A",
          "pattern": {
           "shape": ""
          }
         },
         "name": "P49908",
         "offsetgroup": "P49908",
         "orientation": "v",
         "showlegend": true,
         "textposition": "auto",
         "type": "bar",
         "x": [
          0,
          3,
          6,
          12,
          18,
          24,
          30,
          36,
          48,
          54,
          60,
          72,
          84,
          96,
          108
         ],
         "xaxis": "x",
         "y": [
          20835.81764397906,
          19601.399999999998,
          20175.890081967213,
          19975.767068965517,
          22515.9125,
          21149.056647058824,
          22547.5,
          20503.870272108845,
          20658.025185185186,
          27510.5,
          20614.47951807229,
          18168.19,
          20696.789655172415,
          18663.85,
          21047.125
         ],
         "yaxis": "y"
        },
        {
         "alignmentgroup": "True",
         "error_y": {
          "array": [
           78699.62141131362,
           46747.14923215462,
           66486.92834648497,
           72529.58872962225,
           89821.23265120637,
           68224.72576554256,
           null,
           73515.20487757822,
           68467.46114370394,
           88932.81986983208,
           62797.07450371657,
           71471.43819804958,
           58572.27446212064,
           1858.9837277394333,
           51547.94081241267
          ]
         },
         "hovertemplate": "UniProt=P51884<br>visit_month=%{x}<br>NPX_mean=%{y}<extra></extra>",
         "legendgroup": "P51884",
         "marker": {
          "color": "#19d3f3",
          "pattern": {
           "shape": ""
          }
         },
         "name": "P51884",
         "offsetgroup": "P51884",
         "orientation": "v",
         "showlegend": true,
         "textposition": "auto",
         "type": "bar",
         "x": [
          0,
          3,
          6,
          12,
          18,
          24,
          30,
          36,
          48,
          54,
          60,
          72,
          84,
          96,
          108
         ],
         "xaxis": "x",
         "y": [
          259626.54123711342,
          305382.6666666667,
          253965.5241935484,
          256918.6888888889,
          257133.125,
          260369.60751445088,
          307195,
          265773.9331081081,
          265470.6833333333,
          386439,
          254864.55952380953,
          236667.94761904763,
          251020.75666666668,
          254742.5,
          264505
         ],
         "yaxis": "y"
        },
        {
         "alignmentgroup": "True",
         "error_y": {
          "array": [
           25095.1381718067,
           27768.783511405993,
           23703.43315914779,
           23664.31381109083,
           16053.760300627393,
           25940.92267283006,
           null,
           26907.270132972764,
           24536.594928495128,
           48543.304792525196,
           23241.40062291281,
           21977.12772661794,
           24452.6891293533,
           31355.943104936265,
           24242.298836864324
          ]
         },
         "hovertemplate": "UniProt=P54289<br>visit_month=%{x}<br>NPX_mean=%{y}<extra></extra>",
         "legendgroup": "P54289",
         "marker": {
          "color": "#FF6692",
          "pattern": {
           "shape": ""
          }
         },
         "name": "P54289",
         "offsetgroup": "P54289",
         "orientation": "v",
         "showlegend": true,
         "textposition": "auto",
         "type": "bar",
         "x": [
          0,
          3,
          6,
          12,
          18,
          24,
          30,
          36,
          48,
          54,
          60,
          72,
          84,
          96,
          108
         ],
         "xaxis": "x",
         "y": [
          41086.93071038251,
          39572.46666666667,
          37123.82691056911,
          38688.66739884393,
          30931.600000000002,
          40284.006144578314,
          40839.4,
          38842.69436619718,
          40740.30123076923,
          42814.4,
          39341.60578313253,
          41008.595,
          42585.29,
          40626.9,
          44653.625
         ],
         "yaxis": "y"
        },
        {
         "alignmentgroup": "True",
         "error_y": {
          "array": [
           16466.05799295741,
           19729.710971215467,
           17605.999778831778,
           16672.906327266603,
           10992.868059019562,
           18325.30441891665,
           null,
           16985.411325024917,
           18073.938902952574,
           36118.80225097449,
           16730.1246773761,
           13484.389410594866,
           15650.589672678161,
           14863.030987150632,
           26585.321532371327
          ]
         },
         "hovertemplate": "UniProt=P55290<br>visit_month=%{x}<br>NPX_mean=%{y}<extra></extra>",
         "legendgroup": "P55290",
         "marker": {
          "color": "#B6E880",
          "pattern": {
           "shape": ""
          }
         },
         "name": "P55290",
         "offsetgroup": "P55290",
         "orientation": "v",
         "showlegend": true,
         "textposition": "auto",
         "type": "bar",
         "x": [
          0,
          3,
          6,
          12,
          18,
          24,
          30,
          36,
          48,
          54,
          60,
          72,
          84,
          96,
          108
         ],
         "xaxis": "x",
         "y": [
          33456.649,
          25163.97,
          32200.907310924373,
          30962.38460227273,
          28127.84875,
          32957.223837209305,
          33357.1,
          32509.329103448275,
          32748.409338235295,
          46419.15,
          34175.56108433735,
          34558.7295,
          33635.823333333334,
          38016.95,
          38219.865000000005
         ],
         "yaxis": "y"
        },
        {
         "alignmentgroup": "True",
         "error_y": {
          "array": [
           5348.967236332575,
           null,
           5586.939956467647,
           5113.030392747284,
           3916.038703296264,
           5546.934621379955,
           null,
           5910.048196023706,
           5440.231763656768,
           5138.621271694884,
           3601.618819253365,
           5311.921343318859,
           732.1383612405504,
           2717.4962129136447
          ]
         },
         "hovertemplate": "UniProt=P60174<br>visit_month=%{x}<br>NPX_mean=%{y}<extra></extra>",
         "legendgroup": "P60174",
         "marker": {
          "color": "#FF97FF",
          "pattern": {
           "shape": ""
          }
         },
         "name": "P60174",
         "offsetgroup": "P60174",
         "orientation": "v",
         "showlegend": true,
         "textposition": "auto",
         "type": "bar",
         "x": [
          0,
          3,
          6,
          12,
          18,
          24,
          30,
          36,
          48,
          60,
          72,
          84,
          96,
          108
         ],
         "xaxis": "x",
         "y": [
          15328.139296875,
          18506.5,
          15367.572463768116,
          14759.828174603175,
          15508,
          16023.73701754386,
          15334.7,
          15340.980275229358,
          15661.203658536584,
          14689.124074074074,
          14152.720000000001,
          14751.607894736842,
          14593.400000000001,
          11338.939999999999
         ],
         "yaxis": "y"
        },
        {
         "alignmentgroup": "True",
         "error_y": {
          "array": [
           4153.876171288946,
           3227.9372946408566,
           3224.688240777674,
           3564.6718454379384,
           2985.5451277590355,
           3806.6138717468157,
           null,
           3103.7223503348882,
           3036.0233492910925,
           9462.42587119923,
           4136.614528274053,
           2213.4966874559273,
           3203.5763458932374,
           3897.1695270349737,
           3937.417752600258
          ]
         },
         "hovertemplate": "UniProt=P61278<br>visit_month=%{x}<br>NPX_mean=%{y}<extra></extra>",
         "legendgroup": "P61278",
         "marker": {
          "color": "#FECB52",
          "pattern": {
           "shape": ""
          }
         },
         "name": "P61278",
         "offsetgroup": "P61278",
         "orientation": "v",
         "showlegend": true,
         "textposition": "auto",
         "type": "bar",
         "x": [
          0,
          3,
          6,
          12,
          18,
          24,
          30,
          36,
          48,
          54,
          60,
          72,
          84,
          96,
          108
         ],
         "xaxis": "x",
         "y": [
          6619.905533707865,
          5531.946666666667,
          6059.940491228071,
          6267.914251533743,
          6322.785,
          6329.825692307692,
          1692.04,
          5436.735390070921,
          5655.63332,
          7476.7545,
          6136.974935064935,
          5087.5768421052635,
          5898.02,
          7268.885,
          7423.0975
         ],
         "yaxis": "y"
        },
        {
         "alignmentgroup": "True",
         "error_y": {
          "array": [
           6258.139230590078,
           2657.9917059313784,
           6015.897330667369,
           5571.824673571967,
           5383.7370382656,
           6174.32256986253,
           null,
           6250.320150262517,
           6650.65113408257,
           4299.0678082579725,
           6325.702661362215,
           6666.818895902362,
           5311.581969251656,
           15321.214968156084,
           11305.8463156144
          ]
         },
         "hovertemplate": "UniProt=P61626<br>visit_month=%{x}<br>NPX_mean=%{y}<extra></extra>",
         "legendgroup": "P61626",
         "marker": {
          "color": "#636efa",
          "pattern": {
           "shape": ""
          }
         },
         "name": "P61626",
         "offsetgroup": "P61626",
         "orientation": "v",
         "showlegend": true,
         "textposition": "auto",
         "type": "bar",
         "x": [
          0,
          3,
          6,
          12,
          18,
          24,
          30,
          36,
          48,
          54,
          60,
          72,
          84,
          96,
          108
         ],
         "xaxis": "x",
         "y": [
          14027.774657608696,
          9975.539999999999,
          14273.636050000001,
          14041.346823529411,
          15705.9025,
          14856.23413580247,
          15384,
          15357.248345323742,
          14823.723246153848,
          15118.5,
          14802.85,
          14593.0865,
          13482.643103448278,
          18909.665,
          15792.3375
         ],
         "yaxis": "y"
        },
        {
         "alignmentgroup": "True",
         "error_y": {
          "array": [
           151061.38144011697,
           69076.60999933335,
           145587.65742707957,
           142020.03188846193,
           127481.92252254477,
           141848.9417057449,
           null,
           123240.4337451049,
           132402.50756881738,
           549648.9502587083,
           152810.73779483384,
           119876.02797083864,
           135303.56212627114,
           46786.427283989105,
           123123.87415525877
          ]
         },
         "hovertemplate": "UniProt=P61769<br>visit_month=%{x}<br>NPX_mean=%{y}<extra></extra>",
         "legendgroup": "P61769",
         "marker": {
          "color": "#EF553B",
          "pattern": {
           "shape": ""
          }
         },
         "name": "P61769",
         "offsetgroup": "P61769",
         "orientation": "v",
         "showlegend": true,
         "textposition": "auto",
         "type": "bar",
         "x": [
          0,
          3,
          6,
          12,
          18,
          24,
          30,
          36,
          48,
          54,
          60,
          72,
          84,
          96,
          108
         ],
         "xaxis": "x",
         "y": [
          331878.3238341969,
          342964,
          319316.5387096774,
          303294.0586592179,
          274176.4875,
          318514.9959302325,
          121678,
          320749.5175675676,
          321834.06920289854,
          524778.5,
          324434.3214285714,
          264476.8857142857,
          309796.4766666667,
          327505,
          302640.5
         ],
         "yaxis": "y"
        },
        {
         "alignmentgroup": "True",
         "error_y": {
          "array": [
           92999.91528448327,
           48023.66150485959,
           91077.66882844752,
           87618.74384215433,
           78214.5833821472,
           91772.82155539803,
           null,
           87572.87022607889,
           85358.37664593029,
           285335.9709850828,
           92445.2879141508,
           79071.94965546975,
           80945.65641508372,
           200633.06388030862,
           75471.53735183881
          ]
         },
         "hovertemplate": "UniProt=P61916<br>visit_month=%{x}<br>NPX_mean=%{y}<extra></extra>",
         "legendgroup": "P61916",
         "marker": {
          "color": "#00cc96",
          "pattern": {
           "shape": ""
          }
         },
         "name": "P61916",
         "offsetgroup": "P61916",
         "orientation": "v",
         "showlegend": true,
         "textposition": "auto",
         "type": "bar",
         "x": [
          0,
          3,
          6,
          12,
          18,
          24,
          30,
          36,
          48,
          54,
          60,
          72,
          84,
          96,
          108
         ],
         "xaxis": "x",
         "y": [
          239419.27268041237,
          264256.6666666667,
          246729.83951612905,
          230863.02055555556,
          230293.75,
          237428.35953757228,
          231110,
          236402.61891891892,
          235064.85217391307,
          348713,
          235243.6988095238,
          221625.8285714286,
          232647.78666666665,
          321823,
          245167.75
         ],
         "yaxis": "y"
        },
        {
         "alignmentgroup": "True",
         "error_y": {
          "array": [
           16075.82173829904,
           9393.171014270598,
           14584.19472956554,
           15527.933130690177,
           6628.173794600484,
           17277.208659456533,
           null,
           15016.836643590541,
           15714.036997139881,
           35866.789394159605,
           13740.289326901031,
           15207.574137819802,
           13961.066627893197,
           19595.343120241607,
           10116.605870382944
          ]
         },
         "hovertemplate": "UniProt=P80748<br>visit_month=%{x}<br>NPX_mean=%{y}<extra></extra>",
         "legendgroup": "P80748",
         "marker": {
          "color": "#ab63fa",
          "pattern": {
           "shape": ""
          }
         },
         "name": "P80748",
         "offsetgroup": "P80748",
         "orientation": "v",
         "showlegend": true,
         "textposition": "auto",
         "type": "bar",
         "x": [
          0,
          3,
          6,
          12,
          18,
          24,
          30,
          36,
          48,
          54,
          60,
          72,
          84,
          96,
          108
         ],
         "xaxis": "x",
         "y": [
          36079.24010309279,
          26333.933333333334,
          34909.7485483871,
          34785.23622222222,
          29239.1,
          35941.97115606936,
          32649.5,
          35011.785202702704,
          34749.57992753624,
          47313.65,
          33692.47119047619,
          34292.114285714284,
          35724.366,
          33749,
          33325.75
         ],
         "yaxis": "y"
        },
        {
         "alignmentgroup": "True",
         "error_y": {
          "array": [
           5977.656728345418,
           534.5282010645776,
           5747.7916914136285,
           5711.451534143134,
           3310.2911487906777,
           5904.470896570577,
           null,
           5464.464149245803,
           5701.836601194369,
           13718.946357326424,
           5429.598971181051,
           4619.648758296139,
           6083.739316257753,
           2032.2248891301376,
           3428.781636932668
          ]
         },
         "hovertemplate": "UniProt=P98160<br>visit_month=%{x}<br>NPX_mean=%{y}<extra></extra>",
         "legendgroup": "P98160",
         "marker": {
          "color": "#FFA15A",
          "pattern": {
           "shape": ""
          }
         },
         "name": "P98160",
         "offsetgroup": "P98160",
         "orientation": "v",
         "showlegend": true,
         "textposition": "auto",
         "type": "bar",
         "x": [
          0,
          3,
          6,
          12,
          18,
          24,
          30,
          36,
          48,
          54,
          60,
          72,
          84,
          96,
          108
         ],
         "xaxis": "x",
         "y": [
          8518.351483146067,
          2702.8366666666666,
          8489.633307692307,
          8517.788439759037,
          4342.784285714285,
          8068.693116129032,
          11133.2,
          7745.858687943262,
          8172.27903125,
          11831.539999999999,
          8279.637324324325,
          9728.119380952381,
          8542.412884615385,
          12676,
          9080.695
         ],
         "yaxis": "y"
        },
        {
         "alignmentgroup": "True",
         "error_y": {
          "array": [
           5736.640696191303,
           6237.176784812182,
           5158.664802798746,
           5332.823856992761,
           3478.349463035593,
           5517.89341577369,
           5101.763162503276,
           5530.462778090291,
           null,
           5449.86486636223,
           5163.137130552739,
           5829.494818696028,
           null,
           2154.870373518246
          ]
         },
         "hovertemplate": "UniProt=Q02818<br>visit_month=%{x}<br>NPX_mean=%{y}<extra></extra>",
         "legendgroup": "Q02818",
         "marker": {
          "color": "#19d3f3",
          "pattern": {
           "shape": ""
          }
         },
         "name": "Q02818",
         "offsetgroup": "Q02818",
         "orientation": "v",
         "showlegend": true,
         "textposition": "auto",
         "type": "bar",
         "x": [
          0,
          3,
          6,
          12,
          18,
          24,
          36,
          48,
          54,
          60,
          72,
          84,
          96,
          108
         ],
         "xaxis": "x",
         "y": [
          18737.224968152866,
          18958.35,
          17854.63207920792,
          18462.33577777778,
          22871.45,
          18919.934586466163,
          18311.30896551724,
          18707.6781981982,
          35200.9,
          18761.297575757573,
          16655.619333333332,
          19008.499615384615,
          10533.2,
          19065.9
         ],
         "yaxis": "y"
        },
        {
         "alignmentgroup": "True",
         "error_y": {
          "array": [
           11286.881269691163,
           14904.50693369738,
           11997.321075970007,
           11538.118275081462,
           8889.415067377286,
           12330.676743588752,
           null,
           11184.999945990658,
           11177.691993205957,
           22207.487493826266,
           11207.72051942954,
           13811.832614762294,
           10294.255554291867,
           1785.5153331741508,
           5622.178553135194
          ]
         },
         "hovertemplate": "UniProt=Q06481<br>visit_month=%{x}<br>NPX_mean=%{y}<extra></extra>",
         "legendgroup": "Q06481",
         "marker": {
          "color": "#FF6692",
          "pattern": {
           "shape": ""
          }
         },
         "name": "Q06481",
         "offsetgroup": "Q06481",
         "orientation": "v",
         "showlegend": true,
         "textposition": "auto",
         "type": "bar",
         "x": [
          0,
          3,
          6,
          12,
          18,
          24,
          30,
          36,
          48,
          54,
          60,
          72,
          84,
          96,
          108
         ],
         "xaxis": "x",
         "y": [
          23607.52818181818,
          23262.823333333334,
          22936.772520325205,
          22235.080457142856,
          17702.425,
          22787.53738095238,
          24247.1,
          21340.257702702704,
          23564.43463235294,
          25134.735,
          22476.529156626504,
          23912.07285714286,
          24848.927586206897,
          16325.650000000001,
          23473.25
         ],
         "yaxis": "y"
        },
        {
         "alignmentgroup": "True",
         "error_y": {
          "array": [
           55121.794545854194,
           20296.508501053413,
           49613.93518566869,
           46520.30390002286,
           43062.99426504652,
           51796.70688606912,
           null,
           47214.40546440831,
           48442.82141537829,
           151631.27105086207,
           46986.55541762047,
           48759.658487495006,
           50792.798285676654,
           70024.07743412262,
           38820.21163002592
          ]
         },
         "hovertemplate": "UniProt=Q08380<br>visit_month=%{x}<br>NPX_mean=%{y}<extra></extra>",
         "legendgroup": "Q08380",
         "marker": {
          "color": "#B6E880",
          "pattern": {
           "shape": ""
          }
         },
         "name": "Q08380",
         "offsetgroup": "Q08380",
         "orientation": "v",
         "showlegend": true,
         "textposition": "auto",
         "type": "bar",
         "x": [
          0,
          3,
          6,
          12,
          18,
          24,
          30,
          36,
          48,
          54,
          60,
          72,
          84,
          96,
          108
         ],
         "xaxis": "x",
         "y": [
          202845.65154639175,
          191296.66666666666,
          199894.37822580643,
          194662.10444444444,
          198490.25,
          198768.21445086706,
          224782,
          201889.79864864863,
          202262.42318840578,
          251922.5,
          196714.0035714286,
          192017.22857142857,
          192407.22333333333,
          182494.5,
          203884.5
         ],
         "yaxis": "y"
        },
        {
         "alignmentgroup": "True",
         "error_y": {
          "array": [
           299566.0440637999,
           80715.61992576158,
           328329.899256452,
           292160.20166192047,
           321871.57700346335,
           310001.13249141496,
           null,
           306663.40493586886,
           300737.928310363,
           1155930.0826226473,
           281297.7128368312,
           245150.65858617093,
           231838.01475980063,
           425417.3598720438,
           58327.08806020865
          ]
         },
         "hovertemplate": "UniProt=Q12805<br>visit_month=%{x}<br>NPX_mean=%{y}<extra></extra>",
         "legendgroup": "Q12805",
         "marker": {
          "color": "#FF97FF",
          "pattern": {
           "shape": ""
          }
         },
         "name": "Q12805",
         "offsetgroup": "Q12805",
         "orientation": "v",
         "showlegend": true,
         "textposition": "auto",
         "type": "bar",
         "x": [
          0,
          3,
          6,
          12,
          18,
          24,
          30,
          36,
          48,
          54,
          60,
          72,
          84,
          96,
          108
         ],
         "xaxis": "x",
         "y": [
          979387.2989690722,
          1145390,
          964156.0645161291,
          950262.6055555556,
          1060933.875,
          998331.7861271676,
          1018860,
          976068.2744966444,
          988253.7753623188,
          1428024,
          965509.1428571428,
          904996.3333333334,
          929761.4,
          820864.5,
          984704.25
         ],
         "yaxis": "y"
        },
        {
         "alignmentgroup": "True",
         "error_y": {
          "array": [
           7981.014942260975,
           6030.289092848974,
           7039.695648611034,
           7264.165660715703,
           5389.438826074566,
           7264.572410221436,
           null,
           7000.666290721245,
           7416.248759877362,
           27973.709949164768,
           6877.469012764369,
           6219.725877831628,
           6713.254461334168,
           11721.3555583388,
           6557.706603366251
          ]
         },
         "hovertemplate": "UniProt=Q12841<br>visit_month=%{x}<br>NPX_mean=%{y}<extra></extra>",
         "legendgroup": "Q12841",
         "marker": {
          "color": "#FECB52",
          "pattern": {
           "shape": ""
          }
         },
         "name": "Q12841",
         "offsetgroup": "Q12841",
         "orientation": "v",
         "showlegend": true,
         "textposition": "auto",
         "type": "bar",
         "x": [
          0,
          3,
          6,
          12,
          18,
          24,
          30,
          36,
          48,
          54,
          60,
          72,
          84,
          96,
          108
         ],
         "xaxis": "x",
         "y": [
          24489.84243386243,
          26237.13333333333,
          23807.595081967214,
          23799.653333333335,
          21985.7,
          23750.058734939757,
          28667.4,
          24223.133356643357,
          23911.566315789474,
          33166.6,
          23417.75475,
          22233.32,
          24783.481000000003,
          25490.449999999997,
          22792.775
         ],
         "yaxis": "y"
        },
        {
         "alignmentgroup": "True",
         "error_y": {
          "array": [
           13277.394991836443,
           9146.544569581092,
           12981.459397627686,
           13848.181239623034,
           7223.904540647041,
           14013.199572124327,
           null,
           14885.177954538533,
           14181.611765877577,
           13771.540959711083,
           14966.746657716343,
           12782.020164708956,
           12094.28260157251,
           13061.464330043553,
           10595.167284624002
          ]
         },
         "hovertemplate": "UniProt=Q12907<br>visit_month=%{x}<br>NPX_mean=%{y}<extra></extra>",
         "legendgroup": "Q12907",
         "marker": {
          "color": "#636efa",
          "pattern": {
           "shape": ""
          }
         },
         "name": "Q12907",
         "offsetgroup": "Q12907",
         "orientation": "v",
         "showlegend": true,
         "textposition": "auto",
         "type": "bar",
         "x": [
          0,
          3,
          6,
          12,
          18,
          24,
          30,
          36,
          48,
          54,
          60,
          72,
          84,
          96,
          108
         ],
         "xaxis": "x",
         "y": [
          37247.386505376344,
          38818.066666666666,
          36622.79926829268,
          35329.64735632184,
          37322.32857142857,
          38262.15567073171,
          40750.3,
          36823.76882758621,
          35966.05210526315,
          32468.850000000002,
          37604.29695121951,
          39146.945,
          36444.22068965517,
          36576.15,
          40271.925
         ],
         "yaxis": "y"
        },
        {
         "alignmentgroup": "True",
         "error_y": {
          "array": [
           150716.40434671807,
           107213.85301038915,
           132130.84831836293,
           140803.56180380782,
           150504.1012360033,
           139922.34029169878,
           null,
           154487.34320684773,
           146623.45623421104,
           77952.15866478618,
           142289.48527988954,
           138946.9137728412,
           104103.69323766413,
           227604.9449418883,
           54512.099613296865
          ]
         },
         "hovertemplate": "UniProt=Q13283<br>visit_month=%{x}<br>NPX_mean=%{y}<extra></extra>",
         "legendgroup": "Q13283",
         "marker": {
          "color": "#EF553B",
          "pattern": {
           "shape": ""
          }
         },
         "name": "Q13283",
         "offsetgroup": "Q13283",
         "orientation": "v",
         "showlegend": true,
         "textposition": "auto",
         "type": "bar",
         "x": [
          0,
          3,
          6,
          12,
          18,
          24,
          30,
          36,
          48,
          54,
          60,
          72,
          84,
          96,
          108
         ],
         "xaxis": "x",
         "y": [
          570407.6240837696,
          467711.6666666667,
          553063.2868852459,
          573019.4104046243,
          583996.5,
          571656.9239766082,
          757761,
          572592.0275862069,
          574263.2164179104,
          571991.5,
          533798.487804878,
          564783.55,
          578349.3103448276,
          552084,
          817511.75
         ],
         "yaxis": "y"
        },
        {
         "alignmentgroup": "True",
         "error_y": {
          "array": [
           7400.489176137496,
           2698.324910013619,
           7561.736147973293,
           6641.469595493162,
           3791.9154138160466,
           7659.043757043887,
           null,
           7380.37889450225,
           6704.787498808751,
           null,
           7014.0204768908625,
           3737.7396967176637,
           7091.06241524867,
           4074.490694553124,
           5495.494736221055
          ]
         },
         "hovertemplate": "UniProt=Q13332<br>visit_month=%{x}<br>NPX_mean=%{y}<extra></extra>",
         "legendgroup": "Q13332",
         "marker": {
          "color": "#00cc96",
          "pattern": {
           "shape": ""
          }
         },
         "name": "Q13332",
         "offsetgroup": "Q13332",
         "orientation": "v",
         "showlegend": true,
         "textposition": "auto",
         "type": "bar",
         "x": [
          0,
          3,
          6,
          12,
          18,
          24,
          30,
          36,
          48,
          54,
          60,
          72,
          84,
          96,
          108
         ],
         "xaxis": "x",
         "y": [
          19327.06763157895,
          16673.7,
          18804.745950413224,
          17617.63,
          19995.9375,
          19217.935562130177,
          20730.2,
          18831.79131034483,
          18760.566466165412,
          37328,
          18904.865853658535,
          17363.94095238095,
          17787.571666666667,
          15970.5,
          21894.375
         ],
         "yaxis": "y"
        },
        {
         "alignmentgroup": "True",
         "error_y": {
          "array": [
           13819.691778108254,
           1976.1513213820435,
           13395.465195163177,
           12358.81468016569,
           10977.213471984765,
           12864.677229995135,
           null,
           13358.705706290722,
           13242.31252581474,
           36729.03540313848,
           13889.632326300984,
           14432.80991235704,
           13757.62503479192,
           3063.7522615250714,
           9070.780172758017
          ]
         },
         "hovertemplate": "UniProt=Q13449<br>visit_month=%{x}<br>NPX_mean=%{y}<extra></extra>",
         "legendgroup": "Q13449",
         "marker": {
          "color": "#ab63fa",
          "pattern": {
           "shape": ""
          }
         },
         "name": "Q13449",
         "offsetgroup": "Q13449",
         "orientation": "v",
         "showlegend": true,
         "textposition": "auto",
         "type": "bar",
         "x": [
          0,
          3,
          6,
          12,
          18,
          24,
          30,
          36,
          48,
          54,
          60,
          72,
          84,
          96,
          108
         ],
         "xaxis": "x",
         "y": [
          30231.078113207546,
          20062.949999999997,
          29185.545214953272,
          26857.298120805368,
          32494.64285714286,
          28366.726666666666,
          18405.2,
          28363.016166666665,
          27751.469823008847,
          43731.049999999996,
          26157.094615384613,
          24053.83263157895,
          27602.073333333334,
          26109.6,
          25170.625
         ],
         "yaxis": "y"
        },
        {
         "alignmentgroup": "True",
         "error_y": {
          "array": [
           977925.6221667296,
           564579.9311287405,
           827303.3517648526,
           836666.7209093968,
           1036742.9564669965,
           904273.9562535117,
           null,
           946380.7295583809,
           922967.8133217077,
           108576.24625119437,
           904654.0162337885,
           946983.2299263001,
           728042.0490656223,
           1108213.1028146166,
           1205024.7020566287
          ]
         },
         "hovertemplate": "UniProt=Q13451<br>visit_month=%{x}<br>NPX_mean=%{y}<extra></extra>",
         "legendgroup": "Q13451",
         "marker": {
          "color": "#FFA15A",
          "pattern": {
           "shape": ""
          }
         },
         "name": "Q13451",
         "offsetgroup": "Q13451",
         "orientation": "v",
         "showlegend": true,
         "textposition": "auto",
         "type": "bar",
         "x": [
          0,
          3,
          6,
          12,
          18,
          24,
          30,
          36,
          48,
          54,
          60,
          72,
          84,
          96,
          108
         ],
         "xaxis": "x",
         "y": [
          2956521.457894737,
          3122456.6666666665,
          2834351.5950413225,
          2890977.338983051,
          3332648.75,
          2857242.0235294118,
          3346840,
          2892939.074829932,
          2801618.204379562,
          2994225,
          2730721.4320987654,
          2517579.380952381,
          2833095.206896552,
          4349555,
          3116075
         ],
         "yaxis": "y"
        },
        {
         "alignmentgroup": "True",
         "error_y": {
          "array": [
           10074.892235360263,
           6186.026476934392,
           9793.48757048608,
           9663.659739616282,
           8187.477514003931,
           10090.365884769832,
           null,
           10755.425551072665,
           9699.458816979839,
           16880.3712785368,
           9838.029423043123,
           10168.72758483762,
           7655.173546330611,
           16479.731647384313,
           8287.66993008288
          ]
         },
         "hovertemplate": "UniProt=Q13740<br>visit_month=%{x}<br>NPX_mean=%{y}<extra></extra>",
         "legendgroup": "Q13740",
         "marker": {
          "color": "#19d3f3",
          "pattern": {
           "shape": ""
          }
         },
         "name": "Q13740",
         "offsetgroup": "Q13740",
         "orientation": "v",
         "showlegend": true,
         "textposition": "auto",
         "type": "bar",
         "x": [
          0,
          3,
          6,
          12,
          18,
          24,
          30,
          36,
          48,
          54,
          60,
          72,
          84,
          96,
          108
         ],
         "xaxis": "x",
         "y": [
          21555.16509677419,
          22221.36666666667,
          22524.597171717174,
          20512.174927536234,
          17230.208,
          21604.89076923077,
          26598.7,
          21357.16146341463,
          21447.80681818182,
          16406.175,
          21611.691846153844,
          18701.88,
          18892.7,
          17075.27,
          24576.35
         ],
         "yaxis": "y"
        },
        {
         "alignmentgroup": "True",
         "error_y": {
          "array": [
           55706.62295314426,
           27422.590948583493,
           54353.45388538003,
           49935.782598545054,
           33746.13039070095,
           50548.17244273929,
           null,
           55015.90668101206,
           51587.53444603774,
           139908.1477255703,
           52627.244599059864,
           47860.72406945614,
           50118.30679453504,
           62099.95600143368,
           45543.601416664445
          ]
         },
         "hovertemplate": "UniProt=Q14118<br>visit_month=%{x}<br>NPX_mean=%{y}<extra></extra>",
         "legendgroup": "Q14118",
         "marker": {
          "color": "#FF6692",
          "pattern": {
           "shape": ""
          }
         },
         "name": "Q14118",
         "offsetgroup": "Q14118",
         "orientation": "v",
         "showlegend": true,
         "textposition": "auto",
         "type": "bar",
         "x": [
          0,
          3,
          6,
          12,
          18,
          24,
          30,
          36,
          48,
          54,
          60,
          72,
          84,
          96,
          108
         ],
         "xaxis": "x",
         "y": [
          156444.39685863873,
          155837.66666666666,
          153700.91393442624,
          150261.81292134832,
          138014.75714285715,
          157471.78176470587,
          171256,
          155906.34217687076,
          158112.14264705882,
          207944,
          157776.09880952383,
          148747.04761904763,
          154455.06999999998,
          105934.7,
          165015
         ],
         "yaxis": "y"
        },
        {
         "alignmentgroup": "True",
         "error_y": {
          "array": [
           2603.50009869842,
           2620.2830396924683,
           2433.822824685398,
           2291.824877398416,
           2197.48174636224,
           2738.364055462899,
           null,
           2547.094625085905,
           2133.0016925231866,
           9475.676345171885,
           2426.034804062917,
           1944.6722039754573,
           2756.9501287693674,
           5429.066871000946,
           2060.4289256264906
          ]
         },
         "hovertemplate": "UniProt=Q14508<br>visit_month=%{x}<br>NPX_mean=%{y}<extra></extra>",
         "legendgroup": "Q14508",
         "marker": {
          "color": "#B6E880",
          "pattern": {
           "shape": ""
          }
         },
         "name": "Q14508",
         "offsetgroup": "Q14508",
         "orientation": "v",
         "showlegend": true,
         "textposition": "auto",
         "type": "bar",
         "x": [
          0,
          3,
          6,
          12,
          18,
          24,
          30,
          36,
          48,
          54,
          60,
          72,
          84,
          96,
          108
         ],
         "xaxis": "x",
         "y": [
          6146.545516129032,
          4750.66,
          5903.947459016394,
          5773.946650887574,
          5088.484285714286,
          5921.868862275449,
          5040,
          5795.798708333333,
          5791.013684210526,
          9631.285,
          5609.53734939759,
          4926.1695238095235,
          5778.099999999999,
          7531.07,
          6133.5225
         ],
         "yaxis": "y"
        },
        {
         "alignmentgroup": "True",
         "error_y": {
          "array": [
           123906.65536329222,
           140823.62404913933,
           121328.92254361369,
           126656.23473212111,
           111103.18909263394,
           126756.79281038896,
           null,
           121049.8807794641,
           109771.39076584972,
           186499.4135379519,
           107988.85289030982,
           136351.44971216077,
           119982.30143738682,
           100040.76029549156,
           72344.81363753729
          ]
         },
         "hovertemplate": "UniProt=Q14515<br>visit_month=%{x}<br>NPX_mean=%{y}<extra></extra>",
         "legendgroup": "Q14515",
         "marker": {
          "color": "#FF97FF",
          "pattern": {
           "shape": ""
          }
         },
         "name": "Q14515",
         "offsetgroup": "Q14515",
         "orientation": "v",
         "showlegend": true,
         "textposition": "auto",
         "type": "bar",
         "x": [
          0,
          3,
          6,
          12,
          18,
          24,
          30,
          36,
          48,
          54,
          60,
          72,
          84,
          96,
          108
         ],
         "xaxis": "x",
         "y": [
          379591.3634196891,
          426124.6666666667,
          374857.6532258064,
          377350.0511111111,
          355060.625,
          379993.4456647399,
          373087,
          382566.84324324323,
          381565.51956521743,
          343504,
          383580.53571428574,
          371572.9761904762,
          355623.56666666665,
          420416.5,
          419441.25
         ],
         "yaxis": "y"
        },
        {
         "alignmentgroup": "True",
         "error_y": {
          "array": [
           35786.03988771885,
           29114.26712186541,
           31486.556569792865,
           29647.703137574892,
           39625.20521240237,
           26548.325814711177,
           null,
           32044.953537596666,
           34445.522134586834,
           16193.452395953125,
           32724.333496745385,
           28770.937568615016,
           31816.2286696623,
           27001.579546389505,
           23923.621729718656
          ]
         },
         "hovertemplate": "UniProt=Q14624<br>visit_month=%{x}<br>NPX_mean=%{y}<extra></extra>",
         "legendgroup": "Q14624",
         "marker": {
          "color": "#FECB52",
          "pattern": {
           "shape": ""
          }
         },
         "name": "Q14624",
         "offsetgroup": "Q14624",
         "orientation": "v",
         "showlegend": true,
         "textposition": "auto",
         "type": "bar",
         "x": [
          0,
          3,
          6,
          12,
          18,
          24,
          30,
          36,
          48,
          54,
          60,
          72,
          84,
          96,
          108
         ],
         "xaxis": "x",
         "y": [
          139049.97886597938,
          112976.06666666667,
          136673.65887096775,
          137018.2604519774,
          156882.875,
          140196.18588235296,
          188785,
          138121.82972972974,
          139606.8725547445,
          174422.5,
          140469.9869047619,
          134495.17142857143,
          138463.09,
          138839,
          140584
         ],
         "yaxis": "y"
        },
        {
         "alignmentgroup": "True",
         "error_y": {
          "array": [
           15508.60298974248,
           2479.682060264987,
           17062.234996596602,
           14981.217250960352,
           13050.621612872736,
           16241.927340179687,
           null,
           13722.953564827403,
           14088.416081196212,
           26074.279713541462,
           14865.006876694923,
           12390.298884252594,
           14393.960683736026,
           2476.075815680935,
           11709.885185709549
          ]
         },
         "hovertemplate": "UniProt=Q15904<br>visit_month=%{x}<br>NPX_mean=%{y}<extra></extra>",
         "legendgroup": "Q15904",
         "marker": {
          "color": "#636efa",
          "pattern": {
           "shape": ""
          }
         },
         "name": "Q15904",
         "offsetgroup": "Q15904",
         "orientation": "v",
         "showlegend": true,
         "textposition": "auto",
         "type": "bar",
         "x": [
          0,
          3,
          6,
          12,
          18,
          24,
          30,
          36,
          48,
          54,
          60,
          72,
          84,
          96,
          108
         ],
         "xaxis": "x",
         "y": [
          39183.91497005988,
          35206.9,
          38675.02842105264,
          37912.19507042254,
          43413.97142857143,
          38207.19569444444,
          25449.8,
          35639.376923076925,
          37892.20277777778,
          34602.4,
          37520.401333333335,
          33010.799999999996,
          40822.442307692305,
          32272.550000000003,
          38326.275
         ],
         "yaxis": "y"
        },
        {
         "alignmentgroup": "True",
         "error_y": {
          "array": [
           339629.77908745233,
           170610.7353753958,
           282746.98132829985,
           302405.62044284045,
           252676.1261456692,
           325060.0879229645,
           null,
           295461.6852475291,
           282331.3624441154,
           1337262.666910469,
           299158.488527741,
           271861.3105463099,
           293971.5839578463,
           666351.9747460796,
           365865.9201696481
          ]
         },
         "hovertemplate": "UniProt=Q16270<br>visit_month=%{x}<br>NPX_mean=%{y}<extra></extra>",
         "legendgroup": "Q16270",
         "marker": {
          "color": "#EF553B",
          "pattern": {
           "shape": ""
          }
         },
         "name": "Q16270",
         "offsetgroup": "Q16270",
         "orientation": "v",
         "showlegend": true,
         "textposition": "auto",
         "type": "bar",
         "x": [
          0,
          3,
          6,
          12,
          18,
          24,
          30,
          36,
          48,
          54,
          60,
          72,
          84,
          96,
          108
         ],
         "xaxis": "x",
         "y": [
          902592.7164948453,
          928658.6666666666,
          875103.5483870967,
          900045.0722222222,
          703791.625,
          906114.3526011561,
          813920,
          901833.6283783783,
          882997.9347826086,
          1546242.5,
          861609.119047619,
          827924.5714285715,
          825874.7333333333,
          991228,
          896370.75
         ],
         "yaxis": "y"
        },
        {
         "alignmentgroup": "True",
         "error_y": {
          "array": [
           69340.07857150475,
           10295.879968867806,
           71545.36726187449,
           66307.5239028312,
           36745.36035216846,
           75254.16049946958,
           null,
           70117.43376271837,
           71359.83141826761,
           116701.61027380898,
           70675.686276927,
           64565.26689759057,
           64115.861629868275,
           12867.929204032791,
           66823.36260121406
          ]
         },
         "hovertemplate": "UniProt=Q16610<br>visit_month=%{x}<br>NPX_mean=%{y}<extra></extra>",
         "legendgroup": "Q16610",
         "marker": {
          "color": "#00cc96",
          "pattern": {
           "shape": ""
          }
         },
         "name": "Q16610",
         "offsetgroup": "Q16610",
         "orientation": "v",
         "showlegend": true,
         "textposition": "auto",
         "type": "bar",
         "x": [
          0,
          3,
          6,
          12,
          18,
          24,
          30,
          36,
          48,
          54,
          60,
          72,
          84,
          96,
          108
         ],
         "xaxis": "x",
         "y": [
          175043.2845360825,
          196553.33333333334,
          166045.65161290322,
          166894.84804469274,
          190216.375,
          175745.16936416185,
          75504.6,
          173184.41088435374,
          170960.8468115942,
          214299.5,
          172629.77619047617,
          158161.32952380952,
          167407.94,
          168143,
          220872
         ],
         "yaxis": "y"
        },
        {
         "alignmentgroup": "True",
         "error_y": {
          "array": [
           5368.043700823733,
           5112.240606622501,
           10679.028857881709,
           5121.635477711233,
           1562.2189442157799,
           5235.711984959318,
           null,
           5420.785281045135,
           5263.777932602916,
           null,
           5202.20005723276,
           4693.101090204835,
           3553.1957075966857,
           4477.82440254193,
           77.14534982745516
          ]
         },
         "hovertemplate": "UniProt=Q562R1<br>visit_month=%{x}<br>NPX_mean=%{y}<extra></extra>",
         "legendgroup": "Q562R1",
         "marker": {
          "color": "#ab63fa",
          "pattern": {
           "shape": ""
          }
         },
         "name": "Q562R1",
         "offsetgroup": "Q562R1",
         "orientation": "v",
         "showlegend": true,
         "textposition": "auto",
         "type": "bar",
         "x": [
          0,
          3,
          6,
          12,
          18,
          24,
          30,
          36,
          48,
          54,
          60,
          72,
          84,
          96,
          108
         ],
         "xaxis": "x",
         "y": [
          18345.585420560747,
          13882.199999999999,
          19004.61491525424,
          16939.66074766355,
          18187.416666666668,
          18441.49957894737,
          25001.5,
          18972.125393258426,
          18193.19352112676,
          10895.7,
          17372.910612244897,
          18067.657272727272,
          19517.242857142857,
          14429.5,
          17493.15
         ],
         "yaxis": "y"
        },
        {
         "alignmentgroup": "True",
         "error_y": {
          "array": [
           4647.446192548843,
           1362.9483207370704,
           3841.1121104603144,
           3776.7060565091188,
           2370.143863355134,
           3712.7058716274473,
           3512.1067136564625,
           4197.635448048119,
           16530.240284764466,
           3491.7112571754597,
           2482.2605448980758,
           3380.280309056872,
           968.9484222599256,
           3147.96867916439
          ]
         },
         "hovertemplate": "UniProt=Q6UX71<br>visit_month=%{x}<br>NPX_mean=%{y}<extra></extra>",
         "legendgroup": "Q6UX71",
         "marker": {
          "color": "#FFA15A",
          "pattern": {
           "shape": ""
          }
         },
         "name": "Q6UX71",
         "offsetgroup": "Q6UX71",
         "orientation": "v",
         "showlegend": true,
         "textposition": "auto",
         "type": "bar",
         "x": [
          0,
          3,
          6,
          12,
          18,
          24,
          36,
          48,
          54,
          60,
          72,
          84,
          96,
          108
         ],
         "xaxis": "x",
         "y": [
          12908.260084745762,
          11021.25,
          12948.69794520548,
          12091.582476190475,
          11989.34,
          12991.459499999999,
          12086.083052631579,
          12401.962278481013,
          17673.454999999998,
          12277.646279069768,
          9943.59076923077,
          12692.645,
          13009.25,
          13164.45
         ],
         "yaxis": "y"
        },
        {
         "alignmentgroup": "True",
         "error_y": {
          "array": [
           13078.775474245205,
           15385.334439762217,
           12569.809294369743,
           13461.313324897013,
           21044.23547983967,
           14668.054341206916,
           null,
           14471.832971826952,
           14186.669580069076,
           43463.44967648104,
           11289.498520313406,
           15422.236138841092,
           11143.880608071591,
           7624.9445535689,
           7185.5954489984115
          ]
         },
         "hovertemplate": "UniProt=Q6UXB8<br>visit_month=%{x}<br>NPX_mean=%{y}<extra></extra>",
         "legendgroup": "Q6UXB8",
         "marker": {
          "color": "#19d3f3",
          "pattern": {
           "shape": ""
          }
         },
         "name": "Q6UXB8",
         "offsetgroup": "Q6UXB8",
         "orientation": "v",
         "showlegend": true,
         "textposition": "auto",
         "type": "bar",
         "x": [
          0,
          3,
          6,
          12,
          18,
          24,
          30,
          36,
          48,
          54,
          60,
          72,
          84,
          96,
          108
         ],
         "xaxis": "x",
         "y": [
          41724.51098958334,
          56757.56666666667,
          42944.762903225805,
          42486.27154285714,
          41743.015,
          42197.95520710059,
          31428.3,
          42541.27527027027,
          42716.855,
          58309.7,
          41957.05108433735,
          39023.30809523809,
          40493.61666666667,
          43785.75,
          45010.25
         ],
         "yaxis": "y"
        },
        {
         "alignmentgroup": "True",
         "error_y": {
          "array": [
           12737.794489767844,
           6610.881982257233,
           11821.13255607247,
           10953.414366400499,
           7589.234081520159,
           11172.633091857284,
           11087.698687833163,
           9879.32548807081,
           null,
           13274.725207874353,
           8973.380777547398,
           11249.337140854252,
           null,
           9093.888180805834
          ]
         },
         "hovertemplate": "UniProt=Q6UXD5<br>visit_month=%{x}<br>NPX_mean=%{y}<extra></extra>",
         "legendgroup": "Q6UXD5",
         "marker": {
          "color": "#FF6692",
          "pattern": {
           "shape": ""
          }
         },
         "name": "Q6UXD5",
         "offsetgroup": "Q6UXD5",
         "orientation": "v",
         "showlegend": true,
         "textposition": "auto",
         "type": "bar",
         "x": [
          0,
          3,
          6,
          12,
          18,
          24,
          36,
          48,
          54,
          60,
          72,
          84,
          96,
          108
         ],
         "xaxis": "x",
         "y": [
          30766.126870229007,
          28137.86666666667,
          31166.09275862069,
          29691.095250000002,
          27599.212499999998,
          30995.23330434783,
          29983.30098039216,
          30342.10235955056,
          28781.9,
          31536.679591836735,
          28477.719999999998,
          32209.01176470588,
          28645.1,
          31812.15
         ],
         "yaxis": "y"
        },
        {
         "alignmentgroup": "True",
         "error_y": {
          "array": [
           34643.113181857625,
           24904.114700654052,
           34141.35061560274,
           30489.259324333612,
           21354.259700479794,
           34750.977887887515,
           null,
           32348.019933097403,
           30183.169848079742,
           102903.906363194,
           28467.82948354379,
           22905.09398704951,
           24219.08297405002,
           16742.025836797657,
           28462.238109979455
          ]
         },
         "hovertemplate": "UniProt=Q7Z3B1<br>visit_month=%{x}<br>NPX_mean=%{y}<extra></extra>",
         "legendgroup": "Q7Z3B1",
         "marker": {
          "color": "#B6E880",
          "pattern": {
           "shape": ""
          }
         },
         "name": "Q7Z3B1",
         "offsetgroup": "Q7Z3B1",
         "orientation": "v",
         "showlegend": true,
         "textposition": "auto",
         "type": "bar",
         "x": [
          0,
          3,
          6,
          12,
          18,
          24,
          30,
          36,
          48,
          54,
          60,
          72,
          84,
          96,
          108
         ],
         "xaxis": "x",
         "y": [
          80598.74248704663,
          55039.36666666667,
          75744.60487804878,
          72868.47765363129,
          81368.2875,
          78453.84335260116,
          55079.5,
          78229.19251700681,
          76912.03161764707,
          122020.95,
          74180.17380952381,
          72073.94285714286,
          73416.57666666666,
          78732.6,
          80037.175
         ],
         "yaxis": "y"
        },
        {
         "alignmentgroup": "True",
         "error_y": {
          "array": [
           229712.36921033385,
           248454.83981869486,
           199561.3967208589,
           214363.4699134511,
           292274.3352795473,
           207255.06631325526,
           null,
           196452.3361788578,
           193497.31593346604,
           271574.2588096302,
           182023.49070649606,
           218620.45489786085,
           172669.094115223,
           66707.74663035771,
           172503.79748283804
          ]
         },
         "hovertemplate": "UniProt=Q7Z5P9<br>visit_month=%{x}<br>NPX_mean=%{y}<extra></extra>",
         "legendgroup": "Q7Z5P9",
         "marker": {
          "color": "#FF97FF",
          "pattern": {
           "shape": ""
          }
         },
         "name": "Q7Z5P9",
         "offsetgroup": "Q7Z5P9",
         "orientation": "v",
         "showlegend": true,
         "textposition": "auto",
         "type": "bar",
         "x": [
          0,
          3,
          6,
          12,
          18,
          24,
          30,
          36,
          48,
          54,
          60,
          72,
          84,
          96,
          108
         ],
         "xaxis": "x",
         "y": [
          516415.05751295335,
          547575.6666666666,
          522036.12572580646,
          525892.6166666667,
          438679.1125,
          503973.16531791905,
          499992,
          514183.54662162164,
          501049.1289781022,
          543470,
          503019.3142857143,
          512351.95238095237,
          464790.21533333336,
          685334.5,
          676974
         ],
         "yaxis": "y"
        },
        {
         "alignmentgroup": "True",
         "error_y": {
          "array": [
           58422.109213718686,
           16892.762858691884,
           54605.40120156955,
           50403.66924010807,
           36419.79976774147,
           48838.16879106205,
           null,
           52248.59119762393,
           47486.54790000076,
           8788.630183367599,
           48394.533439358616,
           52200.22325644284,
           42106.03528770514,
           59769.89773606778,
           41023.68493146165
          ]
         },
         "hovertemplate": "UniProt=Q8IWV7<br>visit_month=%{x}<br>NPX_mean=%{y}<extra></extra>",
         "legendgroup": "Q8IWV7",
         "marker": {
          "color": "#FECB52",
          "pattern": {
           "shape": ""
          }
         },
         "name": "Q8IWV7",
         "offsetgroup": "Q8IWV7",
         "orientation": "v",
         "showlegend": true,
         "textposition": "auto",
         "type": "bar",
         "x": [
          0,
          3,
          6,
          12,
          18,
          24,
          30,
          36,
          48,
          54,
          60,
          72,
          84,
          96,
          108
         ],
         "xaxis": "x",
         "y": [
          101924.1316062176,
          122777,
          99469.39754098361,
          96053.9382022472,
          84175.07142857143,
          99460.08554913296,
          171027,
          107351.34520547946,
          105542.56296296297,
          106224.5,
          98858.37023809523,
          101182.3380952381,
          83188.38666666667,
          79319.3,
          126962.075
         ],
         "yaxis": "y"
        },
        {
         "alignmentgroup": "True",
         "error_y": {
          "array": [
           2140.650854396621,
           1519.7754895159135,
           2261.819473999828,
           2124.8076599128617,
           326.7479159382655,
           1973.8831138602463,
           1878.5651788972796,
           2109.5212282052876,
           5760.933296615229,
           1929.18609240982,
           1774.7557143066788,
           1376.5187057700941,
           1647.4951605543497,
           1563.2213942022634
          ]
         },
         "hovertemplate": "UniProt=Q8N2S1<br>visit_month=%{x}<br>NPX_mean=%{y}<extra></extra>",
         "legendgroup": "Q8N2S1",
         "marker": {
          "color": "#636efa",
          "pattern": {
           "shape": ""
          }
         },
         "name": "Q8N2S1",
         "offsetgroup": "Q8N2S1",
         "orientation": "v",
         "showlegend": true,
         "textposition": "auto",
         "type": "bar",
         "x": [
          0,
          3,
          6,
          12,
          18,
          24,
          36,
          48,
          54,
          60,
          72,
          84,
          96,
          108
         ],
         "xaxis": "x",
         "y": [
          6776.823636363636,
          7393.113333333334,
          6888.860089285714,
          6747.730062111801,
          6398.248,
          6679.860522875817,
          6509.774469696969,
          6627.404488188977,
          9590.005000000001,
          6727.693766233766,
          5922.467,
          6572.53275862069,
          7624.405000000001,
          7399.0525
         ],
         "yaxis": "y"
        },
        {
         "alignmentgroup": "True",
         "error_y": {
          "array": [
           7726.811856420445,
           1449.86815377583,
           7891.566986754868,
           7660.781911691719,
           7362.929154106594,
           7548.591884877475,
           null,
           6912.400030467829,
           7280.486688702768,
           13015.007414519598,
           7384.053039947233,
           5614.974558678362,
           7191.275423167218,
           8092.624978645678,
           4785.469596950056
          ]
         },
         "hovertemplate": "UniProt=Q8NBJ4<br>visit_month=%{x}<br>NPX_mean=%{y}<extra></extra>",
         "legendgroup": "Q8NBJ4",
         "marker": {
          "color": "#EF553B",
          "pattern": {
           "shape": ""
          }
         },
         "name": "Q8NBJ4",
         "offsetgroup": "Q8NBJ4",
         "orientation": "v",
         "showlegend": true,
         "textposition": "auto",
         "type": "bar",
         "x": [
          0,
          3,
          6,
          12,
          18,
          24,
          30,
          36,
          48,
          54,
          60,
          72,
          84,
          96,
          108
         ],
         "xaxis": "x",
         "y": [
          23501.976304347823,
          26002.233333333334,
          22940.70229508197,
          23187.284739884395,
          24983.3375,
          24315.629156626506,
          20234.9,
          23024.681958041958,
          23501.011603053434,
          33526.3,
          22742.72578313253,
          19151.475,
          23122.918333333335,
          24307.25,
          24090.55
         ],
         "yaxis": "y"
        },
        {
         "alignmentgroup": "True",
         "error_y": {
          "array": [
           8608.729822205556,
           7252.426356284725,
           9680.231737383403,
           8644.74843275517,
           13157.927880673307,
           8096.225394135015,
           null,
           9106.541450162258,
           8756.594147972883,
           17225.96971784172,
           8719.41241068513,
           7379.038096601353,
           5780.981588734145,
           2300.4304912341945,
           3743.8262026746547
          ]
         },
         "hovertemplate": "UniProt=Q8NE71<br>visit_month=%{x}<br>NPX_mean=%{y}<extra></extra>",
         "legendgroup": "Q8NE71",
         "marker": {
          "color": "#00cc96",
          "pattern": {
           "shape": ""
          }
         },
         "name": "Q8NE71",
         "offsetgroup": "Q8NE71",
         "orientation": "v",
         "showlegend": true,
         "textposition": "auto",
         "type": "bar",
         "x": [
          0,
          3,
          6,
          12,
          18,
          24,
          30,
          36,
          48,
          54,
          60,
          72,
          84,
          96,
          108
         ],
         "xaxis": "x",
         "y": [
          19640.73717948718,
          20580.133333333335,
          19993.928932038834,
          18062.47591549296,
          22697.04,
          18730.866739130433,
          7871.69,
          18793.52727272727,
          18494.77547008547,
          27296.5,
          18538.947638888887,
          16765.837647058823,
          15871.429,
          14560.75,
          14001.075
         ],
         "yaxis": "y"
        },
        {
         "alignmentgroup": "True",
         "error_y": {
          "array": [
           262266.40522353206,
           186397.4526605268,
           267791.4762432555,
           245130.88883915366,
           108740.88939169308,
           273446.68490524084,
           null,
           241657.94342027957,
           256555.85662578503,
           894060.8643848024,
           254514.04550648318,
           203306.5215573695,
           265515.0418341399,
           131881.07154554062,
           242197.70546996655
          ]
         },
         "hovertemplate": "UniProt=Q92520<br>visit_month=%{x}<br>NPX_mean=%{y}<extra></extra>",
         "legendgroup": "Q92520",
         "marker": {
          "color": "#ab63fa",
          "pattern": {
           "shape": ""
          }
         },
         "name": "Q92520",
         "offsetgroup": "Q92520",
         "orientation": "v",
         "showlegend": true,
         "textposition": "auto",
         "type": "bar",
         "x": [
          0,
          3,
          6,
          12,
          18,
          24,
          30,
          36,
          48,
          54,
          60,
          72,
          84,
          96,
          108
         ],
         "xaxis": "x",
         "y": [
          667506.149484536,
          618918.3333333334,
          639958.8629032258,
          619510.1772222222,
          649733.375,
          654209.8375722544,
          646598,
          627905.9953691275,
          641814.2565217392,
          988903.5,
          647254.1785714285,
          591954.5714285715,
          649703.5666666667,
          776947,
          774750.75
         ],
         "yaxis": "y"
        },
        {
         "alignmentgroup": "True",
         "error_y": {
          "array": [
           67171.64494988458,
           49858.82159327474,
           69009.76310364119,
           62077.77452461543,
           37750.256130635345,
           71447.1959664307,
           null,
           74300.51156759792,
           67369.20074848742,
           89310.76844437628,
           66602.37726289245,
           55366.93833052485,
           78546.60376784307,
           42410.14341522556,
           35556.49983242633
          ]
         },
         "hovertemplate": "UniProt=Q92823<br>visit_month=%{x}<br>NPX_mean=%{y}<extra></extra>",
         "legendgroup": "Q92823",
         "marker": {
          "color": "#FFA15A",
          "pattern": {
           "shape": ""
          }
         },
         "name": "Q92823",
         "offsetgroup": "Q92823",
         "orientation": "v",
         "showlegend": true,
         "textposition": "auto",
         "type": "bar",
         "x": [
          0,
          3,
          6,
          12,
          18,
          24,
          30,
          36,
          48,
          54,
          60,
          72,
          84,
          96,
          108
         ],
         "xaxis": "x",
         "y": [
          160438.7381443299,
          127398.7,
          160202.85725806453,
          149346.39222222223,
          145931.25,
          159769.73988439306,
          138695,
          160257.2243243243,
          156531.6992753623,
          135478.75,
          156038.00476190477,
          146142.6285714286,
          152345.15666666668,
          134998.5,
          155805.5
         ],
         "yaxis": "y"
        },
        {
         "alignmentgroup": "True",
         "error_y": {
          "array": [
           391333.6558935671,
           145101.07191310936,
           406498.9567774445,
           365024.79689868784,
           277639.40804649965,
           393977.35316596075,
           null,
           410196.6238527797,
           353096.32594008,
           1072639.2677599026,
           383960.3130089448,
           324326.59611888434,
           397794.4859723207,
           500507.857393368,
           474878.22817398846
          ]
         },
         "hovertemplate": "UniProt=Q92876<br>visit_month=%{x}<br>NPX_mean=%{y}<extra></extra>",
         "legendgroup": "Q92876",
         "marker": {
          "color": "#19d3f3",
          "pattern": {
           "shape": ""
          }
         },
         "name": "Q92876",
         "offsetgroup": "Q92876",
         "orientation": "v",
         "showlegend": true,
         "textposition": "auto",
         "type": "bar",
         "x": [
          0,
          3,
          6,
          12,
          18,
          24,
          30,
          36,
          48,
          54,
          60,
          72,
          84,
          96,
          108
         ],
         "xaxis": "x",
         "y": [
          1085389.5711340206,
          1068706.3333333333,
          1069762.2903225806,
          1038862.5921787709,
          1115590.875,
          1083517.49704142,
          794166,
          1083476.9256756757,
          1065362.544117647,
          1441469.5,
          1076623,
          956343.4761904762,
          992067.5,
          1156907.5,
          991911.5
         ],
         "yaxis": "y"
        },
        {
         "alignmentgroup": "True",
         "error_y": {
          "array": [
           4428.4377132927575,
           3005.1048250934614,
           3451.6217320603037,
           3591.5384307834183,
           2061.2858799594005,
           3752.659112958759,
           3406.9923997094716,
           3438.449632332657,
           null,
           3368.0184472570522,
           3106.6641643611424,
           2662.639030844755,
           2835.4703223157417
          ]
         },
         "hovertemplate": "UniProt=Q96BZ4<br>visit_month=%{x}<br>NPX_mean=%{y}<extra></extra>",
         "legendgroup": "Q96BZ4",
         "marker": {
          "color": "#FF6692",
          "pattern": {
           "shape": ""
          }
         },
         "name": "Q96BZ4",
         "offsetgroup": "Q96BZ4",
         "orientation": "v",
         "showlegend": true,
         "textposition": "auto",
         "type": "bar",
         "x": [
          0,
          3,
          6,
          12,
          18,
          24,
          36,
          48,
          54,
          60,
          72,
          84,
          108
         ],
         "xaxis": "x",
         "y": [
          9688.95537878788,
          6283.41,
          8891.311395348837,
          9073.493529411764,
          7245.697999999999,
          9719.389327731093,
          9146.156355140187,
          9315.405652173913,
          19930,
          8929.354444444443,
          7793.356,
          8224.731,
          9539.95
         ],
         "yaxis": "y"
        },
        {
         "alignmentgroup": "True",
         "error_y": {
          "array": [
           271150.98290896206,
           238113.54035907605,
           263888.5345737165,
           265320.8811457891,
           113268.49526165378,
           290690.3272122861,
           null,
           277830.5630089021,
           263478.0696438355,
           4500.027555471189,
           241410.60992650004,
           272414.5112573677,
           271836.618706529,
           90817.96654847542,
           175879.8485671397
          ]
         },
         "hovertemplate": "UniProt=Q96KN2<br>visit_month=%{x}<br>NPX_mean=%{y}<extra></extra>",
         "legendgroup": "Q96KN2",
         "marker": {
          "color": "#B6E880",
          "pattern": {
           "shape": ""
          }
         },
         "name": "Q96KN2",
         "offsetgroup": "Q96KN2",
         "orientation": "v",
         "showlegend": true,
         "textposition": "auto",
         "type": "bar",
         "x": [
          0,
          3,
          6,
          12,
          18,
          24,
          30,
          36,
          48,
          54,
          60,
          72,
          84,
          96,
          108
         ],
         "xaxis": "x",
         "y": [
          661069.1288659794,
          593786.6666666666,
          658046.0887096775,
          640559.1277777777,
          697059.625,
          671691.4797687861,
          405783,
          654396.0067567568,
          665934.2536231884,
          402454,
          658456.8928571428,
          660384.7619047619,
          635998.1666666666,
          547965,
          657520
         ],
         "yaxis": "y"
        },
        {
         "alignmentgroup": "True",
         "error_y": {
          "array": [
           23944.793340181623,
           6579.128056969251,
           21676.2548847537,
           22813.89722369497,
           13720.423118605762,
           21530.645568276224,
           null,
           20845.171802343928,
           22039.81530263591,
           20665.61994424557,
           23667.697159292085,
           24146.212369631252,
           20283.48394296581,
           6975.325553692821,
           12823.943184917816
          ]
         },
         "hovertemplate": "UniProt=Q96PD5<br>visit_month=%{x}<br>NPX_mean=%{y}<extra></extra>",
         "legendgroup": "Q96PD5",
         "marker": {
          "color": "#FF97FF",
          "pattern": {
           "shape": ""
          }
         },
         "name": "Q96PD5",
         "offsetgroup": "Q96PD5",
         "orientation": "v",
         "showlegend": true,
         "textposition": "auto",
         "type": "bar",
         "x": [
          0,
          3,
          6,
          12,
          18,
          24,
          30,
          36,
          48,
          54,
          60,
          72,
          84,
          96,
          108
         ],
         "xaxis": "x",
         "y": [
          97914.31855670104,
          92131.90000000001,
          97288.85725806453,
          98175.74022346368,
          110560.375,
          97395.42427745664,
          102378,
          100056.775,
          95503.03188405797,
          104818.2,
          96575.94642857143,
          90516.56666666667,
          95048.45999999999,
          101330.7,
          109548.45
         ],
         "yaxis": "y"
        },
        {
         "alignmentgroup": "True",
         "error_y": {
          "array": [
           12280.429753219043,
           10101.449741992481,
           14300.190537431017,
           11896.777463688888,
           9929.350231630515,
           12352.539697307782,
           13981.827265708527,
           12905.743321384276,
           null,
           13925.648581615618,
           14579.208110557733,
           10699.752243061741,
           null,
           11772.333604826756
          ]
         },
         "hovertemplate": "UniProt=Q96S96<br>visit_month=%{x}<br>NPX_mean=%{y}<extra></extra>",
         "legendgroup": "Q96S96",
         "marker": {
          "color": "#FECB52",
          "pattern": {
           "shape": ""
          }
         },
         "name": "Q96S96",
         "offsetgroup": "Q96S96",
         "orientation": "v",
         "showlegend": true,
         "textposition": "auto",
         "type": "bar",
         "x": [
          0,
          3,
          6,
          12,
          18,
          24,
          36,
          48,
          54,
          60,
          72,
          84,
          96,
          108
         ],
         "xaxis": "x",
         "y": [
          33102.97207142857,
          28262.899999999998,
          34653.57457446808,
          31870.725,
          30934.77142857143,
          32801.997142857144,
          33796.55018867924,
          32227.5918627451,
          64299.4,
          33977.482575757575,
          35031.23333333333,
          34101.92380952381,
          17359.4,
          24299.766666666666
         ],
         "yaxis": "y"
        },
        {
         "alignmentgroup": "True",
         "error_y": {
          "array": [
           1074.7887202836384,
           1697.996019759911,
           1069.7821460934451,
           1157.075062138103,
           1043.171434712435,
           1066.5633899227312,
           null,
           1066.1357037266591,
           1011.9855499888953,
           1704.9695068359727,
           1056.8671285188361,
           902.9675341166205,
           1152.1782293722956,
           null,
           648.868326004334
          ]
         },
         "hovertemplate": "UniProt=Q99435<br>visit_month=%{x}<br>NPX_mean=%{y}<extra></extra>",
         "legendgroup": "Q99435",
         "marker": {
          "color": "#636efa",
          "pattern": {
           "shape": ""
          }
         },
         "name": "Q99435",
         "offsetgroup": "Q99435",
         "orientation": "v",
         "showlegend": true,
         "textposition": "auto",
         "type": "bar",
         "x": [
          0,
          3,
          6,
          12,
          18,
          24,
          30,
          36,
          48,
          54,
          60,
          72,
          84,
          96,
          108
         ],
         "xaxis": "x",
         "y": [
          2368.2339856115104,
          1708.4355,
          2246.711054945055,
          2250.2696428571426,
          1946.05,
          2287.1227734375,
          1615.93,
          2145.5968333333335,
          2199.030563106796,
          1894.4945,
          2220.6554,
          1920.572625,
          1952.9839615384615,
          2078.85,
          1819.4125
         ],
         "yaxis": "y"
        },
        {
         "alignmentgroup": "True",
         "error_y": {
          "array": [
           9645.311895458808,
           6698.1159985476515,
           8651.088449207797,
           9121.472391406141,
           4065.446623640099,
           9657.47789300425,
           null,
           8688.83311227558,
           9007.021603521158,
           28285.614750346154,
           9374.18705471411,
           6205.190527573486,
           10286.908712617545,
           14584.261209735652,
           4407.018541958574
          ]
         },
         "hovertemplate": "UniProt=Q99674<br>visit_month=%{x}<br>NPX_mean=%{y}<extra></extra>",
         "legendgroup": "Q99674",
         "marker": {
          "color": "#EF553B",
          "pattern": {
           "shape": ""
          }
         },
         "name": "Q99674",
         "offsetgroup": "Q99674",
         "orientation": "v",
         "showlegend": true,
         "textposition": "auto",
         "type": "bar",
         "x": [
          0,
          3,
          6,
          12,
          18,
          24,
          30,
          36,
          48,
          54,
          60,
          72,
          84,
          96,
          108
         ],
         "xaxis": "x",
         "y": [
          23165.584142011834,
          21519.3,
          21851.07899082569,
          22078.04820143885,
          21736.016666666666,
          22576.172253521127,
          19381.4,
          22217.94033057851,
          22798.902589285713,
          30452.05,
          22581.426666666666,
          18842.13894736842,
          21195.50962962963,
          20021.27,
          23599.125
         ],
         "yaxis": "y"
        },
        {
         "alignmentgroup": "True",
         "error_y": {
          "array": [
           22000.76600201862,
           40518.349932839075,
           20770.99860611895,
           21845.324796394496,
           21372.427219133133,
           20117.98727203043,
           null,
           20489.552228927114,
           23950.537422583453,
           null,
           20263.818926756732,
           16129.716021088154,
           19567.23224677931,
           12797.784211339093,
           15894.410508729165
          ]
         },
         "hovertemplate": "UniProt=Q99683<br>visit_month=%{x}<br>NPX_mean=%{y}<extra></extra>",
         "legendgroup": "Q99683",
         "marker": {
          "color": "#00cc96",
          "pattern": {
           "shape": ""
          }
         },
         "name": "Q99683",
         "offsetgroup": "Q99683",
         "orientation": "v",
         "showlegend": true,
         "textposition": "auto",
         "type": "bar",
         "x": [
          0,
          3,
          6,
          12,
          18,
          24,
          30,
          36,
          48,
          54,
          60,
          72,
          84,
          96,
          108
         ],
         "xaxis": "x",
         "y": [
          103640.314375,
          109375.2,
          101547.38431372549,
          102488.09013157894,
          111801.1,
          102278.97181208055,
          111800,
          100981.61538461539,
          105586.12894736842,
          92596.9,
          102528.83538461538,
          96619.37222222221,
          96089.024,
          92272.6,
          100184.9
         ],
         "yaxis": "y"
        },
        {
         "alignmentgroup": "True",
         "error_y": {
          "array": [
           6370.981933741676,
           1008.4756913282546,
           5842.276554782301,
           6173.631542653288,
           5871.6127787970945,
           6496.680492869617,
           null,
           4165.455855009209,
           5753.987191625417,
           null,
           5236.805317980669,
           3891.833619755006,
           5476.020927658967,
           7438.322280557178
          ]
         },
         "hovertemplate": "UniProt=Q99829<br>visit_month=%{x}<br>NPX_mean=%{y}<extra></extra>",
         "legendgroup": "Q99829",
         "marker": {
          "color": "#ab63fa",
          "pattern": {
           "shape": ""
          }
         },
         "name": "Q99829",
         "offsetgroup": "Q99829",
         "orientation": "v",
         "showlegend": true,
         "textposition": "auto",
         "type": "bar",
         "x": [
          0,
          3,
          6,
          12,
          18,
          24,
          30,
          36,
          48,
          54,
          60,
          72,
          84,
          108
         ],
         "xaxis": "x",
         "y": [
          15669.712142857144,
          12973.4,
          15530.072142857143,
          14777.017638888889,
          15980.826666666668,
          16150.536708860758,
          12727.1,
          14405.924305555554,
          15690.415614035086,
          24383.6,
          15744.84837837838,
          11440.85375,
          17224.793846153847,
          15221.904999999999
         ],
         "yaxis": "y"
        },
        {
         "alignmentgroup": "True",
         "error_y": {
          "array": [
           13797.687697151485,
           null,
           14988.018030495608,
           13204.249853704887,
           12179.830159858551,
           12007.782969835343,
           null,
           15686.272173691279,
           12734.609750477075,
           null,
           11725.753966439861,
           8090.8174208927885,
           14549.662889327605,
           null,
           3645.842563797839
          ]
         },
         "hovertemplate": "UniProt=Q99832<br>visit_month=%{x}<br>NPX_mean=%{y}<extra></extra>",
         "legendgroup": "Q99832",
         "marker": {
          "color": "#FFA15A",
          "pattern": {
           "shape": ""
          }
         },
         "name": "Q99832",
         "offsetgroup": "Q99832",
         "orientation": "v",
         "showlegend": true,
         "textposition": "auto",
         "type": "bar",
         "x": [
          0,
          3,
          6,
          12,
          18,
          24,
          30,
          36,
          48,
          54,
          60,
          72,
          84,
          96,
          108
         ],
         "xaxis": "x",
         "y": [
          44806.8306122449,
          38169.5,
          41925.38615384616,
          41203.42145631068,
          44257.159999999996,
          41123.82934782608,
          40259.8,
          43396.04772727273,
          42461.61518987342,
          45111.9,
          40452.10638297872,
          31726.260000000002,
          40325.18461538462,
          52500.1,
          21690.9
         ],
         "yaxis": "y"
        },
        {
         "alignmentgroup": "True",
         "error_y": {
          "array": [
           4612.21346891777,
           2547.0453398660447,
           4158.690093028289,
           4290.786435637528,
           4125.479932922958,
           4422.184823890674,
           null,
           4277.568451385944,
           3832.189908695865,
           null,
           3531.985218051681,
           4848.597184027779,
           3380.300770289293,
           4895.088114120113,
           3635.008338279066
          ]
         },
         "hovertemplate": "UniProt=Q99969<br>visit_month=%{x}<br>NPX_mean=%{y}<extra></extra>",
         "legendgroup": "Q99969",
         "marker": {
          "color": "#19d3f3",
          "pattern": {
           "shape": ""
          }
         },
         "name": "Q99969",
         "offsetgroup": "Q99969",
         "orientation": "v",
         "showlegend": true,
         "textposition": "auto",
         "type": "bar",
         "x": [
          0,
          3,
          6,
          12,
          18,
          24,
          30,
          36,
          48,
          54,
          60,
          72,
          84,
          96,
          108
         ],
         "xaxis": "x",
         "y": [
          12843.779395604397,
          15284.033333333333,
          12950.08798245614,
          12637.87325,
          14965.785000000002,
          13155.745704697987,
          7563.22,
          12956.918778625955,
          12435.54106557377,
          25255.1,
          12562.046315789474,
          11903.374,
          12568.499642857143,
          15720.25,
          11666.1375
         ],
         "yaxis": "y"
        },
        {
         "alignmentgroup": "True",
         "error_y": {
          "array": [
           9925.35818590796,
           7777.726556648799,
           8702.62105510981,
           8739.873463933638,
           3705.611318630425,
           9833.221501103724,
           null,
           9229.663885960947,
           9327.665415762038,
           29211.924633700535,
           8796.400531469366,
           7652.517593102079,
           10400.554980443665,
           3517.07841894377,
           9870.712722113842
          ]
         },
         "hovertemplate": "UniProt=Q9BY67<br>visit_month=%{x}<br>NPX_mean=%{y}<extra></extra>",
         "legendgroup": "Q9BY67",
         "marker": {
          "color": "#FF6692",
          "pattern": {
           "shape": ""
          }
         },
         "name": "Q9BY67",
         "offsetgroup": "Q9BY67",
         "orientation": "v",
         "showlegend": true,
         "textposition": "auto",
         "type": "bar",
         "x": [
          0,
          3,
          6,
          12,
          18,
          24,
          30,
          36,
          48,
          54,
          60,
          72,
          84,
          96,
          108
         ],
         "xaxis": "x",
         "y": [
          28345.686166666666,
          30931.899999999998,
          27023.621848739494,
          25888.948538011697,
          25197.885714285716,
          27225.80938271605,
          32583.6,
          26815.31775362319,
          27698.493153846153,
          40593.05,
          25653.253209876544,
          25095.370000000003,
          28871.813793103447,
          25911.95,
          31580.425000000003
         ],
         "yaxis": "y"
        },
        {
         "alignmentgroup": "True",
         "error_y": {
          "array": [
           126129.9624374775,
           84128.12368247216,
           128396.73190047481,
           130995.96332582063,
           97984.95806074863,
           121874.17066672373,
           null,
           144499.20768435276,
           137899.4389657213,
           189605.02652092322,
           161446.7377322273,
           136471.0003239843,
           117134.29310822241,
           216744.5626003222,
           101204.53758766617
          ]
         },
         "hovertemplate": "UniProt=Q9HDC9<br>visit_month=%{x}<br>NPX_mean=%{y}<extra></extra>",
         "legendgroup": "Q9HDC9",
         "marker": {
          "color": "#B6E880",
          "pattern": {
           "shape": ""
          }
         },
         "name": "Q9HDC9",
         "offsetgroup": "Q9HDC9",
         "orientation": "v",
         "showlegend": true,
         "textposition": "auto",
         "type": "bar",
         "x": [
          0,
          3,
          6,
          12,
          18,
          24,
          30,
          36,
          48,
          54,
          60,
          72,
          84,
          96,
          108
         ],
         "xaxis": "x",
         "y": [
          277939.549375,
          286503.3333333333,
          270616.1288135593,
          274061.62618055556,
          267110.1666666667,
          263393.7047945205,
          446566,
          282528.97615384613,
          297526.14672131144,
          361463,
          292517.7575342466,
          271488.34500000003,
          354107.5,
          211956.45,
          329020.5
         ],
         "yaxis": "y"
        },
        {
         "alignmentgroup": "True",
         "error_y": {
          "array": [
           18310.61676998155,
           11265.300137732682,
           19706.170430028353,
           17039.98494382616,
           12016.802984769363,
           18992.889290912262,
           null,
           20344.264547540934,
           18315.29050965076,
           4169.6531251652095,
           20818.802237927168,
           14686.355797071792,
           17385.427073415834,
           9473.745943659245,
           7957.047837399664
          ]
         },
         "hovertemplate": "UniProt=Q9NQ79<br>visit_month=%{x}<br>NPX_mean=%{y}<extra></extra>",
         "legendgroup": "Q9NQ79",
         "marker": {
          "color": "#FF97FF",
          "pattern": {
           "shape": ""
          }
         },
         "name": "Q9NQ79",
         "offsetgroup": "Q9NQ79",
         "orientation": "v",
         "showlegend": true,
         "textposition": "auto",
         "type": "bar",
         "x": [
          0,
          3,
          6,
          12,
          18,
          24,
          30,
          36,
          48,
          54,
          60,
          72,
          84,
          96,
          108
         ],
         "xaxis": "x",
         "y": [
          35344.008395721925,
          17535.88,
          36484.773524590164,
          34039.65325581396,
          40427.514285714286,
          36382.30574074074,
          34620.7,
          36366.64048275862,
          35214.1947761194,
          9224.51,
          36435.934285714284,
          35533.784999999996,
          32201.91533333333,
          32598.55,
          38421.8
         ],
         "yaxis": "y"
        },
        {
         "alignmentgroup": "True",
         "error_y": {
          "array": [
           22314.58638256035,
           14444.051456222382,
           25011.323410154047,
           24898.060347528106,
           22284.988764861428,
           23582.770109131976,
           null,
           25783.007503522313,
           23737.51065050057,
           null,
           25522.42574041923,
           23916.665327001403,
           20594.336947583055,
           17818.454489797932,
           12204.310891374957
          ]
         },
         "hovertemplate": "UniProt=Q9NYU2<br>visit_month=%{x}<br>NPX_mean=%{y}<extra></extra>",
         "legendgroup": "Q9NYU2",
         "marker": {
          "color": "#FECB52",
          "pattern": {
           "shape": ""
          }
         },
         "name": "Q9NYU2",
         "offsetgroup": "Q9NYU2",
         "orientation": "v",
         "showlegend": true,
         "textposition": "auto",
         "type": "bar",
         "x": [
          0,
          3,
          6,
          12,
          18,
          24,
          30,
          36,
          48,
          54,
          60,
          72,
          84,
          96,
          108
         ],
         "xaxis": "x",
         "y": [
          108633.824375,
          109749.7,
          111915.86574074074,
          110845.12675159235,
          140456.25,
          111908.16928104575,
          148973,
          113862.1024,
          112817.02644628099,
          135397,
          115183.94533333334,
          109816.24444444444,
          109825.85384615386,
          97208.45,
          122545.66666666667
         ],
         "yaxis": "y"
        },
        {
         "alignmentgroup": "True",
         "error_y": {
          "array": [
           4725.130578520255,
           4929.111247814694,
           4744.603735604647,
           4277.070328054386,
           4729.785391449243,
           4635.036090770272,
           null,
           4865.909158231158,
           4264.556399670992,
           4987.577681099315,
           4553.316408429746,
           3672.4239541998527,
           4777.984023395747,
           7389.923472705924,
           3385.6649189388686
          ]
         },
         "hovertemplate": "UniProt=Q9UBR2<br>visit_month=%{x}<br>NPX_mean=%{y}<extra></extra>",
         "legendgroup": "Q9UBR2",
         "marker": {
          "color": "#636efa",
          "pattern": {
           "shape": ""
          }
         },
         "name": "Q9UBR2",
         "offsetgroup": "Q9UBR2",
         "orientation": "v",
         "showlegend": true,
         "textposition": "auto",
         "type": "bar",
         "x": [
          0,
          3,
          6,
          12,
          18,
          24,
          30,
          36,
          48,
          54,
          60,
          72,
          84,
          96,
          108
         ],
         "xaxis": "x",
         "y": [
          15205.242469135801,
          14915.933333333334,
          15346.645855855855,
          14804.315,
          17515.775,
          15633.10149659864,
          17857,
          15473.176917293233,
          15462.622720000001,
          16163.150000000001,
          14696.247468354431,
          13920.699411764706,
          14548.306,
          14993.134999999998,
          16986.966666666667
         ],
         "yaxis": "y"
        },
        {
         "alignmentgroup": "True",
         "error_y": {
          "array": [
           12208.735196113932,
           10814.410877312426,
           13586.496673896132,
           12831.794439837897,
           7352.565316948909,
           12760.924298481412,
           null,
           13954.798204169667,
           12165.644623998178,
           13348.47897252717,
           12566.721225192332,
           11662.257570714417,
           8958.490601933236,
           11186.924253118013,
           8999.727243042793
          ]
         },
         "hovertemplate": "UniProt=Q9UBX5<br>visit_month=%{x}<br>NPX_mean=%{y}<extra></extra>",
         "legendgroup": "Q9UBX5",
         "marker": {
          "color": "#EF553B",
          "pattern": {
           "shape": ""
          }
         },
         "name": "Q9UBX5",
         "offsetgroup": "Q9UBX5",
         "orientation": "v",
         "showlegend": true,
         "textposition": "auto",
         "type": "bar",
         "x": [
          0,
          3,
          6,
          12,
          18,
          24,
          30,
          36,
          48,
          54,
          60,
          72,
          84,
          96,
          108
         ],
         "xaxis": "x",
         "y": [
          35441.87776041667,
          41843.166666666664,
          34947.45634146341,
          34427.05106741573,
          38291.85,
          35907.50479532164,
          38473.9,
          37343.80698630137,
          35137.54360294117,
          32108.6,
          36544.74571428572,
          33600.815714285716,
          33806.5724137931,
          33382.95,
          30649.675
         ],
         "yaxis": "y"
        },
        {
         "alignmentgroup": "True",
         "error_y": {
          "array": [
           115159.56322266745,
           110868.22159813574,
           97380.90475482088,
           98917.27741912592,
           64822.83889847114,
           105815.17960401063,
           null,
           91921.55606985438,
           95396.32060953531,
           353912.60083811654,
           100455.59627843909,
           102945.53918901557,
           89690.60514337102,
           35208.260848840575,
           110804.461590377
          ]
         },
         "hovertemplate": "UniProt=Q9UHG2<br>visit_month=%{x}<br>NPX_mean=%{y}<extra></extra>",
         "legendgroup": "Q9UHG2",
         "marker": {
          "color": "#00cc96",
          "pattern": {
           "shape": ""
          }
         },
         "name": "Q9UHG2",
         "offsetgroup": "Q9UHG2",
         "orientation": "v",
         "showlegend": true,
         "textposition": "auto",
         "type": "bar",
         "x": [
          0,
          3,
          6,
          12,
          18,
          24,
          30,
          36,
          48,
          54,
          60,
          72,
          84,
          96,
          108
         ],
         "xaxis": "x",
         "y": [
          242254.8350515464,
          245230.66666666666,
          228723.97338709678,
          225080.02166666667,
          264252.5,
          230703.67398843932,
          176611,
          222705.80738255035,
          230164.52898550723,
          378324,
          227006.38095238095,
          206629.8285714286,
          214307.50666666668,
          224334,
          259289.5
         ],
         "yaxis": "y"
        },
        {
         "alignmentgroup": "True",
         "error_y": {
          "array": [
           25898.561819012488,
           43869.070394185466,
           24771.141037479072,
           25745.364689937098,
           6164.990189348388,
           25787.097443096187,
           null,
           29269.905230166994,
           26964.579623188434,
           25339.807899922995,
           24127.595975982476,
           19888.123706159,
           18126.81502399748,
           43495.9058777375,
           37934.09005968994
          ]
         },
         "hovertemplate": "UniProt=Q9UKV8<br>visit_month=%{x}<br>NPX_mean=%{y}<extra></extra>",
         "legendgroup": "Q9UKV8",
         "marker": {
          "color": "#ab63fa",
          "pattern": {
           "shape": ""
          }
         },
         "name": "Q9UKV8",
         "offsetgroup": "Q9UKV8",
         "orientation": "v",
         "showlegend": true,
         "textposition": "auto",
         "type": "bar",
         "x": [
          0,
          3,
          6,
          12,
          18,
          24,
          30,
          36,
          48,
          54,
          60,
          72,
          84,
          96,
          108
         ],
         "xaxis": "x",
         "y": [
          70730.66371257485,
          85459.5,
          70671.56836734695,
          70106.03353741496,
          64446.38571428571,
          69515.32585034014,
          96401.4,
          69103.88008064516,
          68689.3670093458,
          80706.25,
          67924.95000000001,
          65876.99285714286,
          77541.07727272727,
          76496.75,
          70815.85
         ],
         "yaxis": "y"
        },
        {
         "alignmentgroup": "True",
         "error_y": {
          "array": [
           6769.6478755333665,
           null,
           6296.487064820941,
           5509.049702626919,
           8507.57478284583,
           6744.700162980683,
           null,
           6603.356615775998,
           6025.00945422124,
           null,
           8451.028285091186,
           6549.382465331965,
           5026.3027357923165,
           null,
           1681.5706363397276
          ]
         },
         "hovertemplate": "UniProt=Q9UNU6<br>visit_month=%{x}<br>NPX_mean=%{y}<extra></extra>",
         "legendgroup": "Q9UNU6",
         "marker": {
          "color": "#FFA15A",
          "pattern": {
           "shape": ""
          }
         },
         "name": "Q9UNU6",
         "offsetgroup": "Q9UNU6",
         "orientation": "v",
         "showlegend": true,
         "textposition": "auto",
         "type": "bar",
         "x": [
          0,
          3,
          6,
          12,
          18,
          24,
          30,
          36,
          48,
          54,
          60,
          72,
          84,
          96,
          108
         ],
         "xaxis": "x",
         "y": [
          20505.646666666664,
          35530.2,
          20175.56628205128,
          19974.229206349206,
          21063.071428571428,
          20217.087899159662,
          13369.9,
          19550.795818181818,
          18671.534787234043,
          12189.8,
          18754.003214285713,
          17137.07857142857,
          18157.5625,
          26265.1,
          19297.95
         ],
         "yaxis": "y"
        },
        {
         "alignmentgroup": "True",
         "error_y": {
          "array": [
           6350.567494312857,
           655.9851929223191,
           6234.594541049396,
           5692.865134506878,
           6573.857812071487,
           5909.389919067929,
           null,
           6440.097313866194,
           5180.91681238439,
           5363.829199368676,
           5487.758752762221,
           6662.921359163316,
           4152.697325781977,
           9814.712833547399,
           8783.222838409984
          ]
         },
         "hovertemplate": "UniProt=Q9Y646<br>visit_month=%{x}<br>NPX_mean=%{y}<extra></extra>",
         "legendgroup": "Q9Y646",
         "marker": {
          "color": "#19d3f3",
          "pattern": {
           "shape": ""
          }
         },
         "name": "Q9Y646",
         "offsetgroup": "Q9Y646",
         "orientation": "v",
         "showlegend": true,
         "textposition": "auto",
         "type": "bar",
         "x": [
          0,
          3,
          6,
          12,
          18,
          24,
          30,
          36,
          48,
          54,
          60,
          72,
          84,
          96,
          108
         ],
         "xaxis": "x",
         "y": [
          19847.085978260868,
          18086.333333333332,
          20202.272222222222,
          19555.061301775146,
          21766.399999999998,
          19616.495521472392,
          13182.8,
          20396.229705882353,
          19941.37823076923,
          19351.9,
          20377.62261904762,
          20129.655,
          17079.118666666665,
          27399.35,
          23608.625
         ],
         "yaxis": "y"
        },
        {
         "alignmentgroup": "True",
         "error_y": {
          "array": [
           10271.094778367336,
           5593.868245081693,
           10014.5972455199,
           9627.625436446802,
           6325.08376814941,
           11415.472523163402,
           null,
           11270.83509512529,
           13525.134813205248,
           11142.871500650093,
           8912.24505952628,
           8859.584475963495,
           8169.5765959853725,
           8724.707730348335,
           2293.278189259499
          ]
         },
         "hovertemplate": "UniProt=Q9Y6R7<br>visit_month=%{x}<br>NPX_mean=%{y}<extra></extra>",
         "legendgroup": "Q9Y6R7",
         "marker": {
          "color": "#FF6692",
          "pattern": {
           "shape": ""
          }
         },
         "name": "Q9Y6R7",
         "offsetgroup": "Q9Y6R7",
         "orientation": "v",
         "showlegend": true,
         "textposition": "auto",
         "type": "bar",
         "x": [
          0,
          3,
          6,
          12,
          18,
          24,
          30,
          36,
          48,
          54,
          60,
          72,
          84,
          96,
          108
         ],
         "xaxis": "x",
         "y": [
          20347.54488764045,
          29991.666666666668,
          20555.667815126053,
          20622.584941176472,
          22145.7375,
          21108.809509202456,
          15390.7,
          21415.242907801417,
          22841.11579365079,
          35099.3,
          19387.648607594936,
          19183.70666666667,
          20282.928571428572,
          12594.8,
          15648.966666666667
         ],
         "yaxis": "y"
        }
       ],
       "layout": {
        "barmode": "relative",
        "legend": {
         "title": {
          "text": "UniProt"
         },
         "tracegroupgap": 0
        },
        "margin": {
         "t": 60
        },
        "template": {
         "data": {
          "bar": [
           {
            "error_x": {
             "color": "#2a3f5f"
            },
            "error_y": {
             "color": "#2a3f5f"
            },
            "marker": {
             "line": {
              "color": "#E5ECF6",
              "width": 0.5
             },
             "pattern": {
              "fillmode": "overlay",
              "size": 10,
              "solidity": 0.2
             }
            },
            "type": "bar"
           }
          ],
          "barpolar": [
           {
            "marker": {
             "line": {
              "color": "#E5ECF6",
              "width": 0.5
             },
             "pattern": {
              "fillmode": "overlay",
              "size": 10,
              "solidity": 0.2
             }
            },
            "type": "barpolar"
           }
          ],
          "carpet": [
           {
            "aaxis": {
             "endlinecolor": "#2a3f5f",
             "gridcolor": "white",
             "linecolor": "white",
             "minorgridcolor": "white",
             "startlinecolor": "#2a3f5f"
            },
            "baxis": {
             "endlinecolor": "#2a3f5f",
             "gridcolor": "white",
             "linecolor": "white",
             "minorgridcolor": "white",
             "startlinecolor": "#2a3f5f"
            },
            "type": "carpet"
           }
          ],
          "choropleth": [
           {
            "colorbar": {
             "outlinewidth": 0,
             "ticks": ""
            },
            "type": "choropleth"
           }
          ],
          "contour": [
           {
            "colorbar": {
             "outlinewidth": 0,
             "ticks": ""
            },
            "colorscale": [
             [
              0,
              "#0d0887"
             ],
             [
              0.1111111111111111,
              "#46039f"
             ],
             [
              0.2222222222222222,
              "#7201a8"
             ],
             [
              0.3333333333333333,
              "#9c179e"
             ],
             [
              0.4444444444444444,
              "#bd3786"
             ],
             [
              0.5555555555555556,
              "#d8576b"
             ],
             [
              0.6666666666666666,
              "#ed7953"
             ],
             [
              0.7777777777777778,
              "#fb9f3a"
             ],
             [
              0.8888888888888888,
              "#fdca26"
             ],
             [
              1,
              "#f0f921"
             ]
            ],
            "type": "contour"
           }
          ],
          "contourcarpet": [
           {
            "colorbar": {
             "outlinewidth": 0,
             "ticks": ""
            },
            "type": "contourcarpet"
           }
          ],
          "heatmap": [
           {
            "colorbar": {
             "outlinewidth": 0,
             "ticks": ""
            },
            "colorscale": [
             [
              0,
              "#0d0887"
             ],
             [
              0.1111111111111111,
              "#46039f"
             ],
             [
              0.2222222222222222,
              "#7201a8"
             ],
             [
              0.3333333333333333,
              "#9c179e"
             ],
             [
              0.4444444444444444,
              "#bd3786"
             ],
             [
              0.5555555555555556,
              "#d8576b"
             ],
             [
              0.6666666666666666,
              "#ed7953"
             ],
             [
              0.7777777777777778,
              "#fb9f3a"
             ],
             [
              0.8888888888888888,
              "#fdca26"
             ],
             [
              1,
              "#f0f921"
             ]
            ],
            "type": "heatmap"
           }
          ],
          "heatmapgl": [
           {
            "colorbar": {
             "outlinewidth": 0,
             "ticks": ""
            },
            "colorscale": [
             [
              0,
              "#0d0887"
             ],
             [
              0.1111111111111111,
              "#46039f"
             ],
             [
              0.2222222222222222,
              "#7201a8"
             ],
             [
              0.3333333333333333,
              "#9c179e"
             ],
             [
              0.4444444444444444,
              "#bd3786"
             ],
             [
              0.5555555555555556,
              "#d8576b"
             ],
             [
              0.6666666666666666,
              "#ed7953"
             ],
             [
              0.7777777777777778,
              "#fb9f3a"
             ],
             [
              0.8888888888888888,
              "#fdca26"
             ],
             [
              1,
              "#f0f921"
             ]
            ],
            "type": "heatmapgl"
           }
          ],
          "histogram": [
           {
            "marker": {
             "pattern": {
              "fillmode": "overlay",
              "size": 10,
              "solidity": 0.2
             }
            },
            "type": "histogram"
           }
          ],
          "histogram2d": [
           {
            "colorbar": {
             "outlinewidth": 0,
             "ticks": ""
            },
            "colorscale": [
             [
              0,
              "#0d0887"
             ],
             [
              0.1111111111111111,
              "#46039f"
             ],
             [
              0.2222222222222222,
              "#7201a8"
             ],
             [
              0.3333333333333333,
              "#9c179e"
             ],
             [
              0.4444444444444444,
              "#bd3786"
             ],
             [
              0.5555555555555556,
              "#d8576b"
             ],
             [
              0.6666666666666666,
              "#ed7953"
             ],
             [
              0.7777777777777778,
              "#fb9f3a"
             ],
             [
              0.8888888888888888,
              "#fdca26"
             ],
             [
              1,
              "#f0f921"
             ]
            ],
            "type": "histogram2d"
           }
          ],
          "histogram2dcontour": [
           {
            "colorbar": {
             "outlinewidth": 0,
             "ticks": ""
            },
            "colorscale": [
             [
              0,
              "#0d0887"
             ],
             [
              0.1111111111111111,
              "#46039f"
             ],
             [
              0.2222222222222222,
              "#7201a8"
             ],
             [
              0.3333333333333333,
              "#9c179e"
             ],
             [
              0.4444444444444444,
              "#bd3786"
             ],
             [
              0.5555555555555556,
              "#d8576b"
             ],
             [
              0.6666666666666666,
              "#ed7953"
             ],
             [
              0.7777777777777778,
              "#fb9f3a"
             ],
             [
              0.8888888888888888,
              "#fdca26"
             ],
             [
              1,
              "#f0f921"
             ]
            ],
            "type": "histogram2dcontour"
           }
          ],
          "mesh3d": [
           {
            "colorbar": {
             "outlinewidth": 0,
             "ticks": ""
            },
            "type": "mesh3d"
           }
          ],
          "parcoords": [
           {
            "line": {
             "colorbar": {
              "outlinewidth": 0,
              "ticks": ""
             }
            },
            "type": "parcoords"
           }
          ],
          "pie": [
           {
            "automargin": true,
            "type": "pie"
           }
          ],
          "scatter": [
           {
            "fillpattern": {
             "fillmode": "overlay",
             "size": 10,
             "solidity": 0.2
            },
            "type": "scatter"
           }
          ],
          "scatter3d": [
           {
            "line": {
             "colorbar": {
              "outlinewidth": 0,
              "ticks": ""
             }
            },
            "marker": {
             "colorbar": {
              "outlinewidth": 0,
              "ticks": ""
             }
            },
            "type": "scatter3d"
           }
          ],
          "scattercarpet": [
           {
            "marker": {
             "colorbar": {
              "outlinewidth": 0,
              "ticks": ""
             }
            },
            "type": "scattercarpet"
           }
          ],
          "scattergeo": [
           {
            "marker": {
             "colorbar": {
              "outlinewidth": 0,
              "ticks": ""
             }
            },
            "type": "scattergeo"
           }
          ],
          "scattergl": [
           {
            "marker": {
             "colorbar": {
              "outlinewidth": 0,
              "ticks": ""
             }
            },
            "type": "scattergl"
           }
          ],
          "scattermapbox": [
           {
            "marker": {
             "colorbar": {
              "outlinewidth": 0,
              "ticks": ""
             }
            },
            "type": "scattermapbox"
           }
          ],
          "scatterpolar": [
           {
            "marker": {
             "colorbar": {
              "outlinewidth": 0,
              "ticks": ""
             }
            },
            "type": "scatterpolar"
           }
          ],
          "scatterpolargl": [
           {
            "marker": {
             "colorbar": {
              "outlinewidth": 0,
              "ticks": ""
             }
            },
            "type": "scatterpolargl"
           }
          ],
          "scatterternary": [
           {
            "marker": {
             "colorbar": {
              "outlinewidth": 0,
              "ticks": ""
             }
            },
            "type": "scatterternary"
           }
          ],
          "surface": [
           {
            "colorbar": {
             "outlinewidth": 0,
             "ticks": ""
            },
            "colorscale": [
             [
              0,
              "#0d0887"
             ],
             [
              0.1111111111111111,
              "#46039f"
             ],
             [
              0.2222222222222222,
              "#7201a8"
             ],
             [
              0.3333333333333333,
              "#9c179e"
             ],
             [
              0.4444444444444444,
              "#bd3786"
             ],
             [
              0.5555555555555556,
              "#d8576b"
             ],
             [
              0.6666666666666666,
              "#ed7953"
             ],
             [
              0.7777777777777778,
              "#fb9f3a"
             ],
             [
              0.8888888888888888,
              "#fdca26"
             ],
             [
              1,
              "#f0f921"
             ]
            ],
            "type": "surface"
           }
          ],
          "table": [
           {
            "cells": {
             "fill": {
              "color": "#EBF0F8"
             },
             "line": {
              "color": "white"
             }
            },
            "header": {
             "fill": {
              "color": "#C8D4E3"
             },
             "line": {
              "color": "white"
             }
            },
            "type": "table"
           }
          ]
         },
         "layout": {
          "annotationdefaults": {
           "arrowcolor": "#2a3f5f",
           "arrowhead": 0,
           "arrowwidth": 1
          },
          "autotypenumbers": "strict",
          "coloraxis": {
           "colorbar": {
            "outlinewidth": 0,
            "ticks": ""
           }
          },
          "colorscale": {
           "diverging": [
            [
             0,
             "#8e0152"
            ],
            [
             0.1,
             "#c51b7d"
            ],
            [
             0.2,
             "#de77ae"
            ],
            [
             0.3,
             "#f1b6da"
            ],
            [
             0.4,
             "#fde0ef"
            ],
            [
             0.5,
             "#f7f7f7"
            ],
            [
             0.6,
             "#e6f5d0"
            ],
            [
             0.7,
             "#b8e186"
            ],
            [
             0.8,
             "#7fbc41"
            ],
            [
             0.9,
             "#4d9221"
            ],
            [
             1,
             "#276419"
            ]
           ],
           "sequential": [
            [
             0,
             "#0d0887"
            ],
            [
             0.1111111111111111,
             "#46039f"
            ],
            [
             0.2222222222222222,
             "#7201a8"
            ],
            [
             0.3333333333333333,
             "#9c179e"
            ],
            [
             0.4444444444444444,
             "#bd3786"
            ],
            [
             0.5555555555555556,
             "#d8576b"
            ],
            [
             0.6666666666666666,
             "#ed7953"
            ],
            [
             0.7777777777777778,
             "#fb9f3a"
            ],
            [
             0.8888888888888888,
             "#fdca26"
            ],
            [
             1,
             "#f0f921"
            ]
           ],
           "sequentialminus": [
            [
             0,
             "#0d0887"
            ],
            [
             0.1111111111111111,
             "#46039f"
            ],
            [
             0.2222222222222222,
             "#7201a8"
            ],
            [
             0.3333333333333333,
             "#9c179e"
            ],
            [
             0.4444444444444444,
             "#bd3786"
            ],
            [
             0.5555555555555556,
             "#d8576b"
            ],
            [
             0.6666666666666666,
             "#ed7953"
            ],
            [
             0.7777777777777778,
             "#fb9f3a"
            ],
            [
             0.8888888888888888,
             "#fdca26"
            ],
            [
             1,
             "#f0f921"
            ]
           ]
          },
          "colorway": [
           "#636efa",
           "#EF553B",
           "#00cc96",
           "#ab63fa",
           "#FFA15A",
           "#19d3f3",
           "#FF6692",
           "#B6E880",
           "#FF97FF",
           "#FECB52"
          ],
          "font": {
           "color": "#2a3f5f"
          },
          "geo": {
           "bgcolor": "white",
           "lakecolor": "white",
           "landcolor": "#E5ECF6",
           "showlakes": true,
           "showland": true,
           "subunitcolor": "white"
          },
          "hoverlabel": {
           "align": "left"
          },
          "hovermode": "closest",
          "mapbox": {
           "style": "light"
          },
          "paper_bgcolor": "white",
          "plot_bgcolor": "#E5ECF6",
          "polar": {
           "angularaxis": {
            "gridcolor": "white",
            "linecolor": "white",
            "ticks": ""
           },
           "bgcolor": "#E5ECF6",
           "radialaxis": {
            "gridcolor": "white",
            "linecolor": "white",
            "ticks": ""
           }
          },
          "scene": {
           "xaxis": {
            "backgroundcolor": "#E5ECF6",
            "gridcolor": "white",
            "gridwidth": 2,
            "linecolor": "white",
            "showbackground": true,
            "ticks": "",
            "zerolinecolor": "white"
           },
           "yaxis": {
            "backgroundcolor": "#E5ECF6",
            "gridcolor": "white",
            "gridwidth": 2,
            "linecolor": "white",
            "showbackground": true,
            "ticks": "",
            "zerolinecolor": "white"
           },
           "zaxis": {
            "backgroundcolor": "#E5ECF6",
            "gridcolor": "white",
            "gridwidth": 2,
            "linecolor": "white",
            "showbackground": true,
            "ticks": "",
            "zerolinecolor": "white"
           }
          },
          "shapedefaults": {
           "line": {
            "color": "#2a3f5f"
           }
          },
          "ternary": {
           "aaxis": {
            "gridcolor": "white",
            "linecolor": "white",
            "ticks": ""
           },
           "baxis": {
            "gridcolor": "white",
            "linecolor": "white",
            "ticks": ""
           },
           "bgcolor": "#E5ECF6",
           "caxis": {
            "gridcolor": "white",
            "linecolor": "white",
            "ticks": ""
           }
          },
          "title": {
           "x": 0.05
          },
          "xaxis": {
           "automargin": true,
           "gridcolor": "white",
           "linecolor": "white",
           "ticks": "",
           "title": {
            "standoff": 15
           },
           "zerolinecolor": "white",
           "zerolinewidth": 2
          },
          "yaxis": {
           "automargin": true,
           "gridcolor": "white",
           "linecolor": "white",
           "ticks": "",
           "title": {
            "standoff": 15
           },
           "zerolinecolor": "white",
           "zerolinewidth": 2
          }
         }
        },
        "xaxis": {
         "anchor": "y",
         "domain": [
          0,
          1
         ],
         "title": {
          "text": "visit_month"
         }
        },
        "yaxis": {
         "anchor": "x",
         "domain": [
          0,
          1
         ],
         "title": {
          "text": "NPX_mean"
         }
        }
       }
      }
     },
     "metadata": {},
     "output_type": "display_data"
    }
   ],
   "source": [
    "proteins_df_grouped = proteins_df.groupby(['visit_month', 'UniProt']).agg({\n",
    "    'NPX': ['mean', 'std']\n",
    "}).reset_index()\n",
    "proteins_df_grouped.columns = ['visit_month', 'UniProt', 'NPX_mean', 'NPX_std']\n",
    "\n",
    "# Make a barplot with error bars\n",
    "fig = px.bar(proteins_df_grouped, x='visit_month', y='NPX_mean', color='UniProt', error_y='NPX_std')\n",
    "fig.show()"
   ]
  },
  {
   "cell_type": "code",
   "execution_count": null,
   "metadata": {},
   "outputs": [],
   "source": []
  }
 ],
 "metadata": {
  "kernelspec": {
   "display_name": "kaggle",
   "language": "python",
   "name": "python3"
  },
  "language_info": {
   "codemirror_mode": {
    "name": "ipython",
    "version": 3
   },
   "file_extension": ".py",
   "mimetype": "text/x-python",
   "name": "python",
   "nbconvert_exporter": "python",
   "pygments_lexer": "ipython3",
   "version": "3.10.11"
  },
  "orig_nbformat": 4
 },
 "nbformat": 4,
 "nbformat_minor": 2
}
